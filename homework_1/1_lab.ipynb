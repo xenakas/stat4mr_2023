{
 "cells": [
  {
   "cell_type": "markdown",
   "id": "7a9a9b1d-ce0a-4adb-9106-3a5ee1f20e4f",
   "metadata": {},
   "source": [
    "# Lab Work 1. ”Power analysis for t-test vs Welch test vs Mann-Whitney test”"
   ]
  },
  {
   "cell_type": "markdown",
   "id": "56db19b9-a57a-4612-aa09-37be92353f88",
   "metadata": {},
   "source": [
    "t-test and Welch test:\n",
    "\n",
    "$H_0: \\mu_x=\\mu_y$\n",
    "\n",
    "$t=\\dfrac{\\bar{x}-\\bar{y}}{se(\\bar{x}-\\bar{y})}$\n",
    "\n",
    "\n",
    "Welch-test: $\\sqrt{\\frac{\\sigma_x^2}{n_x}+\\frac{\\sigma_y^2}{n_y}}$, d.o.f. = $\\frac{\\left(S_X^2 / n+S_Y^2 / m\\right)^2}{\\left(S_X^2 / n\\right)^2 /(n-1)+\\left(S_Y^2 / m\\right)^2 /(m-1)}$\n",
    "\n",
    "t-test: $\\sigma_x=\\sigma_y=\\sigma_{pooled}$; d.o.f. = $n_x+n_y-2$\n",
    "\n",
    "\n"
   ]
  },
  {
   "cell_type": "markdown",
   "id": "01832f1f-0ae5-4a94-ab25-927e3f5684b5",
   "metadata": {},
   "source": [
    "MWU:\n",
    "\n",
    "$H_0: \\overline{ranks(x)}=\\overline{ranks(y)}$\n",
    "\n",
    "Only under assumption $F_X$ and $F_y$ have the same shape\n",
    "\n",
    "$H_0: P(X\\leq Y)=1/2$\n",
    "\n",
    "$H_0: F_X(x)=F_Y(x+a),a=0$\n",
    "\n",
    "+ Robust\n",
    "\n"
   ]
  },
  {
   "cell_type": "markdown",
   "id": "43cff596-af5c-4d7a-929e-1436221399dc",
   "metadata": {},
   "source": [
    "## Nominal Type I Error rates"
   ]
  },
  {
   "cell_type": "code",
   "execution_count": 1,
   "id": "3bbc9bc0",
   "metadata": {
    "ExecuteTime": {
     "end_time": "2022-10-03T07:39:18.240268Z",
     "start_time": "2022-10-03T07:39:18.230757Z"
    },
    "execution": {
     "iopub.execute_input": "2023-11-14T13:40:22.293538Z",
     "iopub.status.busy": "2023-11-14T13:40:22.293165Z",
     "iopub.status.idle": "2023-11-14T13:40:22.434200Z",
     "shell.execute_reply": "2023-11-14T13:40:22.433628Z",
     "shell.execute_reply.started": "2023-11-14T13:40:22.293505Z"
    }
   },
   "outputs": [],
   "source": [
    "import numpy as np\n",
    "import numpy.random as npr"
   ]
  },
  {
   "cell_type": "code",
   "execution_count": 99,
   "id": "054b0b57",
   "metadata": {
    "ExecuteTime": {
     "end_time": "2022-10-03T10:44:32.431560Z",
     "start_time": "2022-10-03T10:44:32.419419Z"
    },
    "execution": {
     "iopub.execute_input": "2023-11-14T14:33:24.340061Z",
     "iopub.status.busy": "2023-11-14T14:33:24.339350Z",
     "iopub.status.idle": "2023-11-14T14:33:24.350489Z",
     "shell.execute_reply": "2023-11-14T14:33:24.349367Z",
     "shell.execute_reply.started": "2023-11-14T14:33:24.339991Z"
    }
   },
   "outputs": [
    {
     "data": {
      "text/plain": [
       "0.0"
      ]
     },
     "execution_count": 99,
     "metadata": {},
     "output_type": "execute_result"
    }
   ],
   "source": [
    "n1=38 #size x\n",
    "n2=22 #size y\n",
    "sd2=1.11 #sd x\n",
    "sd1=1.84 #sd y \n",
    " \n",
    "m1 = 0 # true\n",
    "m2 = 0 # true\n",
    "\n",
    "trueD = (m2 - m1) / (np.sqrt((((n1 - 1) * ((sd1 ** 2))) +\n",
    "                           (n2 - 1) * ((sd2 ** 2))) / ((n1 + n2) - 2)))\n",
    "trueD"
   ]
  },
  {
   "cell_type": "code",
   "execution_count": 100,
   "id": "f0fe7e96",
   "metadata": {
    "ExecuteTime": {
     "end_time": "2022-10-03T10:44:50.595601Z",
     "start_time": "2022-10-03T10:44:50.588639Z"
    },
    "execution": {
     "iopub.execute_input": "2023-11-14T14:33:25.054303Z",
     "iopub.status.busy": "2023-11-14T14:33:25.053286Z",
     "iopub.status.idle": "2023-11-14T14:33:25.064249Z",
     "shell.execute_reply": "2023-11-14T14:33:25.061890Z",
     "shell.execute_reply.started": "2023-11-14T14:33:25.054234Z"
    }
   },
   "outputs": [],
   "source": [
    "sim_x = npr.normal(m1, sd1, n1)  # simulate participants condition x\n",
    "sim_y = npr.normal(m2, sd2, n2)  # simulate participants condition y"
   ]
  },
  {
   "cell_type": "code",
   "execution_count": 101,
   "id": "dc2c7048",
   "metadata": {
    "ExecuteTime": {
     "end_time": "2022-10-03T10:44:40.564768Z",
     "start_time": "2022-10-03T10:44:40.556838Z"
    },
    "execution": {
     "iopub.execute_input": "2023-11-14T14:33:25.254209Z",
     "iopub.status.busy": "2023-11-14T14:33:25.253807Z",
     "iopub.status.idle": "2023-11-14T14:33:25.258982Z",
     "shell.execute_reply": "2023-11-14T14:33:25.257888Z",
     "shell.execute_reply.started": "2023-11-14T14:33:25.254174Z"
    }
   },
   "outputs": [],
   "source": [
    "import scipy.stats as sp"
   ]
  },
  {
   "cell_type": "code",
   "execution_count": 102,
   "id": "adc435f1",
   "metadata": {
    "ExecuteTime": {
     "end_time": "2022-10-03T10:44:51.520434Z",
     "start_time": "2022-10-03T10:44:51.509088Z"
    },
    "execution": {
     "iopub.execute_input": "2023-11-14T14:33:25.426803Z",
     "iopub.status.busy": "2023-11-14T14:33:25.426060Z",
     "iopub.status.idle": "2023-11-14T14:33:25.434636Z",
     "shell.execute_reply": "2023-11-14T14:33:25.433643Z",
     "shell.execute_reply.started": "2023-11-14T14:33:25.426773Z"
    }
   },
   "outputs": [
    {
     "data": {
      "text/plain": [
       "TtestResult(statistic=1.8216148168247364, pvalue=0.0736714849150148, df=58.0)"
      ]
     },
     "execution_count": 102,
     "metadata": {},
     "output_type": "execute_result"
    }
   ],
   "source": [
    "sp.ttest_ind(sim_x,sim_y, equal_var=True)"
   ]
  },
  {
   "cell_type": "code",
   "execution_count": 103,
   "id": "8b8c14e4",
   "metadata": {
    "ExecuteTime": {
     "end_time": "2022-10-03T10:44:51.922547Z",
     "start_time": "2022-10-03T10:44:51.911266Z"
    },
    "execution": {
     "iopub.execute_input": "2023-11-14T14:33:25.586070Z",
     "iopub.status.busy": "2023-11-14T14:33:25.585861Z",
     "iopub.status.idle": "2023-11-14T14:33:25.591059Z",
     "shell.execute_reply": "2023-11-14T14:33:25.590388Z",
     "shell.execute_reply.started": "2023-11-14T14:33:25.586053Z"
    }
   },
   "outputs": [
    {
     "data": {
      "text/plain": [
       "TtestResult(statistic=2.082649290676733, pvalue=0.04170437352748916, df=57.98254969052227)"
      ]
     },
     "execution_count": 103,
     "metadata": {},
     "output_type": "execute_result"
    }
   ],
   "source": [
    "sp.ttest_ind(sim_x,sim_y, equal_var=False)"
   ]
  },
  {
   "cell_type": "code",
   "execution_count": 104,
   "id": "497de23c",
   "metadata": {
    "ExecuteTime": {
     "end_time": "2022-10-03T10:48:54.822868Z",
     "start_time": "2022-10-03T10:48:54.819968Z"
    },
    "execution": {
     "iopub.execute_input": "2023-11-14T14:33:25.952920Z",
     "iopub.status.busy": "2023-11-14T14:33:25.952030Z",
     "iopub.status.idle": "2023-11-14T14:33:25.963274Z",
     "shell.execute_reply": "2023-11-14T14:33:25.960397Z",
     "shell.execute_reply.started": "2023-11-14T14:33:25.952829Z"
    }
   },
   "outputs": [],
   "source": [
    "import pingouin as pg"
   ]
  },
  {
   "cell_type": "code",
   "execution_count": 105,
   "id": "6b2aad0e",
   "metadata": {
    "ExecuteTime": {
     "end_time": "2022-10-03T10:48:55.181372Z",
     "start_time": "2022-10-03T10:48:55.156888Z"
    },
    "execution": {
     "iopub.execute_input": "2023-11-14T14:33:26.109921Z",
     "iopub.status.busy": "2023-11-14T14:33:26.109651Z",
     "iopub.status.idle": "2023-11-14T14:33:26.125566Z",
     "shell.execute_reply": "2023-11-14T14:33:26.125014Z",
     "shell.execute_reply.started": "2023-11-14T14:33:26.109898Z"
    }
   },
   "outputs": [
    {
     "data": {
      "text/html": [
       "<div>\n",
       "<style scoped>\n",
       "    .dataframe tbody tr th:only-of-type {\n",
       "        vertical-align: middle;\n",
       "    }\n",
       "\n",
       "    .dataframe tbody tr th {\n",
       "        vertical-align: top;\n",
       "    }\n",
       "\n",
       "    .dataframe thead th {\n",
       "        text-align: right;\n",
       "    }\n",
       "</style>\n",
       "<table border=\"1\" class=\"dataframe\">\n",
       "  <thead>\n",
       "    <tr style=\"text-align: right;\">\n",
       "      <th></th>\n",
       "      <th>T</th>\n",
       "      <th>dof</th>\n",
       "      <th>alternative</th>\n",
       "      <th>p-val</th>\n",
       "      <th>CI95%</th>\n",
       "      <th>cohen-d</th>\n",
       "      <th>BF10</th>\n",
       "      <th>power</th>\n",
       "    </tr>\n",
       "  </thead>\n",
       "  <tbody>\n",
       "    <tr>\n",
       "      <th>T-test</th>\n",
       "      <td>1.821615</td>\n",
       "      <td>58</td>\n",
       "      <td>two-sided</td>\n",
       "      <td>0.073671</td>\n",
       "      <td>[-0.07, 1.44]</td>\n",
       "      <td>0.48801</td>\n",
       "      <td>1.058</td>\n",
       "      <td>0.433172</td>\n",
       "    </tr>\n",
       "  </tbody>\n",
       "</table>\n",
       "</div>"
      ],
      "text/plain": [
       "               T  dof alternative     p-val          CI95%  cohen-d   BF10  \\\n",
       "T-test  1.821615   58   two-sided  0.073671  [-0.07, 1.44]  0.48801  1.058   \n",
       "\n",
       "           power  \n",
       "T-test  0.433172  "
      ]
     },
     "execution_count": 105,
     "metadata": {},
     "output_type": "execute_result"
    }
   ],
   "source": [
    "pg.ttest(sim_x,sim_y, correction=False)"
   ]
  },
  {
   "cell_type": "code",
   "execution_count": 106,
   "id": "5eb119fe",
   "metadata": {
    "ExecuteTime": {
     "end_time": "2022-10-03T10:48:55.589969Z",
     "start_time": "2022-10-03T10:48:55.572352Z"
    },
    "execution": {
     "iopub.execute_input": "2023-11-14T14:33:26.276542Z",
     "iopub.status.busy": "2023-11-14T14:33:26.275888Z",
     "iopub.status.idle": "2023-11-14T14:33:26.293625Z",
     "shell.execute_reply": "2023-11-14T14:33:26.293066Z",
     "shell.execute_reply.started": "2023-11-14T14:33:26.276508Z"
    }
   },
   "outputs": [
    {
     "data": {
      "text/html": [
       "<div>\n",
       "<style scoped>\n",
       "    .dataframe tbody tr th:only-of-type {\n",
       "        vertical-align: middle;\n",
       "    }\n",
       "\n",
       "    .dataframe tbody tr th {\n",
       "        vertical-align: top;\n",
       "    }\n",
       "\n",
       "    .dataframe thead th {\n",
       "        text-align: right;\n",
       "    }\n",
       "</style>\n",
       "<table border=\"1\" class=\"dataframe\">\n",
       "  <thead>\n",
       "    <tr style=\"text-align: right;\">\n",
       "      <th></th>\n",
       "      <th>T</th>\n",
       "      <th>dof</th>\n",
       "      <th>alternative</th>\n",
       "      <th>p-val</th>\n",
       "      <th>CI95%</th>\n",
       "      <th>cohen-d</th>\n",
       "      <th>BF10</th>\n",
       "      <th>power</th>\n",
       "    </tr>\n",
       "  </thead>\n",
       "  <tbody>\n",
       "    <tr>\n",
       "      <th>T-test</th>\n",
       "      <td>2.082649</td>\n",
       "      <td>57.98255</td>\n",
       "      <td>two-sided</td>\n",
       "      <td>0.041704</td>\n",
       "      <td>[0.03, 1.35]</td>\n",
       "      <td>0.48801</td>\n",
       "      <td>1.595</td>\n",
       "      <td>0.433172</td>\n",
       "    </tr>\n",
       "  </tbody>\n",
       "</table>\n",
       "</div>"
      ],
      "text/plain": [
       "               T       dof alternative     p-val         CI95%  cohen-d  \\\n",
       "T-test  2.082649  57.98255   two-sided  0.041704  [0.03, 1.35]  0.48801   \n",
       "\n",
       "         BF10     power  \n",
       "T-test  1.595  0.433172  "
      ]
     },
     "execution_count": 106,
     "metadata": {},
     "output_type": "execute_result"
    }
   ],
   "source": [
    "pg.ttest(sim_x,sim_y, correction=True)"
   ]
  },
  {
   "cell_type": "code",
   "execution_count": 107,
   "id": "b9cefddc",
   "metadata": {
    "ExecuteTime": {
     "end_time": "2022-10-03T10:48:57.761366Z",
     "start_time": "2022-10-03T10:48:57.757215Z"
    },
    "execution": {
     "iopub.execute_input": "2023-11-14T14:33:26.450593Z",
     "iopub.status.busy": "2023-11-14T14:33:26.449995Z",
     "iopub.status.idle": "2023-11-14T14:33:26.454579Z",
     "shell.execute_reply": "2023-11-14T14:33:26.453564Z",
     "shell.execute_reply.started": "2023-11-14T14:33:26.450569Z"
    }
   },
   "outputs": [],
   "source": [
    "from statsmodels.stats.weightstats import ttest_ind\n",
    "from scipy.stats import mannwhitneyu"
   ]
  },
  {
   "cell_type": "code",
   "execution_count": 108,
   "id": "a6ddb540",
   "metadata": {
    "ExecuteTime": {
     "end_time": "2022-10-03T10:49:42.259257Z",
     "start_time": "2022-10-03T10:49:42.251882Z"
    },
    "execution": {
     "iopub.execute_input": "2023-11-14T14:33:26.637135Z",
     "iopub.status.busy": "2023-11-14T14:33:26.636817Z",
     "iopub.status.idle": "2023-11-14T14:33:26.643278Z",
     "shell.execute_reply": "2023-11-14T14:33:26.642525Z",
     "shell.execute_reply.started": "2023-11-14T14:33:26.637110Z"
    }
   },
   "outputs": [
    {
     "data": {
      "text/plain": [
       "(1.8216148168247361, 0.07367148491501482, 58.0)"
      ]
     },
     "execution_count": 108,
     "metadata": {},
     "output_type": "execute_result"
    }
   ],
   "source": [
    "ttest_ind(sim_x, sim_y, usevar='pooled')"
   ]
  },
  {
   "cell_type": "code",
   "execution_count": 109,
   "id": "40ef3786",
   "metadata": {
    "ExecuteTime": {
     "end_time": "2022-10-03T10:50:31.282744Z",
     "start_time": "2022-10-03T10:50:31.268031Z"
    },
    "execution": {
     "iopub.execute_input": "2023-11-14T14:33:26.794117Z",
     "iopub.status.busy": "2023-11-14T14:33:26.793724Z",
     "iopub.status.idle": "2023-11-14T14:33:26.803778Z",
     "shell.execute_reply": "2023-11-14T14:33:26.802207Z",
     "shell.execute_reply.started": "2023-11-14T14:33:26.794083Z"
    }
   },
   "outputs": [
    {
     "data": {
      "text/plain": [
       "LeveneResult(statistic=5.357906385919534, pvalue=0.024189036504650097)"
      ]
     },
     "execution_count": 109,
     "metadata": {},
     "output_type": "execute_result"
    }
   ],
   "source": [
    "sp.levene(sim_x, sim_y, center='mean')\n",
    "#     ‘median’: recommended for skewed distributions.\n",
    "#     ‘mean’: recommended for symmetric, moderate-tailed distributions.\n",
    "#     ‘trimmed’: recommended for heavy-tailed distributions."
   ]
  },
  {
   "cell_type": "markdown",
   "id": "dfeed2e0-3375-4959-8ca8-0238608d270c",
   "metadata": {},
   "source": [
    "The Levene test is defined as:\n",
    "\n",
    "$\\mathrm{H}_0:$  $\\sigma_1^2=\\sigma_2^2=\\ldots=\\sigma_k^2$ \n",
    "\n",
    "$\\mathrm{H}_{\\mathrm{a}}:$  $\\sigma_i^2 \\neq \\sigma_j^2 \\quad$ for at least one pair $(i, j)$. \n",
    "\n",
    "Test Statistic: Given a variable $Y$ with sample of size & $N$ divided into $k$ subgroups, where $N_i$ is the sample size of the $i$ th subgroup, & the Levene test statistic is defined as: \n",
    "\n",
    " $$W=\\frac{(N-k)}{(k-1)} \\frac{\\sum_{i=1}^k N_i\\left(\\bar{Z}_{i .}-\\bar{Z}_{. .}\\right)^2}{\\sum_{i=1}^k \\sum_{j=1}^{N_i}\\left(Z_{i j}-\\bar{Z}_{i .}\\right)^2}$$\n",
    "\n",
    "where $\\boldsymbol{Z}_{\\boldsymbol{i} \\boldsymbol{j}}$ can have one of the following three definitions:\n",
    "1. $Z_{i j}=\\left|Y_{i j}-\\bar{Y}_{i .}\\right|$\n",
    "\n",
    "where $\\bar{Y}_i$, is the mean of the $i$-th subgroup.\n",
    "2. $Z_{i j}=\\left|Y_{i j}-\\tilde{Y}_{i .}\\right|$\n",
    "\n",
    "where $\\tilde{Y}_i$ is the median of the $i$-th subgroup.\n",
    "3. $Z_{i j}=\\left|Y_{i j}-\\bar{Y}_{i .}^{\\prime}\\right|$\n",
    "\n",
    "where $\\bar{Y}_i^{\\prime}$ is the $10 \\%$ trimmed mean of the $i$-th subgroup.\n",
    "\n",
    "$\\bar{Z}_{i .}$ are the group means of the $\\boldsymbol{Z}_{\\boldsymbol{i} \\boldsymbol{j}}$ and $\\bar{Z}_{. .}$is the overall mean of the $\\boldsymbol{Z}_{\\boldsymbol{i} \\boldsymbol{j}}$."
   ]
  },
  {
   "cell_type": "code",
   "execution_count": 110,
   "id": "185ce4c3",
   "metadata": {
    "ExecuteTime": {
     "end_time": "2022-10-03T10:50:37.504580Z",
     "start_time": "2022-10-03T10:50:37.500899Z"
    },
    "execution": {
     "iopub.execute_input": "2023-11-14T14:33:27.129594Z",
     "iopub.status.busy": "2023-11-14T14:33:27.128572Z",
     "iopub.status.idle": "2023-11-14T14:33:27.140081Z",
     "shell.execute_reply": "2023-11-14T14:33:27.138393Z",
     "shell.execute_reply.started": "2023-11-14T14:33:27.129539Z"
    }
   },
   "outputs": [
    {
     "data": {
      "text/plain": [
       "(2.082649290676733, 0.041704373527489146, 57.98254969052226)"
      ]
     },
     "execution_count": 110,
     "metadata": {},
     "output_type": "execute_result"
    }
   ],
   "source": [
    "ttest_ind(sim_x, sim_y,usevar='unequal')"
   ]
  },
  {
   "cell_type": "code",
   "execution_count": 111,
   "id": "7600b5ce",
   "metadata": {
    "ExecuteTime": {
     "end_time": "2022-10-03T10:50:38.032224Z",
     "start_time": "2022-10-03T10:50:38.012740Z"
    },
    "execution": {
     "iopub.execute_input": "2023-11-14T14:33:27.298041Z",
     "iopub.status.busy": "2023-11-14T14:33:27.297796Z",
     "iopub.status.idle": "2023-11-14T14:33:27.305507Z",
     "shell.execute_reply": "2023-11-14T14:33:27.304754Z",
     "shell.execute_reply.started": "2023-11-14T14:33:27.298020Z"
    }
   },
   "outputs": [
    {
     "data": {
      "text/plain": [
       "MannwhitneyuResult(statistic=559.0, pvalue=0.030341936291709257)"
      ]
     },
     "execution_count": 111,
     "metadata": {},
     "output_type": "execute_result"
    }
   ],
   "source": [
    "mannwhitneyu(sim_x, sim_y, method='exact')"
   ]
  },
  {
   "cell_type": "code",
   "execution_count": 112,
   "id": "d2349303-0b72-4f88-9185-4aea9a6d3339",
   "metadata": {
    "execution": {
     "iopub.execute_input": "2023-11-14T14:33:27.462803Z",
     "iopub.status.busy": "2023-11-14T14:33:27.462417Z",
     "iopub.status.idle": "2023-11-14T14:33:27.475204Z",
     "shell.execute_reply": "2023-11-14T14:33:27.473846Z",
     "shell.execute_reply.started": "2023-11-14T14:33:27.462763Z"
    }
   },
   "outputs": [
    {
     "data": {
      "text/plain": [
       "MannwhitneyuResult(statistic=559.0, pvalue=0.031141795927887943)"
      ]
     },
     "execution_count": 112,
     "metadata": {},
     "output_type": "execute_result"
    }
   ],
   "source": [
    "mannwhitneyu(sim_x, sim_y, method='asymptotic')"
   ]
  },
  {
   "cell_type": "code",
   "execution_count": 113,
   "id": "40b01bc8",
   "metadata": {
    "ExecuteTime": {
     "end_time": "2022-10-03T10:54:00.639510Z",
     "start_time": "2022-10-03T10:53:54.581162Z"
    },
    "execution": {
     "iopub.execute_input": "2023-11-14T14:33:27.623030Z",
     "iopub.status.busy": "2023-11-14T14:33:27.622779Z",
     "iopub.status.idle": "2023-11-14T14:33:35.869954Z",
     "shell.execute_reply": "2023-11-14T14:33:35.869440Z",
     "shell.execute_reply.started": "2023-11-14T14:33:27.623012Z"
    }
   },
   "outputs": [],
   "source": [
    "# create variables for dataframe\n",
    "nSims = 5000 \n",
    "# set up empty container for all simulated Student's t-test p-values\n",
    "p1 = [] \n",
    "# set up empty container for all simulated Welch's t-test p-values\n",
    "p2 = [] \n",
    "# set up empty container for all simulated MW's p-values \n",
    "p3 = []\n",
    "# set up empty container for Levene's + t \n",
    "p4 = []\n",
    "# set up empty container for all Levene's t-test p-values\n",
    "pvalueLevene = [] \n",
    "for i in range(1, nSims):\n",
    "    # for each simulated experiment\n",
    "    sim_x = npr.normal(m1, sd1, n1)  # simulate participants condition x\n",
    "    sim_y = npr.normal(m2, sd2, n2)  # simulate participants condition y\n",
    "    # perform Student and Welch t-test and MW\n",
    "    # perform the tests and store p-value\n",
    "    p1.append(ttest_ind(sim_x,sim_y, usevar='pooled')[1])\n",
    "    p2.append(ttest_ind(sim_x,sim_y, usevar='unequal')[1])\n",
    "    p3.append(mannwhitneyu(sim_x, sim_y, method=\"exact\")[1])\n",
    "    # perform Levene's test\n",
    "    if sp.levene(sim_x,sim_y, center='mean')[1] < 0.05:\n",
    "        p4.append(ttest_ind(sim_x,sim_y, usevar='unequal')[1])\n",
    "    else:\n",
    "        p4.append(ttest_ind(sim_x,sim_y, usevar='pooled')[1])\n",
    "            \n",
    "\n",
    "    # perform Levene's test\n",
    "    pvalueLevene.append(sp.levene(sim_x,sim_y, center='mean')[1])"
   ]
  },
  {
   "cell_type": "code",
   "execution_count": 114,
   "id": "7d27c3ea",
   "metadata": {
    "ExecuteTime": {
     "end_time": "2022-10-03T10:56:27.689404Z",
     "start_time": "2022-10-03T10:56:27.679508Z"
    },
    "execution": {
     "iopub.execute_input": "2023-11-14T14:33:35.870907Z",
     "iopub.status.busy": "2023-11-14T14:33:35.870745Z",
     "iopub.status.idle": "2023-11-14T14:33:35.874813Z",
     "shell.execute_reply": "2023-11-14T14:33:35.874111Z",
     "shell.execute_reply.started": "2023-11-14T14:33:35.870893Z"
    }
   },
   "outputs": [
    {
     "data": {
      "text/plain": [
       "2.747828909991072"
      ]
     },
     "execution_count": 114,
     "metadata": {},
     "output_type": "execute_result"
    }
   ],
   "source": [
    "var_ratio = sd1 ** 2 / sd2 ** 2\n",
    "var_ratio"
   ]
  },
  {
   "cell_type": "code",
   "execution_count": 115,
   "id": "92f428ea",
   "metadata": {
    "ExecuteTime": {
     "end_time": "2022-10-03T07:54:00.586764Z",
     "start_time": "2022-10-03T07:54:00.580034Z"
    },
    "execution": {
     "iopub.execute_input": "2023-11-14T14:33:35.875728Z",
     "iopub.status.busy": "2023-11-14T14:33:35.875509Z",
     "iopub.status.idle": "2023-11-14T14:33:35.878615Z",
     "shell.execute_reply": "2023-11-14T14:33:35.878051Z",
     "shell.execute_reply.started": "2023-11-14T14:33:35.875708Z"
    }
   },
   "outputs": [],
   "source": [
    "import matplotlib.pyplot as plt"
   ]
  },
  {
   "cell_type": "code",
   "execution_count": 116,
   "id": "46d69bd5",
   "metadata": {
    "ExecuteTime": {
     "end_time": "2022-10-03T10:51:51.207125Z",
     "start_time": "2022-10-03T10:51:51.111678Z"
    },
    "execution": {
     "iopub.execute_input": "2023-11-14T14:33:35.880339Z",
     "iopub.status.busy": "2023-11-14T14:33:35.880159Z",
     "iopub.status.idle": "2023-11-14T14:33:36.010882Z",
     "shell.execute_reply": "2023-11-14T14:33:36.010050Z",
     "shell.execute_reply.started": "2023-11-14T14:33:35.880324Z"
    }
   },
   "outputs": [
    {
     "data": {
      "image/png": "[encoded data removed]",
      "text/plain": [
       "<Figure size 640x480 with 1 Axes>"
      ]
     },
     "metadata": {},
     "output_type": "display_data"
    }
   ],
   "source": [
    "plt.hist(p1);"
   ]
  },
  {
   "cell_type": "code",
   "execution_count": 132,
   "id": "4fe77ce8",
   "metadata": {
    "ExecuteTime": {
     "end_time": "2022-10-03T10:56:32.621180Z",
     "start_time": "2022-10-03T10:56:32.607939Z"
    },
    "execution": {
     "iopub.execute_input": "2023-11-14T14:35:53.694939Z",
     "iopub.status.busy": "2023-11-14T14:35:53.694629Z",
     "iopub.status.idle": "2023-11-14T14:35:53.702259Z",
     "shell.execute_reply": "2023-11-14T14:35:53.701406Z",
     "shell.execute_reply.started": "2023-11-14T14:35:53.694912Z"
    }
   },
   "outputs": [
    {
     "data": {
      "text/plain": [
       "4.6"
      ]
     },
     "execution_count": 132,
     "metadata": {},
     "output_type": "execute_result"
    }
   ],
   "source": [
    "# Calculate Type 1 error in simulation for Student t-test\n",
    "errorrate = sum(np.array(p1) < 0.08) / nSims * 100\n",
    "errorrate"
   ]
  },
  {
   "cell_type": "code",
   "execution_count": 124,
   "id": "f1cacfd5",
   "metadata": {
    "ExecuteTime": {
     "end_time": "2022-10-03T10:51:53.826659Z",
     "start_time": "2022-10-03T10:51:53.727594Z"
    },
    "execution": {
     "iopub.execute_input": "2023-11-14T14:34:42.923476Z",
     "iopub.status.busy": "2023-11-14T14:34:42.923122Z",
     "iopub.status.idle": "2023-11-14T14:34:43.135461Z",
     "shell.execute_reply": "2023-11-14T14:34:43.134885Z",
     "shell.execute_reply.started": "2023-11-14T14:34:42.923445Z"
    }
   },
   "outputs": [
    {
     "data": {
      "image/png": "[encoded data removed]",
      "text/plain": [
       "<Figure size 640x480 with 1 Axes>"
      ]
     },
     "metadata": {},
     "output_type": "display_data"
    }
   ],
   "source": [
    "plt.hist(p2);"
   ]
  },
  {
   "cell_type": "code",
   "execution_count": 125,
   "id": "637e050f",
   "metadata": {
    "ExecuteTime": {
     "end_time": "2022-10-03T10:57:08.350507Z",
     "start_time": "2022-10-03T10:57:08.318929Z"
    },
    "execution": {
     "iopub.execute_input": "2023-11-14T14:34:48.268817Z",
     "iopub.status.busy": "2023-11-14T14:34:48.268415Z",
     "iopub.status.idle": "2023-11-14T14:34:48.277794Z",
     "shell.execute_reply": "2023-11-14T14:34:48.276808Z",
     "shell.execute_reply.started": "2023-11-14T14:34:48.268783Z"
    }
   },
   "outputs": [
    {
     "data": {
      "text/plain": [
       "4.8"
      ]
     },
     "execution_count": 125,
     "metadata": {},
     "output_type": "execute_result"
    }
   ],
   "source": [
    "# Calculate Type 1 error in simulation for Welch t-test\n",
    "errorrate = sum(np.array(p2) < 0.05) / nSims * 100\n",
    "errorrate"
   ]
  },
  {
   "cell_type": "code",
   "execution_count": 120,
   "id": "b9d048e8",
   "metadata": {
    "ExecuteTime": {
     "end_time": "2022-10-03T10:51:56.717000Z",
     "start_time": "2022-10-03T10:51:56.547049Z"
    },
    "execution": {
     "iopub.execute_input": "2023-11-14T14:33:36.179095Z",
     "iopub.status.busy": "2023-11-14T14:33:36.178840Z",
     "iopub.status.idle": "2023-11-14T14:33:36.298339Z",
     "shell.execute_reply": "2023-11-14T14:33:36.297710Z",
     "shell.execute_reply.started": "2023-11-14T14:33:36.179071Z"
    },
    "scrolled": true
   },
   "outputs": [
    {
     "data": {
      "image/png": "[encoded data removed]",
      "text/plain": [
       "<Figure size 640x480 with 1 Axes>"
      ]
     },
     "metadata": {},
     "output_type": "display_data"
    }
   ],
   "source": [
    "plt.hist(p3);"
   ]
  },
  {
   "cell_type": "code",
   "execution_count": 134,
   "id": "4f5f11ee",
   "metadata": {
    "ExecuteTime": {
     "end_time": "2022-10-03T10:58:02.035343Z",
     "start_time": "2022-10-03T10:58:02.024381Z"
    },
    "execution": {
     "iopub.execute_input": "2023-11-14T14:36:11.470757Z",
     "iopub.status.busy": "2023-11-14T14:36:11.470035Z",
     "iopub.status.idle": "2023-11-14T14:36:11.478094Z",
     "shell.execute_reply": "2023-11-14T14:36:11.477174Z",
     "shell.execute_reply.started": "2023-11-14T14:36:11.470724Z"
    }
   },
   "outputs": [
    {
     "data": {
      "text/plain": [
       "4.34"
      ]
     },
     "execution_count": 134,
     "metadata": {},
     "output_type": "execute_result"
    }
   ],
   "source": [
    "# Calculate Type 1 error in simulation for MW test\n",
    "errorrate = sum(np.array(p3) < 0.06) / nSims * 100\n",
    "errorrate"
   ]
  },
  {
   "cell_type": "code",
   "execution_count": 139,
   "id": "ed9fbf28-eb42-4cf1-9dfb-f470cd2dfa63",
   "metadata": {
    "execution": {
     "iopub.execute_input": "2023-11-14T14:36:41.317602Z",
     "iopub.status.busy": "2023-11-14T14:36:41.317286Z",
     "iopub.status.idle": "2023-11-14T14:36:41.324578Z",
     "shell.execute_reply": "2023-11-14T14:36:41.323747Z",
     "shell.execute_reply.started": "2023-11-14T14:36:41.317574Z"
    }
   },
   "outputs": [
    {
     "data": {
      "text/plain": [
       "4.66"
      ]
     },
     "execution_count": 139,
     "metadata": {},
     "output_type": "execute_result"
    }
   ],
   "source": [
    "# Calculate Type 1 error in simulation for MW test\n",
    "errorrate = sum(np.array(p4) < 0.055) / nSims * 100\n",
    "errorrate"
   ]
  },
  {
   "cell_type": "markdown",
   "id": "269b3e4a",
   "metadata": {},
   "source": [
    "It is clear that this is not the case for Student’s t-test. We see a skewed distribution, with more p-values below 0.05 than there should be (in this example, the true Type 1 error rate is 8.4%, which is already far enough from the nominal 5% level to be problemantic).\n",
    "\n",
    " Welch’s t-test doesn’t flinch, and performs just as desired.\n",
    "\n"
   ]
  },
  {
   "cell_type": "code",
   "execution_count": 54,
   "id": "c2fa8cd4",
   "metadata": {
    "ExecuteTime": {
     "end_time": "2022-10-03T07:49:25.157627Z",
     "start_time": "2022-10-03T07:49:24.904199Z"
    },
    "execution": {
     "iopub.execute_input": "2023-11-14T14:13:14.057912Z",
     "iopub.status.busy": "2023-11-14T14:13:14.057515Z",
     "iopub.status.idle": "2023-11-14T14:13:14.235797Z",
     "shell.execute_reply": "2023-11-14T14:13:14.235156Z",
     "shell.execute_reply.started": "2023-11-14T14:13:14.057879Z"
    }
   },
   "outputs": [
    {
     "data": {
      "text/plain": [
       "[<matplotlib.lines.Line2D at 0x7fadb5e0b650>]"
      ]
     },
     "execution_count": 54,
     "metadata": {},
     "output_type": "execute_result"
    },
    {
     "data": {
      "image/png": "[encoded data removed]",
      "text/plain": [
       "<Figure size 640x480 with 1 Axes>"
      ]
     },
     "metadata": {},
     "output_type": "display_data"
    }
   ],
   "source": [
    "plt.scatter(p1,p2,alpha=0.05)\n",
    "x = np.linspace(0, 1)\n",
    "y = x\n",
    "plt.plot(x, y, color='red')"
   ]
  },
  {
   "cell_type": "code",
   "execution_count": 55,
   "id": "b8380661",
   "metadata": {
    "ExecuteTime": {
     "end_time": "2022-10-03T10:18:22.405007Z",
     "start_time": "2022-10-03T10:18:22.264829Z"
    },
    "execution": {
     "iopub.execute_input": "2023-11-14T14:13:14.251276Z",
     "iopub.status.busy": "2023-11-14T14:13:14.250399Z",
     "iopub.status.idle": "2023-11-14T14:13:14.428627Z",
     "shell.execute_reply": "2023-11-14T14:13:14.427976Z",
     "shell.execute_reply.started": "2023-11-14T14:13:14.251213Z"
    }
   },
   "outputs": [
    {
     "data": {
      "text/plain": [
       "<matplotlib.lines.Line2D at 0x7fadb5ebc910>"
      ]
     },
     "execution_count": 55,
     "metadata": {},
     "output_type": "execute_result"
    },
    {
     "data": {
      "image/png": "[encoded data removed]",
      "text/plain": [
       "<Figure size 640x480 with 1 Axes>"
      ]
     },
     "metadata": {},
     "output_type": "display_data"
    }
   ],
   "source": [
    "plt.scatter(p1,p2,alpha=0.05)\n",
    "plt.xlim([0,0.15])\n",
    "plt.ylim([0,0.15])\n",
    "x = np.linspace(0, 1)\n",
    "y = x\n",
    "plt.plot(x, y, color='red')\n",
    "plt.axhline(y=0.05, color='k', linestyle='--')\n",
    "plt.axvline(x=0.05, color='k', linestyle='--')"
   ]
  },
  {
   "cell_type": "markdown",
   "id": "7f57b1db",
   "metadata": {},
   "source": [
    " We can plot the p-values against each other. Dots fall on the red line when both tests return the same p-value. If the two group sizes are equal, all points fall on this line. **Remember unequal variances are only a problem when group sizes are unequal.** The top left quadrant are all p-values smaller than 0.05 according to a Student’s t-test, but higher than 0.05 according to Welch’s t-test. \n",
    " \n",
    "**Since Welch’s t-test maintains the nominal Type 1 error rate with unequal variances, the p-values in this quadrant represent the bias in Student’s t-test when groups are unequal and variances are unequal** (i.e., the studies that yield a p < .05 with Student's t-test, but not with Welch's t-test).\n"
   ]
  },
  {
   "cell_type": "markdown",
   "id": "168c19ed",
   "metadata": {},
   "source": [
    "The bias works both ways. In the example above, the condition with the larger sample size had the smallest standard deviation. **But when the condition with the larger sample size has the larger standard deviation, the Student’s t-test can return a p-value higher than 0.05, when Welch’s t-test returns a p-value smaller than 0.05** (there is a dip in the number of p-values < 0.05 in the p-value distribution of Student’s t-test, and the majority of the data points fall below the red diagonal line). "
   ]
  },
  {
   "cell_type": "markdown",
   "id": "1fc3b528",
   "metadata": {},
   "source": [
    "You might argue that as long as Levene’s test warns you that variances are not equal, there is nothing to worry about. **If we examine how often Levene’s test is significant, we see it has a statistical power of only 63% with the sample sizes and standard deviations in this example.** Even though the variances in our simulation are not equal, Levene’s test only reveals this difference in 63% of the tests. **The power depends on the size of the difference in variances (the bigger, the higher the power), and on the sample size (the larger, the higher the power).** That is assuming that people check the assumptions of the t-test to begin with, and report Welch's test when Levene’s test is significant."
   ]
  },
  {
   "cell_type": "markdown",
   "id": "05489ec2",
   "metadata": {},
   "source": [
    "Unless you have a very high power (and feel free to use the simulation to calculate what your power would be, given your sample size, for a range of plausible standard deviations), there is no way to be reasonably sure that variances are equal."
   ]
  },
  {
   "cell_type": "markdown",
   "id": "a997aa23",
   "metadata": {},
   "source": [
    "If variances are equal, Welch’s t-test and Student’s t-test return the same p-value. **But Type 1 error rates are only one factor to evaluate a test on.** \n",
    "\n",
    "The second most important factor is statistical power (with ease of calculation being a third, but Welch's test is always reported in SPSS, so that's not a problem). \n",
    "\n",
    "If one test is much more powerful than the other, it can be considered a better test. **Moser, Stevens, & Watts (1989) find that Student's t-test is only slightly more powerful when variances are equal but sample sizes are unequal.** \n",
    "\n",
    "- When the difference between sample sizes is huge (e.g., 20 vs 2000 participants) the Student's t-test is a few percent (e.g., 4%) more powerful. \n",
    "- However, in most other situations, the difference in power is between 1 and 2 percent, which can be mitigated by just a few (sometimes even 1) additional participant(s) in the smaller group. \n",
    "\n",
    "**The only other situation where the Student's t-test is more powerful is when variances and sample sizes are unequal and the larger group has the smaller variance, but in this situation, the Type 1 error rate is inflated in the Student's t-test, so it's not really an option anyway. **\n",
    "\n",
    "These power differences are therefore not a strong reason to ever use Student's t-test instead of Welch's t-test, unless you can be confident variances are exactly equal.\n",
    "\n",
    "The idea that a two-step procedure (first performing Levene's test, then deciding which test statistic to report) should be replaced by unconditionally reporting Welch's t-test is generally accepted by statisticians"
   ]
  },
  {
   "cell_type": "code",
   "execution_count": 56,
   "id": "a51e7ca3",
   "metadata": {
    "ExecuteTime": {
     "end_time": "2022-10-03T07:51:30.127403Z",
     "start_time": "2022-10-03T07:51:30.086607Z"
    },
    "execution": {
     "iopub.execute_input": "2023-11-14T14:13:42.003763Z",
     "iopub.status.busy": "2023-11-14T14:13:42.003143Z",
     "iopub.status.idle": "2023-11-14T14:13:42.010808Z",
     "shell.execute_reply": "2023-11-14T14:13:42.009746Z",
     "shell.execute_reply.started": "2023-11-14T14:13:42.003723Z"
    }
   },
   "outputs": [],
   "source": [
    "# Calculate Type 1 error in simulation for Student t-test\n",
    "var_ratio = sd1 ** 2 / sd2 ** 2\n",
    "errorrate = sum(np.array(p1) < 0.05) / nSims * 100"
   ]
  },
  {
   "cell_type": "code",
   "execution_count": 57,
   "id": "ff8d910f",
   "metadata": {
    "ExecuteTime": {
     "end_time": "2022-10-03T07:51:31.506380Z",
     "start_time": "2022-10-03T07:51:31.494589Z"
    },
    "execution": {
     "iopub.execute_input": "2023-11-14T14:13:42.171232Z",
     "iopub.status.busy": "2023-11-14T14:13:42.170939Z",
     "iopub.status.idle": "2023-11-14T14:13:42.176728Z",
     "shell.execute_reply": "2023-11-14T14:13:42.176119Z",
     "shell.execute_reply.started": "2023-11-14T14:13:42.171206Z"
    }
   },
   "outputs": [
    {
     "data": {
      "text/plain": [
       "0.3639236767485823"
      ]
     },
     "execution_count": 57,
     "metadata": {},
     "output_type": "execute_result"
    }
   ],
   "source": [
    "var_ratio"
   ]
  },
  {
   "cell_type": "code",
   "execution_count": 58,
   "id": "d6db26d3",
   "metadata": {
    "ExecuteTime": {
     "end_time": "2022-10-03T07:51:32.473673Z",
     "start_time": "2022-10-03T07:51:32.463026Z"
    },
    "execution": {
     "iopub.execute_input": "2023-11-14T14:13:42.364640Z",
     "iopub.status.busy": "2023-11-14T14:13:42.364303Z",
     "iopub.status.idle": "2023-11-14T14:13:42.368847Z",
     "shell.execute_reply": "2023-11-14T14:13:42.368289Z",
     "shell.execute_reply.started": "2023-11-14T14:13:42.364587Z"
    }
   },
   "outputs": [
    {
     "data": {
      "text/plain": [
       "8.200000000000001"
      ]
     },
     "execution_count": 58,
     "metadata": {},
     "output_type": "execute_result"
    }
   ],
   "source": [
    "errorrate"
   ]
  },
  {
   "cell_type": "code",
   "execution_count": 59,
   "id": "62265819",
   "metadata": {
    "ExecuteTime": {
     "end_time": "2022-10-03T07:51:38.049946Z",
     "start_time": "2022-10-03T07:51:38.041264Z"
    },
    "execution": {
     "iopub.execute_input": "2023-11-14T14:13:42.507481Z",
     "iopub.status.busy": "2023-11-14T14:13:42.506917Z",
     "iopub.status.idle": "2023-11-14T14:13:42.515124Z",
     "shell.execute_reply": "2023-11-14T14:13:42.513738Z",
     "shell.execute_reply.started": "2023-11-14T14:13:42.507406Z"
    }
   },
   "outputs": [
    {
     "name": "stdout",
     "output_type": "stream",
     "text": [
      "The Type 1 error rate (if the true effect is 0) or the power using Student's t-test is  8.200000000000001  with a ratio between the variances of  0.3639236767485823 . Note the nominal Type 1 error rate should be 5%, and equal variances imply a variance ratio of 1\n"
     ]
    }
   ],
   "source": [
    "print(\"The Type 1 error rate (if the true effect is 0) or the power using Student's t-test is \",\n",
    "    errorrate,\n",
    "    \" with a ratio between the variances of \",\n",
    "    var_ratio,\n",
    "    \". Note the nominal Type 1 error rate should be 5%, and equal variances imply a variance ratio of 1\")"
   ]
  },
  {
   "cell_type": "markdown",
   "id": "2074eaf2",
   "metadata": {},
   "source": [
    "Note the nominal Type 1 error rate should be 5%, and equal variances imply a variance ratio of 1"
   ]
  },
  {
   "cell_type": "code",
   "execution_count": 60,
   "id": "99245f20",
   "metadata": {
    "ExecuteTime": {
     "end_time": "2022-10-03T07:51:39.286619Z",
     "start_time": "2022-10-03T07:51:39.265278Z"
    },
    "execution": {
     "iopub.execute_input": "2023-11-14T14:13:42.938369Z",
     "iopub.status.busy": "2023-11-14T14:13:42.938085Z",
     "iopub.status.idle": "2023-11-14T14:13:42.943940Z",
     "shell.execute_reply": "2023-11-14T14:13:42.943360Z",
     "shell.execute_reply.started": "2023-11-14T14:13:42.938343Z"
    }
   },
   "outputs": [
    {
     "name": "stdout",
     "output_type": "stream",
     "text": [
      "The Type 1 error rate (if the true effect is 0) or the power using Welch's t-test is  5.08  with a ratio between the variances of  0.3639236767485823 . Note the nominal Type 1 error rate should be 5%, and equal variances imply a variance ratio of 1\n"
     ]
    }
   ],
   "source": [
    "# Calculate Type 1 error in simulation for Welch's t-test\n",
    "errorrate2 = sum(np.array(p2) < 0.05) / nSims * 100\n",
    "print(\"The Type 1 error rate (if the true effect is 0) or the power using Welch's t-test is \",\n",
    "    errorrate2,\n",
    "    \" with a ratio between the variances of \",\n",
    "    var_ratio,\n",
    "    \". Note the nominal Type 1 error rate should be 5%, and equal variances imply a variance ratio of 1\")"
   ]
  },
  {
   "cell_type": "code",
   "execution_count": 61,
   "id": "e3af1d96",
   "metadata": {
    "ExecuteTime": {
     "end_time": "2022-10-03T07:51:40.699007Z",
     "start_time": "2022-10-03T07:51:40.690930Z"
    },
    "execution": {
     "iopub.execute_input": "2023-11-14T14:13:43.402012Z",
     "iopub.status.busy": "2023-11-14T14:13:43.400582Z",
     "iopub.status.idle": "2023-11-14T14:13:43.412017Z",
     "shell.execute_reply": "2023-11-14T14:13:43.410282Z",
     "shell.execute_reply.started": "2023-11-14T14:13:43.401962Z"
    }
   },
   "outputs": [
    {
     "data": {
      "text/plain": [
       "5.08"
      ]
     },
     "execution_count": 61,
     "metadata": {},
     "output_type": "execute_result"
    }
   ],
   "source": [
    "errorrate2"
   ]
  },
  {
   "cell_type": "code",
   "execution_count": 62,
   "id": "9b0dee23",
   "metadata": {
    "ExecuteTime": {
     "end_time": "2022-10-03T07:51:41.084295Z",
     "start_time": "2022-10-03T07:51:41.061237Z"
    },
    "execution": {
     "iopub.execute_input": "2023-11-14T14:13:43.763270Z",
     "iopub.status.busy": "2023-11-14T14:13:43.763000Z",
     "iopub.status.idle": "2023-11-14T14:13:43.767967Z",
     "shell.execute_reply": "2023-11-14T14:13:43.767480Z",
     "shell.execute_reply.started": "2023-11-14T14:13:43.763247Z"
    }
   },
   "outputs": [
    {
     "name": "stdout",
     "output_type": "stream",
     "text": [
      "The observed power for the Levene test is  68.88\n"
     ]
    }
   ],
   "source": [
    "observedpowerLevene = sum(np.array(pvalueLevene) < 0.05) / nSims * 100\n",
    "print(\"The observed power for the Levene test is \", observedpowerLevene)"
   ]
  },
  {
   "cell_type": "markdown",
   "id": "0a3bb997",
   "metadata": {},
   "source": [
    "Even though the variances in our simulation are not equal, Levene’s test only reveals this difference in 63% of the tests."
   ]
  },
  {
   "cell_type": "markdown",
   "id": "407fc1cf-269d-4f24-b316-b07a15981ae7",
   "metadata": {},
   "source": [
    "## Nominal Power"
   ]
  },
  {
   "cell_type": "code",
   "execution_count": 140,
   "id": "bb7037d1-a953-4808-8a81-2017b04aae42",
   "metadata": {
    "ExecuteTime": {
     "end_time": "2022-10-10T05:30:01.803322Z",
     "start_time": "2022-10-10T05:30:01.798440Z"
    },
    "execution": {
     "iopub.execute_input": "2023-11-14T14:37:01.120966Z",
     "iopub.status.busy": "2023-11-14T14:37:01.120491Z",
     "iopub.status.idle": "2023-11-14T14:37:01.128532Z",
     "shell.execute_reply": "2023-11-14T14:37:01.127897Z",
     "shell.execute_reply.started": "2023-11-14T14:37:01.120924Z"
    }
   },
   "outputs": [
    {
     "data": {
      "text/plain": [
       "0.6194730540458323"
      ]
     },
     "execution_count": 140,
     "metadata": {},
     "output_type": "execute_result"
    }
   ],
   "source": [
    "# p3# size condition x\n",
    "# size condition y\n",
    "# sd condition x\n",
    "# sd condition y\n",
    "\n",
    "n1 = 38 \n",
    "n2 = 22 \n",
    "sd2 = 1.11 # true\n",
    "sd1 = 1.84 # true\n",
    "\n",
    "m1 = 0 # true\n",
    "m2 = 1 # true\n",
    "\n",
    "trueD = (m2 - m1) / (np.sqrt((((n1 - 1) * ((sd1 ** 2))) +\n",
    "                           (n2 - 1) * ((sd2 ** 2))) / ((n1 + n2) - 2)))\n",
    "trueD"
   ]
  },
  {
   "cell_type": "code",
   "execution_count": 143,
   "id": "9623e181-64c3-4959-907e-be6d51212cba",
   "metadata": {
    "ExecuteTime": {
     "end_time": "2022-10-10T05:30:08.889705Z",
     "start_time": "2022-10-10T05:30:04.827361Z"
    },
    "execution": {
     "iopub.execute_input": "2023-11-14T14:37:27.961254Z",
     "iopub.status.busy": "2023-11-14T14:37:27.960423Z",
     "iopub.status.idle": "2023-11-14T14:37:33.568852Z",
     "shell.execute_reply": "2023-11-14T14:37:33.568266Z",
     "shell.execute_reply.started": "2023-11-14T14:37:27.961207Z"
    }
   },
   "outputs": [],
   "source": [
    "# catx = rep(\"x\", n1)\n",
    "# caty = rep(\"y\", n2)\n",
    "# condition = make_tuple(catx, caty)\n",
    "# number of simulated experiments (large numbers might take a while)\n",
    "\n",
    "# create variables for dataframe\n",
    "nSims = 1000 \n",
    "# set up empty container for all tests\n",
    "pow1 = []\n",
    "pow2 = []\n",
    "pow3 = []\n",
    "pow4 = []\n",
    "\n",
    "effect_sizes = [0.1,0.5,1]\n",
    "\n",
    "for j in effect_sizes:\n",
    "    m1 = 0 \n",
    "    m2 = 0 + j\n",
    "    p1 = [] \n",
    "    p2 = [] \n",
    "    p3 = [] \n",
    "    p4 = []\n",
    "    for i in range(1, nSims):\n",
    "        # for each simulated experiment\n",
    "        sim_x = npr.normal(m1, sd1, n1)  # simulate participants condition x\n",
    "        sim_y = npr.normal(m2, sd2, n2)  # simulate participants condition y\n",
    "        # perform Student and Welch t-test\n",
    "        # perform the t-test and store p-value\n",
    "        p1.append(ttest_ind(sim_x,sim_y, usevar='pooled')[1])\n",
    "        # perform the t-test and store p-value\n",
    "        p2.append(ttest_ind(sim_x,sim_y, usevar='unequal')[1])\n",
    "        # perform MW\n",
    "        p3.append(pg.mwu(sim_x, sim_y, alternative='two-sided').iloc[0,2])\n",
    "        # perform Levene's test\n",
    "        if sp.levene(sim_x,sim_y, center='mean')[1] < 0.05:\n",
    "            p4.append(ttest_ind(sim_x,sim_y, usevar='unequal')[1])\n",
    "        else:\n",
    "            p4.append(ttest_ind(sim_x,sim_y, usevar='pooled')[1])\n",
    "            \n",
    "        \n",
    "    pow1.append(sum(np.array(p1) < 0.08) / nSims * 100)\n",
    "    pow2.append(sum(np.array(p2) < 0.05) / nSims * 100)\n",
    "    pow3.append(sum(np.array(p3) < 0.06) / nSims * 100)\n",
    "    pow4.append(sum(np.array(p4) < 0.055) / nSims * 100)\n",
    "#     powerrate"
   ]
  },
  {
   "cell_type": "code",
   "execution_count": 144,
   "id": "53005410-c690-4592-ae1e-0c2d651a1d4d",
   "metadata": {
    "execution": {
     "iopub.execute_input": "2023-11-14T14:37:33.569886Z",
     "iopub.status.busy": "2023-11-14T14:37:33.569678Z",
     "iopub.status.idle": "2023-11-14T14:37:33.574284Z",
     "shell.execute_reply": "2023-11-14T14:37:33.573709Z",
     "shell.execute_reply.started": "2023-11-14T14:37:33.569861Z"
    }
   },
   "outputs": [
    {
     "data": {
      "text/plain": [
       "[6.0, 24.099999999999998, 71.39999999999999]"
      ]
     },
     "execution_count": 144,
     "metadata": {},
     "output_type": "execute_result"
    }
   ],
   "source": [
    "pow1\n",
    "# [0.1,0.5,1]"
   ]
  },
  {
   "cell_type": "code",
   "execution_count": 145,
   "id": "70168de0-9fdd-46e8-8dd7-d1272f9d10c1",
   "metadata": {
    "execution": {
     "iopub.execute_input": "2023-11-14T14:37:33.575069Z",
     "iopub.status.busy": "2023-11-14T14:37:33.574880Z",
     "iopub.status.idle": "2023-11-14T14:37:33.608644Z",
     "shell.execute_reply": "2023-11-14T14:37:33.607495Z",
     "shell.execute_reply.started": "2023-11-14T14:37:33.575054Z"
    }
   },
   "outputs": [
    {
     "data": {
      "text/plain": [
       "63.6"
      ]
     },
     "execution_count": 145,
     "metadata": {},
     "output_type": "execute_result"
    }
   ],
   "source": [
    "powerrate = sum(np.array(p1) < 0.05) / nSims * 100\n",
    "powerrate"
   ]
  },
  {
   "cell_type": "code",
   "execution_count": 146,
   "id": "cd0a9762-e9c4-4aa4-89f3-dd67eec91d5d",
   "metadata": {
    "ExecuteTime": {
     "end_time": "2022-10-10T05:30:08.919240Z",
     "start_time": "2022-10-10T05:30:08.914121Z"
    },
    "execution": {
     "iopub.execute_input": "2023-11-14T14:37:33.610690Z",
     "iopub.status.busy": "2023-11-14T14:37:33.610333Z",
     "iopub.status.idle": "2023-11-14T14:37:33.646128Z",
     "shell.execute_reply": "2023-11-14T14:37:33.645530Z",
     "shell.execute_reply.started": "2023-11-14T14:37:33.610667Z"
    }
   },
   "outputs": [
    {
     "data": {
      "text/plain": [
       "71.3"
      ]
     },
     "execution_count": 146,
     "metadata": {},
     "output_type": "execute_result"
    }
   ],
   "source": [
    "powerrate = sum(np.array(p2) < 0.05) / nSims * 100\n",
    "powerrate"
   ]
  },
  {
   "cell_type": "code",
   "execution_count": 147,
   "id": "4c361057-9955-4699-ae9c-b1085004eb50",
   "metadata": {
    "ExecuteTime": {
     "end_time": "2022-10-10T05:30:08.953518Z",
     "start_time": "2022-10-10T05:30:08.948387Z"
    },
    "execution": {
     "iopub.execute_input": "2023-11-14T14:37:33.646982Z",
     "iopub.status.busy": "2023-11-14T14:37:33.646779Z",
     "iopub.status.idle": "2023-11-14T14:37:33.684776Z",
     "shell.execute_reply": "2023-11-14T14:37:33.683911Z",
     "shell.execute_reply.started": "2023-11-14T14:37:33.646962Z"
    }
   },
   "outputs": [
    {
     "data": {
      "text/plain": [
       "63.9"
      ]
     },
     "execution_count": 147,
     "metadata": {},
     "output_type": "execute_result"
    }
   ],
   "source": [
    "powerrate = sum(np.array(p3) < 0.05) / nSims * 100\n",
    "powerrate"
   ]
  },
  {
   "cell_type": "code",
   "execution_count": 148,
   "id": "bb1ebc58-0ce7-4030-957b-24d25247935a",
   "metadata": {
    "execution": {
     "iopub.execute_input": "2023-11-14T14:37:33.686488Z",
     "iopub.status.busy": "2023-11-14T14:37:33.686089Z",
     "iopub.status.idle": "2023-11-14T14:37:33.736942Z",
     "shell.execute_reply": "2023-11-14T14:37:33.736297Z",
     "shell.execute_reply.started": "2023-11-14T14:37:33.686451Z"
    }
   },
   "outputs": [
    {
     "data": {
      "text/plain": [
       "69.6"
      ]
     },
     "execution_count": 148,
     "metadata": {},
     "output_type": "execute_result"
    }
   ],
   "source": [
    "powerrate = sum(np.array(p4) < 0.05) / nSims * 100\n",
    "powerrate"
   ]
  },
  {
   "cell_type": "code",
   "execution_count": 149,
   "id": "ce391b1b-ce74-40e7-8b80-989c863ad110",
   "metadata": {
    "ExecuteTime": {
     "end_time": "2022-10-10T05:30:08.980715Z",
     "start_time": "2022-10-10T05:30:08.978510Z"
    },
    "execution": {
     "iopub.execute_input": "2023-11-14T14:37:33.738422Z",
     "iopub.status.busy": "2023-11-14T14:37:33.738003Z",
     "iopub.status.idle": "2023-11-14T14:37:33.772835Z",
     "shell.execute_reply": "2023-11-14T14:37:33.772077Z",
     "shell.execute_reply.started": "2023-11-14T14:37:33.738383Z"
    }
   },
   "outputs": [],
   "source": [
    "import pandas as pd"
   ]
  },
  {
   "cell_type": "code",
   "execution_count": 150,
   "id": "6c16fc81-2634-4c85-99d6-370ef3ee57b0",
   "metadata": {
    "ExecuteTime": {
     "end_time": "2022-10-10T05:30:09.489311Z",
     "start_time": "2022-10-10T05:30:09.360328Z"
    },
    "execution": {
     "iopub.execute_input": "2023-11-14T14:37:33.773733Z",
     "iopub.status.busy": "2023-11-14T14:37:33.773554Z",
     "iopub.status.idle": "2023-11-14T14:37:34.030732Z",
     "shell.execute_reply": "2023-11-14T14:37:34.030269Z",
     "shell.execute_reply.started": "2023-11-14T14:37:33.773715Z"
    }
   },
   "outputs": [
    {
     "data": {
      "text/plain": [
       "<matplotlib.legend.Legend at 0x7fadb6082150>"
      ]
     },
     "execution_count": 150,
     "metadata": {},
     "output_type": "execute_result"
    },
    {
     "data": {
      "image/png": "[encoded data removed]",
      "text/plain": [
       "<Figure size 640x480 with 1 Axes>"
      ]
     },
     "metadata": {},
     "output_type": "display_data"
    }
   ],
   "source": [
    "plt.plot(effect_sizes,pd.DataFrame([pow1, pow2, pow3, pow4]).T);\n",
    "plt.legend(['t','W','MW','L+t'])"
   ]
  },
  {
   "cell_type": "code",
   "execution_count": null,
   "id": "2fb157c3-33c7-4880-a700-f1167129bf08",
   "metadata": {},
   "outputs": [],
   "source": []
  },
  {
   "cell_type": "code",
   "execution_count": null,
   "id": "b5733a4c-a480-4ffb-9fd4-ef74cd43ae3f",
   "metadata": {},
   "outputs": [],
   "source": []
  }
 ],
 "metadata": {
  "hide_input": false,
  "kernelspec": {
   "display_name": "venv",
   "language": "python",
   "name": "venv"
  },
  "language_info": {
   "codemirror_mode": {
    "name": "ipython",
    "version": 3
   },
   "file_extension": ".py",
   "mimetype": "text/x-python",
   "name": "python",
   "nbconvert_exporter": "python",
   "pygments_lexer": "ipython3",
   "version": "3.11.4"
  },
  "latex_envs": {
   "LaTeX_envs_menu_present": true,
   "autoclose": true,
   "autocomplete": true,
   "bibliofile": "biblio.bib",
   "cite_by": "apalike",
   "current_citInitial": 1,
   "eqLabelWithNumbers": true,
   "eqNumInitial": 1,
   "hotkeys": {
    "equation": "Ctrl-E",
    "itemize": "Ctrl-I"
   },
   "labels_anchors": false,
   "latex_user_defs": false,
   "report_style_numbering": false,
   "user_envs_cfg": false
  },
  "toc": {
   "base_numbering": 1,
   "nav_menu": {},
   "number_sections": true,
   "sideBar": true,
   "skip_h1_title": false,
   "title_cell": "Table of Contents",
   "title_sidebar": "Contents",
   "toc_cell": false,
   "toc_position": {},
   "toc_section_display": true,
   "toc_window_display": false
  },
  "varInspector": {
   "cols": {
    "lenName": 16,
    "lenType": 16,
    "lenVar": 40
   },
   "kernels_config": {
    "python": {
     "delete_cmd_postfix": "",
     "delete_cmd_prefix": "del ",
     "library": "var_list.py",
     "varRefreshCmd": "print(var_dic_list())"
    },
    "r": {
     "delete_cmd_postfix": ") ",
     "delete_cmd_prefix": "rm(",
     "library": "var_list.r",
     "varRefreshCmd": "cat(var_dic_list()) "
    }
   },
   "types_to_exclude": [
    "module",
    "function",
    "builtin_function_or_method",
    "instance",
    "_Feature"
   ],
   "window_display": false
  }
 },
 "nbformat": 4,
 "nbformat_minor": 5
}
