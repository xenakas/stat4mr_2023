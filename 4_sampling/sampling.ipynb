{
 "cells": [
  {
   "cell_type": "markdown",
   "id": "4f746dba",
   "metadata": {},
   "source": [
    "# Sampling"
   ]
  },
  {
   "cell_type": "code",
   "execution_count": 1,
   "id": "2506f79a",
   "metadata": {
    "ExecuteTime": {
     "end_time": "2022-10-17T10:45:11.813898Z",
     "start_time": "2022-10-17T10:45:11.700666Z"
    },
    "execution": {
     "iopub.execute_input": "2023-11-28T09:23:22.595277Z",
     "iopub.status.busy": "2023-11-28T09:23:22.594571Z",
     "iopub.status.idle": "2023-11-28T09:23:23.041613Z",
     "shell.execute_reply": "2023-11-28T09:23:23.041031Z",
     "shell.execute_reply.started": "2023-11-28T09:23:22.595209Z"
    }
   },
   "outputs": [
    {
     "data": {
      "text/html": [
       "<div>\n",
       "<style scoped>\n",
       "    .dataframe tbody tr th:only-of-type {\n",
       "        vertical-align: middle;\n",
       "    }\n",
       "\n",
       "    .dataframe tbody tr th {\n",
       "        vertical-align: top;\n",
       "    }\n",
       "\n",
       "    .dataframe thead th {\n",
       "        text-align: right;\n",
       "    }\n",
       "</style>\n",
       "<table border=\"1\" class=\"dataframe\">\n",
       "  <thead>\n",
       "    <tr style=\"text-align: right;\">\n",
       "      <th></th>\n",
       "      <th>smoker</th>\n",
       "      <th>treatment</th>\n",
       "      <th>dead</th>\n",
       "    </tr>\n",
       "  </thead>\n",
       "  <tbody>\n",
       "    <tr>\n",
       "      <th>0</th>\n",
       "      <td>0</td>\n",
       "      <td>0</td>\n",
       "      <td>0</td>\n",
       "    </tr>\n",
       "    <tr>\n",
       "      <th>1</th>\n",
       "      <td>1</td>\n",
       "      <td>1</td>\n",
       "      <td>0</td>\n",
       "    </tr>\n",
       "    <tr>\n",
       "      <th>2</th>\n",
       "      <td>1</td>\n",
       "      <td>1</td>\n",
       "      <td>0</td>\n",
       "    </tr>\n",
       "    <tr>\n",
       "      <th>3</th>\n",
       "      <td>0</td>\n",
       "      <td>1</td>\n",
       "      <td>0</td>\n",
       "    </tr>\n",
       "    <tr>\n",
       "      <th>4</th>\n",
       "      <td>0</td>\n",
       "      <td>0</td>\n",
       "      <td>0</td>\n",
       "    </tr>\n",
       "    <tr>\n",
       "      <th>...</th>\n",
       "      <td>...</td>\n",
       "      <td>...</td>\n",
       "      <td>...</td>\n",
       "    </tr>\n",
       "    <tr>\n",
       "      <th>999995</th>\n",
       "      <td>0</td>\n",
       "      <td>0</td>\n",
       "      <td>0</td>\n",
       "    </tr>\n",
       "    <tr>\n",
       "      <th>999996</th>\n",
       "      <td>1</td>\n",
       "      <td>1</td>\n",
       "      <td>0</td>\n",
       "    </tr>\n",
       "    <tr>\n",
       "      <th>999997</th>\n",
       "      <td>0</td>\n",
       "      <td>0</td>\n",
       "      <td>0</td>\n",
       "    </tr>\n",
       "    <tr>\n",
       "      <th>999998</th>\n",
       "      <td>0</td>\n",
       "      <td>0</td>\n",
       "      <td>0</td>\n",
       "    </tr>\n",
       "    <tr>\n",
       "      <th>999999</th>\n",
       "      <td>0</td>\n",
       "      <td>0</td>\n",
       "      <td>0</td>\n",
       "    </tr>\n",
       "  </tbody>\n",
       "</table>\n",
       "<p>1000000 rows × 3 columns</p>\n",
       "</div>"
      ],
      "text/plain": [
       "        smoker  treatment  dead\n",
       "0            0          0     0\n",
       "1            1          1     0\n",
       "2            1          1     0\n",
       "3            0          1     0\n",
       "4            0          0     0\n",
       "...        ...        ...   ...\n",
       "999995       0          0     0\n",
       "999996       1          1     0\n",
       "999997       0          0     0\n",
       "999998       0          0     0\n",
       "999999       0          0     0\n",
       "\n",
       "[1000000 rows x 3 columns]"
      ]
     },
     "execution_count": 1,
     "metadata": {},
     "output_type": "execute_result"
    }
   ],
   "source": [
    "import pandas as pd\n",
    "df = pd.read_csv(\"sample\")\n",
    "df"
   ]
  },
  {
   "cell_type": "markdown",
   "id": "4a8da7ff",
   "metadata": {},
   "source": [
    "## Simple Random Sampling\n",
    "\n",
    "Say you want to select a subset of a population in which each member of the subset has an equal probability of being chosen.\n",
    "\n",
    "Below we select 100 sample points from a dataset."
   ]
  },
  {
   "cell_type": "code",
   "execution_count": 3,
   "id": "7e6b129c",
   "metadata": {
    "ExecuteTime": {
     "end_time": "2022-10-17T10:45:12.043987Z",
     "start_time": "2022-10-17T10:45:12.007167Z"
    },
    "execution": {
     "iopub.execute_input": "2023-11-28T09:23:48.245838Z",
     "iopub.status.busy": "2023-11-28T09:23:48.245265Z",
     "iopub.status.idle": "2023-11-28T09:23:48.279961Z",
     "shell.execute_reply": "2023-11-28T09:23:48.279173Z",
     "shell.execute_reply.started": "2023-11-28T09:23:48.245792Z"
    }
   },
   "outputs": [],
   "source": [
    "sample_df = df.sample(5000)"
   ]
  },
  {
   "cell_type": "code",
   "execution_count": null,
   "id": "02ee2080",
   "metadata": {
    "ExecuteTime": {
     "end_time": "2022-10-17T10:45:12.461480Z",
     "start_time": "2022-10-17T10:45:12.459397Z"
    }
   },
   "outputs": [],
   "source": [
    "# sample_df"
   ]
  },
  {
   "cell_type": "markdown",
   "id": "6c92d79c",
   "metadata": {},
   "source": [
    "## Stratified Sampling\n",
    "\n",
    "Assume that we need to estimate the average number of votes for each candidate in an election. Assume that the country has 3 towns:\n",
    "\n",
    "Town A has 1 million factory workers,\n",
    "\n",
    "Town B has 2 million workers, and\n",
    "\n",
    "Town C has 3 million retirees.\n",
    "\n",
    "We can choose to get a random sample of size 60 over the entire population but there is some chance that the random sample turns out to be not well balanced across these towns and hence is biased causing a significant error in estimation.\n",
    "\n",
    "Instead, if we choose to take a random sample of 10, 20 and 30 from Town A, B and C respectively then we can produce a smaller error in estimation for the same total size of the sample.\n",
    "\n",
    "You can do something like this pretty easily with Python:"
   ]
  },
  {
   "cell_type": "code",
   "execution_count": 4,
   "id": "cdbe1237",
   "metadata": {
    "ExecuteTime": {
     "end_time": "2022-10-17T10:45:14.186165Z",
     "start_time": "2022-10-17T10:45:14.179149Z"
    },
    "execution": {
     "iopub.execute_input": "2023-11-28T09:23:53.543056Z",
     "iopub.status.busy": "2023-11-28T09:23:53.542495Z",
     "iopub.status.idle": "2023-11-28T09:23:53.545904Z",
     "shell.execute_reply": "2023-11-28T09:23:53.545290Z",
     "shell.execute_reply.started": "2023-11-28T09:23:53.543033Z"
    }
   },
   "outputs": [],
   "source": [
    "X = df.iloc[:,:2]\n",
    "y = df.iloc[:,2]"
   ]
  },
  {
   "cell_type": "code",
   "execution_count": 5,
   "id": "8a8c3f43",
   "metadata": {
    "ExecuteTime": {
     "end_time": "2022-10-17T10:45:15.049363Z",
     "start_time": "2022-10-17T10:45:14.478824Z"
    },
    "execution": {
     "iopub.execute_input": "2023-11-28T09:24:19.047415Z",
     "iopub.status.busy": "2023-11-28T09:24:19.045771Z",
     "iopub.status.idle": "2023-11-28T09:24:19.665989Z",
     "shell.execute_reply": "2023-11-28T09:24:19.665401Z",
     "shell.execute_reply.started": "2023-11-28T09:24:19.047342Z"
    }
   },
   "outputs": [],
   "source": [
    "from sklearn.model_selection import train_test_split\n",
    "\n",
    "X_train, X_test, y_train, y_test = train_test_split(X, y,\n",
    "                                                    stratify=y, \n",
    "                                                    test_size=0.25)"
   ]
  },
  {
   "cell_type": "code",
   "execution_count": 6,
   "id": "733a9735",
   "metadata": {
    "ExecuteTime": {
     "end_time": "2022-10-17T10:45:15.462225Z",
     "start_time": "2022-10-17T10:45:15.050945Z"
    },
    "execution": {
     "iopub.execute_input": "2023-11-28T09:24:23.780163Z",
     "iopub.status.busy": "2023-11-28T09:24:23.779923Z",
     "iopub.status.idle": "2023-11-28T09:24:24.070592Z",
     "shell.execute_reply": "2023-11-28T09:24:24.070072Z",
     "shell.execute_reply.started": "2023-11-28T09:24:23.780145Z"
    }
   },
   "outputs": [],
   "source": [
    "import matplotlib.pyplot as plt"
   ]
  },
  {
   "cell_type": "code",
   "execution_count": 7,
   "id": "40c26d63",
   "metadata": {
    "ExecuteTime": {
     "end_time": "2022-10-17T10:45:17.333836Z",
     "start_time": "2022-10-17T10:45:17.151980Z"
    },
    "execution": {
     "iopub.execute_input": "2023-11-28T09:24:24.071928Z",
     "iopub.status.busy": "2023-11-28T09:24:24.071458Z",
     "iopub.status.idle": "2023-11-28T09:24:24.278566Z",
     "shell.execute_reply": "2023-11-28T09:24:24.278082Z",
     "shell.execute_reply.started": "2023-11-28T09:24:24.071896Z"
    }
   },
   "outputs": [
    {
     "data": {
      "text/plain": [
       "(array([[699177.,      0.,      0.,      0.,      0.,      0.,      0.,\n",
       "              0.,      0., 300823.],\n",
       "        [694225.,      0.,      0.,      0.,      0.,      0.,      0.,\n",
       "              0.,      0., 305775.]]),\n",
       " array([0. , 0.1, 0.2, 0.3, 0.4, 0.5, 0.6, 0.7, 0.8, 0.9, 1. ]),\n",
       " <a list of 2 BarContainer objects>)"
      ]
     },
     "execution_count": 7,
     "metadata": {},
     "output_type": "execute_result"
    },
    {
     "data": {
      "image/png": "[encoded data removed]",
      "text/plain": [
       "<Figure size 640x480 with 1 Axes>"
      ]
     },
     "metadata": {},
     "output_type": "display_data"
    }
   ],
   "source": [
    "plt.hist(X)"
   ]
  },
  {
   "cell_type": "code",
   "execution_count": 8,
   "id": "daa27c6a",
   "metadata": {
    "ExecuteTime": {
     "end_time": "2022-10-17T10:45:17.666693Z",
     "start_time": "2022-10-17T10:45:17.547720Z"
    },
    "execution": {
     "iopub.execute_input": "2023-11-28T09:24:24.279456Z",
     "iopub.status.busy": "2023-11-28T09:24:24.279283Z",
     "iopub.status.idle": "2023-11-28T09:24:24.439901Z",
     "shell.execute_reply": "2023-11-28T09:24:24.439194Z",
     "shell.execute_reply.started": "2023-11-28T09:24:24.279440Z"
    }
   },
   "outputs": [
    {
     "data": {
      "text/plain": [
       "(array([[524224.,      0.,      0.,      0.,      0.,      0.,      0.,\n",
       "              0.,      0., 225776.],\n",
       "        [520510.,      0.,      0.,      0.,      0.,      0.,      0.,\n",
       "              0.,      0., 229490.]]),\n",
       " array([0. , 0.1, 0.2, 0.3, 0.4, 0.5, 0.6, 0.7, 0.8, 0.9, 1. ]),\n",
       " <a list of 2 BarContainer objects>)"
      ]
     },
     "execution_count": 8,
     "metadata": {},
     "output_type": "execute_result"
    },
    {
     "data": {
      "image/png": "[encoded data removed]",
      "text/plain": [
       "<Figure size 640x480 with 1 Axes>"
      ]
     },
     "metadata": {},
     "output_type": "display_data"
    }
   ],
   "source": [
    "plt.hist(X_train)"
   ]
  },
  {
   "cell_type": "markdown",
   "id": "9d659808",
   "metadata": {},
   "source": [
    "## Reservoir Sampling'\n",
    "\n",
    "I love this problem statement:\n",
    "\n",
    "Say you have a stream of items of large and unknown length that we can only iterate over once.\n",
    "\n",
    "Create an algorithm that randomly chooses an item from this stream such that each item is equally likely to be selected.\n",
    "\n",
    "How can we do that?\n",
    "\n",
    "Let us assume we have to sample 5 objects out of an infinite stream such that each element has an equal probability of getting selected."
   ]
  },
  {
   "cell_type": "code",
   "execution_count": null,
   "id": "b0199a74",
   "metadata": {
    "ExecuteTime": {
     "end_time": "2022-10-17T10:45:19.606717Z",
     "start_time": "2022-10-17T10:45:19.599861Z"
    }
   },
   "outputs": [],
   "source": [
    "import random\n",
    "\n",
    "def generator(max):\n",
    "    number = 1\n",
    "    while number < max:\n",
    "        number += 1\n",
    "        yield number\n",
    "# Create as stream generator\n",
    "stream = generator(10000)\n",
    "\n",
    "# Doing Reservoir Sampling from the stream\n",
    "k=5\n",
    "reservoir = []\n",
    "for i, element in enumerate(stream):\n",
    "    if i+1<= k:\n",
    "        reservoir.append(element)\n",
    "    else:\n",
    "        probability = k/(i+1)\n",
    "        if random.random() < probability:\n",
    "            # Select item in stream and remove one of the k items already selected\n",
    "            reservoir[random.choice(range(0,k))] = element\n",
    "                \n",
    "                "
   ]
  },
  {
   "cell_type": "code",
   "execution_count": null,
   "id": "e1ba4097",
   "metadata": {
    "ExecuteTime": {
     "end_time": "2022-10-17T10:45:20.317980Z",
     "start_time": "2022-10-17T10:45:20.315331Z"
    }
   },
   "outputs": [],
   "source": [
    "print(reservoir)"
   ]
  },
  {
   "cell_type": "markdown",
   "id": "548b34c9",
   "metadata": {
    "ExecuteTime": {
     "end_time": "2021-11-20T09:38:27.630023Z",
     "start_time": "2021-11-20T09:38:27.620632Z"
    }
   },
   "source": [
    "It can be mathematically proved that in the sample each element has the same probability of getting selected from the stream.\n",
    "\n",
    "How?\n",
    "\n",
    "It always helps to think of a smaller problem when it comes to mathematics.\n",
    "\n",
    "So, let us think of a stream of only 3 items and we have to keep 2 of them.\n",
    "\n",
    "We see the first item, we hold it in the list as our reservoir has space. We see the second item, we hold it in the list as our reservoir has space.\n",
    "\n",
    "We see the third item. Here is where things get interesting. We choose the third item to be in the list with probability 2/3.\n",
    "\n",
    "Let us now see the probability of first item getting selected:\n",
    "\n",
    "The probability of removing the first item is the probability of element 3 getting selected multiplied by the probability of Element 1 getting randomly chosen as the replacement candidate from the 2 elements in the reservoir. That probability is:\n",
    "\n",
    "2/3*1/2 = 1/3\n",
    "\n",
    "Thus the probability of 1 getting selected is:\n",
    "\n",
    "1–1/3 = 2/3\n",
    "\n",
    "We can have the exact same argument for the Second Element and we can extend it for many elements.\n",
    "\n",
    "Thus each item has the same probability of getting selected: 2/3 or in general k/n\n"
   ]
  },
  {
   "cell_type": "markdown",
   "id": "ccdbab9b",
   "metadata": {},
   "source": [
    "## Random Undersampling and Oversampling"
   ]
  },
  {
   "cell_type": "markdown",
   "id": "162d6b3e",
   "metadata": {},
   "source": [
    "It is too often that we encounter an imbalanced dataset.\n",
    "\n",
    "A widely adopted technique for dealing with highly imbalanced datasets is called resampling. It consists of removing samples from the majority class (under-sampling) and/or adding more examples from the minority class (over-sampling).\n",
    "\n",
    "Let us first create some example imbalanced data."
   ]
  },
  {
   "cell_type": "code",
   "execution_count": null,
   "id": "d30216ee",
   "metadata": {
    "ExecuteTime": {
     "end_time": "2022-10-17T10:48:28.835318Z",
     "start_time": "2022-10-17T10:48:28.828449Z"
    }
   },
   "outputs": [],
   "source": [
    "from sklearn.datasets import make_classification\n",
    "\n",
    "X, y = make_classification(\n",
    "    n_classes=2, class_sep=1.5, weights=[0.9, 0.1],\n",
    "    n_informative=3, n_redundant=1, flip_y=0,\n",
    "    n_features=20, n_clusters_per_class=1,\n",
    "    n_samples=100, random_state=10\n",
    ")\n",
    "X = pd.DataFrame(X)\n",
    "X['target'] = y"
   ]
  },
  {
   "cell_type": "markdown",
   "id": "23673acd",
   "metadata": {
    "ExecuteTime": {
     "end_time": "2021-11-20T09:40:11.866459Z",
     "start_time": "2021-11-20T09:40:11.861648Z"
    }
   },
   "source": [
    "We can now do random oversampling and undersampling using:"
   ]
  },
  {
   "cell_type": "code",
   "execution_count": null,
   "id": "f8f8f503",
   "metadata": {
    "ExecuteTime": {
     "end_time": "2022-10-17T10:48:31.132736Z",
     "start_time": "2022-10-17T10:48:31.124812Z"
    }
   },
   "outputs": [],
   "source": [
    "num_0 = len(X[X['target']==0])\n",
    "num_1 = len(X[X['target']==1])\n",
    "\n",
    "print(num_0,num_1)\n",
    "\n",
    "# random undersample\n",
    "undersampled_data = pd.concat([ X[X['target']==0].sample(num_1) , X[X['target']==1] ])"
   ]
  },
  {
   "cell_type": "code",
   "execution_count": null,
   "id": "33f5a02f",
   "metadata": {
    "ExecuteTime": {
     "end_time": "2022-10-17T10:45:23.960915Z",
     "start_time": "2022-10-17T10:45:23.953352Z"
    }
   },
   "outputs": [],
   "source": [
    "print(len(undersampled_data))\n",
    "\n",
    "# random oversample\n",
    "\n",
    "oversampled_data = pd.concat([ X[X['target']==0] , X[X['target']==1].sample(num_0, replace=True) ])\n",
    "print(len(oversampled_data))"
   ]
  },
  {
   "cell_type": "code",
   "execution_count": null,
   "id": "894cb0b2",
   "metadata": {
    "ExecuteTime": {
     "end_time": "2022-10-17T10:50:26.879918Z",
     "start_time": "2022-10-17T10:50:26.874770Z"
    }
   },
   "outputs": [],
   "source": [
    "df1 = df.sample(100)\n",
    "X = df1.iloc[:,:2]\n",
    "y = df1.iloc[:,2]\n",
    "n_0 = df1.loc[df1['smoker']==0,].shape[0]\n",
    "n_1 = df1.loc[df1['smoker']==1,].shape[0]\n",
    "n_0, n_1"
   ]
  },
  {
   "cell_type": "code",
   "execution_count": null,
   "id": "962a67a9",
   "metadata": {
    "ExecuteTime": {
     "end_time": "2022-10-17T10:50:35.147913Z",
     "start_time": "2022-10-17T10:50:35.142925Z"
    }
   },
   "outputs": [],
   "source": [
    "df_under = pd.concat([df1.loc[df1['smoker']==0,].sample(n_1), df1.loc[df1['smoker']==1,]])\n",
    "df_under.shape"
   ]
  },
  {
   "cell_type": "code",
   "execution_count": null,
   "id": "c55706b0",
   "metadata": {
    "ExecuteTime": {
     "end_time": "2022-10-17T10:50:44.097416Z",
     "start_time": "2022-10-17T10:50:44.086945Z"
    }
   },
   "outputs": [],
   "source": [
    "df_over = pd.concat([df1.loc[df1['smoker']==0,], df1.loc[df1['smoker']==1,].sample(n_0, replace=True)])\n",
    "df_over.shape"
   ]
  },
  {
   "cell_type": "code",
   "execution_count": null,
   "id": "6b408475",
   "metadata": {
    "ExecuteTime": {
     "end_time": "2022-10-17T10:50:51.434262Z",
     "start_time": "2022-10-17T10:50:51.322671Z"
    }
   },
   "outputs": [],
   "source": [
    "plt.hist(df);"
   ]
  },
  {
   "cell_type": "code",
   "execution_count": null,
   "id": "e4f07b6c",
   "metadata": {
    "ExecuteTime": {
     "end_time": "2022-10-17T10:50:59.040568Z",
     "start_time": "2022-10-17T10:50:58.909064Z"
    }
   },
   "outputs": [],
   "source": [
    "plt.hist(df_under);"
   ]
  },
  {
   "cell_type": "code",
   "execution_count": null,
   "id": "faf2421d",
   "metadata": {
    "ExecuteTime": {
     "end_time": "2022-10-17T10:51:07.446224Z",
     "start_time": "2022-10-17T10:51:07.351551Z"
    }
   },
   "outputs": [],
   "source": [
    "plt.hist(df_over);"
   ]
  },
  {
   "cell_type": "markdown",
   "id": "aacaa67b",
   "metadata": {},
   "source": [
    "## Undersampling and Oversampling using imbalanced-learn\n",
    "\n",
    "imbalanced-learn(imblearn) is a Python Package to tackle the curse of imbalanced datasets.\n",
    "\n",
    "It provides a variety of methods to undersample and oversample.\n",
    "\n",
    "a. Undersampling using Tomek Links:\n",
    "\n",
    "One of such methods it provides is called Tomek Links. Tomek links are pairs of examples of opposite classes in close vicinity.\n",
    "\n",
    "In this algorithm, we end up removing the majority element from the Tomek link which provides a better decision boundary for a classifier."
   ]
  },
  {
   "cell_type": "code",
   "execution_count": 9,
   "id": "dfa9a490",
   "metadata": {
    "ExecuteTime": {
     "end_time": "2022-10-17T10:45:26.020603Z",
     "start_time": "2022-10-17T10:45:26.018119Z"
    },
    "execution": {
     "iopub.execute_input": "2023-11-28T09:24:54.298193Z",
     "iopub.status.busy": "2023-11-28T09:24:54.297469Z",
     "iopub.status.idle": "2023-11-28T09:24:54.303406Z",
     "shell.execute_reply": "2023-11-28T09:24:54.302144Z",
     "shell.execute_reply.started": "2023-11-28T09:24:54.298127Z"
    }
   },
   "outputs": [],
   "source": [
    "# !pip uninstall scikit-learn"
   ]
  },
  {
   "cell_type": "code",
   "execution_count": 18,
   "id": "2e7fd115",
   "metadata": {
    "ExecuteTime": {
     "end_time": "2022-10-17T10:45:26.612954Z",
     "start_time": "2022-10-17T10:45:26.566204Z"
    },
    "execution": {
     "iopub.execute_input": "2023-11-28T09:26:06.818489Z",
     "iopub.status.busy": "2023-11-28T09:26:06.818122Z",
     "iopub.status.idle": "2023-11-28T09:26:06.823250Z",
     "shell.execute_reply": "2023-11-28T09:26:06.822181Z",
     "shell.execute_reply.started": "2023-11-28T09:26:06.818457Z"
    }
   },
   "outputs": [],
   "source": [
    "from imblearn.under_sampling import TomekLinks"
   ]
  },
  {
   "cell_type": "code",
   "execution_count": 11,
   "id": "e7c9c0d8",
   "metadata": {
    "ExecuteTime": {
     "end_time": "2022-10-17T10:45:27.126166Z",
     "start_time": "2022-10-17T10:45:27.103744Z"
    },
    "execution": {
     "iopub.execute_input": "2023-11-28T09:24:55.137129Z",
     "iopub.status.busy": "2023-11-28T09:24:55.136485Z",
     "iopub.status.idle": "2023-11-28T09:24:55.168795Z",
     "shell.execute_reply": "2023-11-28T09:24:55.167867Z",
     "shell.execute_reply.started": "2023-11-28T09:24:55.137092Z"
    }
   },
   "outputs": [],
   "source": [
    "df = df.sample(1000)\n",
    "X = df.iloc[:,:2]\n",
    "y = df.iloc[:,2]"
   ]
  },
  {
   "cell_type": "code",
   "execution_count": 12,
   "id": "b0836797",
   "metadata": {
    "ExecuteTime": {
     "end_time": "2022-10-17T10:45:29.795470Z",
     "start_time": "2022-10-17T10:45:29.784132Z"
    },
    "execution": {
     "iopub.execute_input": "2023-11-28T09:24:56.873377Z",
     "iopub.status.busy": "2023-11-28T09:24:56.871935Z",
     "iopub.status.idle": "2023-11-28T09:24:56.885401Z",
     "shell.execute_reply": "2023-11-28T09:24:56.884652Z",
     "shell.execute_reply.started": "2023-11-28T09:24:56.873255Z"
    }
   },
   "outputs": [],
   "source": [
    "tl = TomekLinks(sampling_strategy='majority')\n",
    "X_tl, y_tl = tl.fit_resample(X, y)"
   ]
  },
  {
   "cell_type": "code",
   "execution_count": 24,
   "id": "0f5b1052-e970-44c3-bb1f-9363a61f9266",
   "metadata": {
    "execution": {
     "iopub.execute_input": "2023-11-28T09:28:00.629836Z",
     "iopub.status.busy": "2023-11-28T09:28:00.628853Z",
     "iopub.status.idle": "2023-11-28T09:28:00.636800Z",
     "shell.execute_reply": "2023-11-28T09:28:00.635890Z",
     "shell.execute_reply.started": "2023-11-28T09:28:00.629795Z"
    }
   },
   "outputs": [
    {
     "data": {
      "text/plain": [
       "(1000, 2)"
      ]
     },
     "execution_count": 24,
     "metadata": {},
     "output_type": "execute_result"
    }
   ],
   "source": [
    "X.shape"
   ]
  },
  {
   "cell_type": "code",
   "execution_count": 25,
   "id": "d37fc2c8-3a9d-418c-8381-c4c06051664f",
   "metadata": {
    "execution": {
     "iopub.execute_input": "2023-11-28T09:28:01.239802Z",
     "iopub.status.busy": "2023-11-28T09:28:01.239164Z",
     "iopub.status.idle": "2023-11-28T09:28:01.249112Z",
     "shell.execute_reply": "2023-11-28T09:28:01.247629Z",
     "shell.execute_reply.started": "2023-11-28T09:28:01.239740Z"
    }
   },
   "outputs": [
    {
     "data": {
      "text/plain": [
       "(1000, 2)"
      ]
     },
     "execution_count": 25,
     "metadata": {},
     "output_type": "execute_result"
    }
   ],
   "source": [
    "X_tl.shape"
   ]
  },
  {
   "cell_type": "markdown",
   "id": "f6833c44",
   "metadata": {},
   "source": [
    "Oversampling using SMOTE:\n",
    "\n",
    "In SMOTE (Synthetic Minority Oversampling Technique) we synthesize elements for the minority class, in the vicinity of already existing elements."
   ]
  },
  {
   "cell_type": "code",
   "execution_count": 19,
   "id": "40dccb69",
   "metadata": {
    "ExecuteTime": {
     "end_time": "2022-10-17T10:51:26.755697Z",
     "start_time": "2022-10-17T10:51:26.662615Z"
    },
    "execution": {
     "iopub.execute_input": "2023-11-28T09:26:26.285479Z",
     "iopub.status.busy": "2023-11-28T09:26:26.284414Z",
     "iopub.status.idle": "2023-11-28T09:26:26.426197Z",
     "shell.execute_reply": "2023-11-28T09:26:26.425643Z",
     "shell.execute_reply.started": "2023-11-28T09:26:26.285384Z"
    }
   },
   "outputs": [
    {
     "data": {
      "text/plain": [
       "(array([[674.,   0.,   0.,   0.,   0.,   0.,   0.,   0.,   0., 326.],\n",
       "        [664.,   0.,   0.,   0.,   0.,   0.,   0.,   0.,   0., 336.]]),\n",
       " array([0. , 0.1, 0.2, 0.3, 0.4, 0.5, 0.6, 0.7, 0.8, 0.9, 1. ]),\n",
       " <a list of 2 BarContainer objects>)"
      ]
     },
     "execution_count": 19,
     "metadata": {},
     "output_type": "execute_result"
    },
    {
     "data": {
      "image/png": "[encoded data removed]",
      "text/plain": [
       "<Figure size 640x480 with 1 Axes>"
      ]
     },
     "metadata": {},
     "output_type": "display_data"
    }
   ],
   "source": [
    "plt.hist(X)\n",
    "# plt.hist(y)"
   ]
  },
  {
   "cell_type": "code",
   "execution_count": 14,
   "id": "c7c3614b",
   "metadata": {
    "ExecuteTime": {
     "end_time": "2022-10-17T10:47:34.648355Z",
     "start_time": "2022-10-17T10:47:34.639926Z"
    },
    "execution": {
     "iopub.execute_input": "2023-11-28T09:25:10.232244Z",
     "iopub.status.busy": "2023-11-28T09:25:10.231156Z",
     "iopub.status.idle": "2023-11-28T09:25:10.248909Z",
     "shell.execute_reply": "2023-11-28T09:25:10.247487Z",
     "shell.execute_reply.started": "2023-11-28T09:25:10.232142Z"
    }
   },
   "outputs": [
    {
     "data": {
      "text/plain": [
       "(674, 326)"
      ]
     },
     "execution_count": 14,
     "metadata": {},
     "output_type": "execute_result"
    }
   ],
   "source": [
    "n_0 = df.loc[df['smoker']==0,].shape[0]\n",
    "n_1 = df.loc[df['smoker']==1,].shape[0]\n",
    "n_0, n_1"
   ]
  },
  {
   "cell_type": "code",
   "execution_count": 29,
   "id": "773f232d",
   "metadata": {
    "ExecuteTime": {
     "end_time": "2022-10-17T10:46:51.760847Z",
     "start_time": "2022-10-17T10:46:51.742185Z"
    },
    "execution": {
     "iopub.execute_input": "2023-11-28T09:29:40.324767Z",
     "iopub.status.busy": "2023-11-28T09:29:40.324049Z",
     "iopub.status.idle": "2023-11-28T09:29:40.348258Z",
     "shell.execute_reply": "2023-11-28T09:29:40.347117Z",
     "shell.execute_reply.started": "2023-11-28T09:29:40.324701Z"
    }
   },
   "outputs": [],
   "source": [
    "from imblearn.over_sampling import SMOTE\n",
    "\n",
    "smote = SMOTE(sampling_strategy='minority')\n",
    "X_sm, y_sm = smote.fit_resample(X, y)"
   ]
  },
  {
   "cell_type": "code",
   "execution_count": 30,
   "id": "a760267e",
   "metadata": {
    "ExecuteTime": {
     "end_time": "2022-10-17T10:51:42.515443Z",
     "start_time": "2022-10-17T10:51:42.420170Z"
    },
    "execution": {
     "iopub.execute_input": "2023-11-28T09:29:40.846381Z",
     "iopub.status.busy": "2023-11-28T09:29:40.845654Z",
     "iopub.status.idle": "2023-11-28T09:29:40.996498Z",
     "shell.execute_reply": "2023-11-28T09:29:40.995986Z",
     "shell.execute_reply.started": "2023-11-28T09:29:40.846314Z"
    }
   },
   "outputs": [
    {
     "data": {
      "text/plain": [
       "(array([[674.,   0.,   0.,   0.,   0.,   0.,   0.,   0.,   0., 326.],\n",
       "        [664.,   0.,   0.,   0.,   0.,   0.,   0.,   0.,   0., 336.]]),\n",
       " array([0. , 0.1, 0.2, 0.3, 0.4, 0.5, 0.6, 0.7, 0.8, 0.9, 1. ]),\n",
       " <a list of 2 BarContainer objects>)"
      ]
     },
     "execution_count": 30,
     "metadata": {},
     "output_type": "execute_result"
    },
    {
     "data": {
      "image/png": "[encoded data removed]",
      "text/plain": [
       "<Figure size 640x480 with 1 Axes>"
      ]
     },
     "metadata": {},
     "output_type": "display_data"
    }
   ],
   "source": [
    "plt.hist(X_tl)\n",
    "# plt.hist(y_tl)\n"
   ]
  },
  {
   "cell_type": "code",
   "execution_count": 32,
   "id": "864be7ee-718d-44ef-8431-8e83787c8c70",
   "metadata": {
    "execution": {
     "iopub.execute_input": "2023-11-28T09:30:03.874275Z",
     "iopub.status.busy": "2023-11-28T09:30:03.872492Z",
     "iopub.status.idle": "2023-11-28T09:30:03.885128Z",
     "shell.execute_reply": "2023-11-28T09:30:03.883392Z",
     "shell.execute_reply.started": "2023-11-28T09:30:03.874207Z"
    }
   },
   "outputs": [
    {
     "data": {
      "text/plain": [
       "(1464, 2)"
      ]
     },
     "execution_count": 32,
     "metadata": {},
     "output_type": "execute_result"
    }
   ],
   "source": [
    "X_sm.shape"
   ]
  },
  {
   "cell_type": "code",
   "execution_count": 31,
   "id": "dfb279ce",
   "metadata": {
    "ExecuteTime": {
     "end_time": "2022-10-17T10:51:50.533067Z",
     "start_time": "2022-10-17T10:51:50.431957Z"
    },
    "execution": {
     "iopub.execute_input": "2023-11-28T09:29:42.708363Z",
     "iopub.status.busy": "2023-11-28T09:29:42.708019Z",
     "iopub.status.idle": "2023-11-28T09:29:42.820885Z",
     "shell.execute_reply": "2023-11-28T09:29:42.820268Z",
     "shell.execute_reply.started": "2023-11-28T09:29:42.708337Z"
    }
   },
   "outputs": [
    {
     "data": {
      "text/plain": [
       "(array([[777.,   0.,   0.,   0.,   0.,   0.,   0.,   0.,   0., 687.],\n",
       "        [941.,   0.,   0.,   0.,   0.,   0.,   0.,   0.,   0., 523.]]),\n",
       " array([0. , 0.1, 0.2, 0.3, 0.4, 0.5, 0.6, 0.7, 0.8, 0.9, 1. ]),\n",
       " <a list of 2 BarContainer objects>)"
      ]
     },
     "execution_count": 31,
     "metadata": {},
     "output_type": "execute_result"
    },
    {
     "data": {
      "image/png": "[encoded data removed]",
      "text/plain": [
       "<Figure size 640x480 with 1 Axes>"
      ]
     },
     "metadata": {},
     "output_type": "display_data"
    }
   ],
   "source": [
    "plt.hist(X_sm)\n",
    "# plt.hist(y_sm)"
   ]
  },
  {
   "cell_type": "markdown",
   "id": "b38b5361",
   "metadata": {},
   "source": [
    "There are a variety of other methods in the imblearn package for both undersampling(Cluster Centroids, NearMiss, etc.) and oversampling(ADASYN and bSMOTE) that you can check out."
   ]
  },
  {
   "cell_type": "code",
   "execution_count": null,
   "id": "3a86c546-7686-4e96-bc9a-24748d319470",
   "metadata": {},
   "outputs": [],
   "source": []
  }
 ],
 "metadata": {
  "hide_input": false,
  "kernelspec": {
   "display_name": "venv",
   "language": "python",
   "name": "venv"
  },
  "language_info": {
   "codemirror_mode": {
    "name": "ipython",
    "version": 3
   },
   "file_extension": ".py",
   "mimetype": "text/x-python",
   "name": "python",
   "nbconvert_exporter": "python",
   "pygments_lexer": "ipython3",
   "version": "3.11.4"
  },
  "latex_envs": {
   "LaTeX_envs_menu_present": true,
   "autoclose": true,
   "autocomplete": true,
   "bibliofile": "biblio.bib",
   "cite_by": "apalike",
   "current_citInitial": 1,
   "eqLabelWithNumbers": true,
   "eqNumInitial": 1,
   "hotkeys": {
    "equation": "Ctrl-E",
    "itemize": "Ctrl-I"
   },
   "labels_anchors": false,
   "latex_user_defs": false,
   "report_style_numbering": false,
   "user_envs_cfg": false
  },
  "toc": {
   "base_numbering": 1,
   "nav_menu": {},
   "number_sections": true,
   "sideBar": true,
   "skip_h1_title": false,
   "title_cell": "Table of Contents",
   "title_sidebar": "Contents",
   "toc_cell": false,
   "toc_position": {},
   "toc_section_display": true,
   "toc_window_display": false
  },
  "varInspector": {
   "cols": {
    "lenName": 16,
    "lenType": 16,
    "lenVar": 40
   },
   "kernels_config": {
    "python": {
     "delete_cmd_postfix": "",
     "delete_cmd_prefix": "del ",
     "library": "var_list.py",
     "varRefreshCmd": "print(var_dic_list())"
    },
    "r": {
     "delete_cmd_postfix": ") ",
     "delete_cmd_prefix": "rm(",
     "library": "var_list.r",
     "varRefreshCmd": "cat(var_dic_list()) "
    }
   },
   "types_to_exclude": [
    "module",
    "function",
    "builtin_function_or_method",
    "instance",
    "_Feature"
   ],
   "window_display": false
  }
 },
 "nbformat": 4,
 "nbformat_minor": 5
}
