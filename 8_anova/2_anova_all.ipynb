{
 "cells": [
  {
   "cell_type": "markdown",
   "id": "930fddeb",
   "metadata": {
    "id": "4H4IHxINgffP"
   },
   "source": [
    "### One-way repeated measure ANOVA\n",
    "\n"
   ]
  },
  {
   "cell_type": "code",
   "execution_count": null,
   "id": "0ab13128",
   "metadata": {
    "ExecuteTime": {
     "end_time": "2023-01-16T11:09:00.742316Z",
     "start_time": "2023-01-16T11:09:00.735109Z"
    },
    "id": "Su3Ac1e6uBSG"
   },
   "outputs": [],
   "source": [
    "## Load and visualize the dataset"
   ]
  },
  {
   "cell_type": "code",
   "execution_count": 10,
   "id": "f798c47e",
   "metadata": {
    "ExecuteTime": {
     "end_time": "2023-01-16T16:20:07.131425Z",
     "start_time": "2023-01-16T16:20:06.902652Z"
    },
    "colab": {
     "base_uri": "https://localhost:8080/",
     "height": 111
    },
    "execution": {
     "iopub.execute_input": "2024-01-15T07:23:00.570249Z",
     "iopub.status.busy": "2024-01-15T07:23:00.569470Z",
     "iopub.status.idle": "2024-01-15T07:23:01.193439Z",
     "shell.execute_reply": "2024-01-15T07:23:01.190367Z",
     "shell.execute_reply.started": "2024-01-15T07:23:00.570178Z"
    },
    "id": "o1vlQ3vhrzhn",
    "outputId": "86a7a5e8-c690-4a0f-f7a7-476afee794f4"
   },
   "outputs": [
    {
     "data": {
      "text/html": [
       "<div>\n",
       "<style scoped>\n",
       "    .dataframe tbody tr th:only-of-type {\n",
       "        vertical-align: middle;\n",
       "    }\n",
       "\n",
       "    .dataframe tbody tr th {\n",
       "        vertical-align: top;\n",
       "    }\n",
       "\n",
       "    .dataframe thead th {\n",
       "        text-align: right;\n",
       "    }\n",
       "</style>\n",
       "<table border=\"1\" class=\"dataframe\">\n",
       "  <thead>\n",
       "    <tr style=\"text-align: right;\">\n",
       "      <th></th>\n",
       "      <th>Id</th>\n",
       "      <th>W1</th>\n",
       "      <th>W2</th>\n",
       "      <th>W3</th>\n",
       "      <th>W4</th>\n",
       "      <th>W5</th>\n",
       "    </tr>\n",
       "  </thead>\n",
       "  <tbody>\n",
       "    <tr>\n",
       "      <th>0</th>\n",
       "      <td>P1</td>\n",
       "      <td>4</td>\n",
       "      <td>5</td>\n",
       "      <td>6</td>\n",
       "      <td>8</td>\n",
       "      <td>10</td>\n",
       "    </tr>\n",
       "    <tr>\n",
       "      <th>1</th>\n",
       "      <td>P2</td>\n",
       "      <td>3</td>\n",
       "      <td>4</td>\n",
       "      <td>6</td>\n",
       "      <td>6</td>\n",
       "      <td>9</td>\n",
       "    </tr>\n",
       "    <tr>\n",
       "      <th>2</th>\n",
       "      <td>P3</td>\n",
       "      <td>6</td>\n",
       "      <td>7</td>\n",
       "      <td>9</td>\n",
       "      <td>10</td>\n",
       "      <td>12</td>\n",
       "    </tr>\n",
       "    <tr>\n",
       "      <th>3</th>\n",
       "      <td>P4</td>\n",
       "      <td>5</td>\n",
       "      <td>7</td>\n",
       "      <td>8</td>\n",
       "      <td>10</td>\n",
       "      <td>12</td>\n",
       "    </tr>\n",
       "    <tr>\n",
       "      <th>4</th>\n",
       "      <td>P5</td>\n",
       "      <td>5</td>\n",
       "      <td>6</td>\n",
       "      <td>7</td>\n",
       "      <td>8</td>\n",
       "      <td>10</td>\n",
       "    </tr>\n",
       "  </tbody>\n",
       "</table>\n",
       "</div>"
      ],
      "text/plain": [
       "   Id  W1  W2  W3  W4  W5\n",
       "0  P1   4   5   6   8  10\n",
       "1  P2   3   4   6   6   9\n",
       "2  P3   6   7   9  10  12\n",
       "3  P4   5   7   8  10  12\n",
       "4  P5   5   6   7   8  10"
      ]
     },
     "execution_count": 10,
     "metadata": {},
     "output_type": "execute_result"
    }
   ],
   "source": [
    "import pandas as pd\n",
    "# load data file\n",
    "df=pd.read_csv(\"https://reneshbedre.github.io/assets/posts/anova/plants_leaves.csv\")\n",
    "df"
   ]
  },
  {
   "cell_type": "code",
   "execution_count": 11,
   "id": "64348703",
   "metadata": {
    "ExecuteTime": {
     "end_time": "2023-01-16T16:20:37.940513Z",
     "start_time": "2023-01-16T16:20:37.921602Z"
    },
    "colab": {
     "base_uri": "https://localhost:8080/",
     "height": 111
    },
    "execution": {
     "iopub.execute_input": "2024-01-15T07:23:01.861944Z",
     "iopub.status.busy": "2024-01-15T07:23:01.860937Z",
     "iopub.status.idle": "2024-01-15T07:23:01.904288Z",
     "shell.execute_reply": "2024-01-15T07:23:01.901829Z",
     "shell.execute_reply.started": "2024-01-15T07:23:01.861870Z"
    },
    "id": "o1vlQ3vhrzhn",
    "outputId": "86a7a5e8-c690-4a0f-f7a7-476afee794f4"
   },
   "outputs": [
    {
     "data": {
      "text/html": [
       "<div>\n",
       "<style scoped>\n",
       "    .dataframe tbody tr th:only-of-type {\n",
       "        vertical-align: middle;\n",
       "    }\n",
       "\n",
       "    .dataframe tbody tr th {\n",
       "        vertical-align: top;\n",
       "    }\n",
       "\n",
       "    .dataframe thead th {\n",
       "        text-align: right;\n",
       "    }\n",
       "</style>\n",
       "<table border=\"1\" class=\"dataframe\">\n",
       "  <thead>\n",
       "    <tr style=\"text-align: right;\">\n",
       "      <th></th>\n",
       "      <th>Id</th>\n",
       "      <th>time_points</th>\n",
       "      <th>leaves</th>\n",
       "    </tr>\n",
       "  </thead>\n",
       "  <tbody>\n",
       "    <tr>\n",
       "      <th>0</th>\n",
       "      <td>P1</td>\n",
       "      <td>W1</td>\n",
       "      <td>4</td>\n",
       "    </tr>\n",
       "    <tr>\n",
       "      <th>1</th>\n",
       "      <td>P2</td>\n",
       "      <td>W1</td>\n",
       "      <td>3</td>\n",
       "    </tr>\n",
       "  </tbody>\n",
       "</table>\n",
       "</div>"
      ],
      "text/plain": [
       "   Id time_points  leaves\n",
       "0  P1          W1       4\n",
       "1  P2          W1       3"
      ]
     },
     "execution_count": 11,
     "metadata": {},
     "output_type": "execute_result"
    }
   ],
   "source": [
    "# reshape the dataframe in long-format dataframe\n",
    "df_melt = pd.melt(df.reset_index(), id_vars=['Id'], value_vars=['W1', 'W2', 'W3', 'W4', 'W5'])\n",
    "# replace column names\n",
    "df_melt.columns = ['Id', 'time_points', 'leaves']\n",
    "df_melt.head(2)"
   ]
  },
  {
   "cell_type": "code",
   "execution_count": 12,
   "id": "9db985ad",
   "metadata": {
    "ExecuteTime": {
     "end_time": "2023-01-16T16:20:49.308765Z",
     "start_time": "2023-01-16T16:20:49.063161Z"
    },
    "colab": {
     "base_uri": "https://localhost:8080/",
     "height": 280
    },
    "execution": {
     "iopub.execute_input": "2024-01-15T07:23:02.595739Z",
     "iopub.status.busy": "2024-01-15T07:23:02.594920Z",
     "iopub.status.idle": "2024-01-15T07:23:02.998811Z",
     "shell.execute_reply": "2024-01-15T07:23:02.998382Z",
     "shell.execute_reply.started": "2024-01-15T07:23:02.595667Z"
    },
    "id": "uSQY_WYcsDPM",
    "outputId": "0dc0895d-4d5d-4faa-9d9b-e1cfd06cfb6d"
   },
   "outputs": [
    {
     "data": {
      "image/png": "[encoded data removed]",
      "text/plain": [
       "<Figure size 640x480 with 1 Axes>"
      ]
     },
     "metadata": {},
     "output_type": "display_data"
    }
   ],
   "source": [
    "# generate a boxplot to see the data distribution by time points. Using boxplot, we can \n",
    "# boxplot helps detect the differences between different time points and find any outliers\n",
    "import matplotlib.pyplot as plt\n",
    "import seaborn as sns\n",
    "ax = sns.boxplot(x='time_points', y='leaves', data=df_melt, color='#99c2a2')\n",
    "ax = sns.swarmplot(x=\"time_points\", y=\"leaves\", data=df_melt, color='#7d0013')\n",
    "plt.show()"
   ]
  },
  {
   "cell_type": "code",
   "execution_count": 13,
   "id": "7099efe3",
   "metadata": {
    "ExecuteTime": {
     "end_time": "2023-01-16T11:09:02.556603Z",
     "start_time": "2023-01-16T11:09:02.552343Z"
    },
    "execution": {
     "iopub.execute_input": "2024-01-15T07:23:03.440418Z",
     "iopub.status.busy": "2024-01-15T07:23:03.439128Z",
     "iopub.status.idle": "2024-01-15T07:23:03.452234Z",
     "shell.execute_reply": "2024-01-15T07:23:03.449547Z",
     "shell.execute_reply.started": "2024-01-15T07:23:03.440294Z"
    },
    "id": "pyKG2cXuuXim"
   },
   "outputs": [],
   "source": [
    "# Perform one-way repeated measure ANOVA"
   ]
  },
  {
   "cell_type": "code",
   "execution_count": 14,
   "id": "e84c5e47",
   "metadata": {
    "ExecuteTime": {
     "end_time": "2023-01-16T16:21:20.947868Z",
     "start_time": "2023-01-16T16:21:20.764507Z"
    },
    "colab": {
     "base_uri": "https://localhost:8080/",
     "height": 845
    },
    "execution": {
     "iopub.execute_input": "2024-01-15T07:23:04.698015Z",
     "iopub.status.busy": "2024-01-15T07:23:04.697250Z",
     "iopub.status.idle": "2024-01-15T07:23:05.396592Z",
     "shell.execute_reply": "2024-01-15T07:23:05.392626Z",
     "shell.execute_reply.started": "2024-01-15T07:23:04.697949Z"
    },
    "id": "PFsihnUVt9C3",
    "outputId": "1896de6b-529b-49f1-fc8a-ac63d4000c21"
   },
   "outputs": [
    {
     "data": {
      "text/html": [
       "<div>\n",
       "<style scoped>\n",
       "    .dataframe tbody tr th:only-of-type {\n",
       "        vertical-align: middle;\n",
       "    }\n",
       "\n",
       "    .dataframe tbody tr th {\n",
       "        vertical-align: top;\n",
       "    }\n",
       "\n",
       "    .dataframe thead th {\n",
       "        text-align: right;\n",
       "    }\n",
       "</style>\n",
       "<table border=\"1\" class=\"dataframe\">\n",
       "  <thead>\n",
       "    <tr style=\"text-align: right;\">\n",
       "      <th></th>\n",
       "      <th>Source</th>\n",
       "      <th>SS</th>\n",
       "      <th>DF</th>\n",
       "      <th>MS</th>\n",
       "      <th>F</th>\n",
       "      <th>p-unc</th>\n",
       "      <th>ng2</th>\n",
       "      <th>eps</th>\n",
       "    </tr>\n",
       "  </thead>\n",
       "  <tbody>\n",
       "    <tr>\n",
       "      <th>0</th>\n",
       "      <td>time_points</td>\n",
       "      <td>108.24</td>\n",
       "      <td>4</td>\n",
       "      <td>27.060</td>\n",
       "      <td>146.27027</td>\n",
       "      <td>2.214820e-12</td>\n",
       "      <td>0.744224</td>\n",
       "      <td>0.541964</td>\n",
       "    </tr>\n",
       "    <tr>\n",
       "      <th>1</th>\n",
       "      <td>Error</td>\n",
       "      <td>2.96</td>\n",
       "      <td>16</td>\n",
       "      <td>0.185</td>\n",
       "      <td>NaN</td>\n",
       "      <td>NaN</td>\n",
       "      <td>NaN</td>\n",
       "      <td>NaN</td>\n",
       "    </tr>\n",
       "  </tbody>\n",
       "</table>\n",
       "</div>"
      ],
      "text/plain": [
       "        Source      SS  DF      MS          F         p-unc       ng2  \\\n",
       "0  time_points  108.24   4  27.060  146.27027  2.214820e-12  0.744224   \n",
       "1        Error    2.96  16   0.185        NaN           NaN       NaN   \n",
       "\n",
       "        eps  \n",
       "0  0.541964  \n",
       "1       NaN  "
      ]
     },
     "execution_count": 14,
     "metadata": {},
     "output_type": "execute_result"
    }
   ],
   "source": [
    "import pingouin as pg\n",
    "res = pg.rm_anova(dv='leaves', within='time_points', subject='Id', data=df_melt, detailed=True)\n",
    "res"
   ]
  },
  {
   "cell_type": "code",
   "execution_count": 15,
   "id": "6700c9b5",
   "metadata": {
    "ExecuteTime": {
     "end_time": "2023-01-16T11:09:03.731965Z",
     "start_time": "2023-01-16T11:09:03.726590Z"
    },
    "execution": {
     "iopub.execute_input": "2024-01-15T07:23:05.495900Z",
     "iopub.status.busy": "2024-01-15T07:23:05.494188Z",
     "iopub.status.idle": "2024-01-15T07:23:05.521693Z",
     "shell.execute_reply": "2024-01-15T07:23:05.516857Z",
     "shell.execute_reply.started": "2024-01-15T07:23:05.495793Z"
    },
    "id": "srRY2yxMvH3_"
   },
   "outputs": [],
   "source": [
    "### Post-hoc tests"
   ]
  },
  {
   "cell_type": "code",
   "execution_count": 16,
   "id": "7d3f5dd5",
   "metadata": {
    "ExecuteTime": {
     "end_time": "2023-01-16T16:22:12.383134Z",
     "start_time": "2023-01-16T16:22:12.229760Z"
    },
    "colab": {
     "base_uri": "https://localhost:8080/",
     "height": 359
    },
    "execution": {
     "iopub.execute_input": "2024-01-15T07:23:06.418161Z",
     "iopub.status.busy": "2024-01-15T07:23:06.417211Z",
     "iopub.status.idle": "2024-01-15T07:23:06.729773Z",
     "shell.execute_reply": "2024-01-15T07:23:06.726622Z",
     "shell.execute_reply.started": "2024-01-15T07:23:06.418081Z"
    },
    "id": "WZq9wUTTvK_Z",
    "outputId": "5f1be91b-4c9c-42c8-8a14-ebd908c0f565"
   },
   "outputs": [
    {
     "name": "stderr",
     "output_type": "stream",
     "text": [
      "/home/xenakas/.venv/lib/python3.11/site-packages/pingouin/pairwise.py:28: UserWarning: pairwise_ttests is deprecated, use pairwise_tests instead.\n",
      "  warnings.warn(\"pairwise_ttests is deprecated, use pairwise_tests instead.\", UserWarning)\n"
     ]
    },
    {
     "data": {
      "text/html": [
       "<div>\n",
       "<style scoped>\n",
       "    .dataframe tbody tr th:only-of-type {\n",
       "        vertical-align: middle;\n",
       "    }\n",
       "\n",
       "    .dataframe tbody tr th {\n",
       "        vertical-align: top;\n",
       "    }\n",
       "\n",
       "    .dataframe thead th {\n",
       "        text-align: right;\n",
       "    }\n",
       "</style>\n",
       "<table border=\"1\" class=\"dataframe\">\n",
       "  <thead>\n",
       "    <tr style=\"text-align: right;\">\n",
       "      <th></th>\n",
       "      <th>Contrast</th>\n",
       "      <th>A</th>\n",
       "      <th>B</th>\n",
       "      <th>Paired</th>\n",
       "      <th>Parametric</th>\n",
       "      <th>T</th>\n",
       "      <th>dof</th>\n",
       "      <th>alternative</th>\n",
       "      <th>p-unc</th>\n",
       "      <th>p-corr</th>\n",
       "      <th>p-adjust</th>\n",
       "      <th>BF10</th>\n",
       "      <th>hedges</th>\n",
       "    </tr>\n",
       "  </thead>\n",
       "  <tbody>\n",
       "    <tr>\n",
       "      <th>0</th>\n",
       "      <td>time_points</td>\n",
       "      <td>W1</td>\n",
       "      <td>W2</td>\n",
       "      <td>True</td>\n",
       "      <td>True</td>\n",
       "      <td>-6.000000</td>\n",
       "      <td>4.0</td>\n",
       "      <td>two-sided</td>\n",
       "      <td>0.003883</td>\n",
       "      <td>0.004853</td>\n",
       "      <td>fdr_bh</td>\n",
       "      <td>13.991</td>\n",
       "      <td>-0.884977</td>\n",
       "    </tr>\n",
       "    <tr>\n",
       "      <th>1</th>\n",
       "      <td>time_points</td>\n",
       "      <td>W1</td>\n",
       "      <td>W3</td>\n",
       "      <td>True</td>\n",
       "      <td>True</td>\n",
       "      <td>-10.614456</td>\n",
       "      <td>4.0</td>\n",
       "      <td>two-sided</td>\n",
       "      <td>0.000446</td>\n",
       "      <td>0.000743</td>\n",
       "      <td>fdr_bh</td>\n",
       "      <td>68.116</td>\n",
       "      <td>-1.917450</td>\n",
       "    </tr>\n",
       "    <tr>\n",
       "      <th>2</th>\n",
       "      <td>time_points</td>\n",
       "      <td>W1</td>\n",
       "      <td>W4</td>\n",
       "      <td>True</td>\n",
       "      <td>True</td>\n",
       "      <td>-10.155927</td>\n",
       "      <td>4.0</td>\n",
       "      <td>two-sided</td>\n",
       "      <td>0.000529</td>\n",
       "      <td>0.000756</td>\n",
       "      <td>fdr_bh</td>\n",
       "      <td>60.047</td>\n",
       "      <td>-2.397193</td>\n",
       "    </tr>\n",
       "    <tr>\n",
       "      <th>3</th>\n",
       "      <td>time_points</td>\n",
       "      <td>W1</td>\n",
       "      <td>W5</td>\n",
       "      <td>True</td>\n",
       "      <td>True</td>\n",
       "      <td>-18.973666</td>\n",
       "      <td>4.0</td>\n",
       "      <td>two-sided</td>\n",
       "      <td>0.000045</td>\n",
       "      <td>0.000227</td>\n",
       "      <td>fdr_bh</td>\n",
       "      <td>369.333</td>\n",
       "      <td>-4.352931</td>\n",
       "    </tr>\n",
       "    <tr>\n",
       "      <th>4</th>\n",
       "      <td>time_points</td>\n",
       "      <td>W2</td>\n",
       "      <td>W3</td>\n",
       "      <td>True</td>\n",
       "      <td>True</td>\n",
       "      <td>-5.715476</td>\n",
       "      <td>4.0</td>\n",
       "      <td>two-sided</td>\n",
       "      <td>0.004636</td>\n",
       "      <td>0.005151</td>\n",
       "      <td>fdr_bh</td>\n",
       "      <td>12.3</td>\n",
       "      <td>-0.969840</td>\n",
       "    </tr>\n",
       "    <tr>\n",
       "      <th>5</th>\n",
       "      <td>time_points</td>\n",
       "      <td>W2</td>\n",
       "      <td>W4</td>\n",
       "      <td>True</td>\n",
       "      <td>True</td>\n",
       "      <td>-10.614456</td>\n",
       "      <td>4.0</td>\n",
       "      <td>two-sided</td>\n",
       "      <td>0.000446</td>\n",
       "      <td>0.000743</td>\n",
       "      <td>fdr_bh</td>\n",
       "      <td>68.116</td>\n",
       "      <td>-1.565591</td>\n",
       "    </tr>\n",
       "    <tr>\n",
       "      <th>6</th>\n",
       "      <td>time_points</td>\n",
       "      <td>W2</td>\n",
       "      <td>W5</td>\n",
       "      <td>True</td>\n",
       "      <td>True</td>\n",
       "      <td>-24.000000</td>\n",
       "      <td>4.0</td>\n",
       "      <td>two-sided</td>\n",
       "      <td>0.000018</td>\n",
       "      <td>0.000179</td>\n",
       "      <td>fdr_bh</td>\n",
       "      <td>740.006</td>\n",
       "      <td>-3.277318</td>\n",
       "    </tr>\n",
       "    <tr>\n",
       "      <th>7</th>\n",
       "      <td>time_points</td>\n",
       "      <td>W3</td>\n",
       "      <td>W4</td>\n",
       "      <td>True</td>\n",
       "      <td>True</td>\n",
       "      <td>-3.207135</td>\n",
       "      <td>4.0</td>\n",
       "      <td>two-sided</td>\n",
       "      <td>0.032678</td>\n",
       "      <td>0.032678</td>\n",
       "      <td>fdr_bh</td>\n",
       "      <td>3.006</td>\n",
       "      <td>-0.722581</td>\n",
       "    </tr>\n",
       "    <tr>\n",
       "      <th>8</th>\n",
       "      <td>time_points</td>\n",
       "      <td>W3</td>\n",
       "      <td>W5</td>\n",
       "      <td>True</td>\n",
       "      <td>True</td>\n",
       "      <td>-13.880442</td>\n",
       "      <td>4.0</td>\n",
       "      <td>two-sided</td>\n",
       "      <td>0.000156</td>\n",
       "      <td>0.000521</td>\n",
       "      <td>fdr_bh</td>\n",
       "      <td>147.775</td>\n",
       "      <td>-2.321433</td>\n",
       "    </tr>\n",
       "    <tr>\n",
       "      <th>9</th>\n",
       "      <td>time_points</td>\n",
       "      <td>W4</td>\n",
       "      <td>W5</td>\n",
       "      <td>True</td>\n",
       "      <td>True</td>\n",
       "      <td>-11.000000</td>\n",
       "      <td>4.0</td>\n",
       "      <td>two-sided</td>\n",
       "      <td>0.000388</td>\n",
       "      <td>0.000743</td>\n",
       "      <td>fdr_bh</td>\n",
       "      <td>75.445</td>\n",
       "      <td>-1.310253</td>\n",
       "    </tr>\n",
       "  </tbody>\n",
       "</table>\n",
       "</div>"
      ],
      "text/plain": [
       "      Contrast   A   B  Paired  Parametric          T  dof alternative  \\\n",
       "0  time_points  W1  W2    True        True  -6.000000  4.0   two-sided   \n",
       "1  time_points  W1  W3    True        True -10.614456  4.0   two-sided   \n",
       "2  time_points  W1  W4    True        True -10.155927  4.0   two-sided   \n",
       "3  time_points  W1  W5    True        True -18.973666  4.0   two-sided   \n",
       "4  time_points  W2  W3    True        True  -5.715476  4.0   two-sided   \n",
       "5  time_points  W2  W4    True        True -10.614456  4.0   two-sided   \n",
       "6  time_points  W2  W5    True        True -24.000000  4.0   two-sided   \n",
       "7  time_points  W3  W4    True        True  -3.207135  4.0   two-sided   \n",
       "8  time_points  W3  W5    True        True -13.880442  4.0   two-sided   \n",
       "9  time_points  W4  W5    True        True -11.000000  4.0   two-sided   \n",
       "\n",
       "      p-unc    p-corr p-adjust     BF10    hedges  \n",
       "0  0.003883  0.004853   fdr_bh   13.991 -0.884977  \n",
       "1  0.000446  0.000743   fdr_bh   68.116 -1.917450  \n",
       "2  0.000529  0.000756   fdr_bh   60.047 -2.397193  \n",
       "3  0.000045  0.000227   fdr_bh  369.333 -4.352931  \n",
       "4  0.004636  0.005151   fdr_bh     12.3 -0.969840  \n",
       "5  0.000446  0.000743   fdr_bh   68.116 -1.565591  \n",
       "6  0.000018  0.000179   fdr_bh  740.006 -3.277318  \n",
       "7  0.032678  0.032678   fdr_bh    3.006 -0.722581  \n",
       "8  0.000156  0.000521   fdr_bh  147.775 -2.321433  \n",
       "9  0.000388  0.000743   fdr_bh   75.445 -1.310253  "
      ]
     },
     "execution_count": 16,
     "metadata": {},
     "output_type": "execute_result"
    },
    {
     "name": "stderr",
     "output_type": "stream",
     "text": [
      "/home/xenakas/.venv/lib/python3.11/site-packages/outdated/utils.py:14: OutdatedPackageWarning: The package pingouin is out of date. Your version is 0.5.3, the latest is 0.5.4.\n",
      "Set the environment variable OUTDATED_IGNORE=1 to disable these warnings.\n",
      "  return warn(\n"
     ]
    }
   ],
   "source": [
    "# install pingouin as !pip install pingouin\n",
    "# make sure you have installed the pingouin package (pip install pingouin)\n",
    "post_hocs = pg.pairwise_ttests(dv='leaves', within='time_points', subject='Id', padjust='fdr_bh', data=df_melt)\n",
    "post_hocs"
   ]
  },
  {
   "cell_type": "code",
   "execution_count": 17,
   "id": "6fc1d31a",
   "metadata": {
    "ExecuteTime": {
     "end_time": "2023-01-16T11:09:05.107528Z",
     "start_time": "2023-01-16T11:09:05.103213Z"
    },
    "execution": {
     "iopub.execute_input": "2024-01-15T07:23:09.929313Z",
     "iopub.status.busy": "2024-01-15T07:23:09.928600Z",
     "iopub.status.idle": "2024-01-15T07:23:09.938296Z",
     "shell.execute_reply": "2024-01-15T07:23:09.935784Z",
     "shell.execute_reply.started": "2024-01-15T07:23:09.929247Z"
    },
    "id": "r26ETApTvX_1"
   },
   "outputs": [],
   "source": [
    "# Check repeated measure ANOVA assumptions\n",
    "## Assumption of sphericity"
   ]
  },
  {
   "cell_type": "code",
   "execution_count": 18,
   "id": "d1f7513c",
   "metadata": {
    "ExecuteTime": {
     "end_time": "2023-01-16T16:23:22.009311Z",
     "start_time": "2023-01-16T16:23:21.979091Z"
    },
    "colab": {
     "base_uri": "https://localhost:8080/"
    },
    "execution": {
     "iopub.execute_input": "2024-01-15T07:23:10.555412Z",
     "iopub.status.busy": "2024-01-15T07:23:10.554706Z",
     "iopub.status.idle": "2024-01-15T07:23:10.596356Z",
     "shell.execute_reply": "2024-01-15T07:23:10.593216Z",
     "shell.execute_reply.started": "2024-01-15T07:23:10.555349Z"
    },
    "id": "aJBFOef2vcuk",
    "outputId": "00ecc2b6-c743-4426-bc69-942d84dfeaa7"
   },
   "outputs": [
    {
     "name": "stderr",
     "output_type": "stream",
     "text": [
      "/tmp/ipykernel_87582/1302510118.py:4: DeprecationWarning: `product` is deprecated as of NumPy 1.25.0, and will be removed in NumPy 2.0. Please use `prod` instead.\n",
      "  pg.sphericity(data=df_melt, dv='leaves', subject='Id', within='time_points')\n"
     ]
    },
    {
     "data": {
      "text/plain": [
       "SpherResults(spher=True, W=0.13339302226436223, chi2=4.868267346520249, dof=9, pval=0.8883022484983506)"
      ]
     },
     "execution_count": 18,
     "metadata": {},
     "output_type": "execute_result"
    }
   ],
   "source": [
    "# install pingouin as !pip install pingouin\n",
    "# Mauchly’s test of sphericity\n",
    "import pingouin as pg\n",
    "pg.sphericity(data=df_melt, dv='leaves', subject='Id', within='time_points')"
   ]
  },
  {
   "cell_type": "code",
   "execution_count": 19,
   "id": "c1b87157",
   "metadata": {
    "ExecuteTime": {
     "end_time": "2023-01-16T11:09:06.331462Z",
     "start_time": "2023-01-16T11:09:06.327152Z"
    },
    "execution": {
     "iopub.execute_input": "2024-01-15T07:23:11.154548Z",
     "iopub.status.busy": "2024-01-15T07:23:11.153828Z",
     "iopub.status.idle": "2024-01-15T07:23:11.164782Z",
     "shell.execute_reply": "2024-01-15T07:23:11.161505Z",
     "shell.execute_reply.started": "2024-01-15T07:23:11.154482Z"
    },
    "id": "FbYR2T_ovp38"
   },
   "outputs": [],
   "source": [
    "## Assumption of normality"
   ]
  },
  {
   "cell_type": "code",
   "execution_count": 20,
   "id": "5e455b67",
   "metadata": {
    "ExecuteTime": {
     "end_time": "2023-01-16T16:23:34.504627Z",
     "start_time": "2023-01-16T16:23:34.466756Z"
    },
    "execution": {
     "iopub.execute_input": "2024-01-15T07:23:11.835032Z",
     "iopub.status.busy": "2024-01-15T07:23:11.834309Z",
     "iopub.status.idle": "2024-01-15T07:23:11.892400Z",
     "shell.execute_reply": "2024-01-15T07:23:11.889692Z",
     "shell.execute_reply.started": "2024-01-15T07:23:11.834969Z"
    }
   },
   "outputs": [
    {
     "data": {
      "text/html": [
       "<div>\n",
       "<style scoped>\n",
       "    .dataframe tbody tr th:only-of-type {\n",
       "        vertical-align: middle;\n",
       "    }\n",
       "\n",
       "    .dataframe tbody tr th {\n",
       "        vertical-align: top;\n",
       "    }\n",
       "\n",
       "    .dataframe thead th {\n",
       "        text-align: right;\n",
       "    }\n",
       "</style>\n",
       "<table border=\"1\" class=\"dataframe\">\n",
       "  <thead>\n",
       "    <tr style=\"text-align: right;\">\n",
       "      <th></th>\n",
       "      <th>W</th>\n",
       "      <th>pval</th>\n",
       "      <th>normal</th>\n",
       "    </tr>\n",
       "    <tr>\n",
       "      <th>time_points</th>\n",
       "      <th></th>\n",
       "      <th></th>\n",
       "      <th></th>\n",
       "    </tr>\n",
       "  </thead>\n",
       "  <tbody>\n",
       "    <tr>\n",
       "      <th>W1</th>\n",
       "      <td>0.960859</td>\n",
       "      <td>0.813952</td>\n",
       "      <td>True</td>\n",
       "    </tr>\n",
       "    <tr>\n",
       "      <th>W2</th>\n",
       "      <td>0.902020</td>\n",
       "      <td>0.421149</td>\n",
       "      <td>True</td>\n",
       "    </tr>\n",
       "    <tr>\n",
       "      <th>W3</th>\n",
       "      <td>0.902020</td>\n",
       "      <td>0.421149</td>\n",
       "      <td>True</td>\n",
       "    </tr>\n",
       "    <tr>\n",
       "      <th>W4</th>\n",
       "      <td>0.881038</td>\n",
       "      <td>0.314040</td>\n",
       "      <td>True</td>\n",
       "    </tr>\n",
       "    <tr>\n",
       "      <th>W5</th>\n",
       "      <td>0.851907</td>\n",
       "      <td>0.200623</td>\n",
       "      <td>True</td>\n",
       "    </tr>\n",
       "  </tbody>\n",
       "</table>\n",
       "</div>"
      ],
      "text/plain": [
       "                    W      pval  normal\n",
       "time_points                            \n",
       "W1           0.960859  0.813952    True\n",
       "W2           0.902020  0.421149    True\n",
       "W3           0.902020  0.421149    True\n",
       "W4           0.881038  0.314040    True\n",
       "W5           0.851907  0.200623    True"
      ]
     },
     "execution_count": 20,
     "metadata": {},
     "output_type": "execute_result"
    }
   ],
   "source": [
    "pg.normality(data=df_melt, dv='leaves', group='time_points')"
   ]
  },
  {
   "cell_type": "markdown",
   "id": "ffffb47b",
   "metadata": {
    "id": "nmoKB4wUg9aK"
   },
   "source": [
    "### Two-way repeated measure ANOVA (Within-within-subjects ANOVA)\n"
   ]
  },
  {
   "cell_type": "code",
   "execution_count": 21,
   "id": "ba12846a",
   "metadata": {
    "ExecuteTime": {
     "end_time": "2023-01-16T11:09:07.687555Z",
     "start_time": "2023-01-16T11:09:07.683357Z"
    },
    "execution": {
     "iopub.execute_input": "2024-01-15T07:23:13.259774Z",
     "iopub.status.busy": "2024-01-15T07:23:13.257812Z",
     "iopub.status.idle": "2024-01-15T07:23:13.268206Z",
     "shell.execute_reply": "2024-01-15T07:23:13.265837Z",
     "shell.execute_reply.started": "2024-01-15T07:23:13.259668Z"
    },
    "id": "TPJia3mUhLcM"
   },
   "outputs": [],
   "source": [
    "## Load and visualize the dataset"
   ]
  },
  {
   "cell_type": "code",
   "execution_count": 22,
   "id": "36a8242c",
   "metadata": {
    "ExecuteTime": {
     "end_time": "2023-01-16T16:24:33.169705Z",
     "start_time": "2023-01-16T16:24:33.020982Z"
    },
    "colab": {
     "base_uri": "https://localhost:8080/",
     "height": 111
    },
    "execution": {
     "iopub.execute_input": "2024-01-15T07:23:13.869140Z",
     "iopub.status.busy": "2024-01-15T07:23:13.867185Z",
     "iopub.status.idle": "2024-01-15T07:23:14.434844Z",
     "shell.execute_reply": "2024-01-15T07:23:14.432426Z",
     "shell.execute_reply.started": "2024-01-15T07:23:13.869038Z"
    },
    "id": "UBR7uXPbhN1I",
    "outputId": "f546930b-1cd1-4c24-e09f-ec7585ccf2d2"
   },
   "outputs": [
    {
     "data": {
      "text/html": [
       "<div>\n",
       "<style scoped>\n",
       "    .dataframe tbody tr th:only-of-type {\n",
       "        vertical-align: middle;\n",
       "    }\n",
       "\n",
       "    .dataframe tbody tr th {\n",
       "        vertical-align: top;\n",
       "    }\n",
       "\n",
       "    .dataframe thead th {\n",
       "        text-align: right;\n",
       "    }\n",
       "</style>\n",
       "<table border=\"1\" class=\"dataframe\">\n",
       "  <thead>\n",
       "    <tr style=\"text-align: right;\">\n",
       "      <th></th>\n",
       "      <th>plants</th>\n",
       "      <th>nutrient_level</th>\n",
       "      <th>year</th>\n",
       "      <th>time</th>\n",
       "      <th>num_leaves</th>\n",
       "    </tr>\n",
       "  </thead>\n",
       "  <tbody>\n",
       "    <tr>\n",
       "      <th>0</th>\n",
       "      <td>P1</td>\n",
       "      <td>Low</td>\n",
       "      <td>Year1</td>\n",
       "      <td>Week1</td>\n",
       "      <td>4</td>\n",
       "    </tr>\n",
       "    <tr>\n",
       "      <th>1</th>\n",
       "      <td>P2</td>\n",
       "      <td>Low</td>\n",
       "      <td>Year1</td>\n",
       "      <td>Week1</td>\n",
       "      <td>3</td>\n",
       "    </tr>\n",
       "    <tr>\n",
       "      <th>2</th>\n",
       "      <td>P3</td>\n",
       "      <td>Low</td>\n",
       "      <td>Year1</td>\n",
       "      <td>Week1</td>\n",
       "      <td>6</td>\n",
       "    </tr>\n",
       "    <tr>\n",
       "      <th>3</th>\n",
       "      <td>P4</td>\n",
       "      <td>Low</td>\n",
       "      <td>Year1</td>\n",
       "      <td>Week1</td>\n",
       "      <td>5</td>\n",
       "    </tr>\n",
       "    <tr>\n",
       "      <th>4</th>\n",
       "      <td>P5</td>\n",
       "      <td>Low</td>\n",
       "      <td>Year1</td>\n",
       "      <td>Week1</td>\n",
       "      <td>5</td>\n",
       "    </tr>\n",
       "    <tr>\n",
       "      <th>5</th>\n",
       "      <td>P1</td>\n",
       "      <td>Low</td>\n",
       "      <td>Year1</td>\n",
       "      <td>Week2</td>\n",
       "      <td>5</td>\n",
       "    </tr>\n",
       "    <tr>\n",
       "      <th>6</th>\n",
       "      <td>P2</td>\n",
       "      <td>Low</td>\n",
       "      <td>Year1</td>\n",
       "      <td>Week2</td>\n",
       "      <td>4</td>\n",
       "    </tr>\n",
       "    <tr>\n",
       "      <th>7</th>\n",
       "      <td>P3</td>\n",
       "      <td>Low</td>\n",
       "      <td>Year1</td>\n",
       "      <td>Week2</td>\n",
       "      <td>7</td>\n",
       "    </tr>\n",
       "    <tr>\n",
       "      <th>8</th>\n",
       "      <td>P4</td>\n",
       "      <td>Low</td>\n",
       "      <td>Year1</td>\n",
       "      <td>Week2</td>\n",
       "      <td>7</td>\n",
       "    </tr>\n",
       "    <tr>\n",
       "      <th>9</th>\n",
       "      <td>P5</td>\n",
       "      <td>Low</td>\n",
       "      <td>Year1</td>\n",
       "      <td>Week2</td>\n",
       "      <td>6</td>\n",
       "    </tr>\n",
       "    <tr>\n",
       "      <th>10</th>\n",
       "      <td>P1</td>\n",
       "      <td>Low</td>\n",
       "      <td>Year1</td>\n",
       "      <td>Week3</td>\n",
       "      <td>6</td>\n",
       "    </tr>\n",
       "    <tr>\n",
       "      <th>11</th>\n",
       "      <td>P2</td>\n",
       "      <td>Low</td>\n",
       "      <td>Year1</td>\n",
       "      <td>Week3</td>\n",
       "      <td>6</td>\n",
       "    </tr>\n",
       "    <tr>\n",
       "      <th>12</th>\n",
       "      <td>P3</td>\n",
       "      <td>Low</td>\n",
       "      <td>Year1</td>\n",
       "      <td>Week3</td>\n",
       "      <td>9</td>\n",
       "    </tr>\n",
       "    <tr>\n",
       "      <th>13</th>\n",
       "      <td>P4</td>\n",
       "      <td>Low</td>\n",
       "      <td>Year1</td>\n",
       "      <td>Week3</td>\n",
       "      <td>8</td>\n",
       "    </tr>\n",
       "    <tr>\n",
       "      <th>14</th>\n",
       "      <td>P5</td>\n",
       "      <td>Low</td>\n",
       "      <td>Year1</td>\n",
       "      <td>Week3</td>\n",
       "      <td>7</td>\n",
       "    </tr>\n",
       "    <tr>\n",
       "      <th>15</th>\n",
       "      <td>P1</td>\n",
       "      <td>Low</td>\n",
       "      <td>Year1</td>\n",
       "      <td>Week4</td>\n",
       "      <td>8</td>\n",
       "    </tr>\n",
       "    <tr>\n",
       "      <th>16</th>\n",
       "      <td>P2</td>\n",
       "      <td>Low</td>\n",
       "      <td>Year1</td>\n",
       "      <td>Week4</td>\n",
       "      <td>6</td>\n",
       "    </tr>\n",
       "    <tr>\n",
       "      <th>17</th>\n",
       "      <td>P3</td>\n",
       "      <td>Low</td>\n",
       "      <td>Year1</td>\n",
       "      <td>Week4</td>\n",
       "      <td>10</td>\n",
       "    </tr>\n",
       "    <tr>\n",
       "      <th>18</th>\n",
       "      <td>P4</td>\n",
       "      <td>Low</td>\n",
       "      <td>Year1</td>\n",
       "      <td>Week4</td>\n",
       "      <td>10</td>\n",
       "    </tr>\n",
       "    <tr>\n",
       "      <th>19</th>\n",
       "      <td>P5</td>\n",
       "      <td>Low</td>\n",
       "      <td>Year1</td>\n",
       "      <td>Week4</td>\n",
       "      <td>8</td>\n",
       "    </tr>\n",
       "    <tr>\n",
       "      <th>20</th>\n",
       "      <td>P1</td>\n",
       "      <td>Low</td>\n",
       "      <td>Year1</td>\n",
       "      <td>Week5</td>\n",
       "      <td>10</td>\n",
       "    </tr>\n",
       "    <tr>\n",
       "      <th>21</th>\n",
       "      <td>P2</td>\n",
       "      <td>Low</td>\n",
       "      <td>Year1</td>\n",
       "      <td>Week5</td>\n",
       "      <td>9</td>\n",
       "    </tr>\n",
       "    <tr>\n",
       "      <th>22</th>\n",
       "      <td>P3</td>\n",
       "      <td>Low</td>\n",
       "      <td>Year1</td>\n",
       "      <td>Week5</td>\n",
       "      <td>12</td>\n",
       "    </tr>\n",
       "    <tr>\n",
       "      <th>23</th>\n",
       "      <td>P4</td>\n",
       "      <td>Low</td>\n",
       "      <td>Year1</td>\n",
       "      <td>Week5</td>\n",
       "      <td>12</td>\n",
       "    </tr>\n",
       "    <tr>\n",
       "      <th>24</th>\n",
       "      <td>P5</td>\n",
       "      <td>Low</td>\n",
       "      <td>Year1</td>\n",
       "      <td>Week5</td>\n",
       "      <td>10</td>\n",
       "    </tr>\n",
       "    <tr>\n",
       "      <th>25</th>\n",
       "      <td>P1</td>\n",
       "      <td>Low</td>\n",
       "      <td>Year2</td>\n",
       "      <td>Week1</td>\n",
       "      <td>4</td>\n",
       "    </tr>\n",
       "    <tr>\n",
       "      <th>26</th>\n",
       "      <td>P2</td>\n",
       "      <td>Low</td>\n",
       "      <td>Year2</td>\n",
       "      <td>Week1</td>\n",
       "      <td>3</td>\n",
       "    </tr>\n",
       "    <tr>\n",
       "      <th>27</th>\n",
       "      <td>P3</td>\n",
       "      <td>Low</td>\n",
       "      <td>Year2</td>\n",
       "      <td>Week1</td>\n",
       "      <td>3</td>\n",
       "    </tr>\n",
       "    <tr>\n",
       "      <th>28</th>\n",
       "      <td>P4</td>\n",
       "      <td>Low</td>\n",
       "      <td>Year2</td>\n",
       "      <td>Week1</td>\n",
       "      <td>3</td>\n",
       "    </tr>\n",
       "    <tr>\n",
       "      <th>29</th>\n",
       "      <td>P5</td>\n",
       "      <td>Low</td>\n",
       "      <td>Year2</td>\n",
       "      <td>Week1</td>\n",
       "      <td>5</td>\n",
       "    </tr>\n",
       "    <tr>\n",
       "      <th>30</th>\n",
       "      <td>P1</td>\n",
       "      <td>Low</td>\n",
       "      <td>Year2</td>\n",
       "      <td>Week2</td>\n",
       "      <td>4</td>\n",
       "    </tr>\n",
       "    <tr>\n",
       "      <th>31</th>\n",
       "      <td>P2</td>\n",
       "      <td>Low</td>\n",
       "      <td>Year2</td>\n",
       "      <td>Week2</td>\n",
       "      <td>4</td>\n",
       "    </tr>\n",
       "    <tr>\n",
       "      <th>32</th>\n",
       "      <td>P3</td>\n",
       "      <td>Low</td>\n",
       "      <td>Year2</td>\n",
       "      <td>Week2</td>\n",
       "      <td>4</td>\n",
       "    </tr>\n",
       "    <tr>\n",
       "      <th>33</th>\n",
       "      <td>P4</td>\n",
       "      <td>Low</td>\n",
       "      <td>Year2</td>\n",
       "      <td>Week2</td>\n",
       "      <td>4</td>\n",
       "    </tr>\n",
       "    <tr>\n",
       "      <th>34</th>\n",
       "      <td>P5</td>\n",
       "      <td>Low</td>\n",
       "      <td>Year2</td>\n",
       "      <td>Week2</td>\n",
       "      <td>5</td>\n",
       "    </tr>\n",
       "    <tr>\n",
       "      <th>35</th>\n",
       "      <td>P1</td>\n",
       "      <td>Low</td>\n",
       "      <td>Year2</td>\n",
       "      <td>Week3</td>\n",
       "      <td>5</td>\n",
       "    </tr>\n",
       "    <tr>\n",
       "      <th>36</th>\n",
       "      <td>P2</td>\n",
       "      <td>Low</td>\n",
       "      <td>Year2</td>\n",
       "      <td>Week3</td>\n",
       "      <td>6</td>\n",
       "    </tr>\n",
       "    <tr>\n",
       "      <th>37</th>\n",
       "      <td>P3</td>\n",
       "      <td>Low</td>\n",
       "      <td>Year2</td>\n",
       "      <td>Week3</td>\n",
       "      <td>6</td>\n",
       "    </tr>\n",
       "    <tr>\n",
       "      <th>38</th>\n",
       "      <td>P4</td>\n",
       "      <td>Low</td>\n",
       "      <td>Year2</td>\n",
       "      <td>Week3</td>\n",
       "      <td>6</td>\n",
       "    </tr>\n",
       "    <tr>\n",
       "      <th>39</th>\n",
       "      <td>P5</td>\n",
       "      <td>Low</td>\n",
       "      <td>Year2</td>\n",
       "      <td>Week3</td>\n",
       "      <td>6</td>\n",
       "    </tr>\n",
       "    <tr>\n",
       "      <th>40</th>\n",
       "      <td>P1</td>\n",
       "      <td>Low</td>\n",
       "      <td>Year2</td>\n",
       "      <td>Week4</td>\n",
       "      <td>7</td>\n",
       "    </tr>\n",
       "    <tr>\n",
       "      <th>41</th>\n",
       "      <td>P2</td>\n",
       "      <td>Low</td>\n",
       "      <td>Year2</td>\n",
       "      <td>Week4</td>\n",
       "      <td>8</td>\n",
       "    </tr>\n",
       "    <tr>\n",
       "      <th>42</th>\n",
       "      <td>P3</td>\n",
       "      <td>Low</td>\n",
       "      <td>Year2</td>\n",
       "      <td>Week4</td>\n",
       "      <td>7</td>\n",
       "    </tr>\n",
       "    <tr>\n",
       "      <th>43</th>\n",
       "      <td>P4</td>\n",
       "      <td>Low</td>\n",
       "      <td>Year2</td>\n",
       "      <td>Week4</td>\n",
       "      <td>8</td>\n",
       "    </tr>\n",
       "    <tr>\n",
       "      <th>44</th>\n",
       "      <td>P5</td>\n",
       "      <td>Low</td>\n",
       "      <td>Year2</td>\n",
       "      <td>Week4</td>\n",
       "      <td>7</td>\n",
       "    </tr>\n",
       "    <tr>\n",
       "      <th>45</th>\n",
       "      <td>P1</td>\n",
       "      <td>Low</td>\n",
       "      <td>Year2</td>\n",
       "      <td>Week5</td>\n",
       "      <td>9</td>\n",
       "    </tr>\n",
       "    <tr>\n",
       "      <th>46</th>\n",
       "      <td>P2</td>\n",
       "      <td>Low</td>\n",
       "      <td>Year2</td>\n",
       "      <td>Week5</td>\n",
       "      <td>10</td>\n",
       "    </tr>\n",
       "    <tr>\n",
       "      <th>47</th>\n",
       "      <td>P3</td>\n",
       "      <td>Low</td>\n",
       "      <td>Year2</td>\n",
       "      <td>Week5</td>\n",
       "      <td>9</td>\n",
       "    </tr>\n",
       "    <tr>\n",
       "      <th>48</th>\n",
       "      <td>P4</td>\n",
       "      <td>Low</td>\n",
       "      <td>Year2</td>\n",
       "      <td>Week5</td>\n",
       "      <td>10</td>\n",
       "    </tr>\n",
       "    <tr>\n",
       "      <th>49</th>\n",
       "      <td>P5</td>\n",
       "      <td>Low</td>\n",
       "      <td>Year2</td>\n",
       "      <td>Week5</td>\n",
       "      <td>10</td>\n",
       "    </tr>\n",
       "  </tbody>\n",
       "</table>\n",
       "</div>"
      ],
      "text/plain": [
       "   plants nutrient_level   year   time  num_leaves\n",
       "0      P1            Low  Year1  Week1           4\n",
       "1      P2            Low  Year1  Week1           3\n",
       "2      P3            Low  Year1  Week1           6\n",
       "3      P4            Low  Year1  Week1           5\n",
       "4      P5            Low  Year1  Week1           5\n",
       "5      P1            Low  Year1  Week2           5\n",
       "6      P2            Low  Year1  Week2           4\n",
       "7      P3            Low  Year1  Week2           7\n",
       "8      P4            Low  Year1  Week2           7\n",
       "9      P5            Low  Year1  Week2           6\n",
       "10     P1            Low  Year1  Week3           6\n",
       "11     P2            Low  Year1  Week3           6\n",
       "12     P3            Low  Year1  Week3           9\n",
       "13     P4            Low  Year1  Week3           8\n",
       "14     P5            Low  Year1  Week3           7\n",
       "15     P1            Low  Year1  Week4           8\n",
       "16     P2            Low  Year1  Week4           6\n",
       "17     P3            Low  Year1  Week4          10\n",
       "18     P4            Low  Year1  Week4          10\n",
       "19     P5            Low  Year1  Week4           8\n",
       "20     P1            Low  Year1  Week5          10\n",
       "21     P2            Low  Year1  Week5           9\n",
       "22     P3            Low  Year1  Week5          12\n",
       "23     P4            Low  Year1  Week5          12\n",
       "24     P5            Low  Year1  Week5          10\n",
       "25     P1            Low  Year2  Week1           4\n",
       "26     P2            Low  Year2  Week1           3\n",
       "27     P3            Low  Year2  Week1           3\n",
       "28     P4            Low  Year2  Week1           3\n",
       "29     P5            Low  Year2  Week1           5\n",
       "30     P1            Low  Year2  Week2           4\n",
       "31     P2            Low  Year2  Week2           4\n",
       "32     P3            Low  Year2  Week2           4\n",
       "33     P4            Low  Year2  Week2           4\n",
       "34     P5            Low  Year2  Week2           5\n",
       "35     P1            Low  Year2  Week3           5\n",
       "36     P2            Low  Year2  Week3           6\n",
       "37     P3            Low  Year2  Week3           6\n",
       "38     P4            Low  Year2  Week3           6\n",
       "39     P5            Low  Year2  Week3           6\n",
       "40     P1            Low  Year2  Week4           7\n",
       "41     P2            Low  Year2  Week4           8\n",
       "42     P3            Low  Year2  Week4           7\n",
       "43     P4            Low  Year2  Week4           8\n",
       "44     P5            Low  Year2  Week4           7\n",
       "45     P1            Low  Year2  Week5           9\n",
       "46     P2            Low  Year2  Week5          10\n",
       "47     P3            Low  Year2  Week5           9\n",
       "48     P4            Low  Year2  Week5          10\n",
       "49     P5            Low  Year2  Week5          10"
      ]
     },
     "execution_count": 22,
     "metadata": {},
     "output_type": "execute_result"
    }
   ],
   "source": [
    "import pandas as pd\n",
    "# load data file\n",
    "df=pd.read_csv(\"https://reneshbedre.github.io/assets/posts/anova/plants_leaves_two_within.csv\")\n",
    "df\n"
   ]
  },
  {
   "cell_type": "code",
   "execution_count": 23,
   "id": "16fecf9d",
   "metadata": {
    "ExecuteTime": {
     "end_time": "2023-01-16T16:24:59.236178Z",
     "start_time": "2023-01-16T16:24:58.834871Z"
    },
    "colab": {
     "base_uri": "https://localhost:8080/",
     "height": 279
    },
    "execution": {
     "iopub.execute_input": "2024-01-15T07:23:24.167570Z",
     "iopub.status.busy": "2024-01-15T07:23:24.166855Z",
     "iopub.status.idle": "2024-01-15T07:23:24.561156Z",
     "shell.execute_reply": "2024-01-15T07:23:24.560528Z",
     "shell.execute_reply.started": "2024-01-15T07:23:24.167506Z"
    },
    "id": "WDrhEEZ3hcN5",
    "outputId": "0405f612-3175-4edb-c7ed-dc1c6c033c7f"
   },
   "outputs": [
    {
     "data": {
      "image/png": "[encoded data removed]",
      "text/plain": [
       "<Figure size 640x480 with 1 Axes>"
      ]
     },
     "metadata": {},
     "output_type": "display_data"
    }
   ],
   "source": [
    "# In this dataset, there are two independent variables (time and year) and number of leaves (num_leaves)\n",
    "# is a dependent variable\n",
    "\n",
    "# generate a boxplot to see the data distribution by time points. Using boxplot, we can \n",
    "# boxplot helps detect the differences between different time points and find any outliers\n",
    "import matplotlib.pyplot as plt\n",
    "import seaborn as sns\n",
    "sns.boxplot(x=\"time\", y=\"num_leaves\", hue=\"year\", data=df, palette=\"Set3\")\n",
    "plt.show()"
   ]
  },
  {
   "cell_type": "code",
   "execution_count": 24,
   "id": "a29d2ce7",
   "metadata": {
    "ExecuteTime": {
     "end_time": "2023-01-16T11:09:09.454661Z",
     "start_time": "2023-01-16T11:09:09.449084Z"
    },
    "execution": {
     "iopub.execute_input": "2024-01-15T07:23:26.486536Z",
     "iopub.status.busy": "2024-01-15T07:23:26.485807Z",
     "iopub.status.idle": "2024-01-15T07:23:26.495189Z",
     "shell.execute_reply": "2024-01-15T07:23:26.493020Z",
     "shell.execute_reply.started": "2024-01-15T07:23:26.486470Z"
    },
    "id": "SlGy7X453v9a"
   },
   "outputs": [],
   "source": [
    "## Perform two-way repeated measure ANOVA"
   ]
  },
  {
   "cell_type": "code",
   "execution_count": 25,
   "id": "f310079a",
   "metadata": {
    "ExecuteTime": {
     "end_time": "2023-01-16T16:25:17.472214Z",
     "start_time": "2023-01-16T16:25:17.339453Z"
    },
    "colab": {
     "base_uri": "https://localhost:8080/",
     "height": 142
    },
    "execution": {
     "iopub.execute_input": "2024-01-15T07:23:27.003255Z",
     "iopub.status.busy": "2024-01-15T07:23:27.001252Z",
     "iopub.status.idle": "2024-01-15T07:23:27.225893Z",
     "shell.execute_reply": "2024-01-15T07:23:27.223720Z",
     "shell.execute_reply.started": "2024-01-15T07:23:27.003170Z"
    },
    "id": "jnChze4T3eTq",
    "outputId": "2d4bc215-bd9e-4d6b-aeab-fc42d60ec82d"
   },
   "outputs": [
    {
     "name": "stderr",
     "output_type": "stream",
     "text": [
      "/home/xenakas/.venv/lib/python3.11/site-packages/pingouin/distribution.py:507: FutureWarning: DataFrame.groupby with axis=1 is deprecated. Do `frame.T.groupby(...)` without axis instead.\n",
      "  data.groupby(level=1, axis=1, observed=True, group_keys=False)\n",
      "/home/xenakas/.venv/lib/python3.11/site-packages/pingouin/distribution.py:508: FutureWarning: DataFrameGroupBy.diff with axis=1 is deprecated and will be removed in a future version. Operate on the un-grouped DataFrame instead\n",
      "  .diff(axis=1)\n"
     ]
    },
    {
     "data": {
      "text/html": [
       "<div>\n",
       "<style scoped>\n",
       "    .dataframe tbody tr th:only-of-type {\n",
       "        vertical-align: middle;\n",
       "    }\n",
       "\n",
       "    .dataframe tbody tr th {\n",
       "        vertical-align: top;\n",
       "    }\n",
       "\n",
       "    .dataframe thead th {\n",
       "        text-align: right;\n",
       "    }\n",
       "</style>\n",
       "<table border=\"1\" class=\"dataframe\">\n",
       "  <thead>\n",
       "    <tr style=\"text-align: right;\">\n",
       "      <th></th>\n",
       "      <th>Source</th>\n",
       "      <th>SS</th>\n",
       "      <th>ddof1</th>\n",
       "      <th>ddof2</th>\n",
       "      <th>MS</th>\n",
       "      <th>F</th>\n",
       "      <th>p-unc</th>\n",
       "      <th>p-GG-corr</th>\n",
       "      <th>ng2</th>\n",
       "      <th>eps</th>\n",
       "    </tr>\n",
       "  </thead>\n",
       "  <tbody>\n",
       "    <tr>\n",
       "      <th>0</th>\n",
       "      <td>time</td>\n",
       "      <td>226.88</td>\n",
       "      <td>4</td>\n",
       "      <td>16</td>\n",
       "      <td>56.72</td>\n",
       "      <td>158.657343</td>\n",
       "      <td>1.177428e-12</td>\n",
       "      <td>0.000003</td>\n",
       "      <td>0.836331</td>\n",
       "      <td>0.421229</td>\n",
       "    </tr>\n",
       "    <tr>\n",
       "      <th>1</th>\n",
       "      <td>year</td>\n",
       "      <td>18.00</td>\n",
       "      <td>1</td>\n",
       "      <td>4</td>\n",
       "      <td>18.00</td>\n",
       "      <td>3.600000</td>\n",
       "      <td>1.306351e-01</td>\n",
       "      <td>0.130635</td>\n",
       "      <td>0.288462</td>\n",
       "      <td>1.000000</td>\n",
       "    </tr>\n",
       "    <tr>\n",
       "      <th>2</th>\n",
       "      <td>time * year</td>\n",
       "      <td>0.80</td>\n",
       "      <td>4</td>\n",
       "      <td>16</td>\n",
       "      <td>0.20</td>\n",
       "      <td>1.454545</td>\n",
       "      <td>2.620704e-01</td>\n",
       "      <td>0.291675</td>\n",
       "      <td>0.017699</td>\n",
       "      <td>0.441606</td>\n",
       "    </tr>\n",
       "  </tbody>\n",
       "</table>\n",
       "</div>"
      ],
      "text/plain": [
       "        Source      SS  ddof1  ddof2     MS           F         p-unc  \\\n",
       "0         time  226.88      4     16  56.72  158.657343  1.177428e-12   \n",
       "1         year   18.00      1      4  18.00    3.600000  1.306351e-01   \n",
       "2  time * year    0.80      4     16   0.20    1.454545  2.620704e-01   \n",
       "\n",
       "   p-GG-corr       ng2       eps  \n",
       "0   0.000003  0.836331  0.421229  \n",
       "1   0.130635  0.288462  1.000000  \n",
       "2   0.291675  0.017699  0.441606  "
      ]
     },
     "execution_count": 25,
     "metadata": {},
     "output_type": "execute_result"
    }
   ],
   "source": [
    "# install pingouin as !pip install pingouin\n",
    "import pingouin as pg\n",
    "res = pg.rm_anova(dv='num_leaves', within=['time', 'year'], subject='plants', \n",
    "                  data=df, detailed=True)\n",
    "res"
   ]
  },
  {
   "cell_type": "markdown",
   "id": "a777df73",
   "metadata": {
    "ExecuteTime": {
     "end_time": "2022-01-15T12:28:59.585806Z",
     "start_time": "2022-01-15T12:28:59.583817Z"
    },
    "cell_style": "center"
   },
   "source": [
    "### Mixed"
   ]
  },
  {
   "cell_type": "code",
   "execution_count": 26,
   "id": "a501bbfd",
   "metadata": {
    "ExecuteTime": {
     "end_time": "2023-01-16T16:25:41.631298Z",
     "start_time": "2023-01-16T16:25:41.622669Z"
    },
    "execution": {
     "iopub.execute_input": "2024-01-15T07:23:31.479394Z",
     "iopub.status.busy": "2024-01-15T07:23:31.478463Z",
     "iopub.status.idle": "2024-01-15T07:23:31.495891Z",
     "shell.execute_reply": "2024-01-15T07:23:31.492869Z",
     "shell.execute_reply.started": "2024-01-15T07:23:31.479303Z"
    }
   },
   "outputs": [],
   "source": [
    "import pandas as pd\n",
    "df=pd.read_csv(\"mixedanova.csv\")"
   ]
  },
  {
   "cell_type": "code",
   "execution_count": 27,
   "id": "ad069bc7",
   "metadata": {
    "ExecuteTime": {
     "end_time": "2023-01-16T16:25:44.326353Z",
     "start_time": "2023-01-16T16:25:44.304862Z"
    },
    "execution": {
     "iopub.execute_input": "2024-01-15T07:23:32.029267Z",
     "iopub.status.busy": "2024-01-15T07:23:32.027348Z",
     "iopub.status.idle": "2024-01-15T07:23:32.060895Z",
     "shell.execute_reply": "2024-01-15T07:23:32.057970Z",
     "shell.execute_reply.started": "2024-01-15T07:23:32.029181Z"
    }
   },
   "outputs": [
    {
     "data": {
      "text/html": [
       "<div>\n",
       "<style scoped>\n",
       "    .dataframe tbody tr th:only-of-type {\n",
       "        vertical-align: middle;\n",
       "    }\n",
       "\n",
       "    .dataframe tbody tr th {\n",
       "        vertical-align: top;\n",
       "    }\n",
       "\n",
       "    .dataframe thead th {\n",
       "        text-align: right;\n",
       "    }\n",
       "</style>\n",
       "<table border=\"1\" class=\"dataframe\">\n",
       "  <thead>\n",
       "    <tr style=\"text-align: right;\">\n",
       "      <th></th>\n",
       "      <th>id</th>\n",
       "      <th>genotype</th>\n",
       "      <th>before</th>\n",
       "      <th>after</th>\n",
       "    </tr>\n",
       "  </thead>\n",
       "  <tbody>\n",
       "    <tr>\n",
       "      <th>0</th>\n",
       "      <td>1</td>\n",
       "      <td>A</td>\n",
       "      <td>1.53</td>\n",
       "      <td>4.08</td>\n",
       "    </tr>\n",
       "    <tr>\n",
       "      <th>1</th>\n",
       "      <td>2</td>\n",
       "      <td>A</td>\n",
       "      <td>1.83</td>\n",
       "      <td>4.84</td>\n",
       "    </tr>\n",
       "    <tr>\n",
       "      <th>2</th>\n",
       "      <td>3</td>\n",
       "      <td>A</td>\n",
       "      <td>1.38</td>\n",
       "      <td>4.26</td>\n",
       "    </tr>\n",
       "    <tr>\n",
       "      <th>3</th>\n",
       "      <td>4</td>\n",
       "      <td>A</td>\n",
       "      <td>1.92</td>\n",
       "      <td>4.35</td>\n",
       "    </tr>\n",
       "    <tr>\n",
       "      <th>4</th>\n",
       "      <td>5</td>\n",
       "      <td>A</td>\n",
       "      <td>1.30</td>\n",
       "      <td>4.79</td>\n",
       "    </tr>\n",
       "    <tr>\n",
       "      <th>5</th>\n",
       "      <td>6</td>\n",
       "      <td>B</td>\n",
       "      <td>3.60</td>\n",
       "      <td>5.70</td>\n",
       "    </tr>\n",
       "    <tr>\n",
       "      <th>6</th>\n",
       "      <td>7</td>\n",
       "      <td>B</td>\n",
       "      <td>2.94</td>\n",
       "      <td>5.07</td>\n",
       "    </tr>\n",
       "    <tr>\n",
       "      <th>7</th>\n",
       "      <td>8</td>\n",
       "      <td>B</td>\n",
       "      <td>3.00</td>\n",
       "      <td>6.00</td>\n",
       "    </tr>\n",
       "    <tr>\n",
       "      <th>8</th>\n",
       "      <td>9</td>\n",
       "      <td>B</td>\n",
       "      <td>2.95</td>\n",
       "      <td>5.00</td>\n",
       "    </tr>\n",
       "    <tr>\n",
       "      <th>9</th>\n",
       "      <td>10</td>\n",
       "      <td>B</td>\n",
       "      <td>2.12</td>\n",
       "      <td>3.98</td>\n",
       "    </tr>\n",
       "    <tr>\n",
       "      <th>10</th>\n",
       "      <td>11</td>\n",
       "      <td>C</td>\n",
       "      <td>2.25</td>\n",
       "      <td>3.18</td>\n",
       "    </tr>\n",
       "    <tr>\n",
       "      <th>11</th>\n",
       "      <td>12</td>\n",
       "      <td>C</td>\n",
       "      <td>2.15</td>\n",
       "      <td>3.08</td>\n",
       "    </tr>\n",
       "    <tr>\n",
       "      <th>12</th>\n",
       "      <td>13</td>\n",
       "      <td>C</td>\n",
       "      <td>2.03</td>\n",
       "      <td>3.78</td>\n",
       "    </tr>\n",
       "    <tr>\n",
       "      <th>13</th>\n",
       "      <td>14</td>\n",
       "      <td>C</td>\n",
       "      <td>2.12</td>\n",
       "      <td>2.98</td>\n",
       "    </tr>\n",
       "    <tr>\n",
       "      <th>14</th>\n",
       "      <td>15</td>\n",
       "      <td>C</td>\n",
       "      <td>2.00</td>\n",
       "      <td>2.95</td>\n",
       "    </tr>\n",
       "  </tbody>\n",
       "</table>\n",
       "</div>"
      ],
      "text/plain": [
       "    id genotype  before  after\n",
       "0    1        A    1.53   4.08\n",
       "1    2        A    1.83   4.84\n",
       "2    3        A    1.38   4.26\n",
       "3    4        A    1.92   4.35\n",
       "4    5        A    1.30   4.79\n",
       "5    6        B    3.60   5.70\n",
       "6    7        B    2.94   5.07\n",
       "7    8        B    3.00   6.00\n",
       "8    9        B    2.95   5.00\n",
       "9   10        B    2.12   3.98\n",
       "10  11        C    2.25   3.18\n",
       "11  12        C    2.15   3.08\n",
       "12  13        C    2.03   3.78\n",
       "13  14        C    2.12   2.98\n",
       "14  15        C    2.00   2.95"
      ]
     },
     "execution_count": 27,
     "metadata": {},
     "output_type": "execute_result"
    }
   ],
   "source": [
    "df"
   ]
  },
  {
   "cell_type": "code",
   "execution_count": 28,
   "id": "9f4738d8",
   "metadata": {
    "ExecuteTime": {
     "end_time": "2023-01-16T16:26:29.126363Z",
     "start_time": "2023-01-16T16:26:29.113228Z"
    },
    "execution": {
     "iopub.execute_input": "2024-01-15T07:23:32.592097Z",
     "iopub.status.busy": "2024-01-15T07:23:32.591373Z",
     "iopub.status.idle": "2024-01-15T07:23:32.614718Z",
     "shell.execute_reply": "2024-01-15T07:23:32.612252Z",
     "shell.execute_reply.started": "2024-01-15T07:23:32.592033Z"
    }
   },
   "outputs": [],
   "source": [
    "# reshape the dataframe in long-format dataframe\n",
    "df_melt = pd.melt(df.reset_index(), id_vars=['id', 'genotype'], value_vars=['before', 'after'])"
   ]
  },
  {
   "cell_type": "code",
   "execution_count": 29,
   "id": "1be017f9",
   "metadata": {
    "ExecuteTime": {
     "end_time": "2023-01-16T16:26:33.330102Z",
     "start_time": "2023-01-16T16:26:33.318315Z"
    },
    "execution": {
     "iopub.execute_input": "2024-01-15T07:23:33.250732Z",
     "iopub.status.busy": "2024-01-15T07:23:33.250011Z",
     "iopub.status.idle": "2024-01-15T07:23:33.277848Z",
     "shell.execute_reply": "2024-01-15T07:23:33.275113Z",
     "shell.execute_reply.started": "2024-01-15T07:23:33.250669Z"
    }
   },
   "outputs": [
    {
     "data": {
      "text/html": [
       "<div>\n",
       "<style scoped>\n",
       "    .dataframe tbody tr th:only-of-type {\n",
       "        vertical-align: middle;\n",
       "    }\n",
       "\n",
       "    .dataframe tbody tr th {\n",
       "        vertical-align: top;\n",
       "    }\n",
       "\n",
       "    .dataframe thead th {\n",
       "        text-align: right;\n",
       "    }\n",
       "</style>\n",
       "<table border=\"1\" class=\"dataframe\">\n",
       "  <thead>\n",
       "    <tr style=\"text-align: right;\">\n",
       "      <th></th>\n",
       "      <th>id</th>\n",
       "      <th>genotype</th>\n",
       "      <th>fertilizer</th>\n",
       "      <th>yield</th>\n",
       "    </tr>\n",
       "  </thead>\n",
       "  <tbody>\n",
       "    <tr>\n",
       "      <th>0</th>\n",
       "      <td>1</td>\n",
       "      <td>A</td>\n",
       "      <td>before</td>\n",
       "      <td>1.53</td>\n",
       "    </tr>\n",
       "    <tr>\n",
       "      <th>1</th>\n",
       "      <td>2</td>\n",
       "      <td>A</td>\n",
       "      <td>before</td>\n",
       "      <td>1.83</td>\n",
       "    </tr>\n",
       "  </tbody>\n",
       "</table>\n",
       "</div>"
      ],
      "text/plain": [
       "   id genotype fertilizer  yield\n",
       "0   1        A     before   1.53\n",
       "1   2        A     before   1.83"
      ]
     },
     "execution_count": 29,
     "metadata": {},
     "output_type": "execute_result"
    }
   ],
   "source": [
    "#rename column; read more https://www.reneshbedre.com/blog/rename-column-names-pandas.html\n",
    "df_melt.rename(columns={\"variable\": \"fertilizer\", \"value\": \"yield\"}, inplace=True)\n",
    "df_melt.head(2)"
   ]
  },
  {
   "cell_type": "code",
   "execution_count": 30,
   "id": "e1456bb3",
   "metadata": {
    "ExecuteTime": {
     "end_time": "2023-01-16T16:26:38.242207Z",
     "start_time": "2023-01-16T16:26:38.008077Z"
    },
    "execution": {
     "iopub.execute_input": "2024-01-15T07:23:33.772036Z",
     "iopub.status.busy": "2024-01-15T07:23:33.771152Z",
     "iopub.status.idle": "2024-01-15T07:23:33.879225Z",
     "shell.execute_reply": "2024-01-15T07:23:33.875440Z",
     "shell.execute_reply.started": "2024-01-15T07:23:33.771956Z"
    }
   },
   "outputs": [
    {
     "ename": "ModuleNotFoundError",
     "evalue": "No module named 'dfply'",
     "output_type": "error",
     "traceback": [
      "\u001b[0;31m---------------------------------------------------------------------------\u001b[0m",
      "\u001b[0;31mModuleNotFoundError\u001b[0m                       Traceback (most recent call last)",
      "Cell \u001b[0;32mIn[30], line 1\u001b[0m\n\u001b[0;32m----> 1\u001b[0m \u001b[38;5;28;01mfrom\u001b[39;00m \u001b[38;5;21;01mdfply\u001b[39;00m \u001b[38;5;28;01mimport\u001b[39;00m \u001b[38;5;241m*\u001b[39m\n\u001b[1;32m      2\u001b[0m df_melt \u001b[38;5;241m>>\u001b[39m group_by(X\u001b[38;5;241m.\u001b[39mgenotype, X\u001b[38;5;241m.\u001b[39mfertilizer) \u001b[38;5;241m>>\u001b[39m summarize(n\u001b[38;5;241m=\u001b[39mX[\u001b[38;5;124m'\u001b[39m\u001b[38;5;124myield\u001b[39m\u001b[38;5;124m'\u001b[39m]\u001b[38;5;241m.\u001b[39mcount(), mean\u001b[38;5;241m=\u001b[39mX[\u001b[38;5;124m'\u001b[39m\u001b[38;5;124myield\u001b[39m\u001b[38;5;124m'\u001b[39m]\u001b[38;5;241m.\u001b[39mmean(), std\u001b[38;5;241m=\u001b[39mX[\u001b[38;5;124m'\u001b[39m\u001b[38;5;124myield\u001b[39m\u001b[38;5;124m'\u001b[39m]\u001b[38;5;241m.\u001b[39mstd())\n",
      "\u001b[0;31mModuleNotFoundError\u001b[0m: No module named 'dfply'"
     ]
    }
   ],
   "source": [
    "from dfply import *\n",
    "df_melt >> group_by(X.genotype, X.fertilizer) >> summarize(n=X['yield'].count(), mean=X['yield'].mean(), std=X['yield'].std())"
   ]
  },
  {
   "cell_type": "code",
   "execution_count": 31,
   "id": "34703a64",
   "metadata": {
    "ExecuteTime": {
     "end_time": "2023-01-16T16:26:46.632023Z",
     "start_time": "2023-01-16T16:26:46.278784Z"
    },
    "execution": {
     "iopub.execute_input": "2024-01-15T07:23:34.926524Z",
     "iopub.status.busy": "2024-01-15T07:23:34.925492Z",
     "iopub.status.idle": "2024-01-15T07:23:35.294506Z",
     "shell.execute_reply": "2024-01-15T07:23:35.293976Z",
     "shell.execute_reply.started": "2024-01-15T07:23:34.926441Z"
    }
   },
   "outputs": [
    {
     "data": {
      "image/png": "[encoded data removed]",
      "text/plain": [
       "<Figure size 640x480 with 1 Axes>"
      ]
     },
     "metadata": {},
     "output_type": "display_data"
    }
   ],
   "source": [
    "import matplotlib.pyplot as plt\n",
    "import seaborn as sns\n",
    "ax = sns.boxplot(x='genotype', y='yield', hue='fertilizer', data=df_melt)\n",
    "# ax = sns.swarmplot(x=\"genotype\", y=\"yield\", data=df_melt, color='#7d0013')\n",
    "\n",
    "plt.show()\n"
   ]
  },
  {
   "cell_type": "code",
   "execution_count": 32,
   "id": "8ec45021",
   "metadata": {
    "ExecuteTime": {
     "end_time": "2023-01-16T16:27:45.706821Z",
     "start_time": "2023-01-16T16:27:45.592743Z"
    },
    "execution": {
     "iopub.execute_input": "2024-01-15T07:23:35.802738Z",
     "iopub.status.busy": "2024-01-15T07:23:35.802013Z",
     "iopub.status.idle": "2024-01-15T07:23:35.990637Z",
     "shell.execute_reply": "2024-01-15T07:23:35.988145Z",
     "shell.execute_reply.started": "2024-01-15T07:23:35.802672Z"
    }
   },
   "outputs": [
    {
     "data": {
      "text/html": [
       "<div>\n",
       "<style scoped>\n",
       "    .dataframe tbody tr th:only-of-type {\n",
       "        vertical-align: middle;\n",
       "    }\n",
       "\n",
       "    .dataframe tbody tr th {\n",
       "        vertical-align: top;\n",
       "    }\n",
       "\n",
       "    .dataframe thead th {\n",
       "        text-align: right;\n",
       "    }\n",
       "</style>\n",
       "<table border=\"1\" class=\"dataframe\">\n",
       "  <thead>\n",
       "    <tr style=\"text-align: right;\">\n",
       "      <th></th>\n",
       "      <th>Source</th>\n",
       "      <th>SS</th>\n",
       "      <th>DF1</th>\n",
       "      <th>DF2</th>\n",
       "      <th>MS</th>\n",
       "      <th>F</th>\n",
       "      <th>p-unc</th>\n",
       "      <th>np2</th>\n",
       "      <th>eps</th>\n",
       "    </tr>\n",
       "  </thead>\n",
       "  <tbody>\n",
       "    <tr>\n",
       "      <th>0</th>\n",
       "      <td>genotype</td>\n",
       "      <td>10.242987</td>\n",
       "      <td>2</td>\n",
       "      <td>12</td>\n",
       "      <td>5.121493</td>\n",
       "      <td>16.351889</td>\n",
       "      <td>3.741297e-04</td>\n",
       "      <td>0.731566</td>\n",
       "      <td>NaN</td>\n",
       "    </tr>\n",
       "    <tr>\n",
       "      <th>1</th>\n",
       "      <td>fertilizer</td>\n",
       "      <td>31.868213</td>\n",
       "      <td>1</td>\n",
       "      <td>12</td>\n",
       "      <td>31.868213</td>\n",
       "      <td>373.404574</td>\n",
       "      <td>2.083410e-10</td>\n",
       "      <td>0.968864</td>\n",
       "      <td>1.0</td>\n",
       "    </tr>\n",
       "    <tr>\n",
       "      <th>2</th>\n",
       "      <td>Interaction</td>\n",
       "      <td>4.100347</td>\n",
       "      <td>2</td>\n",
       "      <td>12</td>\n",
       "      <td>2.050173</td>\n",
       "      <td>24.022184</td>\n",
       "      <td>6.371677e-05</td>\n",
       "      <td>0.800148</td>\n",
       "      <td>NaN</td>\n",
       "    </tr>\n",
       "  </tbody>\n",
       "</table>\n",
       "</div>"
      ],
      "text/plain": [
       "        Source         SS  DF1  DF2         MS           F         p-unc  \\\n",
       "0     genotype  10.242987    2   12   5.121493   16.351889  3.741297e-04   \n",
       "1   fertilizer  31.868213    1   12  31.868213  373.404574  2.083410e-10   \n",
       "2  Interaction   4.100347    2   12   2.050173   24.022184  6.371677e-05   \n",
       "\n",
       "        np2  eps  \n",
       "0  0.731566  NaN  \n",
       "1  0.968864  1.0  \n",
       "2  0.800148  NaN  "
      ]
     },
     "execution_count": 32,
     "metadata": {},
     "output_type": "execute_result"
    }
   ],
   "source": [
    "import pingouin as pg\n",
    "pg.mixed_anova(dv='yield', between='genotype', within='fertilizer', subject='id', data=df_melt)"
   ]
  },
  {
   "cell_type": "code",
   "execution_count": 33,
   "id": "f4c7acaf",
   "metadata": {
    "ExecuteTime": {
     "end_time": "2023-01-16T16:28:16.724776Z",
     "start_time": "2023-01-16T16:28:16.468593Z"
    },
    "execution": {
     "iopub.execute_input": "2024-01-15T07:23:36.609406Z",
     "iopub.status.busy": "2024-01-15T07:23:36.608663Z",
     "iopub.status.idle": "2024-01-15T07:23:36.955866Z",
     "shell.execute_reply": "2024-01-15T07:23:36.955235Z",
     "shell.execute_reply.started": "2024-01-15T07:23:36.609343Z"
    }
   },
   "outputs": [
    {
     "name": "stderr",
     "output_type": "stream",
     "text": [
      "/home/xenakas/.venv/lib/python3.11/site-packages/statsmodels/graphics/factorplots.py:113: FutureWarning: The provided callable <function mean at 0x7f21e41c2a20> is currently using DataFrameGroupBy.mean. In a future version of pandas, the provided callable will be used directly. To keep current behavior pass the string \"mean\" instead.\n",
      "  plot_data = data.groupby(['trace', 'x']).aggregate(func).reset_index()\n"
     ]
    },
    {
     "data": {
      "image/png": "[encoded data removed]",
      "text/plain": [
       "<Figure size 640x480 with 1 Axes>"
      ]
     },
     "metadata": {},
     "output_type": "display_data"
    }
   ],
   "source": [
    "from statsmodels.graphics.factorplots import interaction_plot\n",
    "import matplotlib.pyplot as plt\n",
    "fig = interaction_plot(x=df_melt['genotype'], trace=df_melt['fertilizer'], response=df_melt['yield'], \n",
    "    colors=['#4c061d','#d17a22'])\n",
    "plt.show()\n"
   ]
  },
  {
   "cell_type": "code",
   "execution_count": 34,
   "id": "080ea897",
   "metadata": {
    "ExecuteTime": {
     "end_time": "2023-01-16T16:29:07.401729Z",
     "start_time": "2023-01-16T16:29:07.379276Z"
    },
    "execution": {
     "iopub.execute_input": "2024-01-15T07:23:38.619970Z",
     "iopub.status.busy": "2024-01-15T07:23:38.619262Z",
     "iopub.status.idle": "2024-01-15T07:23:38.678754Z",
     "shell.execute_reply": "2024-01-15T07:23:38.676574Z",
     "shell.execute_reply.started": "2024-01-15T07:23:38.619907Z"
    }
   },
   "outputs": [
    {
     "data": {
      "text/plain": [
       "(True, nan, nan, 1, 1.0)"
      ]
     },
     "execution_count": 34,
     "metadata": {},
     "output_type": "execute_result"
    }
   ],
   "source": [
    "import pingouin as pg\n",
    "pg.sphericity(data=df_melt, dv='yield', subject='id', within='fertilizer')"
   ]
  },
  {
   "cell_type": "code",
   "execution_count": 35,
   "id": "f8d6fd83",
   "metadata": {
    "ExecuteTime": {
     "end_time": "2023-01-16T16:29:40.714558Z",
     "start_time": "2023-01-16T16:29:40.678194Z"
    },
    "execution": {
     "iopub.execute_input": "2024-01-15T07:23:39.064072Z",
     "iopub.status.busy": "2024-01-15T07:23:39.063354Z",
     "iopub.status.idle": "2024-01-15T07:23:39.110977Z",
     "shell.execute_reply": "2024-01-15T07:23:39.109913Z",
     "shell.execute_reply.started": "2024-01-15T07:23:39.064006Z"
    }
   },
   "outputs": [
    {
     "data": {
      "text/html": [
       "<div>\n",
       "<style scoped>\n",
       "    .dataframe tbody tr th:only-of-type {\n",
       "        vertical-align: middle;\n",
       "    }\n",
       "\n",
       "    .dataframe tbody tr th {\n",
       "        vertical-align: top;\n",
       "    }\n",
       "\n",
       "    .dataframe thead th {\n",
       "        text-align: right;\n",
       "    }\n",
       "</style>\n",
       "<table border=\"1\" class=\"dataframe\">\n",
       "  <thead>\n",
       "    <tr style=\"text-align: right;\">\n",
       "      <th></th>\n",
       "      <th>W</th>\n",
       "      <th>pval</th>\n",
       "      <th>normal</th>\n",
       "    </tr>\n",
       "    <tr>\n",
       "      <th>factor_comb</th>\n",
       "      <th></th>\n",
       "      <th></th>\n",
       "      <th></th>\n",
       "    </tr>\n",
       "  </thead>\n",
       "  <tbody>\n",
       "    <tr>\n",
       "      <th>A-before</th>\n",
       "      <td>0.908932</td>\n",
       "      <td>0.461201</td>\n",
       "      <td>True</td>\n",
       "    </tr>\n",
       "    <tr>\n",
       "      <th>B-before</th>\n",
       "      <td>0.897502</td>\n",
       "      <td>0.396233</td>\n",
       "      <td>True</td>\n",
       "    </tr>\n",
       "    <tr>\n",
       "      <th>C-before</th>\n",
       "      <td>0.956608</td>\n",
       "      <td>0.784187</td>\n",
       "      <td>True</td>\n",
       "    </tr>\n",
       "    <tr>\n",
       "      <th>A-after</th>\n",
       "      <td>0.891106</td>\n",
       "      <td>0.362694</td>\n",
       "      <td>True</td>\n",
       "    </tr>\n",
       "    <tr>\n",
       "      <th>B-after</th>\n",
       "      <td>0.943001</td>\n",
       "      <td>0.687225</td>\n",
       "      <td>True</td>\n",
       "    </tr>\n",
       "    <tr>\n",
       "      <th>C-after</th>\n",
       "      <td>0.779155</td>\n",
       "      <td>0.054206</td>\n",
       "      <td>True</td>\n",
       "    </tr>\n",
       "  </tbody>\n",
       "</table>\n",
       "</div>"
      ],
      "text/plain": [
       "                    W      pval  normal\n",
       "factor_comb                            \n",
       "A-before     0.908932  0.461201    True\n",
       "B-before     0.897502  0.396233    True\n",
       "C-before     0.956608  0.784187    True\n",
       "A-after      0.891106  0.362694    True\n",
       "B-after      0.943001  0.687225    True\n",
       "C-after      0.779155  0.054206    True"
      ]
     },
     "execution_count": 35,
     "metadata": {},
     "output_type": "execute_result"
    }
   ],
   "source": [
    "df_melt['factor_comb']=df_melt[\"genotype\"] + '-'+df_melt[\"fertilizer\"]\n",
    "pg.normality(df_melt, dv='yield', group='factor_comb')"
   ]
  },
  {
   "cell_type": "code",
   "execution_count": 36,
   "id": "2c021cef",
   "metadata": {
    "ExecuteTime": {
     "end_time": "2023-01-16T16:29:58.141293Z",
     "start_time": "2023-01-16T16:29:58.120902Z"
    },
    "execution": {
     "iopub.execute_input": "2024-01-15T07:23:39.680051Z",
     "iopub.status.busy": "2024-01-15T07:23:39.679331Z",
     "iopub.status.idle": "2024-01-15T07:23:39.714305Z",
     "shell.execute_reply": "2024-01-15T07:23:39.711376Z",
     "shell.execute_reply.started": "2024-01-15T07:23:39.679985Z"
    }
   },
   "outputs": [],
   "source": [
    "df_melt_before = pd.melt(df.reset_index(), id_vars=['id', 'genotype'], value_vars=['before'])\n",
    "df_melt_after = pd.melt(df.reset_index(), id_vars=['id', 'genotype'], value_vars=['after'])"
   ]
  },
  {
   "cell_type": "code",
   "execution_count": 37,
   "id": "b00c371e",
   "metadata": {
    "ExecuteTime": {
     "end_time": "2023-01-16T16:30:01.800451Z",
     "start_time": "2023-01-16T16:30:01.781149Z"
    },
    "execution": {
     "iopub.execute_input": "2024-01-15T07:23:41.128462Z",
     "iopub.status.busy": "2024-01-15T07:23:41.127620Z",
     "iopub.status.idle": "2024-01-15T07:23:41.158704Z",
     "shell.execute_reply": "2024-01-15T07:23:41.156166Z",
     "shell.execute_reply.started": "2024-01-15T07:23:41.128395Z"
    }
   },
   "outputs": [
    {
     "data": {
      "text/html": [
       "<div>\n",
       "<style scoped>\n",
       "    .dataframe tbody tr th:only-of-type {\n",
       "        vertical-align: middle;\n",
       "    }\n",
       "\n",
       "    .dataframe tbody tr th {\n",
       "        vertical-align: top;\n",
       "    }\n",
       "\n",
       "    .dataframe thead th {\n",
       "        text-align: right;\n",
       "    }\n",
       "</style>\n",
       "<table border=\"1\" class=\"dataframe\">\n",
       "  <thead>\n",
       "    <tr style=\"text-align: right;\">\n",
       "      <th></th>\n",
       "      <th>W</th>\n",
       "      <th>pval</th>\n",
       "      <th>equal_var</th>\n",
       "    </tr>\n",
       "  </thead>\n",
       "  <tbody>\n",
       "    <tr>\n",
       "      <th>levene</th>\n",
       "      <td>1.122517</td>\n",
       "      <td>0.35736</td>\n",
       "      <td>True</td>\n",
       "    </tr>\n",
       "  </tbody>\n",
       "</table>\n",
       "</div>"
      ],
      "text/plain": [
       "               W     pval  equal_var\n",
       "levene  1.122517  0.35736       True"
      ]
     },
     "execution_count": 37,
     "metadata": {},
     "output_type": "execute_result"
    }
   ],
   "source": [
    "pg.homoscedasticity(df_melt_before, dv='value', group='genotype')"
   ]
  },
  {
   "cell_type": "code",
   "execution_count": 38,
   "id": "8ca1b7f0",
   "metadata": {
    "ExecuteTime": {
     "end_time": "2023-01-16T16:30:04.119375Z",
     "start_time": "2023-01-16T16:30:04.102609Z"
    },
    "execution": {
     "iopub.execute_input": "2024-01-15T07:23:41.442916Z",
     "iopub.status.busy": "2024-01-15T07:23:41.442135Z",
     "iopub.status.idle": "2024-01-15T07:23:41.474396Z",
     "shell.execute_reply": "2024-01-15T07:23:41.471797Z",
     "shell.execute_reply.started": "2024-01-15T07:23:41.442810Z"
    }
   },
   "outputs": [
    {
     "data": {
      "text/html": [
       "<div>\n",
       "<style scoped>\n",
       "    .dataframe tbody tr th:only-of-type {\n",
       "        vertical-align: middle;\n",
       "    }\n",
       "\n",
       "    .dataframe tbody tr th {\n",
       "        vertical-align: top;\n",
       "    }\n",
       "\n",
       "    .dataframe thead th {\n",
       "        text-align: right;\n",
       "    }\n",
       "</style>\n",
       "<table border=\"1\" class=\"dataframe\">\n",
       "  <thead>\n",
       "    <tr style=\"text-align: right;\">\n",
       "      <th></th>\n",
       "      <th>W</th>\n",
       "      <th>pval</th>\n",
       "      <th>equal_var</th>\n",
       "    </tr>\n",
       "  </thead>\n",
       "  <tbody>\n",
       "    <tr>\n",
       "      <th>levene</th>\n",
       "      <td>1.35042</td>\n",
       "      <td>0.295825</td>\n",
       "      <td>True</td>\n",
       "    </tr>\n",
       "  </tbody>\n",
       "</table>\n",
       "</div>"
      ],
      "text/plain": [
       "              W      pval  equal_var\n",
       "levene  1.35042  0.295825       True"
      ]
     },
     "execution_count": 38,
     "metadata": {},
     "output_type": "execute_result"
    }
   ],
   "source": [
    "pg.homoscedasticity(df_melt_after, dv='value', group='genotype')"
   ]
  },
  {
   "cell_type": "code",
   "execution_count": 39,
   "id": "5d49d165",
   "metadata": {
    "ExecuteTime": {
     "end_time": "2023-01-16T11:09:18.268514Z",
     "start_time": "2023-01-16T11:09:18.263856Z"
    },
    "execution": {
     "iopub.execute_input": "2024-01-15T07:23:41.833147Z",
     "iopub.status.busy": "2024-01-15T07:23:41.832034Z",
     "iopub.status.idle": "2024-01-15T07:23:41.842241Z",
     "shell.execute_reply": "2024-01-15T07:23:41.839796Z",
     "shell.execute_reply.started": "2024-01-15T07:23:41.833067Z"
    }
   },
   "outputs": [],
   "source": [
    "# df"
   ]
  },
  {
   "cell_type": "code",
   "execution_count": 40,
   "id": "54282bae",
   "metadata": {
    "ExecuteTime": {
     "end_time": "2023-01-16T11:09:18.767832Z",
     "start_time": "2023-01-16T11:09:18.762492Z"
    },
    "execution": {
     "iopub.execute_input": "2024-01-15T07:23:42.227198Z",
     "iopub.status.busy": "2024-01-15T07:23:42.224955Z",
     "iopub.status.idle": "2024-01-15T07:23:42.235532Z",
     "shell.execute_reply": "2024-01-15T07:23:42.232974Z",
     "shell.execute_reply.started": "2024-01-15T07:23:42.227079Z"
    }
   },
   "outputs": [],
   "source": [
    "# pg.box_m()"
   ]
  },
  {
   "cell_type": "markdown",
   "id": "728e9d2e",
   "metadata": {},
   "source": [
    "### ANCOVA"
   ]
  },
  {
   "cell_type": "code",
   "execution_count": 41,
   "id": "f6053ea5",
   "metadata": {
    "ExecuteTime": {
     "end_time": "2023-01-16T16:30:30.744089Z",
     "start_time": "2023-01-16T16:30:30.720954Z"
    },
    "execution": {
     "iopub.execute_input": "2024-01-15T07:23:44.365667Z",
     "iopub.status.busy": "2024-01-15T07:23:44.364530Z",
     "iopub.status.idle": "2024-01-15T07:23:44.399407Z",
     "shell.execute_reply": "2024-01-15T07:23:44.396449Z",
     "shell.execute_reply.started": "2024-01-15T07:23:44.365563Z"
    }
   },
   "outputs": [
    {
     "data": {
      "text/html": [
       "<div>\n",
       "<style scoped>\n",
       "    .dataframe tbody tr th:only-of-type {\n",
       "        vertical-align: middle;\n",
       "    }\n",
       "\n",
       "    .dataframe tbody tr th {\n",
       "        vertical-align: top;\n",
       "    }\n",
       "\n",
       "    .dataframe thead th {\n",
       "        text-align: right;\n",
       "    }\n",
       "</style>\n",
       "<table border=\"1\" class=\"dataframe\">\n",
       "  <thead>\n",
       "    <tr style=\"text-align: right;\">\n",
       "      <th></th>\n",
       "      <th>genotype</th>\n",
       "      <th>height</th>\n",
       "      <th>yield</th>\n",
       "    </tr>\n",
       "  </thead>\n",
       "  <tbody>\n",
       "    <tr>\n",
       "      <th>0</th>\n",
       "      <td>A</td>\n",
       "      <td>10.0</td>\n",
       "      <td>20.0</td>\n",
       "    </tr>\n",
       "    <tr>\n",
       "      <th>1</th>\n",
       "      <td>A</td>\n",
       "      <td>11.5</td>\n",
       "      <td>22.0</td>\n",
       "    </tr>\n",
       "    <tr>\n",
       "      <th>2</th>\n",
       "      <td>A</td>\n",
       "      <td>12.0</td>\n",
       "      <td>24.0</td>\n",
       "    </tr>\n",
       "    <tr>\n",
       "      <th>3</th>\n",
       "      <td>A</td>\n",
       "      <td>12.9</td>\n",
       "      <td>24.0</td>\n",
       "    </tr>\n",
       "    <tr>\n",
       "      <th>4</th>\n",
       "      <td>A</td>\n",
       "      <td>13.4</td>\n",
       "      <td>26.0</td>\n",
       "    </tr>\n",
       "    <tr>\n",
       "      <th>5</th>\n",
       "      <td>A</td>\n",
       "      <td>14.2</td>\n",
       "      <td>27.0</td>\n",
       "    </tr>\n",
       "    <tr>\n",
       "      <th>6</th>\n",
       "      <td>A</td>\n",
       "      <td>15.0</td>\n",
       "      <td>27.0</td>\n",
       "    </tr>\n",
       "    <tr>\n",
       "      <th>7</th>\n",
       "      <td>A</td>\n",
       "      <td>15.9</td>\n",
       "      <td>27.2</td>\n",
       "    </tr>\n",
       "    <tr>\n",
       "      <th>8</th>\n",
       "      <td>A</td>\n",
       "      <td>16.6</td>\n",
       "      <td>27.0</td>\n",
       "    </tr>\n",
       "    <tr>\n",
       "      <th>9</th>\n",
       "      <td>A</td>\n",
       "      <td>16.4</td>\n",
       "      <td>27.5</td>\n",
       "    </tr>\n",
       "  </tbody>\n",
       "</table>\n",
       "</div>"
      ],
      "text/plain": [
       "  genotype  height  yield\n",
       "0        A    10.0   20.0\n",
       "1        A    11.5   22.0\n",
       "2        A    12.0   24.0\n",
       "3        A    12.9   24.0\n",
       "4        A    13.4   26.0\n",
       "5        A    14.2   27.0\n",
       "6        A    15.0   27.0\n",
       "7        A    15.9   27.2\n",
       "8        A    16.6   27.0\n",
       "9        A    16.4   27.5"
      ]
     },
     "execution_count": 41,
     "metadata": {},
     "output_type": "execute_result"
    }
   ],
   "source": [
    "import pandas as pd\n",
    "df=pd.read_csv(\"ancova_data.csv\")\n",
    "df.head(10)"
   ]
  },
  {
   "cell_type": "code",
   "execution_count": 42,
   "id": "771033f9",
   "metadata": {
    "ExecuteTime": {
     "end_time": "2023-01-16T16:30:57.257100Z",
     "start_time": "2023-01-16T16:30:56.410373Z"
    },
    "execution": {
     "iopub.execute_input": "2024-01-15T07:23:48.527635Z",
     "iopub.status.busy": "2024-01-15T07:23:48.526867Z",
     "iopub.status.idle": "2024-01-15T07:23:49.139245Z",
     "shell.execute_reply": "2024-01-15T07:23:49.138540Z",
     "shell.execute_reply.started": "2024-01-15T07:23:48.527550Z"
    }
   },
   "outputs": [
    {
     "data": {
      "image/png": "[encoded data removed]",
      "text/plain": [
       "<Figure size 640x480 with 3 Axes>"
      ]
     },
     "metadata": {},
     "output_type": "display_data"
    }
   ],
   "source": [
    "import seaborn as sns\n",
    "import matplotlib.pyplot as plt\n",
    "fig, axs = plt.subplots(ncols=3)\n",
    "sns.scatterplot(data=df, x=\"height\", y=\"yield\", hue=df.genotype.tolist(), ax=axs[0])\n",
    "sns.boxplot(data=df, x=\"genotype\", y=\"yield\", hue=df.genotype.tolist(), ax=axs[1])\n",
    "sns.boxplot(data=df, x=\"genotype\", y=\"height\", hue=df.genotype.tolist(), ax=axs[2])\n",
    "plt.show()"
   ]
  },
  {
   "cell_type": "code",
   "execution_count": 43,
   "id": "16122e4a",
   "metadata": {
    "ExecuteTime": {
     "end_time": "2023-01-16T16:31:55.286742Z",
     "start_time": "2023-01-16T16:31:55.237765Z"
    },
    "execution": {
     "iopub.execute_input": "2024-01-15T07:23:49.243785Z",
     "iopub.status.busy": "2024-01-15T07:23:49.242704Z",
     "iopub.status.idle": "2024-01-15T07:23:49.323668Z",
     "shell.execute_reply": "2024-01-15T07:23:49.321073Z",
     "shell.execute_reply.started": "2024-01-15T07:23:49.243728Z"
    }
   },
   "outputs": [
    {
     "data": {
      "text/html": [
       "<div>\n",
       "<style scoped>\n",
       "    .dataframe tbody tr th:only-of-type {\n",
       "        vertical-align: middle;\n",
       "    }\n",
       "\n",
       "    .dataframe tbody tr th {\n",
       "        vertical-align: top;\n",
       "    }\n",
       "\n",
       "    .dataframe thead th {\n",
       "        text-align: right;\n",
       "    }\n",
       "</style>\n",
       "<table border=\"1\" class=\"dataframe\">\n",
       "  <thead>\n",
       "    <tr style=\"text-align: right;\">\n",
       "      <th></th>\n",
       "      <th>Source</th>\n",
       "      <th>SS</th>\n",
       "      <th>DF</th>\n",
       "      <th>F</th>\n",
       "      <th>p-unc</th>\n",
       "      <th>np2</th>\n",
       "    </tr>\n",
       "  </thead>\n",
       "  <tbody>\n",
       "    <tr>\n",
       "      <th>0</th>\n",
       "      <td>genotype</td>\n",
       "      <td>193.232458</td>\n",
       "      <td>2</td>\n",
       "      <td>141.352709</td>\n",
       "      <td>1.072947e-14</td>\n",
       "      <td>0.915777</td>\n",
       "    </tr>\n",
       "    <tr>\n",
       "      <th>1</th>\n",
       "      <td>height</td>\n",
       "      <td>132.695696</td>\n",
       "      <td>1</td>\n",
       "      <td>194.138152</td>\n",
       "      <td>1.429323e-13</td>\n",
       "      <td>0.881892</td>\n",
       "    </tr>\n",
       "    <tr>\n",
       "      <th>2</th>\n",
       "      <td>Residual</td>\n",
       "      <td>17.771304</td>\n",
       "      <td>26</td>\n",
       "      <td>NaN</td>\n",
       "      <td>NaN</td>\n",
       "      <td>NaN</td>\n",
       "    </tr>\n",
       "  </tbody>\n",
       "</table>\n",
       "</div>"
      ],
      "text/plain": [
       "     Source          SS  DF           F         p-unc       np2\n",
       "0  genotype  193.232458   2  141.352709  1.072947e-14  0.915777\n",
       "1    height  132.695696   1  194.138152  1.429323e-13  0.881892\n",
       "2  Residual   17.771304  26         NaN           NaN       NaN"
      ]
     },
     "execution_count": 43,
     "metadata": {},
     "output_type": "execute_result"
    }
   ],
   "source": [
    "from pingouin import ancova\n",
    "ancova(data=df, dv='yield', covar='height', between='genotype')\n",
    "# output"
   ]
  },
  {
   "cell_type": "code",
   "execution_count": null,
   "id": "864af99a",
   "metadata": {},
   "outputs": [],
   "source": []
  },
  {
   "cell_type": "code",
   "execution_count": null,
   "id": "da8b27d3",
   "metadata": {},
   "outputs": [],
   "source": []
  },
  {
   "cell_type": "code",
   "execution_count": null,
   "id": "1d6d6868",
   "metadata": {},
   "outputs": [],
   "source": []
  },
  {
   "cell_type": "code",
   "execution_count": null,
   "id": "3ce7f255",
   "metadata": {},
   "outputs": [],
   "source": []
  },
  {
   "cell_type": "code",
   "execution_count": null,
   "id": "bd1b9a67",
   "metadata": {},
   "outputs": [],
   "source": []
  },
  {
   "cell_type": "code",
   "execution_count": null,
   "id": "201e4b79",
   "metadata": {},
   "outputs": [],
   "source": []
  }
 ],
 "metadata": {
  "hide_input": false,
  "kernelspec": {
   "display_name": "venv",
   "language": "python",
   "name": "venv"
  },
  "language_info": {
   "codemirror_mode": {
    "name": "ipython",
    "version": 3
   },
   "file_extension": ".py",
   "mimetype": "text/x-python",
   "name": "python",
   "nbconvert_exporter": "python",
   "pygments_lexer": "ipython3",
   "version": "3.11.4"
  },
  "latex_envs": {
   "LaTeX_envs_menu_present": true,
   "autoclose": true,
   "autocomplete": true,
   "bibliofile": "biblio.bib",
   "cite_by": "apalike",
   "current_citInitial": 1,
   "eqLabelWithNumbers": true,
   "eqNumInitial": 1,
   "hotkeys": {
    "equation": "Ctrl-E",
    "itemize": "Ctrl-I"
   },
   "labels_anchors": false,
   "latex_user_defs": false,
   "report_style_numbering": false,
   "user_envs_cfg": false
  },
  "toc": {
   "base_numbering": 1,
   "nav_menu": {},
   "number_sections": true,
   "sideBar": true,
   "skip_h1_title": false,
   "title_cell": "Table of Contents",
   "title_sidebar": "Contents",
   "toc_cell": false,
   "toc_position": {},
   "toc_section_display": true,
   "toc_window_display": false
  },
  "varInspector": {
   "cols": {
    "lenName": 16,
    "lenType": 16,
    "lenVar": 40
   },
   "kernels_config": {
    "python": {
     "delete_cmd_postfix": "",
     "delete_cmd_prefix": "del ",
     "library": "var_list.py",
     "varRefreshCmd": "print(var_dic_list())"
    },
    "r": {
     "delete_cmd_postfix": ") ",
     "delete_cmd_prefix": "rm(",
     "library": "var_list.r",
     "varRefreshCmd": "cat(var_dic_list()) "
    }
   },
   "types_to_exclude": [
    "module",
    "function",
    "builtin_function_or_method",
    "instance",
    "_Feature"
   ],
   "window_display": false
  }
 },
 "nbformat": 4,
 "nbformat_minor": 5
}
