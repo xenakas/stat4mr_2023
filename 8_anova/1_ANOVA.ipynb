{
 "cells": [
  {
   "cell_type": "code",
   "execution_count": 1,
   "id": "5f0c6139",
   "metadata": {
    "ExecuteTime": {
     "end_time": "2022-12-12T12:33:41.985821Z",
     "start_time": "2022-12-12T12:33:41.465549Z"
    },
    "execution": {
     "iopub.execute_input": "2024-01-15T08:59:42.199813Z",
     "iopub.status.busy": "2024-01-15T08:59:42.196200Z",
     "iopub.status.idle": "2024-01-15T08:59:43.193034Z",
     "shell.execute_reply": "2024-01-15T08:59:43.190463Z",
     "shell.execute_reply.started": "2024-01-15T08:59:42.199628Z"
    }
   },
   "outputs": [],
   "source": [
    "import pandas as pd\n",
    "# load data file\n",
    "df = pd.read_csv(\"https://reneshbedre.github.io/assets/posts/anova/onewayanova.txt\", sep=\"\\t\")\n",
    "# reshape the d dataframe suitable for statsmodels package \n",
    "df_melt = pd.melt(df.reset_index(), id_vars=['index'], value_vars=['A', 'B', 'C', 'D'])\n",
    "# replace column names\n",
    "df_melt.columns = ['index', 'treatments', 'value']"
   ]
  },
  {
   "cell_type": "code",
   "execution_count": 2,
   "id": "0fa0027f",
   "metadata": {
    "ExecuteTime": {
     "end_time": "2022-12-12T12:34:15.178174Z",
     "start_time": "2022-12-12T12:34:14.210367Z"
    },
    "execution": {
     "iopub.execute_input": "2024-01-15T08:59:44.569145Z",
     "iopub.status.busy": "2024-01-15T08:59:44.567558Z",
     "iopub.status.idle": "2024-01-15T08:59:45.892740Z",
     "shell.execute_reply": "2024-01-15T08:59:45.891901Z",
     "shell.execute_reply.started": "2024-01-15T08:59:44.569067Z"
    }
   },
   "outputs": [
    {
     "data": {
      "image/png": "[encoded data removed]",
      "text/plain": [
       "<Figure size 640x480 with 1 Axes>"
      ]
     },
     "metadata": {},
     "output_type": "display_data"
    }
   ],
   "source": [
    "# generate a boxplot to see the data distribution by treatments. Using boxplot, we can \n",
    "# easily detect the differences between different treatments\n",
    "import matplotlib.pyplot as plt\n",
    "import seaborn as sns\n",
    "ax = sns.boxplot(x='treatments', y='value', data=df_melt, color='#99c2a2')\n",
    "ax = sns.swarmplot(x=\"treatments\", y=\"value\", data=df_melt, color='#7d0013')\n",
    "plt.show()"
   ]
  },
  {
   "cell_type": "code",
   "execution_count": 3,
   "id": "d0cb0f2b",
   "metadata": {
    "ExecuteTime": {
     "end_time": "2022-12-12T12:34:43.311980Z",
     "start_time": "2022-12-12T12:34:43.305484Z"
    },
    "execution": {
     "iopub.execute_input": "2024-01-15T09:00:02.816502Z",
     "iopub.status.busy": "2024-01-15T09:00:02.814287Z",
     "iopub.status.idle": "2024-01-15T09:00:02.831677Z",
     "shell.execute_reply": "2024-01-15T09:00:02.829026Z",
     "shell.execute_reply.started": "2024-01-15T09:00:02.816422Z"
    }
   },
   "outputs": [
    {
     "name": "stdout",
     "output_type": "stream",
     "text": [
      "17.492810457516338 2.639241146210922e-05\n"
     ]
    }
   ],
   "source": [
    "import scipy.stats as stats\n",
    "# stats f_oneway functions takes the groups as input and returns ANOVA F and p value\n",
    "fvalue, pvalue = stats.f_oneway(df['A'], df['B'], df['C'], df['D'])\n",
    "print(fvalue, pvalue)"
   ]
  },
  {
   "cell_type": "code",
   "execution_count": 4,
   "id": "f99f97b5",
   "metadata": {
    "ExecuteTime": {
     "end_time": "2022-12-12T12:35:13.062835Z",
     "start_time": "2022-12-12T12:35:12.881168Z"
    },
    "execution": {
     "iopub.execute_input": "2024-01-15T09:00:29.987216Z",
     "iopub.status.busy": "2024-01-15T09:00:29.985399Z",
     "iopub.status.idle": "2024-01-15T09:00:30.417783Z",
     "shell.execute_reply": "2024-01-15T09:00:30.417176Z",
     "shell.execute_reply.started": "2024-01-15T09:00:29.987125Z"
    }
   },
   "outputs": [
    {
     "data": {
      "text/html": [
       "<div>\n",
       "<style scoped>\n",
       "    .dataframe tbody tr th:only-of-type {\n",
       "        vertical-align: middle;\n",
       "    }\n",
       "\n",
       "    .dataframe tbody tr th {\n",
       "        vertical-align: top;\n",
       "    }\n",
       "\n",
       "    .dataframe thead th {\n",
       "        text-align: right;\n",
       "    }\n",
       "</style>\n",
       "<table border=\"1\" class=\"dataframe\">\n",
       "  <thead>\n",
       "    <tr style=\"text-align: right;\">\n",
       "      <th></th>\n",
       "      <th>sum_sq</th>\n",
       "      <th>df</th>\n",
       "      <th>F</th>\n",
       "      <th>PR(&gt;F)</th>\n",
       "    </tr>\n",
       "  </thead>\n",
       "  <tbody>\n",
       "    <tr>\n",
       "      <th>C(treatments)</th>\n",
       "      <td>3010.95</td>\n",
       "      <td>3.0</td>\n",
       "      <td>17.49281</td>\n",
       "      <td>0.000026</td>\n",
       "    </tr>\n",
       "    <tr>\n",
       "      <th>Residual</th>\n",
       "      <td>918.00</td>\n",
       "      <td>16.0</td>\n",
       "      <td>NaN</td>\n",
       "      <td>NaN</td>\n",
       "    </tr>\n",
       "  </tbody>\n",
       "</table>\n",
       "</div>"
      ],
      "text/plain": [
       "                sum_sq    df         F    PR(>F)\n",
       "C(treatments)  3010.95   3.0  17.49281  0.000026\n",
       "Residual        918.00  16.0       NaN       NaN"
      ]
     },
     "execution_count": 4,
     "metadata": {},
     "output_type": "execute_result"
    }
   ],
   "source": [
    "# get ANOVA table as R like output\n",
    "import statsmodels.api as sm\n",
    "from statsmodels.formula.api import ols\n",
    "\n",
    "# Ordinary Least Squares (OLS) model\n",
    "model = ols('value ~ C(treatments)', data=df_melt).fit()\n",
    "anova_table = sm.stats.anova_lm(model, typ=2)\n",
    "anova_table"
   ]
  },
  {
   "cell_type": "code",
   "execution_count": 5,
   "id": "2116f71e",
   "metadata": {
    "ExecuteTime": {
     "end_time": "2022-12-12T12:35:45.168997Z",
     "start_time": "2022-12-12T12:35:45.113785Z"
    },
    "execution": {
     "iopub.execute_input": "2024-01-15T09:01:17.294884Z",
     "iopub.status.busy": "2024-01-15T09:01:17.293433Z",
     "iopub.status.idle": "2024-01-15T09:01:17.588885Z",
     "shell.execute_reply": "2024-01-15T09:01:17.588292Z",
     "shell.execute_reply.started": "2024-01-15T09:01:17.294808Z"
    }
   },
   "outputs": [
    {
     "data": {
      "text/html": [
       "<div>\n",
       "<style scoped>\n",
       "    .dataframe tbody tr th:only-of-type {\n",
       "        vertical-align: middle;\n",
       "    }\n",
       "\n",
       "    .dataframe tbody tr th {\n",
       "        vertical-align: top;\n",
       "    }\n",
       "\n",
       "    .dataframe thead th {\n",
       "        text-align: right;\n",
       "    }\n",
       "</style>\n",
       "<table border=\"1\" class=\"dataframe\">\n",
       "  <thead>\n",
       "    <tr style=\"text-align: right;\">\n",
       "      <th></th>\n",
       "      <th>df</th>\n",
       "      <th>sum_sq</th>\n",
       "      <th>mean_sq</th>\n",
       "      <th>F</th>\n",
       "      <th>PR(&gt;F)</th>\n",
       "    </tr>\n",
       "  </thead>\n",
       "  <tbody>\n",
       "    <tr>\n",
       "      <th>C(treatments)</th>\n",
       "      <td>3.0</td>\n",
       "      <td>3010.95</td>\n",
       "      <td>1003.650</td>\n",
       "      <td>17.49281</td>\n",
       "      <td>0.000026</td>\n",
       "    </tr>\n",
       "    <tr>\n",
       "      <th>Residual</th>\n",
       "      <td>16.0</td>\n",
       "      <td>918.00</td>\n",
       "      <td>57.375</td>\n",
       "      <td>NaN</td>\n",
       "      <td>NaN</td>\n",
       "    </tr>\n",
       "  </tbody>\n",
       "</table>\n",
       "</div>"
      ],
      "text/plain": [
       "                 df   sum_sq   mean_sq         F    PR(>F)\n",
       "C(treatments)   3.0  3010.95  1003.650  17.49281  0.000026\n",
       "Residual       16.0   918.00    57.375       NaN       NaN"
      ]
     },
     "execution_count": 5,
     "metadata": {},
     "output_type": "execute_result"
    }
   ],
   "source": [
    "# ANOVA table using bioinfokit v1.0.3 or later (it uses wrapper script for anova_lm)\n",
    "from bioinfokit.analys import stat\n",
    "res = stat()\n",
    "res.anova_stat(df=df_melt, res_var='value', anova_model='value ~ C(treatments)')\n",
    "res.anova_summary\n",
    "# output (ANOVA F and p value)\n",
    "\n",
    "# note: if the data is balanced (equal sample size for each group), Type 1, 2, and 3 sums of squares\n",
    "# (typ parameter) will produce similar results."
   ]
  },
  {
   "cell_type": "code",
   "execution_count": 8,
   "id": "c588ecff-bd27-4f35-a27a-07004264c5de",
   "metadata": {
    "execution": {
     "iopub.execute_input": "2024-01-15T09:02:18.794515Z",
     "iopub.status.busy": "2024-01-15T09:02:18.793494Z",
     "iopub.status.idle": "2024-01-15T09:02:18.814653Z",
     "shell.execute_reply": "2024-01-15T09:02:18.812037Z",
     "shell.execute_reply.started": "2024-01-15T09:02:18.794417Z"
    }
   },
   "outputs": [
    {
     "name": "stdout",
     "output_type": "stream",
     "text": [
      "index         int64\n",
      "treatments    int64\n",
      "value         int64\n",
      "dtype: object\n"
     ]
    }
   ],
   "source": [
    "# df_melt['value'] = pd.to_numeric(df_melt['value'], errors='coerce')\n",
    "from sklearn.preprocessing import LabelEncoder\n",
    " \n",
    "# Creating a instance of label Encoder.\n",
    "le = LabelEncoder()\n",
    " \n",
    "# Using .fit_transform function to fit label\n",
    "# encoder and return encoded label\n",
    "label = le.fit_transform(df_melt['treatments'])\n",
    "\n",
    "df_melt['treatments'] =  label\n",
    "print(df_melt.dtypes)"
   ]
  },
  {
   "cell_type": "code",
   "execution_count": 10,
   "id": "4e7f904a",
   "metadata": {
    "ExecuteTime": {
     "end_time": "2022-12-12T12:37:36.397436Z",
     "start_time": "2022-12-12T12:37:36.195546Z"
    },
    "execution": {
     "iopub.execute_input": "2024-01-15T09:02:30.332872Z",
     "iopub.status.busy": "2024-01-15T09:02:30.332211Z",
     "iopub.status.idle": "2024-01-15T09:02:30.550214Z",
     "shell.execute_reply": "2024-01-15T09:02:30.549002Z",
     "shell.execute_reply.started": "2024-01-15T09:02:30.332814Z"
    }
   },
   "outputs": [
    {
     "data": {
      "text/html": [
       "<div>\n",
       "<style scoped>\n",
       "    .dataframe tbody tr th:only-of-type {\n",
       "        vertical-align: middle;\n",
       "    }\n",
       "\n",
       "    .dataframe tbody tr th {\n",
       "        vertical-align: top;\n",
       "    }\n",
       "\n",
       "    .dataframe thead th {\n",
       "        text-align: right;\n",
       "    }\n",
       "</style>\n",
       "<table border=\"1\" class=\"dataframe\">\n",
       "  <thead>\n",
       "    <tr style=\"text-align: right;\">\n",
       "      <th></th>\n",
       "      <th>group1</th>\n",
       "      <th>group2</th>\n",
       "      <th>Diff</th>\n",
       "      <th>Lower</th>\n",
       "      <th>Upper</th>\n",
       "      <th>q-value</th>\n",
       "      <th>p-value</th>\n",
       "    </tr>\n",
       "  </thead>\n",
       "  <tbody>\n",
       "    <tr>\n",
       "      <th>0</th>\n",
       "      <td>0</td>\n",
       "      <td>1</td>\n",
       "      <td>15.4</td>\n",
       "      <td>1.692871</td>\n",
       "      <td>29.107129</td>\n",
       "      <td>4.546156</td>\n",
       "      <td>0.025070</td>\n",
       "    </tr>\n",
       "    <tr>\n",
       "      <th>1</th>\n",
       "      <td>0</td>\n",
       "      <td>2</td>\n",
       "      <td>1.6</td>\n",
       "      <td>-12.107129</td>\n",
       "      <td>15.307129</td>\n",
       "      <td>0.472328</td>\n",
       "      <td>0.900000</td>\n",
       "    </tr>\n",
       "    <tr>\n",
       "      <th>2</th>\n",
       "      <td>0</td>\n",
       "      <td>3</td>\n",
       "      <td>30.4</td>\n",
       "      <td>16.692871</td>\n",
       "      <td>44.107129</td>\n",
       "      <td>8.974231</td>\n",
       "      <td>0.001000</td>\n",
       "    </tr>\n",
       "    <tr>\n",
       "      <th>3</th>\n",
       "      <td>1</td>\n",
       "      <td>2</td>\n",
       "      <td>13.8</td>\n",
       "      <td>0.092871</td>\n",
       "      <td>27.507129</td>\n",
       "      <td>4.073828</td>\n",
       "      <td>0.048178</td>\n",
       "    </tr>\n",
       "    <tr>\n",
       "      <th>4</th>\n",
       "      <td>1</td>\n",
       "      <td>3</td>\n",
       "      <td>15.0</td>\n",
       "      <td>1.292871</td>\n",
       "      <td>28.707129</td>\n",
       "      <td>4.428074</td>\n",
       "      <td>0.029578</td>\n",
       "    </tr>\n",
       "    <tr>\n",
       "      <th>5</th>\n",
       "      <td>2</td>\n",
       "      <td>3</td>\n",
       "      <td>28.8</td>\n",
       "      <td>15.092871</td>\n",
       "      <td>42.507129</td>\n",
       "      <td>8.501903</td>\n",
       "      <td>0.001000</td>\n",
       "    </tr>\n",
       "  </tbody>\n",
       "</table>\n",
       "</div>"
      ],
      "text/plain": [
       "   group1  group2  Diff      Lower      Upper   q-value   p-value\n",
       "0       0       1  15.4   1.692871  29.107129  4.546156  0.025070\n",
       "1       0       2   1.6 -12.107129  15.307129  0.472328  0.900000\n",
       "2       0       3  30.4  16.692871  44.107129  8.974231  0.001000\n",
       "3       1       2  13.8   0.092871  27.507129  4.073828  0.048178\n",
       "4       1       3  15.0   1.292871  28.707129  4.428074  0.029578\n",
       "5       2       3  28.8  15.092871  42.507129  8.501903  0.001000"
      ]
     },
     "execution_count": 10,
     "metadata": {},
     "output_type": "execute_result"
    }
   ],
   "source": [
    "# we will use bioinfokit (v1.0.3 or later) for performing tukey HSD test\n",
    "# check documentation here https://github.com/reneshbedre/bioinfokit\n",
    "from bioinfokit.analys import stat\n",
    "# perform multiple pairwise comparison (Tukey's HSD)\n",
    "# unequal sample size data, tukey_hsd uses Tukey-Kramer test\n",
    "res = stat()\n",
    "res.tukey_hsd(df=df_melt, res_var='value', xfac_var='treatments', anova_model='value ~ C(treatments)')\n",
    "res.tukey_summary\n",
    "# output\n",
    "# Note: p-value 0.001 from tukey_hsd output should be interpreted as <=0.001"
   ]
  },
  {
   "cell_type": "code",
   "execution_count": 11,
   "id": "0bc4c5ba",
   "metadata": {
    "ExecuteTime": {
     "end_time": "2022-12-12T12:39:27.975161Z",
     "start_time": "2022-12-12T12:39:27.838778Z"
    },
    "execution": {
     "iopub.execute_input": "2024-01-15T09:04:45.975132Z",
     "iopub.status.busy": "2024-01-15T09:04:45.974458Z",
     "iopub.status.idle": "2024-01-15T09:04:46.277050Z",
     "shell.execute_reply": "2024-01-15T09:04:46.276444Z",
     "shell.execute_reply.started": "2024-01-15T09:04:45.975074Z"
    }
   },
   "outputs": [
    {
     "data": {
      "image/png": "[encoded data removed]",
      "text/plain": [
       "<Figure size 640x480 with 1 Axes>"
      ]
     },
     "metadata": {},
     "output_type": "display_data"
    }
   ],
   "source": [
    "# QQ-plot\n",
    "import statsmodels.api as sm\n",
    "import matplotlib.pyplot as plt\n",
    "# res.anova_std_residuals are standardized residuals obtained from ANOVA (check above)\n",
    "sm.qqplot(res.anova_std_residuals, line='45')\n",
    "plt.xlabel(\"Theoretical Quantiles\")\n",
    "plt.ylabel(\"Standardized Residuals\")\n",
    "plt.show()"
   ]
  },
  {
   "cell_type": "code",
   "execution_count": 13,
   "id": "85255edf",
   "metadata": {
    "ExecuteTime": {
     "end_time": "2022-12-12T12:42:51.807282Z",
     "start_time": "2022-12-12T12:42:51.690273Z"
    },
    "execution": {
     "iopub.execute_input": "2024-01-15T09:05:49.537620Z",
     "iopub.status.busy": "2024-01-15T09:05:49.536678Z",
     "iopub.status.idle": "2024-01-15T09:05:49.895952Z",
     "shell.execute_reply": "2024-01-15T09:05:49.895378Z",
     "shell.execute_reply.started": "2024-01-15T09:05:49.537537Z"
    }
   },
   "outputs": [
    {
     "data": {
      "image/png": "[encoded data removed]",
      "text/plain": [
       "<Figure size 640x480 with 1 Axes>"
      ]
     },
     "metadata": {},
     "output_type": "display_data"
    }
   ],
   "source": [
    "# histogram\n",
    "plt.hist(res.anova_model_out.resid, bins=6, histtype='bar', ec='k') \n",
    "plt.xlabel(\"Residuals\")\n",
    "plt.ylabel('Frequency')\n",
    "plt.show()"
   ]
  },
  {
   "cell_type": "code",
   "execution_count": 14,
   "id": "6713a54c",
   "metadata": {
    "ExecuteTime": {
     "end_time": "2022-12-12T12:43:03.452199Z",
     "start_time": "2022-12-12T12:43:03.448259Z"
    },
    "execution": {
     "iopub.execute_input": "2024-01-15T09:06:21.875505Z",
     "iopub.status.busy": "2024-01-15T09:06:21.874763Z",
     "iopub.status.idle": "2024-01-15T09:06:21.889524Z",
     "shell.execute_reply": "2024-01-15T09:06:21.886799Z",
     "shell.execute_reply.started": "2024-01-15T09:06:21.875443Z"
    }
   },
   "outputs": [
    {
     "name": "stdout",
     "output_type": "stream",
     "text": [
      "0.9685018062591553 0.7229723930358887\n"
     ]
    }
   ],
   "source": [
    "import scipy.stats as stats\n",
    "w, pvalue = stats.shapiro(model.resid)\n",
    "print(w, pvalue)"
   ]
  },
  {
   "cell_type": "code",
   "execution_count": 15,
   "id": "0446ea72",
   "metadata": {
    "ExecuteTime": {
     "end_time": "2022-12-12T12:43:47.392981Z",
     "start_time": "2022-12-12T12:43:47.379439Z"
    },
    "execution": {
     "iopub.execute_input": "2024-01-15T09:07:25.837544Z",
     "iopub.status.busy": "2024-01-15T09:07:25.836126Z",
     "iopub.status.idle": "2024-01-15T09:07:25.853841Z",
     "shell.execute_reply": "2024-01-15T09:07:25.851350Z",
     "shell.execute_reply.started": "2024-01-15T09:07:25.837470Z"
    }
   },
   "outputs": [
    {
     "name": "stdout",
     "output_type": "stream",
     "text": [
      "5.687843565012841 0.1278253399753447\n"
     ]
    }
   ],
   "source": [
    "import scipy.stats as stats\n",
    "w, pvalue = stats.bartlett(df['A'], df['B'], df['C'], df['D'])\n",
    "print(w, pvalue)"
   ]
  },
  {
   "cell_type": "code",
   "execution_count": 16,
   "id": "095c8856",
   "metadata": {
    "ExecuteTime": {
     "end_time": "2022-12-12T12:45:04.229696Z",
     "start_time": "2022-12-12T12:45:04.198664Z"
    },
    "execution": {
     "iopub.execute_input": "2024-01-15T09:07:48.188806Z",
     "iopub.status.busy": "2024-01-15T09:07:48.188150Z",
     "iopub.status.idle": "2024-01-15T09:07:48.222084Z",
     "shell.execute_reply": "2024-01-15T09:07:48.219558Z",
     "shell.execute_reply.started": "2024-01-15T09:07:48.188748Z"
    }
   },
   "outputs": [
    {
     "data": {
      "text/html": [
       "<div>\n",
       "<style scoped>\n",
       "    .dataframe tbody tr th:only-of-type {\n",
       "        vertical-align: middle;\n",
       "    }\n",
       "\n",
       "    .dataframe tbody tr th {\n",
       "        vertical-align: top;\n",
       "    }\n",
       "\n",
       "    .dataframe thead th {\n",
       "        text-align: right;\n",
       "    }\n",
       "</style>\n",
       "<table border=\"1\" class=\"dataframe\">\n",
       "  <thead>\n",
       "    <tr style=\"text-align: right;\">\n",
       "      <th></th>\n",
       "      <th>Parameter</th>\n",
       "      <th>Value</th>\n",
       "    </tr>\n",
       "  </thead>\n",
       "  <tbody>\n",
       "    <tr>\n",
       "      <th>0</th>\n",
       "      <td>Test statistics (T)</td>\n",
       "      <td>5.6878</td>\n",
       "    </tr>\n",
       "    <tr>\n",
       "      <th>1</th>\n",
       "      <td>Degrees of freedom (Df)</td>\n",
       "      <td>3.0000</td>\n",
       "    </tr>\n",
       "    <tr>\n",
       "      <th>2</th>\n",
       "      <td>p value</td>\n",
       "      <td>0.1278</td>\n",
       "    </tr>\n",
       "  </tbody>\n",
       "</table>\n",
       "</div>"
      ],
      "text/plain": [
       "                 Parameter   Value\n",
       "0      Test statistics (T)  5.6878\n",
       "1  Degrees of freedom (Df)  3.0000\n",
       "2                  p value  0.1278"
      ]
     },
     "execution_count": 16,
     "metadata": {},
     "output_type": "execute_result"
    }
   ],
   "source": [
    "# if you have a stacked table, you can use bioinfokit v1.0.3 or later for the bartlett's test\n",
    "from bioinfokit.analys import stat \n",
    "res = stat()\n",
    "res.bartlett(df=df_melt, res_var='value', xfac_var='treatments')\n",
    "res.bartlett_summary\n",
    "# output"
   ]
  },
  {
   "cell_type": "code",
   "execution_count": 17,
   "id": "966d173c",
   "metadata": {
    "ExecuteTime": {
     "end_time": "2022-12-12T12:45:26.580430Z",
     "start_time": "2022-12-12T12:45:26.544875Z"
    },
    "execution": {
     "iopub.execute_input": "2024-01-15T09:08:09.386744Z",
     "iopub.status.busy": "2024-01-15T09:08:09.386074Z",
     "iopub.status.idle": "2024-01-15T09:08:09.421237Z",
     "shell.execute_reply": "2024-01-15T09:08:09.417999Z",
     "shell.execute_reply.started": "2024-01-15T09:08:09.386686Z"
    }
   },
   "outputs": [
    {
     "data": {
      "text/html": [
       "<div>\n",
       "<style scoped>\n",
       "    .dataframe tbody tr th:only-of-type {\n",
       "        vertical-align: middle;\n",
       "    }\n",
       "\n",
       "    .dataframe tbody tr th {\n",
       "        vertical-align: top;\n",
       "    }\n",
       "\n",
       "    .dataframe thead th {\n",
       "        text-align: right;\n",
       "    }\n",
       "</style>\n",
       "<table border=\"1\" class=\"dataframe\">\n",
       "  <thead>\n",
       "    <tr style=\"text-align: right;\">\n",
       "      <th></th>\n",
       "      <th>Parameter</th>\n",
       "      <th>Value</th>\n",
       "    </tr>\n",
       "  </thead>\n",
       "  <tbody>\n",
       "    <tr>\n",
       "      <th>0</th>\n",
       "      <td>Test statistics (W)</td>\n",
       "      <td>1.9220</td>\n",
       "    </tr>\n",
       "    <tr>\n",
       "      <th>1</th>\n",
       "      <td>Degrees of freedom (Df)</td>\n",
       "      <td>3.0000</td>\n",
       "    </tr>\n",
       "    <tr>\n",
       "      <th>2</th>\n",
       "      <td>p value</td>\n",
       "      <td>0.1667</td>\n",
       "    </tr>\n",
       "  </tbody>\n",
       "</table>\n",
       "</div>"
      ],
      "text/plain": [
       "                 Parameter   Value\n",
       "0      Test statistics (W)  1.9220\n",
       "1  Degrees of freedom (Df)  3.0000\n",
       "2                  p value  0.1667"
      ]
     },
     "execution_count": 17,
     "metadata": {},
     "output_type": "execute_result"
    }
   ],
   "source": [
    "# if you have a stacked table, you can use bioinfokit v1.0.3 or later for the Levene's test\n",
    "from bioinfokit.analys import stat \n",
    "res = stat()\n",
    "res.levene(df=df_melt, res_var='value', xfac_var='treatments')\n",
    "res.levene_summary\n",
    "# output"
   ]
  },
  {
   "cell_type": "code",
   "execution_count": 18,
   "id": "40739801",
   "metadata": {
    "ExecuteTime": {
     "end_time": "2022-12-12T12:46:11.858007Z",
     "start_time": "2022-12-12T12:46:11.509184Z"
    },
    "execution": {
     "iopub.execute_input": "2024-01-15T09:09:28.542380Z",
     "iopub.status.busy": "2024-01-15T09:09:28.540854Z",
     "iopub.status.idle": "2024-01-15T09:09:28.990809Z",
     "shell.execute_reply": "2024-01-15T09:09:28.988182Z",
     "shell.execute_reply.started": "2024-01-15T09:09:28.542306Z"
    }
   },
   "outputs": [
    {
     "data": {
      "text/html": [
       "<div>\n",
       "<style scoped>\n",
       "    .dataframe tbody tr th:only-of-type {\n",
       "        vertical-align: middle;\n",
       "    }\n",
       "\n",
       "    .dataframe tbody tr th {\n",
       "        vertical-align: top;\n",
       "    }\n",
       "\n",
       "    .dataframe thead th {\n",
       "        text-align: right;\n",
       "    }\n",
       "</style>\n",
       "<table border=\"1\" class=\"dataframe\">\n",
       "  <thead>\n",
       "    <tr style=\"text-align: right;\">\n",
       "      <th></th>\n",
       "      <th>Genotype</th>\n",
       "      <th>years</th>\n",
       "      <th>value</th>\n",
       "    </tr>\n",
       "  </thead>\n",
       "  <tbody>\n",
       "    <tr>\n",
       "      <th>0</th>\n",
       "      <td>A</td>\n",
       "      <td>1_year</td>\n",
       "      <td>1.53</td>\n",
       "    </tr>\n",
       "    <tr>\n",
       "      <th>1</th>\n",
       "      <td>A</td>\n",
       "      <td>1_year</td>\n",
       "      <td>1.83</td>\n",
       "    </tr>\n",
       "    <tr>\n",
       "      <th>2</th>\n",
       "      <td>A</td>\n",
       "      <td>1_year</td>\n",
       "      <td>1.38</td>\n",
       "    </tr>\n",
       "    <tr>\n",
       "      <th>3</th>\n",
       "      <td>B</td>\n",
       "      <td>1_year</td>\n",
       "      <td>3.60</td>\n",
       "    </tr>\n",
       "    <tr>\n",
       "      <th>4</th>\n",
       "      <td>B</td>\n",
       "      <td>1_year</td>\n",
       "      <td>2.94</td>\n",
       "    </tr>\n",
       "  </tbody>\n",
       "</table>\n",
       "</div>"
      ],
      "text/plain": [
       "  Genotype   years  value\n",
       "0        A  1_year   1.53\n",
       "1        A  1_year   1.83\n",
       "2        A  1_year   1.38\n",
       "3        B  1_year   3.60\n",
       "4        B  1_year   2.94"
      ]
     },
     "execution_count": 18,
     "metadata": {},
     "output_type": "execute_result"
    }
   ],
   "source": [
    "import pandas as pd\n",
    "import seaborn as sns\n",
    "# load data file\n",
    "d = pd.read_csv(\"https://reneshbedre.github.io/assets/posts/anova/twowayanova.txt\", sep=\"\\t\")\n",
    "# reshape the d dataframe suitable for statsmodels package \n",
    "# you do not need to reshape if your data is already in stacked format. Compare d and d_melt tables for detail \n",
    "# understanding \n",
    "d_melt = pd.melt(d, id_vars=['Genotype'], value_vars=['1_year', '2_year', '3_year'])\n",
    "# replace column names\n",
    "d_melt.columns = ['Genotype', 'years', 'value']\n",
    "d_melt.head()"
   ]
  },
  {
   "cell_type": "code",
   "execution_count": 31,
   "id": "2a71425a-4d60-4d6b-adc5-a36c955ec931",
   "metadata": {
    "execution": {
     "iopub.execute_input": "2024-01-15T12:12:35.003388Z",
     "iopub.status.busy": "2024-01-15T12:12:35.002680Z",
     "iopub.status.idle": "2024-01-15T12:12:35.044178Z",
     "shell.execute_reply": "2024-01-15T12:12:35.041785Z",
     "shell.execute_reply.started": "2024-01-15T12:12:35.003324Z"
    }
   },
   "outputs": [
    {
     "data": {
      "text/html": [
       "<div>\n",
       "<style scoped>\n",
       "    .dataframe tbody tr th:only-of-type {\n",
       "        vertical-align: middle;\n",
       "    }\n",
       "\n",
       "    .dataframe tbody tr th {\n",
       "        vertical-align: top;\n",
       "    }\n",
       "\n",
       "    .dataframe thead th {\n",
       "        text-align: right;\n",
       "    }\n",
       "</style>\n",
       "<table border=\"1\" class=\"dataframe\">\n",
       "  <thead>\n",
       "    <tr style=\"text-align: right;\">\n",
       "      <th></th>\n",
       "      <th>Genotype</th>\n",
       "      <th>years</th>\n",
       "      <th>value</th>\n",
       "    </tr>\n",
       "  </thead>\n",
       "  <tbody>\n",
       "    <tr>\n",
       "      <th>0</th>\n",
       "      <td>0</td>\n",
       "      <td>0</td>\n",
       "      <td>1.53</td>\n",
       "    </tr>\n",
       "    <tr>\n",
       "      <th>1</th>\n",
       "      <td>0</td>\n",
       "      <td>0</td>\n",
       "      <td>1.83</td>\n",
       "    </tr>\n",
       "    <tr>\n",
       "      <th>2</th>\n",
       "      <td>0</td>\n",
       "      <td>0</td>\n",
       "      <td>1.38</td>\n",
       "    </tr>\n",
       "    <tr>\n",
       "      <th>3</th>\n",
       "      <td>1</td>\n",
       "      <td>0</td>\n",
       "      <td>3.60</td>\n",
       "    </tr>\n",
       "    <tr>\n",
       "      <th>4</th>\n",
       "      <td>1</td>\n",
       "      <td>0</td>\n",
       "      <td>2.94</td>\n",
       "    </tr>\n",
       "    <tr>\n",
       "      <th>5</th>\n",
       "      <td>1</td>\n",
       "      <td>0</td>\n",
       "      <td>4.02</td>\n",
       "    </tr>\n",
       "    <tr>\n",
       "      <th>6</th>\n",
       "      <td>2</td>\n",
       "      <td>0</td>\n",
       "      <td>3.99</td>\n",
       "    </tr>\n",
       "    <tr>\n",
       "      <th>7</th>\n",
       "      <td>2</td>\n",
       "      <td>0</td>\n",
       "      <td>3.30</td>\n",
       "    </tr>\n",
       "    <tr>\n",
       "      <th>8</th>\n",
       "      <td>2</td>\n",
       "      <td>0</td>\n",
       "      <td>4.41</td>\n",
       "    </tr>\n",
       "    <tr>\n",
       "      <th>9</th>\n",
       "      <td>3</td>\n",
       "      <td>0</td>\n",
       "      <td>3.75</td>\n",
       "    </tr>\n",
       "    <tr>\n",
       "      <th>10</th>\n",
       "      <td>3</td>\n",
       "      <td>0</td>\n",
       "      <td>3.63</td>\n",
       "    </tr>\n",
       "    <tr>\n",
       "      <th>11</th>\n",
       "      <td>3</td>\n",
       "      <td>0</td>\n",
       "      <td>3.57</td>\n",
       "    </tr>\n",
       "    <tr>\n",
       "      <th>12</th>\n",
       "      <td>4</td>\n",
       "      <td>0</td>\n",
       "      <td>1.71</td>\n",
       "    </tr>\n",
       "    <tr>\n",
       "      <th>13</th>\n",
       "      <td>4</td>\n",
       "      <td>0</td>\n",
       "      <td>2.01</td>\n",
       "    </tr>\n",
       "    <tr>\n",
       "      <th>14</th>\n",
       "      <td>4</td>\n",
       "      <td>0</td>\n",
       "      <td>2.04</td>\n",
       "    </tr>\n",
       "    <tr>\n",
       "      <th>15</th>\n",
       "      <td>5</td>\n",
       "      <td>0</td>\n",
       "      <td>3.96</td>\n",
       "    </tr>\n",
       "    <tr>\n",
       "      <th>16</th>\n",
       "      <td>5</td>\n",
       "      <td>0</td>\n",
       "      <td>4.77</td>\n",
       "    </tr>\n",
       "    <tr>\n",
       "      <th>17</th>\n",
       "      <td>5</td>\n",
       "      <td>0</td>\n",
       "      <td>4.65</td>\n",
       "    </tr>\n",
       "    <tr>\n",
       "      <th>18</th>\n",
       "      <td>0</td>\n",
       "      <td>1</td>\n",
       "      <td>4.08</td>\n",
       "    </tr>\n",
       "    <tr>\n",
       "      <th>19</th>\n",
       "      <td>0</td>\n",
       "      <td>1</td>\n",
       "      <td>3.84</td>\n",
       "    </tr>\n",
       "    <tr>\n",
       "      <th>20</th>\n",
       "      <td>0</td>\n",
       "      <td>1</td>\n",
       "      <td>3.96</td>\n",
       "    </tr>\n",
       "    <tr>\n",
       "      <th>21</th>\n",
       "      <td>1</td>\n",
       "      <td>1</td>\n",
       "      <td>5.70</td>\n",
       "    </tr>\n",
       "    <tr>\n",
       "      <th>22</th>\n",
       "      <td>1</td>\n",
       "      <td>1</td>\n",
       "      <td>5.07</td>\n",
       "    </tr>\n",
       "    <tr>\n",
       "      <th>23</th>\n",
       "      <td>1</td>\n",
       "      <td>1</td>\n",
       "      <td>7.20</td>\n",
       "    </tr>\n",
       "    <tr>\n",
       "      <th>24</th>\n",
       "      <td>2</td>\n",
       "      <td>1</td>\n",
       "      <td>6.09</td>\n",
       "    </tr>\n",
       "    <tr>\n",
       "      <th>25</th>\n",
       "      <td>2</td>\n",
       "      <td>1</td>\n",
       "      <td>5.88</td>\n",
       "    </tr>\n",
       "    <tr>\n",
       "      <th>26</th>\n",
       "      <td>2</td>\n",
       "      <td>1</td>\n",
       "      <td>6.51</td>\n",
       "    </tr>\n",
       "    <tr>\n",
       "      <th>27</th>\n",
       "      <td>3</td>\n",
       "      <td>1</td>\n",
       "      <td>5.19</td>\n",
       "    </tr>\n",
       "    <tr>\n",
       "      <th>28</th>\n",
       "      <td>3</td>\n",
       "      <td>1</td>\n",
       "      <td>5.37</td>\n",
       "    </tr>\n",
       "    <tr>\n",
       "      <th>29</th>\n",
       "      <td>3</td>\n",
       "      <td>1</td>\n",
       "      <td>5.55</td>\n",
       "    </tr>\n",
       "    <tr>\n",
       "      <th>30</th>\n",
       "      <td>4</td>\n",
       "      <td>1</td>\n",
       "      <td>3.60</td>\n",
       "    </tr>\n",
       "    <tr>\n",
       "      <th>31</th>\n",
       "      <td>4</td>\n",
       "      <td>1</td>\n",
       "      <td>5.10</td>\n",
       "    </tr>\n",
       "    <tr>\n",
       "      <th>32</th>\n",
       "      <td>4</td>\n",
       "      <td>1</td>\n",
       "      <td>6.99</td>\n",
       "    </tr>\n",
       "    <tr>\n",
       "      <th>33</th>\n",
       "      <td>5</td>\n",
       "      <td>1</td>\n",
       "      <td>5.25</td>\n",
       "    </tr>\n",
       "    <tr>\n",
       "      <th>34</th>\n",
       "      <td>5</td>\n",
       "      <td>1</td>\n",
       "      <td>5.28</td>\n",
       "    </tr>\n",
       "    <tr>\n",
       "      <th>35</th>\n",
       "      <td>5</td>\n",
       "      <td>1</td>\n",
       "      <td>5.07</td>\n",
       "    </tr>\n",
       "    <tr>\n",
       "      <th>36</th>\n",
       "      <td>0</td>\n",
       "      <td>2</td>\n",
       "      <td>6.69</td>\n",
       "    </tr>\n",
       "    <tr>\n",
       "      <th>37</th>\n",
       "      <td>0</td>\n",
       "      <td>2</td>\n",
       "      <td>5.97</td>\n",
       "    </tr>\n",
       "    <tr>\n",
       "      <th>38</th>\n",
       "      <td>0</td>\n",
       "      <td>2</td>\n",
       "      <td>6.33</td>\n",
       "    </tr>\n",
       "    <tr>\n",
       "      <th>39</th>\n",
       "      <td>1</td>\n",
       "      <td>2</td>\n",
       "      <td>8.55</td>\n",
       "    </tr>\n",
       "    <tr>\n",
       "      <th>40</th>\n",
       "      <td>1</td>\n",
       "      <td>2</td>\n",
       "      <td>7.95</td>\n",
       "    </tr>\n",
       "    <tr>\n",
       "      <th>41</th>\n",
       "      <td>1</td>\n",
       "      <td>2</td>\n",
       "      <td>8.94</td>\n",
       "    </tr>\n",
       "    <tr>\n",
       "      <th>42</th>\n",
       "      <td>2</td>\n",
       "      <td>2</td>\n",
       "      <td>10.02</td>\n",
       "    </tr>\n",
       "    <tr>\n",
       "      <th>43</th>\n",
       "      <td>2</td>\n",
       "      <td>2</td>\n",
       "      <td>9.63</td>\n",
       "    </tr>\n",
       "    <tr>\n",
       "      <th>44</th>\n",
       "      <td>2</td>\n",
       "      <td>2</td>\n",
       "      <td>10.38</td>\n",
       "    </tr>\n",
       "    <tr>\n",
       "      <th>45</th>\n",
       "      <td>3</td>\n",
       "      <td>2</td>\n",
       "      <td>11.40</td>\n",
       "    </tr>\n",
       "    <tr>\n",
       "      <th>46</th>\n",
       "      <td>3</td>\n",
       "      <td>2</td>\n",
       "      <td>9.66</td>\n",
       "    </tr>\n",
       "    <tr>\n",
       "      <th>47</th>\n",
       "      <td>3</td>\n",
       "      <td>2</td>\n",
       "      <td>10.53</td>\n",
       "    </tr>\n",
       "    <tr>\n",
       "      <th>48</th>\n",
       "      <td>4</td>\n",
       "      <td>2</td>\n",
       "      <td>6.87</td>\n",
       "    </tr>\n",
       "    <tr>\n",
       "      <th>49</th>\n",
       "      <td>4</td>\n",
       "      <td>2</td>\n",
       "      <td>6.93</td>\n",
       "    </tr>\n",
       "    <tr>\n",
       "      <th>50</th>\n",
       "      <td>4</td>\n",
       "      <td>2</td>\n",
       "      <td>6.84</td>\n",
       "    </tr>\n",
       "    <tr>\n",
       "      <th>51</th>\n",
       "      <td>5</td>\n",
       "      <td>2</td>\n",
       "      <td>9.84</td>\n",
       "    </tr>\n",
       "    <tr>\n",
       "      <th>52</th>\n",
       "      <td>5</td>\n",
       "      <td>2</td>\n",
       "      <td>9.87</td>\n",
       "    </tr>\n",
       "    <tr>\n",
       "      <th>53</th>\n",
       "      <td>5</td>\n",
       "      <td>2</td>\n",
       "      <td>10.08</td>\n",
       "    </tr>\n",
       "  </tbody>\n",
       "</table>\n",
       "</div>"
      ],
      "text/plain": [
       "    Genotype  years  value\n",
       "0          0      0   1.53\n",
       "1          0      0   1.83\n",
       "2          0      0   1.38\n",
       "3          1      0   3.60\n",
       "4          1      0   2.94\n",
       "5          1      0   4.02\n",
       "6          2      0   3.99\n",
       "7          2      0   3.30\n",
       "8          2      0   4.41\n",
       "9          3      0   3.75\n",
       "10         3      0   3.63\n",
       "11         3      0   3.57\n",
       "12         4      0   1.71\n",
       "13         4      0   2.01\n",
       "14         4      0   2.04\n",
       "15         5      0   3.96\n",
       "16         5      0   4.77\n",
       "17         5      0   4.65\n",
       "18         0      1   4.08\n",
       "19         0      1   3.84\n",
       "20         0      1   3.96\n",
       "21         1      1   5.70\n",
       "22         1      1   5.07\n",
       "23         1      1   7.20\n",
       "24         2      1   6.09\n",
       "25         2      1   5.88\n",
       "26         2      1   6.51\n",
       "27         3      1   5.19\n",
       "28         3      1   5.37\n",
       "29         3      1   5.55\n",
       "30         4      1   3.60\n",
       "31         4      1   5.10\n",
       "32         4      1   6.99\n",
       "33         5      1   5.25\n",
       "34         5      1   5.28\n",
       "35         5      1   5.07\n",
       "36         0      2   6.69\n",
       "37         0      2   5.97\n",
       "38         0      2   6.33\n",
       "39         1      2   8.55\n",
       "40         1      2   7.95\n",
       "41         1      2   8.94\n",
       "42         2      2  10.02\n",
       "43         2      2   9.63\n",
       "44         2      2  10.38\n",
       "45         3      2  11.40\n",
       "46         3      2   9.66\n",
       "47         3      2  10.53\n",
       "48         4      2   6.87\n",
       "49         4      2   6.93\n",
       "50         4      2   6.84\n",
       "51         5      2   9.84\n",
       "52         5      2   9.87\n",
       "53         5      2  10.08"
      ]
     },
     "execution_count": 31,
     "metadata": {},
     "output_type": "execute_result"
    }
   ],
   "source": [
    "d_melt"
   ]
  },
  {
   "cell_type": "code",
   "execution_count": 19,
   "id": "8382e75c",
   "metadata": {
    "ExecuteTime": {
     "end_time": "2022-12-12T12:46:47.681174Z",
     "start_time": "2022-12-12T12:46:47.400535Z"
    },
    "execution": {
     "iopub.execute_input": "2024-01-15T09:09:49.791575Z",
     "iopub.status.busy": "2024-01-15T09:09:49.790716Z",
     "iopub.status.idle": "2024-01-15T09:09:50.453647Z",
     "shell.execute_reply": "2024-01-15T09:09:50.453043Z",
     "shell.execute_reply.started": "2024-01-15T09:09:49.791505Z"
    }
   },
   "outputs": [
    {
     "data": {
      "text/plain": [
       "<Axes: xlabel='Genotype', ylabel='value'>"
      ]
     },
     "execution_count": 19,
     "metadata": {},
     "output_type": "execute_result"
    },
    {
     "data": {
      "image/png": "[encoded data removed]",
      "text/plain": [
       "<Figure size 640x480 with 1 Axes>"
      ]
     },
     "metadata": {},
     "output_type": "display_data"
    }
   ],
   "source": [
    "# generate a boxplot to see the data distribution by genotypes and years. Using boxplot, we can easily detect the \n",
    "# differences between different groups\n",
    "sns.boxplot(x=\"Genotype\", y=\"value\", hue=\"years\", data=d_melt, palette=\"Set3\") "
   ]
  },
  {
   "cell_type": "code",
   "execution_count": 20,
   "id": "7c06e547",
   "metadata": {
    "ExecuteTime": {
     "end_time": "2022-12-12T12:48:06.875973Z",
     "start_time": "2022-12-12T12:48:06.830470Z"
    },
    "execution": {
     "iopub.execute_input": "2024-01-15T09:10:10.389937Z",
     "iopub.status.busy": "2024-01-15T09:10:10.389277Z",
     "iopub.status.idle": "2024-01-15T09:10:10.481034Z",
     "shell.execute_reply": "2024-01-15T09:10:10.477978Z",
     "shell.execute_reply.started": "2024-01-15T09:10:10.389880Z"
    }
   },
   "outputs": [
    {
     "data": {
      "text/html": [
       "<div>\n",
       "<style scoped>\n",
       "    .dataframe tbody tr th:only-of-type {\n",
       "        vertical-align: middle;\n",
       "    }\n",
       "\n",
       "    .dataframe tbody tr th {\n",
       "        vertical-align: top;\n",
       "    }\n",
       "\n",
       "    .dataframe thead th {\n",
       "        text-align: right;\n",
       "    }\n",
       "</style>\n",
       "<table border=\"1\" class=\"dataframe\">\n",
       "  <thead>\n",
       "    <tr style=\"text-align: right;\">\n",
       "      <th></th>\n",
       "      <th>sum_sq</th>\n",
       "      <th>df</th>\n",
       "      <th>F</th>\n",
       "      <th>PR(&gt;F)</th>\n",
       "    </tr>\n",
       "  </thead>\n",
       "  <tbody>\n",
       "    <tr>\n",
       "      <th>C(Genotype)</th>\n",
       "      <td>58.551733</td>\n",
       "      <td>5.0</td>\n",
       "      <td>32.748581</td>\n",
       "      <td>1.931655e-12</td>\n",
       "    </tr>\n",
       "    <tr>\n",
       "      <th>C(years)</th>\n",
       "      <td>278.925633</td>\n",
       "      <td>2.0</td>\n",
       "      <td>390.014868</td>\n",
       "      <td>4.006243e-25</td>\n",
       "    </tr>\n",
       "    <tr>\n",
       "      <th>C(Genotype):C(years)</th>\n",
       "      <td>17.122967</td>\n",
       "      <td>10.0</td>\n",
       "      <td>4.788525</td>\n",
       "      <td>2.230094e-04</td>\n",
       "    </tr>\n",
       "    <tr>\n",
       "      <th>Residual</th>\n",
       "      <td>12.873000</td>\n",
       "      <td>36.0</td>\n",
       "      <td>NaN</td>\n",
       "      <td>NaN</td>\n",
       "    </tr>\n",
       "  </tbody>\n",
       "</table>\n",
       "</div>"
      ],
      "text/plain": [
       "                          sum_sq    df           F        PR(>F)\n",
       "C(Genotype)            58.551733   5.0   32.748581  1.931655e-12\n",
       "C(years)              278.925633   2.0  390.014868  4.006243e-25\n",
       "C(Genotype):C(years)   17.122967  10.0    4.788525  2.230094e-04\n",
       "Residual               12.873000  36.0         NaN           NaN"
      ]
     },
     "execution_count": 20,
     "metadata": {},
     "output_type": "execute_result"
    }
   ],
   "source": [
    "import statsmodels.api as sm\n",
    "from statsmodels.formula.api import ols\n",
    "model = ols('value ~ C(Genotype) + C(years) + C(Genotype):C(years)', data=d_melt).fit()\n",
    "anova_table = sm.stats.anova_lm(model, typ=2)\n",
    "anova_table"
   ]
  },
  {
   "cell_type": "code",
   "execution_count": 32,
   "id": "a771430a-673b-459c-9f43-4f1377b6ab0d",
   "metadata": {
    "execution": {
     "iopub.execute_input": "2024-01-15T12:13:12.520126Z",
     "iopub.status.busy": "2024-01-15T12:13:12.519423Z",
     "iopub.status.idle": "2024-01-15T12:13:12.533963Z",
     "shell.execute_reply": "2024-01-15T12:13:12.531403Z",
     "shell.execute_reply.started": "2024-01-15T12:13:12.520066Z"
    }
   },
   "outputs": [
    {
     "data": {
      "text/plain": [
       "18"
      ]
     },
     "execution_count": 32,
     "metadata": {},
     "output_type": "execute_result"
    }
   ],
   "source": [
    "# ESS = Between = T1*T2-1 = 3*6-1 = 17 = 5+2+10\n",
    "# T1 = 6-1\n",
    "# T2 = 3-1\n",
    "# Interation = T1-1*T2-2 = 5*2 = 10\n",
    "# Res = (n-1)*T1*T2 = 2*6*3 = 36 = 54-5-2-10-1 \n",
    "# total = n*T1*T2 - 1 = 3*6*3  = 54-1 = 53"
   ]
  },
  {
   "cell_type": "code",
   "execution_count": 21,
   "id": "9da68de7",
   "metadata": {
    "ExecuteTime": {
     "end_time": "2022-12-12T12:48:56.762834Z",
     "start_time": "2022-12-12T12:48:56.705950Z"
    },
    "execution": {
     "iopub.execute_input": "2024-01-15T09:11:59.402777Z",
     "iopub.status.busy": "2024-01-15T09:11:59.401411Z",
     "iopub.status.idle": "2024-01-15T09:11:59.479457Z",
     "shell.execute_reply": "2024-01-15T09:11:59.477143Z",
     "shell.execute_reply.started": "2024-01-15T09:11:59.402709Z"
    }
   },
   "outputs": [
    {
     "data": {
      "text/html": [
       "<div>\n",
       "<style scoped>\n",
       "    .dataframe tbody tr th:only-of-type {\n",
       "        vertical-align: middle;\n",
       "    }\n",
       "\n",
       "    .dataframe tbody tr th {\n",
       "        vertical-align: top;\n",
       "    }\n",
       "\n",
       "    .dataframe thead th {\n",
       "        text-align: right;\n",
       "    }\n",
       "</style>\n",
       "<table border=\"1\" class=\"dataframe\">\n",
       "  <thead>\n",
       "    <tr style=\"text-align: right;\">\n",
       "      <th></th>\n",
       "      <th>df</th>\n",
       "      <th>sum_sq</th>\n",
       "      <th>mean_sq</th>\n",
       "      <th>F</th>\n",
       "      <th>PR(&gt;F)</th>\n",
       "    </tr>\n",
       "  </thead>\n",
       "  <tbody>\n",
       "    <tr>\n",
       "      <th>C(Genotype)</th>\n",
       "      <td>5.0</td>\n",
       "      <td>58.551733</td>\n",
       "      <td>11.710347</td>\n",
       "      <td>32.748581</td>\n",
       "      <td>1.931655e-12</td>\n",
       "    </tr>\n",
       "    <tr>\n",
       "      <th>C(years)</th>\n",
       "      <td>2.0</td>\n",
       "      <td>278.925633</td>\n",
       "      <td>139.462817</td>\n",
       "      <td>390.014868</td>\n",
       "      <td>4.006243e-25</td>\n",
       "    </tr>\n",
       "    <tr>\n",
       "      <th>C(Genotype):C(years)</th>\n",
       "      <td>10.0</td>\n",
       "      <td>17.122967</td>\n",
       "      <td>1.712297</td>\n",
       "      <td>4.788525</td>\n",
       "      <td>2.230094e-04</td>\n",
       "    </tr>\n",
       "    <tr>\n",
       "      <th>Residual</th>\n",
       "      <td>36.0</td>\n",
       "      <td>12.873000</td>\n",
       "      <td>0.357583</td>\n",
       "      <td>NaN</td>\n",
       "      <td>NaN</td>\n",
       "    </tr>\n",
       "  </tbody>\n",
       "</table>\n",
       "</div>"
      ],
      "text/plain": [
       "                        df      sum_sq     mean_sq           F        PR(>F)\n",
       "C(Genotype)            5.0   58.551733   11.710347   32.748581  1.931655e-12\n",
       "C(years)               2.0  278.925633  139.462817  390.014868  4.006243e-25\n",
       "C(Genotype):C(years)  10.0   17.122967    1.712297    4.788525  2.230094e-04\n",
       "Residual              36.0   12.873000    0.357583         NaN           NaN"
      ]
     },
     "execution_count": 21,
     "metadata": {},
     "output_type": "execute_result"
    }
   ],
   "source": [
    "# ANOVA table using bioinfokit v1.0.3 or later (it uses wrapper script for anova_lm)\n",
    "from bioinfokit.analys import stat\n",
    "res = stat()\n",
    "res.anova_stat(df=d_melt, res_var='value', anova_model='value~C(Genotype)+C(years)+C(Genotype):C(years)')\n",
    "res.anova_summary\n",
    "# output"
   ]
  },
  {
   "cell_type": "code",
   "execution_count": 22,
   "id": "e96d9148",
   "metadata": {
    "ExecuteTime": {
     "end_time": "2022-12-12T12:49:18.535171Z",
     "start_time": "2022-12-12T12:49:18.413430Z"
    },
    "execution": {
     "iopub.execute_input": "2024-01-15T09:12:36.027008Z",
     "iopub.status.busy": "2024-01-15T09:12:36.025818Z",
     "iopub.status.idle": "2024-01-15T09:12:36.393022Z",
     "shell.execute_reply": "2024-01-15T09:12:36.392427Z",
     "shell.execute_reply.started": "2024-01-15T09:12:36.026916Z"
    }
   },
   "outputs": [
    {
     "name": "stderr",
     "output_type": "stream",
     "text": [
      "/home/xenakas/.venv/lib/python3.11/site-packages/statsmodels/graphics/factorplots.py:113: FutureWarning: The provided callable <function mean at 0x7f44d812ac00> is currently using DataFrameGroupBy.mean. In a future version of pandas, the provided callable will be used directly. To keep current behavior pass the string \"mean\" instead.\n",
      "  plot_data = data.groupby(['trace', 'x']).aggregate(func).reset_index()\n"
     ]
    },
    {
     "data": {
      "image/png": "[encoded data removed]",
      "text/plain": [
       "<Figure size 640x480 with 1 Axes>"
      ]
     },
     "metadata": {},
     "output_type": "display_data"
    }
   ],
   "source": [
    "from statsmodels.graphics.factorplots import interaction_plot\n",
    "import matplotlib.pyplot as plt\n",
    "fig = interaction_plot(x=d_melt['Genotype'], trace=d_melt['years'], response=d_melt['value'], \n",
    "    colors=['#4c061d','#d17a22', '#b4c292'])\n",
    "plt.show()\n"
   ]
  },
  {
   "cell_type": "code",
   "execution_count": 23,
   "id": "b6c7a719-3678-4542-b79e-079c994bf8b2",
   "metadata": {
    "execution": {
     "iopub.execute_input": "2024-01-15T09:14:19.967710Z",
     "iopub.status.busy": "2024-01-15T09:14:19.965400Z",
     "iopub.status.idle": "2024-01-15T09:14:19.984156Z",
     "shell.execute_reply": "2024-01-15T09:14:19.981922Z",
     "shell.execute_reply.started": "2024-01-15T09:14:19.967636Z"
    }
   },
   "outputs": [
    {
     "name": "stdout",
     "output_type": "stream",
     "text": [
      "index         int64\n",
      "treatments    int64\n",
      "value         int64\n",
      "dtype: object\n"
     ]
    }
   ],
   "source": [
    "# df_melt['value'] = pd.to_numeric(df_melt['value'], errors='coerce')\n",
    "from sklearn.preprocessing import LabelEncoder\n",
    " \n",
    "# Creating a instance of label Encoder.\n",
    "le = LabelEncoder()\n",
    " \n",
    "# Using .fit_transform function to fit label\n",
    "# encoder and return encoded label\n",
    "label = le.fit_transform(d_melt['Genotype'])\n",
    "\n",
    "d_melt['Genotype'] =  label\n",
    "\n",
    "label = le.fit_transform(d_melt['years'])\n",
    "\n",
    "d_melt['years'] =  label\n",
    "\n",
    "\n",
    "\n",
    "print(df_melt.dtypes)"
   ]
  },
  {
   "cell_type": "code",
   "execution_count": 24,
   "id": "0bb61b05",
   "metadata": {
    "ExecuteTime": {
     "end_time": "2022-12-12T12:50:06.388811Z",
     "start_time": "2022-12-12T12:50:06.238362Z"
    },
    "execution": {
     "iopub.execute_input": "2024-01-15T09:14:34.277874Z",
     "iopub.status.busy": "2024-01-15T09:14:34.277208Z",
     "iopub.status.idle": "2024-01-15T09:14:34.672425Z",
     "shell.execute_reply": "2024-01-15T09:14:34.671286Z",
     "shell.execute_reply.started": "2024-01-15T09:14:34.277817Z"
    }
   },
   "outputs": [
    {
     "data": {
      "text/html": [
       "<div>\n",
       "<style scoped>\n",
       "    .dataframe tbody tr th:only-of-type {\n",
       "        vertical-align: middle;\n",
       "    }\n",
       "\n",
       "    .dataframe tbody tr th {\n",
       "        vertical-align: top;\n",
       "    }\n",
       "\n",
       "    .dataframe thead th {\n",
       "        text-align: right;\n",
       "    }\n",
       "</style>\n",
       "<table border=\"1\" class=\"dataframe\">\n",
       "  <thead>\n",
       "    <tr style=\"text-align: right;\">\n",
       "      <th></th>\n",
       "      <th>group1</th>\n",
       "      <th>group2</th>\n",
       "      <th>Diff</th>\n",
       "      <th>Lower</th>\n",
       "      <th>Upper</th>\n",
       "      <th>q-value</th>\n",
       "      <th>p-value</th>\n",
       "    </tr>\n",
       "  </thead>\n",
       "  <tbody>\n",
       "    <tr>\n",
       "      <th>0</th>\n",
       "      <td>0</td>\n",
       "      <td>1</td>\n",
       "      <td>2.040000</td>\n",
       "      <td>1.191912</td>\n",
       "      <td>2.888088</td>\n",
       "      <td>10.234409</td>\n",
       "      <td>0.001000</td>\n",
       "    </tr>\n",
       "    <tr>\n",
       "      <th>1</th>\n",
       "      <td>0</td>\n",
       "      <td>2</td>\n",
       "      <td>2.733333</td>\n",
       "      <td>1.885245</td>\n",
       "      <td>3.581421</td>\n",
       "      <td>13.712771</td>\n",
       "      <td>0.001000</td>\n",
       "    </tr>\n",
       "    <tr>\n",
       "      <th>2</th>\n",
       "      <td>0</td>\n",
       "      <td>3</td>\n",
       "      <td>2.560000</td>\n",
       "      <td>1.711912</td>\n",
       "      <td>3.408088</td>\n",
       "      <td>12.843180</td>\n",
       "      <td>0.001000</td>\n",
       "    </tr>\n",
       "    <tr>\n",
       "      <th>3</th>\n",
       "      <td>0</td>\n",
       "      <td>4</td>\n",
       "      <td>0.720000</td>\n",
       "      <td>-0.128088</td>\n",
       "      <td>1.568088</td>\n",
       "      <td>3.612145</td>\n",
       "      <td>0.135306</td>\n",
       "    </tr>\n",
       "    <tr>\n",
       "      <th>4</th>\n",
       "      <td>0</td>\n",
       "      <td>5</td>\n",
       "      <td>2.573333</td>\n",
       "      <td>1.725245</td>\n",
       "      <td>3.421421</td>\n",
       "      <td>12.910072</td>\n",
       "      <td>0.001000</td>\n",
       "    </tr>\n",
       "    <tr>\n",
       "      <th>5</th>\n",
       "      <td>1</td>\n",
       "      <td>2</td>\n",
       "      <td>0.693333</td>\n",
       "      <td>-0.154755</td>\n",
       "      <td>1.541421</td>\n",
       "      <td>3.478361</td>\n",
       "      <td>0.163609</td>\n",
       "    </tr>\n",
       "    <tr>\n",
       "      <th>6</th>\n",
       "      <td>1</td>\n",
       "      <td>3</td>\n",
       "      <td>0.520000</td>\n",
       "      <td>-0.328088</td>\n",
       "      <td>1.368088</td>\n",
       "      <td>2.608771</td>\n",
       "      <td>0.453066</td>\n",
       "    </tr>\n",
       "    <tr>\n",
       "      <th>7</th>\n",
       "      <td>1</td>\n",
       "      <td>4</td>\n",
       "      <td>1.320000</td>\n",
       "      <td>0.471912</td>\n",
       "      <td>2.168088</td>\n",
       "      <td>6.622265</td>\n",
       "      <td>0.001000</td>\n",
       "    </tr>\n",
       "    <tr>\n",
       "      <th>8</th>\n",
       "      <td>1</td>\n",
       "      <td>5</td>\n",
       "      <td>0.533333</td>\n",
       "      <td>-0.314755</td>\n",
       "      <td>1.381421</td>\n",
       "      <td>2.675663</td>\n",
       "      <td>0.425189</td>\n",
       "    </tr>\n",
       "    <tr>\n",
       "      <th>9</th>\n",
       "      <td>2</td>\n",
       "      <td>3</td>\n",
       "      <td>0.173333</td>\n",
       "      <td>-0.674755</td>\n",
       "      <td>1.021421</td>\n",
       "      <td>0.869590</td>\n",
       "      <td>0.900000</td>\n",
       "    </tr>\n",
       "    <tr>\n",
       "      <th>10</th>\n",
       "      <td>2</td>\n",
       "      <td>4</td>\n",
       "      <td>2.013333</td>\n",
       "      <td>1.165245</td>\n",
       "      <td>2.861421</td>\n",
       "      <td>10.100626</td>\n",
       "      <td>0.001000</td>\n",
       "    </tr>\n",
       "    <tr>\n",
       "      <th>11</th>\n",
       "      <td>2</td>\n",
       "      <td>5</td>\n",
       "      <td>0.160000</td>\n",
       "      <td>-0.688088</td>\n",
       "      <td>1.008088</td>\n",
       "      <td>0.802699</td>\n",
       "      <td>0.900000</td>\n",
       "    </tr>\n",
       "    <tr>\n",
       "      <th>12</th>\n",
       "      <td>3</td>\n",
       "      <td>4</td>\n",
       "      <td>1.840000</td>\n",
       "      <td>0.991912</td>\n",
       "      <td>2.688088</td>\n",
       "      <td>9.231036</td>\n",
       "      <td>0.001000</td>\n",
       "    </tr>\n",
       "    <tr>\n",
       "      <th>13</th>\n",
       "      <td>3</td>\n",
       "      <td>5</td>\n",
       "      <td>0.013333</td>\n",
       "      <td>-0.834755</td>\n",
       "      <td>0.861421</td>\n",
       "      <td>0.066892</td>\n",
       "      <td>0.900000</td>\n",
       "    </tr>\n",
       "    <tr>\n",
       "      <th>14</th>\n",
       "      <td>4</td>\n",
       "      <td>5</td>\n",
       "      <td>1.853333</td>\n",
       "      <td>1.005245</td>\n",
       "      <td>2.701421</td>\n",
       "      <td>9.297928</td>\n",
       "      <td>0.001000</td>\n",
       "    </tr>\n",
       "  </tbody>\n",
       "</table>\n",
       "</div>"
      ],
      "text/plain": [
       "    group1  group2      Diff     Lower     Upper    q-value   p-value\n",
       "0        0       1  2.040000  1.191912  2.888088  10.234409  0.001000\n",
       "1        0       2  2.733333  1.885245  3.581421  13.712771  0.001000\n",
       "2        0       3  2.560000  1.711912  3.408088  12.843180  0.001000\n",
       "3        0       4  0.720000 -0.128088  1.568088   3.612145  0.135306\n",
       "4        0       5  2.573333  1.725245  3.421421  12.910072  0.001000\n",
       "5        1       2  0.693333 -0.154755  1.541421   3.478361  0.163609\n",
       "6        1       3  0.520000 -0.328088  1.368088   2.608771  0.453066\n",
       "7        1       4  1.320000  0.471912  2.168088   6.622265  0.001000\n",
       "8        1       5  0.533333 -0.314755  1.381421   2.675663  0.425189\n",
       "9        2       3  0.173333 -0.674755  1.021421   0.869590  0.900000\n",
       "10       2       4  2.013333  1.165245  2.861421  10.100626  0.001000\n",
       "11       2       5  0.160000 -0.688088  1.008088   0.802699  0.900000\n",
       "12       3       4  1.840000  0.991912  2.688088   9.231036  0.001000\n",
       "13       3       5  0.013333 -0.834755  0.861421   0.066892  0.900000\n",
       "14       4       5  1.853333  1.005245  2.701421   9.297928  0.001000"
      ]
     },
     "execution_count": 24,
     "metadata": {},
     "output_type": "execute_result"
    }
   ],
   "source": [
    "# we will use bioinfokit (v1.0.3 or later) for performing tukey HSD test\n",
    "# check documentation here https://github.com/reneshbedre/bioinfokit\n",
    "from bioinfokit.analys import stat\n",
    "# perform multiple pairwise comparison (Tukey HSD)\n",
    "# unequal sample size data, tukey_hsd uses Tukey-Kramer test\n",
    "res = stat()\n",
    "# for main effect Genotype\n",
    "res.tukey_hsd(df=d_melt, res_var='value', xfac_var='Genotype', anova_model='value~C(Genotype)+C(years)+C(Genotype):C(years)')\n",
    "res.tukey_summary\n",
    "\n",
    "\n",
    "# Note: p-value 0.001 from tukey_hsd output should be interpreted as <=0.001"
   ]
  },
  {
   "cell_type": "code",
   "execution_count": 25,
   "id": "0c190b6a",
   "metadata": {
    "ExecuteTime": {
     "end_time": "2022-12-12T12:50:56.473687Z",
     "start_time": "2022-12-12T12:50:56.405003Z"
    },
    "execution": {
     "iopub.execute_input": "2024-01-15T09:15:30.890498Z",
     "iopub.status.busy": "2024-01-15T09:15:30.889828Z",
     "iopub.status.idle": "2024-01-15T09:15:31.002983Z",
     "shell.execute_reply": "2024-01-15T09:15:31.000603Z",
     "shell.execute_reply.started": "2024-01-15T09:15:30.890441Z"
    }
   },
   "outputs": [
    {
     "data": {
      "text/html": [
       "<div>\n",
       "<style scoped>\n",
       "    .dataframe tbody tr th:only-of-type {\n",
       "        vertical-align: middle;\n",
       "    }\n",
       "\n",
       "    .dataframe tbody tr th {\n",
       "        vertical-align: top;\n",
       "    }\n",
       "\n",
       "    .dataframe thead th {\n",
       "        text-align: right;\n",
       "    }\n",
       "</style>\n",
       "<table border=\"1\" class=\"dataframe\">\n",
       "  <thead>\n",
       "    <tr style=\"text-align: right;\">\n",
       "      <th></th>\n",
       "      <th>group1</th>\n",
       "      <th>group2</th>\n",
       "      <th>Diff</th>\n",
       "      <th>Lower</th>\n",
       "      <th>Upper</th>\n",
       "      <th>q-value</th>\n",
       "      <th>p-value</th>\n",
       "    </tr>\n",
       "  </thead>\n",
       "  <tbody>\n",
       "    <tr>\n",
       "      <th>0</th>\n",
       "      <td>0</td>\n",
       "      <td>1</td>\n",
       "      <td>2.146667</td>\n",
       "      <td>1.659513</td>\n",
       "      <td>2.633821</td>\n",
       "      <td>15.230432</td>\n",
       "      <td>0.001</td>\n",
       "    </tr>\n",
       "    <tr>\n",
       "      <th>1</th>\n",
       "      <td>0</td>\n",
       "      <td>2</td>\n",
       "      <td>5.521667</td>\n",
       "      <td>5.034513</td>\n",
       "      <td>6.008821</td>\n",
       "      <td>39.175794</td>\n",
       "      <td>0.001</td>\n",
       "    </tr>\n",
       "    <tr>\n",
       "      <th>2</th>\n",
       "      <td>1</td>\n",
       "      <td>2</td>\n",
       "      <td>3.375000</td>\n",
       "      <td>2.887846</td>\n",
       "      <td>3.862154</td>\n",
       "      <td>23.945361</td>\n",
       "      <td>0.001</td>\n",
       "    </tr>\n",
       "  </tbody>\n",
       "</table>\n",
       "</div>"
      ],
      "text/plain": [
       "   group1  group2      Diff     Lower     Upper    q-value  p-value\n",
       "0       0       1  2.146667  1.659513  2.633821  15.230432    0.001\n",
       "1       0       2  5.521667  5.034513  6.008821  39.175794    0.001\n",
       "2       1       2  3.375000  2.887846  3.862154  23.945361    0.001"
      ]
     },
     "execution_count": 25,
     "metadata": {},
     "output_type": "execute_result"
    }
   ],
   "source": [
    "# for main effect years\n",
    "res.tukey_hsd(df=d_melt, res_var='value', xfac_var='years', anova_model='value ~ C(Genotype) + C(years) + C(Genotype):C(years)')\n",
    "res.tukey_summary\n",
    "\n",
    "# 1_year vs\t2_year, etc. \t"
   ]
  },
  {
   "cell_type": "code",
   "execution_count": 26,
   "id": "6d27c209",
   "metadata": {
    "ExecuteTime": {
     "end_time": "2022-12-12T12:51:09.397162Z",
     "start_time": "2022-12-12T12:51:08.227176Z"
    },
    "execution": {
     "iopub.execute_input": "2024-01-15T09:15:31.009927Z",
     "iopub.status.busy": "2024-01-15T09:15:31.008644Z",
     "iopub.status.idle": "2024-01-15T09:15:32.207579Z",
     "shell.execute_reply": "2024-01-15T09:15:32.207095Z",
     "shell.execute_reply.started": "2024-01-15T09:15:31.009805Z"
    }
   },
   "outputs": [
    {
     "data": {
      "text/html": [
       "<div>\n",
       "<style scoped>\n",
       "    .dataframe tbody tr th:only-of-type {\n",
       "        vertical-align: middle;\n",
       "    }\n",
       "\n",
       "    .dataframe tbody tr th {\n",
       "        vertical-align: top;\n",
       "    }\n",
       "\n",
       "    .dataframe thead th {\n",
       "        text-align: right;\n",
       "    }\n",
       "</style>\n",
       "<table border=\"1\" class=\"dataframe\">\n",
       "  <thead>\n",
       "    <tr style=\"text-align: right;\">\n",
       "      <th></th>\n",
       "      <th>group1</th>\n",
       "      <th>group2</th>\n",
       "      <th>Diff</th>\n",
       "      <th>Lower</th>\n",
       "      <th>Upper</th>\n",
       "      <th>q-value</th>\n",
       "      <th>p-value</th>\n",
       "    </tr>\n",
       "  </thead>\n",
       "  <tbody>\n",
       "    <tr>\n",
       "      <th>0</th>\n",
       "      <td>(0, 0)</td>\n",
       "      <td>(0, 1)</td>\n",
       "      <td>2.38</td>\n",
       "      <td>0.548861</td>\n",
       "      <td>4.211139</td>\n",
       "      <td>6.893646</td>\n",
       "      <td>0.002439</td>\n",
       "    </tr>\n",
       "    <tr>\n",
       "      <th>1</th>\n",
       "      <td>(0, 0)</td>\n",
       "      <td>(0, 2)</td>\n",
       "      <td>4.75</td>\n",
       "      <td>2.918861</td>\n",
       "      <td>6.581139</td>\n",
       "      <td>13.758326</td>\n",
       "      <td>0.001000</td>\n",
       "    </tr>\n",
       "    <tr>\n",
       "      <th>2</th>\n",
       "      <td>(0, 0)</td>\n",
       "      <td>(1, 0)</td>\n",
       "      <td>1.94</td>\n",
       "      <td>0.108861</td>\n",
       "      <td>3.771139</td>\n",
       "      <td>5.619190</td>\n",
       "      <td>0.028673</td>\n",
       "    </tr>\n",
       "    <tr>\n",
       "      <th>3</th>\n",
       "      <td>(0, 0)</td>\n",
       "      <td>(1, 1)</td>\n",
       "      <td>4.41</td>\n",
       "      <td>2.578861</td>\n",
       "      <td>6.241139</td>\n",
       "      <td>12.773520</td>\n",
       "      <td>0.001000</td>\n",
       "    </tr>\n",
       "    <tr>\n",
       "      <th>4</th>\n",
       "      <td>(0, 0)</td>\n",
       "      <td>(1, 2)</td>\n",
       "      <td>6.90</td>\n",
       "      <td>5.068861</td>\n",
       "      <td>8.731139</td>\n",
       "      <td>19.985779</td>\n",
       "      <td>0.001000</td>\n",
       "    </tr>\n",
       "  </tbody>\n",
       "</table>\n",
       "</div>"
      ],
      "text/plain": [
       "   group1  group2  Diff     Lower     Upper    q-value   p-value\n",
       "0  (0, 0)  (0, 1)  2.38  0.548861  4.211139   6.893646  0.002439\n",
       "1  (0, 0)  (0, 2)  4.75  2.918861  6.581139  13.758326  0.001000\n",
       "2  (0, 0)  (1, 0)  1.94  0.108861  3.771139   5.619190  0.028673\n",
       "3  (0, 0)  (1, 1)  4.41  2.578861  6.241139  12.773520  0.001000\n",
       "4  (0, 0)  (1, 2)  6.90  5.068861  8.731139  19.985779  0.001000"
      ]
     },
     "execution_count": 26,
     "metadata": {},
     "output_type": "execute_result"
    }
   ],
   "source": [
    "# for interaction effect between genotype and years\n",
    "res.tukey_hsd(df=d_melt, res_var='value', xfac_var=['Genotype','years'], anova_model='value ~ C(Genotype) + C(years) + C(Genotype):C(years)')\n",
    "res.tukey_summary.head()\n",
    "\n",
    "# (A, 1_year) vs (A, 2_year), etc."
   ]
  },
  {
   "cell_type": "code",
   "execution_count": 27,
   "id": "893ff0a9",
   "metadata": {
    "ExecuteTime": {
     "end_time": "2022-12-12T12:51:39.783839Z",
     "start_time": "2022-12-12T12:51:39.676316Z"
    },
    "execution": {
     "iopub.execute_input": "2024-01-15T09:16:22.443429Z",
     "iopub.status.busy": "2024-01-15T09:16:22.442712Z",
     "iopub.status.idle": "2024-01-15T09:16:22.774697Z",
     "shell.execute_reply": "2024-01-15T09:16:22.774074Z",
     "shell.execute_reply.started": "2024-01-15T09:16:22.443354Z"
    }
   },
   "outputs": [
    {
     "data": {
      "image/png": "[encoded data removed]",
      "text/plain": [
       "<Figure size 640x480 with 1 Axes>"
      ]
     },
     "metadata": {},
     "output_type": "display_data"
    }
   ],
   "source": [
    "# QQ-plot\n",
    "import statsmodels.api as sm\n",
    "import matplotlib.pyplot as plt\n",
    "# res.anova_std_residuals are standardized residuals obtained from two-way ANOVA (check above)\n",
    "sm.qqplot(res.anova_std_residuals, line='45')\n",
    "plt.xlabel(\"Theoretical Quantiles\")\n",
    "plt.ylabel(\"Standardized Residuals\")\n",
    "plt.show()"
   ]
  },
  {
   "cell_type": "code",
   "execution_count": 28,
   "id": "6f69c7f2",
   "metadata": {
    "ExecuteTime": {
     "end_time": "2022-12-12T12:52:09.729942Z",
     "start_time": "2022-12-12T12:52:09.603488Z"
    },
    "execution": {
     "iopub.execute_input": "2024-01-15T09:16:52.343790Z",
     "iopub.status.busy": "2024-01-15T09:16:52.342814Z",
     "iopub.status.idle": "2024-01-15T09:16:52.704920Z",
     "shell.execute_reply": "2024-01-15T09:16:52.704212Z",
     "shell.execute_reply.started": "2024-01-15T09:16:52.343696Z"
    }
   },
   "outputs": [
    {
     "data": {
      "image/png": "[encoded data removed]",
      "text/plain": [
       "<Figure size 640x480 with 1 Axes>"
      ]
     },
     "metadata": {},
     "output_type": "display_data"
    }
   ],
   "source": [
    "# histogram\n",
    "plt.hist(res.anova_model_out.resid, bins='auto', histtype='bar', ec='k') \n",
    "plt.xlabel(\"Residuals\")\n",
    "plt.ylabel('Frequency')\n",
    "plt.show()"
   ]
  },
  {
   "cell_type": "code",
   "execution_count": 29,
   "id": "d0aab865",
   "metadata": {
    "ExecuteTime": {
     "end_time": "2022-12-12T12:52:44.499410Z",
     "start_time": "2022-12-12T12:52:44.487969Z"
    },
    "execution": {
     "iopub.execute_input": "2024-01-15T09:17:07.617312Z",
     "iopub.status.busy": "2024-01-15T09:17:07.615452Z",
     "iopub.status.idle": "2024-01-15T09:17:07.629844Z",
     "shell.execute_reply": "2024-01-15T09:17:07.627030Z",
     "shell.execute_reply.started": "2024-01-15T09:17:07.617234Z"
    }
   },
   "outputs": [
    {
     "name": "stdout",
     "output_type": "stream",
     "text": [
      "0.8978845477104187 0.00023986827000044286\n"
     ]
    }
   ],
   "source": [
    "# Shapiro-Wilk test\n",
    "import scipy.stats as stats\n",
    "w, pvalue = stats.shapiro(res.anova_model_out.resid)\n",
    "print(w, pvalue)"
   ]
  },
  {
   "cell_type": "code",
   "execution_count": 30,
   "id": "be26333a",
   "metadata": {
    "ExecuteTime": {
     "end_time": "2022-12-12T12:52:57.774028Z",
     "start_time": "2022-12-12T12:52:57.727511Z"
    },
    "execution": {
     "iopub.execute_input": "2024-01-15T09:17:54.232143Z",
     "iopub.status.busy": "2024-01-15T09:17:54.231452Z",
     "iopub.status.idle": "2024-01-15T09:17:54.299457Z",
     "shell.execute_reply": "2024-01-15T09:17:54.296500Z",
     "shell.execute_reply.started": "2024-01-15T09:17:54.232084Z"
    }
   },
   "outputs": [
    {
     "data": {
      "text/html": [
       "<div>\n",
       "<style scoped>\n",
       "    .dataframe tbody tr th:only-of-type {\n",
       "        vertical-align: middle;\n",
       "    }\n",
       "\n",
       "    .dataframe tbody tr th {\n",
       "        vertical-align: top;\n",
       "    }\n",
       "\n",
       "    .dataframe thead th {\n",
       "        text-align: right;\n",
       "    }\n",
       "</style>\n",
       "<table border=\"1\" class=\"dataframe\">\n",
       "  <thead>\n",
       "    <tr style=\"text-align: right;\">\n",
       "      <th></th>\n",
       "      <th>Parameter</th>\n",
       "      <th>Value</th>\n",
       "    </tr>\n",
       "  </thead>\n",
       "  <tbody>\n",
       "    <tr>\n",
       "      <th>0</th>\n",
       "      <td>Test statistics (W)</td>\n",
       "      <td>1.6849</td>\n",
       "    </tr>\n",
       "    <tr>\n",
       "      <th>1</th>\n",
       "      <td>Degrees of freedom (Df)</td>\n",
       "      <td>17.0000</td>\n",
       "    </tr>\n",
       "    <tr>\n",
       "      <th>2</th>\n",
       "      <td>p value</td>\n",
       "      <td>0.0927</td>\n",
       "    </tr>\n",
       "  </tbody>\n",
       "</table>\n",
       "</div>"
      ],
      "text/plain": [
       "                 Parameter    Value\n",
       "0      Test statistics (W)   1.6849\n",
       "1  Degrees of freedom (Df)  17.0000\n",
       "2                  p value   0.0927"
      ]
     },
     "execution_count": 30,
     "metadata": {},
     "output_type": "execute_result"
    }
   ],
   "source": [
    "# if you have  a stacked table, you can use bioinfokit v1.0.3 or later for the Levene's test\n",
    "from bioinfokit.analys import stat \n",
    "res = stat()\n",
    "res.levene(df=d_melt, res_var='value', xfac_var=['Genotype', 'years'])\n",
    "res.levene_summary"
   ]
  },
  {
   "cell_type": "code",
   "execution_count": null,
   "id": "804edd8a",
   "metadata": {},
   "outputs": [],
   "source": []
  },
  {
   "cell_type": "code",
   "execution_count": null,
   "id": "63e01e41-d600-4ca8-9a76-5c80d78fa2ac",
   "metadata": {},
   "outputs": [],
   "source": []
  },
  {
   "cell_type": "code",
   "execution_count": null,
   "id": "07d999f9-860c-49b5-bd35-e8a2c20b7111",
   "metadata": {},
   "outputs": [],
   "source": []
  }
 ],
 "metadata": {
  "hide_input": false,
  "kernelspec": {
   "display_name": "venv",
   "language": "python",
   "name": "venv"
  },
  "language_info": {
   "codemirror_mode": {
    "name": "ipython",
    "version": 3
   },
   "file_extension": ".py",
   "mimetype": "text/x-python",
   "name": "python",
   "nbconvert_exporter": "python",
   "pygments_lexer": "ipython3",
   "version": "3.11.4"
  },
  "latex_envs": {
   "LaTeX_envs_menu_present": true,
   "autoclose": true,
   "autocomplete": true,
   "bibliofile": "biblio.bib",
   "cite_by": "apalike",
   "current_citInitial": 1,
   "eqLabelWithNumbers": true,
   "eqNumInitial": 1,
   "hotkeys": {
    "equation": "Ctrl-E",
    "itemize": "Ctrl-I"
   },
   "labels_anchors": false,
   "latex_user_defs": false,
   "report_style_numbering": false,
   "user_envs_cfg": false
  },
  "toc": {
   "base_numbering": 1,
   "nav_menu": {},
   "number_sections": true,
   "sideBar": true,
   "skip_h1_title": false,
   "title_cell": "Table of Contents",
   "title_sidebar": "Contents",
   "toc_cell": false,
   "toc_position": {},
   "toc_section_display": true,
   "toc_window_display": false
  },
  "varInspector": {
   "cols": {
    "lenName": 16,
    "lenType": 16,
    "lenVar": 40
   },
   "kernels_config": {
    "python": {
     "delete_cmd_postfix": "",
     "delete_cmd_prefix": "del ",
     "library": "var_list.py",
     "varRefreshCmd": "print(var_dic_list())"
    },
    "r": {
     "delete_cmd_postfix": ") ",
     "delete_cmd_prefix": "rm(",
     "library": "var_list.r",
     "varRefreshCmd": "cat(var_dic_list()) "
    }
   },
   "types_to_exclude": [
    "module",
    "function",
    "builtin_function_or_method",
    "instance",
    "_Feature"
   ],
   "window_display": false
  }
 },
 "nbformat": 4,
 "nbformat_minor": 5
}
