{
 "cells": [
  {
   "cell_type": "code",
   "execution_count": 1,
   "id": "759f9e0a",
   "metadata": {
    "ExecuteTime": {
     "end_time": "2022-09-12T07:28:59.123659Z",
     "start_time": "2022-09-12T07:28:57.994879Z"
    }
   },
   "outputs": [],
   "source": [
    "import numpy as np\n",
    "import numpy.random as npr\n",
    "import matplotlib.pyplot as plt"
   ]
  },
  {
   "cell_type": "code",
   "execution_count": 142,
   "id": "9010f169",
   "metadata": {
    "ExecuteTime": {
     "end_time": "2022-09-12T11:27:27.787947Z",
     "start_time": "2022-09-12T11:27:27.784806Z"
    }
   },
   "outputs": [],
   "source": [
    "X = npr.randint(30,40,1000)"
   ]
  },
  {
   "cell_type": "code",
   "execution_count": 165,
   "id": "b6e73667",
   "metadata": {
    "ExecuteTime": {
     "end_time": "2022-09-12T11:28:51.040492Z",
     "start_time": "2022-09-12T11:28:51.032140Z"
    }
   },
   "outputs": [],
   "source": [
    "X = npr.normal(2,10,1000)"
   ]
  },
  {
   "cell_type": "code",
   "execution_count": 181,
   "id": "e5412707",
   "metadata": {
    "ExecuteTime": {
     "end_time": "2022-09-12T11:29:42.331261Z",
     "start_time": "2022-09-12T11:29:42.215485Z"
    }
   },
   "outputs": [
    {
     "data": {
      "text/plain": [
       "(array([202., 306., 207., 136.,  67.,  40.,  19.,  11.,   8.,   4.]),\n",
       " array([ 0.54926444,  8.71603201, 16.88279959, 25.04956716, 33.21633474,\n",
       "        41.38310231, 49.54986989, 57.71663746, 65.88340504, 74.05017261,\n",
       "        82.21694019]),\n",
       " <BarContainer object of 10 artists>)"
      ]
     },
     "execution_count": 181,
     "metadata": {},
     "output_type": "execute_result"
    },
    {
     "data": {
      "image/png": "[encoded data removed]",
      "text/plain": [
       "<Figure size 432x288 with 1 Axes>"
      ]
     },
     "metadata": {
      "needs_background": "light"
     },
     "output_type": "display_data"
    }
   ],
   "source": [
    "X = npr.gamma(2,10,1000)\n",
    "plt.hist(X)"
   ]
  },
  {
   "cell_type": "code",
   "execution_count": 182,
   "id": "1064a2a2",
   "metadata": {
    "ExecuteTime": {
     "end_time": "2022-09-12T11:29:46.269278Z",
     "start_time": "2022-09-12T11:29:46.257846Z"
    }
   },
   "outputs": [
    {
     "data": {
      "text/plain": [
       "19.98498449267753"
      ]
     },
     "execution_count": 182,
     "metadata": {},
     "output_type": "execute_result"
    }
   ],
   "source": [
    "np.mean(X)"
   ]
  },
  {
   "cell_type": "code",
   "execution_count": 183,
   "id": "d3567724",
   "metadata": {
    "ExecuteTime": {
     "end_time": "2022-09-12T11:29:46.513237Z",
     "start_time": "2022-09-12T11:29:46.507556Z"
    }
   },
   "outputs": [],
   "source": [
    "npr.seed(666)"
   ]
  },
  {
   "cell_type": "code",
   "execution_count": 184,
   "id": "bf8bed48",
   "metadata": {
    "ExecuteTime": {
     "end_time": "2022-09-12T11:29:46.752556Z",
     "start_time": "2022-09-12T11:29:46.736937Z"
    }
   },
   "outputs": [],
   "source": [
    "bootstrap_samples = npr.choice(X, size = (1000, len(X)), replace = True )"
   ]
  },
  {
   "cell_type": "code",
   "execution_count": 185,
   "id": "4055b6ea",
   "metadata": {
    "ExecuteTime": {
     "end_time": "2022-09-12T11:29:46.925047Z",
     "start_time": "2022-09-12T11:29:46.920567Z"
    }
   },
   "outputs": [],
   "source": [
    "bootstrap_means = np.mean(bootstrap_samples, axis=1)"
   ]
  },
  {
   "cell_type": "markdown",
   "id": "0eff4433",
   "metadata": {},
   "source": [
    "### Percentile Bootstrap"
   ]
  },
  {
   "cell_type": "code",
   "execution_count": 186,
   "id": "a4cf9641",
   "metadata": {
    "ExecuteTime": {
     "end_time": "2022-09-12T11:29:47.538479Z",
     "start_time": "2022-09-12T11:29:47.465004Z"
    }
   },
   "outputs": [
    {
     "data": {
      "image/png": "[encoded data removed]",
      "text/plain": [
       "<Figure size 432x288 with 1 Axes>"
      ]
     },
     "metadata": {
      "needs_background": "light"
     },
     "output_type": "display_data"
    }
   ],
   "source": [
    "plt.hist(bootstrap_means);"
   ]
  },
  {
   "cell_type": "code",
   "execution_count": 187,
   "id": "8d39f216",
   "metadata": {
    "ExecuteTime": {
     "end_time": "2022-09-12T11:29:49.342853Z",
     "start_time": "2022-09-12T11:29:49.328823Z"
    }
   },
   "outputs": [
    {
     "data": {
      "text/plain": [
       "array([19.45420108, 20.5235062 ])"
      ]
     },
     "execution_count": 187,
     "metadata": {},
     "output_type": "execute_result"
    }
   ],
   "source": [
    "np.quantile(bootstrap_means, (0.1,0.9))"
   ]
  },
  {
   "cell_type": "markdown",
   "id": "f5bd9480",
   "metadata": {},
   "source": [
    "### Empirical Bootstrap"
   ]
  },
  {
   "cell_type": "code",
   "execution_count": 188,
   "id": "7dd8db77",
   "metadata": {
    "ExecuteTime": {
     "end_time": "2022-09-12T11:29:49.817678Z",
     "start_time": "2022-09-12T11:29:49.807519Z"
    }
   },
   "outputs": [],
   "source": [
    "d_samples = npr.choice(X-np.mean(X), size = (1000, len(X)), replace = True )"
   ]
  },
  {
   "cell_type": "code",
   "execution_count": 189,
   "id": "ab524455",
   "metadata": {
    "ExecuteTime": {
     "end_time": "2022-09-12T11:29:49.995116Z",
     "start_time": "2022-09-12T11:29:49.992169Z"
    }
   },
   "outputs": [],
   "source": [
    "d_means = np.mean(d_samples, axis=1)"
   ]
  },
  {
   "cell_type": "code",
   "execution_count": 190,
   "id": "5d6821f8",
   "metadata": {
    "ExecuteTime": {
     "end_time": "2022-09-12T11:29:50.354336Z",
     "start_time": "2022-09-12T11:29:50.275901Z"
    }
   },
   "outputs": [
    {
     "data": {
      "image/png": "[encoded data removed]",
      "text/plain": [
       "<Figure size 432x288 with 1 Axes>"
      ]
     },
     "metadata": {
      "needs_background": "light"
     },
     "output_type": "display_data"
    }
   ],
   "source": [
    "plt.hist(d_means);"
   ]
  },
  {
   "cell_type": "code",
   "execution_count": 191,
   "id": "e3d6aa62",
   "metadata": {
    "ExecuteTime": {
     "end_time": "2022-09-12T11:29:50.572843Z",
     "start_time": "2022-09-12T11:29:50.569146Z"
    }
   },
   "outputs": [
    {
     "data": {
      "text/plain": [
       "array([19.39134929, 20.55078218])"
      ]
     },
     "execution_count": 191,
     "metadata": {},
     "output_type": "execute_result"
    }
   ],
   "source": [
    "np.mean(X) + np.quantile(d_means, (0.1,0.9))"
   ]
  },
  {
   "cell_type": "markdown",
   "id": "ccc71e3d",
   "metadata": {},
   "source": [
    "### t-bootstrap"
   ]
  },
  {
   "cell_type": "code",
   "execution_count": 11,
   "id": "586826dd",
   "metadata": {
    "ExecuteTime": {
     "end_time": "2022-09-12T07:29:06.419460Z",
     "start_time": "2022-09-12T07:29:06.405773Z"
    }
   },
   "outputs": [
    {
     "data": {
      "text/plain": [
       "35.2"
      ]
     },
     "execution_count": 11,
     "metadata": {},
     "output_type": "execute_result"
    }
   ],
   "source": [
    "np.mean(X)"
   ]
  },
  {
   "cell_type": "code",
   "execution_count": 12,
   "id": "57a2000c",
   "metadata": {
    "ExecuteTime": {
     "end_time": "2022-09-12T07:29:06.729008Z",
     "start_time": "2022-09-12T07:29:06.720273Z"
    }
   },
   "outputs": [
    {
     "data": {
      "text/plain": [
       "array([35.2, 34.1, 35.4, 36. , 35.1, 34.7, 35.4, 34.8, 33.8, 34.9, 35.6,\n",
       "       35.9, 35.2, 35.8, 35.9, 35.1, 34.6, 36.6, 35.1, 35.7])"
      ]
     },
     "execution_count": 12,
     "metadata": {},
     "output_type": "execute_result"
    }
   ],
   "source": [
    "bootstrap_means"
   ]
  },
  {
   "cell_type": "code",
   "execution_count": 13,
   "id": "09c93c78",
   "metadata": {
    "ExecuteTime": {
     "end_time": "2022-09-12T07:29:07.641283Z",
     "start_time": "2022-09-12T07:29:07.637100Z"
    }
   },
   "outputs": [],
   "source": [
    "bootstrap_std = np.std(bootstrap_samples, axis=1)"
   ]
  },
  {
   "cell_type": "code",
   "execution_count": 14,
   "id": "a82e832a",
   "metadata": {
    "ExecuteTime": {
     "end_time": "2022-09-12T07:29:07.967822Z",
     "start_time": "2022-09-12T07:29:07.958415Z"
    }
   },
   "outputs": [],
   "source": [
    "tt = (bootstrap_means-np.mean(X))/bootstrap_std"
   ]
  },
  {
   "cell_type": "code",
   "execution_count": 15,
   "id": "541b2aa8",
   "metadata": {
    "ExecuteTime": {
     "end_time": "2022-09-12T07:29:08.423827Z",
     "start_time": "2022-09-12T07:29:08.415787Z"
    }
   },
   "outputs": [],
   "source": [
    "# plt.hist(tt);"
   ]
  },
  {
   "cell_type": "code",
   "execution_count": 16,
   "id": "96105580",
   "metadata": {
    "ExecuteTime": {
     "end_time": "2022-09-12T07:29:08.757640Z",
     "start_time": "2022-09-12T07:29:08.744853Z"
    }
   },
   "outputs": [
    {
     "data": {
      "text/plain": [
       "array([-0.24138928,  0.45088606])"
      ]
     },
     "execution_count": 16,
     "metadata": {},
     "output_type": "execute_result"
    }
   ],
   "source": [
    "np.quantile(tt, (0.1,0.9))"
   ]
  },
  {
   "cell_type": "code",
   "execution_count": 17,
   "id": "62b1a4ef",
   "metadata": {
    "ExecuteTime": {
     "end_time": "2022-09-12T07:29:09.293580Z",
     "start_time": "2022-09-12T07:29:09.280062Z"
    }
   },
   "outputs": [
    {
     "data": {
      "text/plain": [
       "array([35.01054402, 35.55388093])"
      ]
     },
     "execution_count": 17,
     "metadata": {},
     "output_type": "execute_result"
    }
   ],
   "source": [
    "np.mean(X)+np.quantile(tt, (0.1,0.9))*np.std(X)/np.sqrt(len(X))"
   ]
  },
  {
   "cell_type": "code",
   "execution_count": 18,
   "id": "d053dd1c",
   "metadata": {
    "ExecuteTime": {
     "end_time": "2022-09-12T07:29:10.017949Z",
     "start_time": "2022-09-12T07:29:10.002227Z"
    }
   },
   "outputs": [
    {
     "data": {
      "text/plain": [
       "array([34.55, 35.91])"
      ]
     },
     "execution_count": 18,
     "metadata": {},
     "output_type": "execute_result"
    }
   ],
   "source": [
    "np.quantile(bootstrap_means, (0.1,0.9))"
   ]
  },
  {
   "cell_type": "markdown",
   "id": "4fed476f",
   "metadata": {},
   "source": [
    "### Sharpe Ratio"
   ]
  },
  {
   "cell_type": "code",
   "execution_count": 21,
   "id": "9cf73d99",
   "metadata": {
    "ExecuteTime": {
     "end_time": "2022-09-12T07:29:38.671833Z",
     "start_time": "2022-09-12T07:29:38.449086Z"
    }
   },
   "outputs": [],
   "source": [
    "import datetime as dt \n",
    "import pandas as pd\n",
    "import pandas_datareader.data as web"
   ]
  },
  {
   "cell_type": "code",
   "execution_count": 22,
   "id": "8f81f4b3",
   "metadata": {
    "ExecuteTime": {
     "end_time": "2022-09-12T07:29:42.283454Z",
     "start_time": "2022-09-12T07:29:39.864555Z"
    }
   },
   "outputs": [],
   "source": [
    "start = dt.datetime(1951,1,1)\n",
    "end = dt.datetime(2022,1,1)\n",
    "sp500 = web.DataReader('^GSPC', 'yahoo', start=start, end=end)"
   ]
  },
  {
   "cell_type": "code",
   "execution_count": 23,
   "id": "74eaf79a",
   "metadata": {
    "ExecuteTime": {
     "end_time": "2022-09-12T07:29:42.382851Z",
     "start_time": "2022-09-12T07:29:42.353949Z"
    }
   },
   "outputs": [],
   "source": [
    "monthly_dates = pd.date_range(sp500.index.min(), sp500.index.max(), freq='M')"
   ]
  },
  {
   "cell_type": "code",
   "execution_count": 24,
   "id": "cd0b237d",
   "metadata": {
    "ExecuteTime": {
     "end_time": "2022-09-12T07:29:42.950300Z",
     "start_time": "2022-09-12T07:29:42.938666Z"
    }
   },
   "outputs": [],
   "source": [
    "monthly_data = sp500.reindex(monthly_dates, method='ffill')"
   ]
  },
  {
   "cell_type": "code",
   "execution_count": 25,
   "id": "a1b0172e",
   "metadata": {
    "ExecuteTime": {
     "end_time": "2022-09-12T07:29:43.533171Z",
     "start_time": "2022-09-12T07:29:43.518985Z"
    }
   },
   "outputs": [],
   "source": [
    "returns = 100*monthly_data['Adj Close'].pct_change().dropna()"
   ]
  },
  {
   "cell_type": "code",
   "execution_count": 26,
   "id": "49edce55",
   "metadata": {
    "ExecuteTime": {
     "end_time": "2022-09-12T07:29:44.028327Z",
     "start_time": "2022-09-12T07:29:44.021650Z"
    }
   },
   "outputs": [],
   "source": [
    "# returns"
   ]
  },
  {
   "cell_type": "code",
   "execution_count": 27,
   "id": "7bcbdeeb",
   "metadata": {
    "ExecuteTime": {
     "end_time": "2022-09-12T07:29:44.443707Z",
     "start_time": "2022-09-12T07:29:44.434536Z"
    }
   },
   "outputs": [],
   "source": [
    "def sharpe_ratio(x):\n",
    "    mu, sigma = 12*x.mean(), np.sqrt(12*x.var())\n",
    "    return mu/sigma"
   ]
  },
  {
   "cell_type": "code",
   "execution_count": 31,
   "id": "7ca229e7",
   "metadata": {
    "ExecuteTime": {
     "end_time": "2022-09-12T07:30:40.348484Z",
     "start_time": "2022-09-12T07:30:39.376176Z"
    }
   },
   "outputs": [],
   "source": [
    "from arch.bootstrap import IIDBootstrap"
   ]
  },
  {
   "cell_type": "code",
   "execution_count": 30,
   "id": "0bea7a7d",
   "metadata": {
    "ExecuteTime": {
     "end_time": "2022-09-12T07:30:35.897982Z",
     "start_time": "2022-09-12T07:30:35.889916Z"
    }
   },
   "outputs": [],
   "source": [
    "# !pip install arch"
   ]
  },
  {
   "cell_type": "code",
   "execution_count": 32,
   "id": "71a8e5fe",
   "metadata": {
    "ExecuteTime": {
     "end_time": "2022-09-12T07:30:42.086192Z",
     "start_time": "2022-09-12T07:30:42.077898Z"
    }
   },
   "outputs": [],
   "source": [
    "bs = IIDBootstrap(returns)"
   ]
  },
  {
   "cell_type": "code",
   "execution_count": 36,
   "id": "0245db58",
   "metadata": {
    "ExecuteTime": {
     "end_time": "2022-09-12T07:31:05.950245Z",
     "start_time": "2022-09-12T07:31:05.436244Z"
    }
   },
   "outputs": [
    {
     "data": {
      "text/plain": [
       "array([[0.34699273],\n",
       "       [0.83316205]])"
      ]
     },
     "execution_count": 36,
     "metadata": {},
     "output_type": "execute_result"
    }
   ],
   "source": [
    "bs.conf_int(sharpe_ratio, 1000, method='basic')"
   ]
  },
  {
   "cell_type": "code",
   "execution_count": 37,
   "id": "1b52adad",
   "metadata": {
    "ExecuteTime": {
     "end_time": "2022-09-12T07:31:07.160853Z",
     "start_time": "2022-09-12T07:31:06.697609Z"
    }
   },
   "outputs": [
    {
     "data": {
      "text/plain": [
       "array([[0.36509837],\n",
       "       [0.8457586 ]])"
      ]
     },
     "execution_count": 37,
     "metadata": {},
     "output_type": "execute_result"
    }
   ],
   "source": [
    "bs.conf_int(sharpe_ratio, 1000, method='percentile')"
   ]
  },
  {
   "cell_type": "code",
   "execution_count": 38,
   "id": "a2f88521",
   "metadata": {
    "ExecuteTime": {
     "end_time": "2022-09-12T07:31:07.981044Z",
     "start_time": "2022-09-12T07:31:07.473084Z"
    }
   },
   "outputs": [
    {
     "data": {
      "text/plain": [
       "array([[0.35851932],\n",
       "       [0.84427182]])"
      ]
     },
     "execution_count": 38,
     "metadata": {},
     "output_type": "execute_result"
    }
   ],
   "source": [
    "bs.conf_int(sharpe_ratio, 1000, method='norm')"
   ]
  },
  {
   "cell_type": "code",
   "execution_count": 42,
   "id": "4b995ebf",
   "metadata": {
    "ExecuteTime": {
     "end_time": "2022-09-12T07:32:26.844465Z",
     "start_time": "2022-09-12T07:32:26.830876Z"
    }
   },
   "outputs": [],
   "source": [
    "# EG DONT RUN\n",
    "def sharpe_ratio_se(params, x):\n",
    "    mu, sigma, sr = params\n",
    "    y = 12 * x\n",
    "    e1 = y - mu\n",
    "    e2 = y ** 2.0 - sigma ** 2.0\n",
    "    errors = np.vstack((e1, e2)).T\n",
    "    t = errors.shape[0]\n",
    "    vcv = errors.T.dot(errors) / t\n",
    "    D = np.array([[1, 0],\n",
    "    [0, 0.5 * 1 / sigma],\n",
    "    [1.0 / sigma, - mu / (2.0 * sigma**3)]\n",
    "    ])\n",
    "    avar = D.dot(vcv /t).dot(D.T)\n",
    "    return np.sqrt(np.diag(avar))\n",
    "\n",
    "bs.conf_int(sharpe_ratio, 100, method='studentized', std_err_func = sharpe_ratio_se)"
   ]
  },
  {
   "cell_type": "code",
   "execution_count": 64,
   "id": "fe23d4d9",
   "metadata": {
    "ExecuteTime": {
     "end_time": "2021-09-08T10:38:49.492054Z",
     "start_time": "2021-09-08T10:38:48.870609Z"
    }
   },
   "outputs": [],
   "source": [
    "res = bs.apply(sharpe_ratio, 2500)"
   ]
  },
  {
   "cell_type": "code",
   "execution_count": 66,
   "id": "b447ac97",
   "metadata": {
    "ExecuteTime": {
     "end_time": "2021-09-08T10:39:08.003132Z",
     "start_time": "2021-09-08T10:39:07.890046Z"
    }
   },
   "outputs": [
    {
     "data": {
      "image/png": "[encoded data removed]",
      "text/plain": [
       "<Figure size 432x288 with 1 Axes>"
      ]
     },
     "metadata": {
      "needs_background": "light"
     },
     "output_type": "display_data"
    }
   ],
   "source": [
    "plt.hist(res);"
   ]
  },
  {
   "cell_type": "code",
   "execution_count": 68,
   "id": "c162f498",
   "metadata": {
    "ExecuteTime": {
     "end_time": "2021-09-08T10:39:53.459428Z",
     "start_time": "2021-09-08T10:39:53.449228Z"
    }
   },
   "outputs": [
    {
     "data": {
      "text/plain": [
       "0.5989521249745213"
      ]
     },
     "execution_count": 68,
     "metadata": {},
     "output_type": "execute_result"
    }
   ],
   "source": [
    "sharpe_ratio(returns)"
   ]
  },
  {
   "cell_type": "markdown",
   "id": "5a1b7cfb",
   "metadata": {},
   "source": [
    "#### CI for maximum "
   ]
  },
  {
   "cell_type": "code",
   "execution_count": 48,
   "id": "33f32597",
   "metadata": {
    "ExecuteTime": {
     "end_time": "2022-09-12T07:34:11.150654Z",
     "start_time": "2022-09-12T07:34:11.144523Z"
    }
   },
   "outputs": [],
   "source": [
    "u = npr.normal(0,100,40)\n",
    "x = np.arange(40)\n",
    "y = 2+40*x-x**2+u"
   ]
  },
  {
   "cell_type": "code",
   "execution_count": 49,
   "id": "6eb767b2",
   "metadata": {
    "ExecuteTime": {
     "end_time": "2022-09-12T07:34:11.538798Z",
     "start_time": "2022-09-12T07:34:11.294633Z"
    }
   },
   "outputs": [
    {
     "data": {
      "text/plain": [
       "<matplotlib.collections.PathCollection at 0x7f8e4fce5c90>"
      ]
     },
     "execution_count": 49,
     "metadata": {},
     "output_type": "execute_result"
    },
    {
     "data": {
      "image/png": "[encoded data removed]",
      "text/plain": [
       "<Figure size 432x288 with 1 Axes>"
      ]
     },
     "metadata": {
      "needs_background": "light"
     },
     "output_type": "display_data"
    }
   ],
   "source": [
    "plt.scatter(x, y)"
   ]
  },
  {
   "cell_type": "code",
   "execution_count": 50,
   "id": "1e1ceeb2",
   "metadata": {
    "ExecuteTime": {
     "end_time": "2022-09-12T07:34:11.634979Z",
     "start_time": "2022-09-12T07:34:11.629633Z"
    }
   },
   "outputs": [],
   "source": [
    "bs = IIDBootstrap(y)"
   ]
  },
  {
   "cell_type": "code",
   "execution_count": 51,
   "id": "7d870396",
   "metadata": {
    "ExecuteTime": {
     "end_time": "2022-09-12T07:34:11.726123Z",
     "start_time": "2022-09-12T07:34:11.718381Z"
    }
   },
   "outputs": [
    {
     "data": {
      "text/plain": [
       "601.4193035334082"
      ]
     },
     "execution_count": 51,
     "metadata": {},
     "output_type": "execute_result"
    }
   ],
   "source": [
    "np.max(y)"
   ]
  },
  {
   "cell_type": "code",
   "execution_count": 52,
   "id": "bcf89a44",
   "metadata": {
    "ExecuteTime": {
     "end_time": "2022-09-12T07:34:12.569071Z",
     "start_time": "2022-09-12T07:34:12.247470Z"
    }
   },
   "outputs": [
    {
     "data": {
      "image/png": "[encoded data removed]",
      "text/plain": [
       "<Figure size 432x288 with 1 Axes>"
      ]
     },
     "metadata": {
      "needs_background": "light"
     },
     "output_type": "display_data"
    }
   ],
   "source": [
    "res = bs.apply(np.max, 2500)\n",
    "plt.hist(res);"
   ]
  },
  {
   "cell_type": "code",
   "execution_count": 60,
   "id": "62ddb6ba",
   "metadata": {
    "ExecuteTime": {
     "end_time": "2022-09-12T07:35:20.646003Z",
     "start_time": "2022-09-12T07:35:20.568047Z"
    }
   },
   "outputs": [
    {
     "data": {
      "text/plain": [
       "array([[519.77201324],\n",
       "       [601.41930353]])"
      ]
     },
     "execution_count": 60,
     "metadata": {},
     "output_type": "execute_result"
    }
   ],
   "source": [
    "bs.conf_int(np.max, 1000, method='percentile')"
   ]
  },
  {
   "cell_type": "code",
   "execution_count": 61,
   "id": "33cad540",
   "metadata": {
    "ExecuteTime": {
     "end_time": "2022-09-12T07:35:21.340700Z",
     "start_time": "2022-09-12T07:35:21.204889Z"
    }
   },
   "outputs": [
    {
     "data": {
      "text/plain": [
       "array([[-81.64729029],\n",
       "       [  0.        ]])"
      ]
     },
     "execution_count": 61,
     "metadata": {},
     "output_type": "execute_result"
    }
   ],
   "source": [
    "bs.conf_int(np.max, 1000, method='percentile')-np.max(y)"
   ]
  },
  {
   "cell_type": "code",
   "execution_count": 56,
   "id": "3de817a2",
   "metadata": {
    "ExecuteTime": {
     "end_time": "2022-09-12T07:34:30.133656Z",
     "start_time": "2022-09-12T07:34:30.093031Z"
    }
   },
   "outputs": [
    {
     "data": {
      "text/plain": [
       "array([[546.11245904],\n",
       "       [656.72614802]])"
      ]
     },
     "execution_count": 56,
     "metadata": {},
     "output_type": "execute_result"
    }
   ],
   "source": [
    "bs.conf_int(np.max, 500, method='norm')"
   ]
  },
  {
   "cell_type": "code",
   "execution_count": 57,
   "id": "afe79d16",
   "metadata": {
    "ExecuteTime": {
     "end_time": "2022-09-12T07:34:33.336219Z",
     "start_time": "2022-09-12T07:34:33.290498Z"
    }
   },
   "outputs": [
    {
     "data": {
      "text/plain": [
       "array([[-57.5814794],\n",
       "       [ 57.5814794]])"
      ]
     },
     "execution_count": 57,
     "metadata": {},
     "output_type": "execute_result"
    }
   ],
   "source": [
    "bs.conf_int(np.max, 500, method='norm')-np.max(y)"
   ]
  },
  {
   "cell_type": "code",
   "execution_count": 72,
   "id": "35bb6189",
   "metadata": {
    "ExecuteTime": {
     "end_time": "2022-09-12T07:38:15.334722Z",
     "start_time": "2022-09-12T07:38:15.222081Z"
    }
   },
   "outputs": [
    {
     "data": {
      "text/plain": [
       "array([[494.35000546],\n",
       "       [601.41930353]])"
      ]
     },
     "execution_count": 72,
     "metadata": {},
     "output_type": "execute_result"
    }
   ],
   "source": [
    "bs.conf_int(np.max, 1000, method='bc')"
   ]
  },
  {
   "cell_type": "code",
   "execution_count": 73,
   "id": "92ee64d3",
   "metadata": {
    "ExecuteTime": {
     "end_time": "2022-09-12T07:38:20.028890Z",
     "start_time": "2022-09-12T07:38:19.947984Z"
    }
   },
   "outputs": [
    {
     "data": {
      "text/plain": [
       "array([[-107.06929808],\n",
       "       [   0.        ]])"
      ]
     },
     "execution_count": 73,
     "metadata": {},
     "output_type": "execute_result"
    }
   ],
   "source": [
    "bs.conf_int(np.max, 1000, method='bc')-np.max(y)"
   ]
  },
  {
   "cell_type": "code",
   "execution_count": 69,
   "id": "ad8a0c3b",
   "metadata": {
    "ExecuteTime": {
     "end_time": "2022-09-12T07:37:34.178852Z",
     "start_time": "2022-09-12T07:37:34.088449Z"
    }
   },
   "outputs": [
    {
     "data": {
      "text/plain": [
       "array([[519.77201324],\n",
       "       [601.41930353]])"
      ]
     },
     "execution_count": 69,
     "metadata": {},
     "output_type": "execute_result"
    }
   ],
   "source": [
    "bs.conf_int(np.max, 1000, method='bca')"
   ]
  },
  {
   "cell_type": "code",
   "execution_count": 71,
   "id": "10cb6a30",
   "metadata": {
    "ExecuteTime": {
     "end_time": "2022-09-12T07:37:59.932575Z",
     "start_time": "2022-09-12T07:37:59.817239Z"
    }
   },
   "outputs": [
    {
     "data": {
      "text/plain": [
       "array([[-81.64729029],\n",
       "       [  0.        ]])"
      ]
     },
     "execution_count": 71,
     "metadata": {},
     "output_type": "execute_result"
    }
   ],
   "source": [
    "bs.conf_int(np.max, 1000, method='bca')-np.max(y)"
   ]
  },
  {
   "cell_type": "code",
   "execution_count": 67,
   "id": "0a7f9b99",
   "metadata": {
    "ExecuteTime": {
     "end_time": "2022-09-12T07:37:19.883204Z",
     "start_time": "2022-09-12T07:37:19.797914Z"
    }
   },
   "outputs": [
    {
     "data": {
      "text/plain": [
       "array([[601.41930353],\n",
       "       [683.06659382]])"
      ]
     },
     "execution_count": 67,
     "metadata": {},
     "output_type": "execute_result"
    }
   ],
   "source": [
    "bs.conf_int(np.max, 1000, method='basic')"
   ]
  },
  {
   "cell_type": "code",
   "execution_count": 68,
   "id": "eca7071c",
   "metadata": {
    "ExecuteTime": {
     "end_time": "2022-09-12T07:37:20.749594Z",
     "start_time": "2022-09-12T07:37:20.670842Z"
    }
   },
   "outputs": [
    {
     "data": {
      "text/plain": [
       "array([[ 0.        ],\n",
       "       [81.64729029]])"
      ]
     },
     "execution_count": 68,
     "metadata": {},
     "output_type": "execute_result"
    }
   ],
   "source": [
    "bs.conf_int(np.max, 1000, method='basic')-np.max(y)"
   ]
  },
  {
   "cell_type": "code",
   "execution_count": null,
   "id": "35a902ce",
   "metadata": {},
   "outputs": [],
   "source": []
  }
 ],
 "metadata": {
  "hide_input": false,
  "kernelspec": {
   "display_name": "Python 3 (ipykernel)",
   "language": "python",
   "name": "python3"
  },
  "language_info": {
   "codemirror_mode": {
    "name": "ipython",
    "version": 3
   },
   "file_extension": ".py",
   "mimetype": "text/x-python",
   "name": "python",
   "nbconvert_exporter": "python",
   "pygments_lexer": "ipython3",
   "version": "3.10.4"
  },
  "latex_envs": {
   "LaTeX_envs_menu_present": true,
   "autoclose": true,
   "autocomplete": true,
   "bibliofile": "biblio.bib",
   "cite_by": "apalike",
   "current_citInitial": 1,
   "eqLabelWithNumbers": true,
   "eqNumInitial": 1,
   "hotkeys": {
    "equation": "Ctrl-E",
    "itemize": "Ctrl-I"
   },
   "labels_anchors": false,
   "latex_user_defs": false,
   "report_style_numbering": false,
   "user_envs_cfg": false
  },
  "toc": {
   "base_numbering": 1,
   "nav_menu": {},
   "number_sections": true,
   "sideBar": true,
   "skip_h1_title": false,
   "title_cell": "Table of Contents",
   "title_sidebar": "Contents",
   "toc_cell": false,
   "toc_position": {},
   "toc_section_display": true,
   "toc_window_display": false
  },
  "varInspector": {
   "cols": {
    "lenName": 16,
    "lenType": 16,
    "lenVar": 40
   },
   "kernels_config": {
    "python": {
     "delete_cmd_postfix": "",
     "delete_cmd_prefix": "del ",
     "library": "var_list.py",
     "varRefreshCmd": "print(var_dic_list())"
    },
    "r": {
     "delete_cmd_postfix": ") ",
     "delete_cmd_prefix": "rm(",
     "library": "var_list.r",
     "varRefreshCmd": "cat(var_dic_list()) "
    }
   },
   "types_to_exclude": [
    "module",
    "function",
    "builtin_function_or_method",
    "instance",
    "_Feature"
   ],
   "window_display": false
  }
 },
 "nbformat": 4,
 "nbformat_minor": 5
}
