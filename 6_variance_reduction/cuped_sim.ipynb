{
 "cells": [
  {
   "cell_type": "code",
   "execution_count": 1,
   "id": "2ad82729",
   "metadata": {
    "ExecuteTime": {
     "end_time": "2022-11-07T11:19:37.051677Z",
     "start_time": "2022-11-07T11:19:37.040169Z"
    },
    "execution": {
     "iopub.execute_input": "2023-12-12T07:42:51.181312Z",
     "iopub.status.busy": "2023-12-12T07:42:51.180500Z",
     "iopub.status.idle": "2023-12-12T07:42:54.720354Z",
     "shell.execute_reply": "2023-12-12T07:42:54.719193Z",
     "shell.execute_reply.started": "2023-12-12T07:42:51.181238Z"
    }
   },
   "outputs": [],
   "source": [
    "import numpy.random as npr\n",
    "import numpy as np\n",
    "import pandas as pd\n",
    "import numpy.random as npr\n",
    "import matplotlib.pyplot as plt\n",
    "import seaborn as sns\n",
    "import statsmodels.api as sm\n",
    "# import statsmodels.formula.api as sm\n",
    "from sklearn.linear_model import LinearRegression"
   ]
  },
  {
   "cell_type": "code",
   "execution_count": 2,
   "id": "a9f0735e",
   "metadata": {
    "ExecuteTime": {
     "end_time": "2022-11-07T11:19:39.848930Z",
     "start_time": "2022-11-07T11:19:39.837191Z"
    },
    "execution": {
     "iopub.execute_input": "2023-12-12T07:42:54.723719Z",
     "iopub.status.busy": "2023-12-12T07:42:54.722791Z",
     "iopub.status.idle": "2023-12-12T07:42:54.733841Z",
     "shell.execute_reply": "2023-12-12T07:42:54.731419Z",
     "shell.execute_reply.started": "2023-12-12T07:42:54.723654Z"
    }
   },
   "outputs": [],
   "source": [
    "nusers = 100\n",
    "treeatment = npr.choice([0,1], nusers)\n",
    "group = npr.choice(np.arange(7),nusers)+1\n",
    "covariate = npr.normal(0,1,nusers)\n",
    "metric = 1 * covariate + npr.normal(0,0.1*group,nusers) +  0.1*treeatment                      "
   ]
  },
  {
   "cell_type": "code",
   "execution_count": 3,
   "id": "60d5b329",
   "metadata": {
    "ExecuteTime": {
     "end_time": "2022-11-07T11:19:40.238635Z",
     "start_time": "2022-11-07T11:19:40.193222Z"
    },
    "execution": {
     "iopub.execute_input": "2023-12-12T07:42:54.736707Z",
     "iopub.status.busy": "2023-12-12T07:42:54.736080Z",
     "iopub.status.idle": "2023-12-12T07:42:54.793442Z",
     "shell.execute_reply": "2023-12-12T07:42:54.791016Z",
     "shell.execute_reply.started": "2023-12-12T07:42:54.736649Z"
    }
   },
   "outputs": [
    {
     "data": {
      "text/html": [
       "<div>\n",
       "<style scoped>\n",
       "    .dataframe tbody tr th:only-of-type {\n",
       "        vertical-align: middle;\n",
       "    }\n",
       "\n",
       "    .dataframe tbody tr th {\n",
       "        vertical-align: top;\n",
       "    }\n",
       "\n",
       "    .dataframe thead th {\n",
       "        text-align: right;\n",
       "    }\n",
       "</style>\n",
       "<table border=\"1\" class=\"dataframe\">\n",
       "  <thead>\n",
       "    <tr style=\"text-align: right;\">\n",
       "      <th></th>\n",
       "      <th>treeatment</th>\n",
       "      <th>group</th>\n",
       "      <th>covariate</th>\n",
       "      <th>metric</th>\n",
       "    </tr>\n",
       "  </thead>\n",
       "  <tbody>\n",
       "    <tr>\n",
       "      <th>0</th>\n",
       "      <td>0.0</td>\n",
       "      <td>1.0</td>\n",
       "      <td>-1.003941</td>\n",
       "      <td>-0.992714</td>\n",
       "    </tr>\n",
       "    <tr>\n",
       "      <th>1</th>\n",
       "      <td>1.0</td>\n",
       "      <td>2.0</td>\n",
       "      <td>0.142334</td>\n",
       "      <td>0.053236</td>\n",
       "    </tr>\n",
       "    <tr>\n",
       "      <th>2</th>\n",
       "      <td>1.0</td>\n",
       "      <td>6.0</td>\n",
       "      <td>0.743312</td>\n",
       "      <td>0.843279</td>\n",
       "    </tr>\n",
       "    <tr>\n",
       "      <th>3</th>\n",
       "      <td>1.0</td>\n",
       "      <td>2.0</td>\n",
       "      <td>0.217737</td>\n",
       "      <td>0.264110</td>\n",
       "    </tr>\n",
       "    <tr>\n",
       "      <th>4</th>\n",
       "      <td>0.0</td>\n",
       "      <td>6.0</td>\n",
       "      <td>0.530125</td>\n",
       "      <td>-1.006680</td>\n",
       "    </tr>\n",
       "    <tr>\n",
       "      <th>...</th>\n",
       "      <td>...</td>\n",
       "      <td>...</td>\n",
       "      <td>...</td>\n",
       "      <td>...</td>\n",
       "    </tr>\n",
       "    <tr>\n",
       "      <th>95</th>\n",
       "      <td>1.0</td>\n",
       "      <td>6.0</td>\n",
       "      <td>1.311691</td>\n",
       "      <td>0.813114</td>\n",
       "    </tr>\n",
       "    <tr>\n",
       "      <th>96</th>\n",
       "      <td>1.0</td>\n",
       "      <td>7.0</td>\n",
       "      <td>-1.646425</td>\n",
       "      <td>-2.003313</td>\n",
       "    </tr>\n",
       "    <tr>\n",
       "      <th>97</th>\n",
       "      <td>0.0</td>\n",
       "      <td>6.0</td>\n",
       "      <td>-1.321366</td>\n",
       "      <td>-0.661876</td>\n",
       "    </tr>\n",
       "    <tr>\n",
       "      <th>98</th>\n",
       "      <td>0.0</td>\n",
       "      <td>5.0</td>\n",
       "      <td>-0.099288</td>\n",
       "      <td>-0.265809</td>\n",
       "    </tr>\n",
       "    <tr>\n",
       "      <th>99</th>\n",
       "      <td>0.0</td>\n",
       "      <td>1.0</td>\n",
       "      <td>-0.734906</td>\n",
       "      <td>-0.732050</td>\n",
       "    </tr>\n",
       "  </tbody>\n",
       "</table>\n",
       "<p>100 rows × 4 columns</p>\n",
       "</div>"
      ],
      "text/plain": [
       "    treeatment  group  covariate    metric\n",
       "0          0.0    1.0  -1.003941 -0.992714\n",
       "1          1.0    2.0   0.142334  0.053236\n",
       "2          1.0    6.0   0.743312  0.843279\n",
       "3          1.0    2.0   0.217737  0.264110\n",
       "4          0.0    6.0   0.530125 -1.006680\n",
       "..         ...    ...        ...       ...\n",
       "95         1.0    6.0   1.311691  0.813114\n",
       "96         1.0    7.0  -1.646425 -2.003313\n",
       "97         0.0    6.0  -1.321366 -0.661876\n",
       "98         0.0    5.0  -0.099288 -0.265809\n",
       "99         0.0    1.0  -0.734906 -0.732050\n",
       "\n",
       "[100 rows x 4 columns]"
      ]
     },
     "execution_count": 3,
     "metadata": {},
     "output_type": "execute_result"
    }
   ],
   "source": [
    "df = pd.DataFrame([treeatment, group, covariate, metric], index=['treeatment', 'group', 'covariate', 'metric']).T\n",
    "df"
   ]
  },
  {
   "cell_type": "code",
   "execution_count": 4,
   "id": "2a18f124",
   "metadata": {
    "ExecuteTime": {
     "end_time": "2022-11-07T11:19:40.595271Z",
     "start_time": "2022-11-07T11:19:40.559604Z"
    },
    "execution": {
     "iopub.execute_input": "2023-12-12T07:42:54.797668Z",
     "iopub.status.busy": "2023-12-12T07:42:54.796928Z",
     "iopub.status.idle": "2023-12-12T07:42:54.849570Z",
     "shell.execute_reply": "2023-12-12T07:42:54.847315Z",
     "shell.execute_reply.started": "2023-12-12T07:42:54.797596Z"
    }
   },
   "outputs": [
    {
     "data": {
      "text/html": [
       "<div>\n",
       "<style scoped>\n",
       "    .dataframe tbody tr th:only-of-type {\n",
       "        vertical-align: middle;\n",
       "    }\n",
       "\n",
       "    .dataframe tbody tr th {\n",
       "        vertical-align: top;\n",
       "    }\n",
       "\n",
       "    .dataframe thead th {\n",
       "        text-align: right;\n",
       "    }\n",
       "</style>\n",
       "<table border=\"1\" class=\"dataframe\">\n",
       "  <thead>\n",
       "    <tr style=\"text-align: right;\">\n",
       "      <th></th>\n",
       "      <th></th>\n",
       "      <th>covariate</th>\n",
       "      <th>metric</th>\n",
       "    </tr>\n",
       "    <tr>\n",
       "      <th>treeatment</th>\n",
       "      <th>group</th>\n",
       "      <th></th>\n",
       "      <th></th>\n",
       "    </tr>\n",
       "  </thead>\n",
       "  <tbody>\n",
       "    <tr>\n",
       "      <th rowspan=\"6\" valign=\"top\">0.0</th>\n",
       "      <th>1.0</th>\n",
       "      <td>-0.139227</td>\n",
       "      <td>-0.139208</td>\n",
       "    </tr>\n",
       "    <tr>\n",
       "      <th>3.0</th>\n",
       "      <td>0.697336</td>\n",
       "      <td>0.539387</td>\n",
       "    </tr>\n",
       "    <tr>\n",
       "      <th>4.0</th>\n",
       "      <td>-0.783475</td>\n",
       "      <td>-0.894069</td>\n",
       "    </tr>\n",
       "    <tr>\n",
       "      <th>5.0</th>\n",
       "      <td>-0.147853</td>\n",
       "      <td>-0.424298</td>\n",
       "    </tr>\n",
       "    <tr>\n",
       "      <th>6.0</th>\n",
       "      <td>-0.046106</td>\n",
       "      <td>-0.226620</td>\n",
       "    </tr>\n",
       "    <tr>\n",
       "      <th>7.0</th>\n",
       "      <td>-0.271369</td>\n",
       "      <td>-0.732498</td>\n",
       "    </tr>\n",
       "    <tr>\n",
       "      <th rowspan=\"7\" valign=\"top\">1.0</th>\n",
       "      <th>1.0</th>\n",
       "      <td>0.534566</td>\n",
       "      <td>0.777544</td>\n",
       "    </tr>\n",
       "    <tr>\n",
       "      <th>2.0</th>\n",
       "      <td>0.125774</td>\n",
       "      <td>0.192190</td>\n",
       "    </tr>\n",
       "    <tr>\n",
       "      <th>3.0</th>\n",
       "      <td>-0.413563</td>\n",
       "      <td>-0.505190</td>\n",
       "    </tr>\n",
       "    <tr>\n",
       "      <th>4.0</th>\n",
       "      <td>-0.475619</td>\n",
       "      <td>-0.422861</td>\n",
       "    </tr>\n",
       "    <tr>\n",
       "      <th>5.0</th>\n",
       "      <td>-0.373410</td>\n",
       "      <td>-0.365910</td>\n",
       "    </tr>\n",
       "    <tr>\n",
       "      <th>6.0</th>\n",
       "      <td>0.590873</td>\n",
       "      <td>0.705848</td>\n",
       "    </tr>\n",
       "    <tr>\n",
       "      <th>7.0</th>\n",
       "      <td>-0.468262</td>\n",
       "      <td>-0.038923</td>\n",
       "    </tr>\n",
       "  </tbody>\n",
       "</table>\n",
       "</div>"
      ],
      "text/plain": [
       "                  covariate    metric\n",
       "treeatment group                     \n",
       "0.0        1.0    -0.139227 -0.139208\n",
       "           3.0     0.697336  0.539387\n",
       "           4.0    -0.783475 -0.894069\n",
       "           5.0    -0.147853 -0.424298\n",
       "           6.0    -0.046106 -0.226620\n",
       "           7.0    -0.271369 -0.732498\n",
       "1.0        1.0     0.534566  0.777544\n",
       "           2.0     0.125774  0.192190\n",
       "           3.0    -0.413563 -0.505190\n",
       "           4.0    -0.475619 -0.422861\n",
       "           5.0    -0.373410 -0.365910\n",
       "           6.0     0.590873  0.705848\n",
       "           7.0    -0.468262 -0.038923"
      ]
     },
     "execution_count": 4,
     "metadata": {},
     "output_type": "execute_result"
    }
   ],
   "source": [
    "df.groupby([df.treeatment, df.group]).mean()"
   ]
  },
  {
   "cell_type": "code",
   "execution_count": 5,
   "id": "41eabb69",
   "metadata": {
    "ExecuteTime": {
     "end_time": "2022-11-07T11:19:40.920958Z",
     "start_time": "2022-11-07T11:19:40.911436Z"
    },
    "execution": {
     "iopub.execute_input": "2023-12-12T07:42:55.512505Z",
     "iopub.status.busy": "2023-12-12T07:42:55.510834Z",
     "iopub.status.idle": "2023-12-12T07:42:55.526097Z",
     "shell.execute_reply": "2023-12-12T07:42:55.523506Z",
     "shell.execute_reply.started": "2023-12-12T07:42:55.512418Z"
    }
   },
   "outputs": [],
   "source": [
    "df['cuped_metric'] = metric - (np.cov(covariate,metric)[0,1]/np.var(covariate)) * (covariate - np.mean(covariate))"
   ]
  },
  {
   "cell_type": "code",
   "execution_count": 6,
   "id": "5efea8be",
   "metadata": {
    "ExecuteTime": {
     "end_time": "2022-11-07T11:19:41.282749Z",
     "start_time": "2022-11-07T11:19:41.271142Z"
    },
    "execution": {
     "iopub.execute_input": "2023-12-12T07:42:55.966029Z",
     "iopub.status.busy": "2023-12-12T07:42:55.965260Z",
     "iopub.status.idle": "2023-12-12T07:42:55.984787Z",
     "shell.execute_reply": "2023-12-12T07:42:55.981507Z",
     "shell.execute_reply.started": "2023-12-12T07:42:55.965954Z"
    }
   },
   "outputs": [
    {
     "data": {
      "text/plain": [
       "(1.0660194110413077, 0.22151680312150193)"
      ]
     },
     "execution_count": 6,
     "metadata": {},
     "output_type": "execute_result"
    }
   ],
   "source": [
    "np.var(df['metric']), np.var(df['cuped_metric'])"
   ]
  },
  {
   "cell_type": "code",
   "execution_count": 7,
   "id": "e7b62618",
   "metadata": {
    "ExecuteTime": {
     "end_time": "2022-11-07T11:19:41.674776Z",
     "start_time": "2022-11-07T11:19:41.657269Z"
    },
    "execution": {
     "iopub.execute_input": "2023-12-12T07:42:56.336137Z",
     "iopub.status.busy": "2023-12-12T07:42:56.335305Z",
     "iopub.status.idle": "2023-12-12T07:42:56.354063Z",
     "shell.execute_reply": "2023-12-12T07:42:56.351584Z",
     "shell.execute_reply.started": "2023-12-12T07:42:56.336058Z"
    }
   },
   "outputs": [
    {
     "data": {
      "text/plain": [
       "0.11715269985775771"
      ]
     },
     "execution_count": 7,
     "metadata": {},
     "output_type": "execute_result"
    }
   ],
   "source": [
    "# VAR_Y_HAT = \n",
    "np.var(metric) * (1 - np.corrcoef(covariate,metric)[0,1])"
   ]
  },
  {
   "cell_type": "code",
   "execution_count": 8,
   "id": "b3f6f926",
   "metadata": {
    "ExecuteTime": {
     "end_time": "2022-11-07T11:19:42.042298Z",
     "start_time": "2022-11-07T11:19:42.034935Z"
    },
    "execution": {
     "iopub.execute_input": "2023-12-12T07:42:56.737175Z",
     "iopub.status.busy": "2023-12-12T07:42:56.736484Z",
     "iopub.status.idle": "2023-12-12T07:42:56.746855Z",
     "shell.execute_reply": "2023-12-12T07:42:56.744328Z",
     "shell.execute_reply.started": "2023-12-12T07:42:56.737105Z"
    }
   },
   "outputs": [],
   "source": [
    "import statsmodels.stats.weightstats as smw"
   ]
  },
  {
   "cell_type": "code",
   "execution_count": 9,
   "id": "2d78a4a5",
   "metadata": {
    "ExecuteTime": {
     "end_time": "2022-11-07T11:19:42.390530Z",
     "start_time": "2022-11-07T11:19:42.383417Z"
    },
    "execution": {
     "iopub.execute_input": "2023-12-12T07:42:56.939179Z",
     "iopub.status.busy": "2023-12-12T07:42:56.937312Z",
     "iopub.status.idle": "2023-12-12T07:42:56.954958Z",
     "shell.execute_reply": "2023-12-12T07:42:56.951708Z",
     "shell.execute_reply.started": "2023-12-12T07:42:56.939096Z"
    }
   },
   "outputs": [],
   "source": [
    "x = df['metric'][df['treeatment']==0]\n",
    "y = df['metric'][df['treeatment']!=0]"
   ]
  },
  {
   "cell_type": "code",
   "execution_count": 10,
   "id": "03acbac3",
   "metadata": {
    "ExecuteTime": {
     "end_time": "2022-11-07T11:19:42.665246Z",
     "start_time": "2022-11-07T11:19:42.650903Z"
    },
    "execution": {
     "iopub.execute_input": "2023-12-12T07:42:57.290420Z",
     "iopub.status.busy": "2023-12-12T07:42:57.289365Z",
     "iopub.status.idle": "2023-12-12T07:42:57.308061Z",
     "shell.execute_reply": "2023-12-12T07:42:57.304803Z",
     "shell.execute_reply.started": "2023-12-12T07:42:57.290342Z"
    }
   },
   "outputs": [
    {
     "data": {
      "text/plain": [
       "(-2.129776676312806, 0.035694800375430824, 98.0)"
      ]
     },
     "execution_count": 10,
     "metadata": {},
     "output_type": "execute_result"
    }
   ],
   "source": [
    "smw.ttest_ind(x,y,usevar='pooled')"
   ]
  },
  {
   "cell_type": "code",
   "execution_count": 11,
   "id": "ff24a9b7",
   "metadata": {
    "ExecuteTime": {
     "end_time": "2022-11-07T11:19:42.936856Z",
     "start_time": "2022-11-07T11:19:42.924431Z"
    },
    "execution": {
     "iopub.execute_input": "2023-12-12T07:42:57.571997Z",
     "iopub.status.busy": "2023-12-12T07:42:57.571279Z",
     "iopub.status.idle": "2023-12-12T07:42:57.590208Z",
     "shell.execute_reply": "2023-12-12T07:42:57.586718Z",
     "shell.execute_reply.started": "2023-12-12T07:42:57.571919Z"
    }
   },
   "outputs": [
    {
     "data": {
      "text/plain": [
       "(-2.152288092173443, 0.03394121985533086, 93.80901316434075)"
      ]
     },
     "execution_count": 11,
     "metadata": {},
     "output_type": "execute_result"
    }
   ],
   "source": [
    "smw.ttest_ind(x,y,usevar='unequal')"
   ]
  },
  {
   "cell_type": "code",
   "execution_count": 12,
   "id": "3c236184",
   "metadata": {
    "ExecuteTime": {
     "end_time": "2022-11-07T11:19:43.185360Z",
     "start_time": "2022-11-07T11:19:43.178112Z"
    },
    "execution": {
     "iopub.execute_input": "2023-12-12T07:42:57.722271Z",
     "iopub.status.busy": "2023-12-12T07:42:57.721392Z",
     "iopub.status.idle": "2023-12-12T07:42:57.734982Z",
     "shell.execute_reply": "2023-12-12T07:42:57.732544Z",
     "shell.execute_reply.started": "2023-12-12T07:42:57.722198Z"
    }
   },
   "outputs": [],
   "source": [
    "x = df['cuped_metric'][df['treeatment']==0]\n",
    "y = df['cuped_metric'][df['treeatment']!=0]"
   ]
  },
  {
   "cell_type": "code",
   "execution_count": 13,
   "id": "60d7a21b",
   "metadata": {
    "ExecuteTime": {
     "end_time": "2022-11-07T11:19:43.445976Z",
     "start_time": "2022-11-07T11:19:43.435975Z"
    },
    "execution": {
     "iopub.execute_input": "2023-12-12T07:42:58.069589Z",
     "iopub.status.busy": "2023-12-12T07:42:58.068933Z",
     "iopub.status.idle": "2023-12-12T07:42:58.084505Z",
     "shell.execute_reply": "2023-12-12T07:42:58.082126Z",
     "shell.execute_reply.started": "2023-12-12T07:42:58.069518Z"
    }
   },
   "outputs": [
    {
     "data": {
      "text/plain": [
       "(-3.69924200456684, 0.0003569519048040324, 98.0)"
      ]
     },
     "execution_count": 13,
     "metadata": {},
     "output_type": "execute_result"
    }
   ],
   "source": [
    "smw.ttest_ind(x,y,usevar='pooled')"
   ]
  },
  {
   "cell_type": "code",
   "execution_count": 14,
   "id": "606c9b66",
   "metadata": {
    "ExecuteTime": {
     "end_time": "2022-11-07T11:19:43.725456Z",
     "start_time": "2022-11-07T11:19:43.711888Z"
    },
    "execution": {
     "iopub.execute_input": "2023-12-12T07:42:58.131970Z",
     "iopub.status.busy": "2023-12-12T07:42:58.130346Z",
     "iopub.status.idle": "2023-12-12T07:42:58.144808Z",
     "shell.execute_reply": "2023-12-12T07:42:58.142329Z",
     "shell.execute_reply.started": "2023-12-12T07:42:58.131911Z"
    }
   },
   "outputs": [
    {
     "data": {
      "text/plain": [
       "(-3.755525751328931, 0.00029816903431875106, 94.97677928056616)"
      ]
     },
     "execution_count": 14,
     "metadata": {},
     "output_type": "execute_result"
    }
   ],
   "source": [
    "smw.ttest_ind(x,y,usevar='unequal')"
   ]
  },
  {
   "cell_type": "markdown",
   "id": "8d15602e",
   "metadata": {
    "ExecuteTime": {
     "end_time": "2021-10-09T09:09:04.830942Z",
     "start_time": "2021-10-09T09:09:04.825542Z"
    }
   },
   "source": [
    "### Linear Regression\n"
   ]
  },
  {
   "cell_type": "code",
   "execution_count": 15,
   "id": "7af43907",
   "metadata": {
    "ExecuteTime": {
     "end_time": "2022-11-07T11:19:59.772148Z",
     "start_time": "2022-11-07T11:19:59.732887Z"
    },
    "execution": {
     "iopub.execute_input": "2023-12-12T07:42:58.492915Z",
     "iopub.status.busy": "2023-12-12T07:42:58.491614Z",
     "iopub.status.idle": "2023-12-12T07:42:58.536859Z",
     "shell.execute_reply": "2023-12-12T07:42:58.534726Z",
     "shell.execute_reply.started": "2023-12-12T07:42:58.492862Z"
    }
   },
   "outputs": [
    {
     "name": "stdout",
     "output_type": "stream",
     "text": [
      "                            OLS Regression Results                            \n",
      "==============================================================================\n",
      "Dep. Variable:                 metric   R-squared:                       0.792\n",
      "Model:                            OLS   Adj. R-squared:                  0.790\n",
      "Method:                 Least Squares   F-statistic:                     373.8\n",
      "Date:                Tue, 12 Dec 2023   Prob (F-statistic):           3.24e-35\n",
      "Time:                        10:42:58   Log-Likelihood:                -66.512\n",
      "No. Observations:                 100   AIC:                             137.0\n",
      "Df Residuals:                      98   BIC:                             142.2\n",
      "Df Model:                           1                                         \n",
      "Covariance Type:            nonrobust                                         \n",
      "==============================================================================\n",
      "                 coef    std err          t      P>|t|      [0.025      0.975]\n",
      "------------------------------------------------------------------------------\n",
      "const         -0.0152      0.048     -0.316      0.752      -0.111       0.080\n",
      "covariate      0.9450      0.049     19.334      0.000       0.848       1.042\n",
      "==============================================================================\n",
      "Omnibus:                       16.805   Durbin-Watson:                   1.953\n",
      "Prob(Omnibus):                  0.000   Jarque-Bera (JB):               45.274\n",
      "Skew:                           0.489   Prob(JB):                     1.48e-10\n",
      "Kurtosis:                       6.148   Cond. No.                         1.17\n",
      "==============================================================================\n",
      "\n",
      "Notes:\n",
      "[1] Standard Errors assume that the covariance matrix of the errors is correctly specified.\n"
     ]
    }
   ],
   "source": [
    "x = df['covariate']\n",
    "x = sm.add_constant(x)\n",
    "model = sm.OLS(df['metric'], x)\n",
    "results = model.fit()\n",
    "print(results.summary())"
   ]
  },
  {
   "cell_type": "code",
   "execution_count": 16,
   "id": "acac00d6",
   "metadata": {
    "ExecuteTime": {
     "end_time": "2022-11-07T11:19:44.386649Z",
     "start_time": "2022-11-07T11:19:44.376950Z"
    },
    "execution": {
     "iopub.execute_input": "2023-12-12T07:42:58.893366Z",
     "iopub.status.busy": "2023-12-12T07:42:58.892631Z",
     "iopub.status.idle": "2023-12-12T07:42:58.907038Z",
     "shell.execute_reply": "2023-12-12T07:42:58.904514Z",
     "shell.execute_reply.started": "2023-12-12T07:42:58.893302Z"
    }
   },
   "outputs": [
    {
     "name": "stdout",
     "output_type": "stream",
     "text": [
      "Parameters:  const       -0.015210\n",
      "covariate    0.945019\n",
      "dtype: float64\n",
      "R2:  0.7922827416719341\n"
     ]
    }
   ],
   "source": [
    "print(\"Parameters: \", results.params)\n",
    "print(\"R2: \", results.rsquared)"
   ]
  },
  {
   "cell_type": "code",
   "execution_count": 17,
   "id": "7487ac0f",
   "metadata": {
    "ExecuteTime": {
     "end_time": "2022-11-07T11:20:23.669994Z",
     "start_time": "2022-11-07T11:20:23.348085Z"
    },
    "execution": {
     "iopub.execute_input": "2023-12-12T07:42:59.395921Z",
     "iopub.status.busy": "2023-12-12T07:42:59.394167Z",
     "iopub.status.idle": "2023-12-12T07:43:00.195239Z",
     "shell.execute_reply": "2023-12-12T07:43:00.192937Z",
     "shell.execute_reply.started": "2023-12-12T07:42:59.395843Z"
    }
   },
   "outputs": [
    {
     "data": {
      "text/plain": [
       "<matplotlib.legend.Legend at 0x7efebf14cb90>"
      ]
     },
     "execution_count": 17,
     "metadata": {},
     "output_type": "execute_result"
    },
    {
     "data": {
      "image/png": "[encoded data removed]",
      "text/plain": [
       "<Figure size 640x480 with 1 Axes>"
      ]
     },
     "metadata": {},
     "output_type": "display_data"
    }
   ],
   "source": [
    "plt.hist(df['metric'])\n",
    "plt.hist(results.resid)\n",
    "plt.legend(['before','after'])"
   ]
  },
  {
   "cell_type": "code",
   "execution_count": 18,
   "id": "ca3d2fce",
   "metadata": {
    "ExecuteTime": {
     "end_time": "2022-11-07T09:55:03.010253Z",
     "start_time": "2022-11-07T09:55:02.981883Z"
    },
    "execution": {
     "iopub.execute_input": "2023-12-12T07:43:00.199547Z",
     "iopub.status.busy": "2023-12-12T07:43:00.198878Z",
     "iopub.status.idle": "2023-12-12T07:43:00.242885Z",
     "shell.execute_reply": "2023-12-12T07:43:00.240051Z",
     "shell.execute_reply.started": "2023-12-12T07:43:00.199475Z"
    }
   },
   "outputs": [
    {
     "name": "stdout",
     "output_type": "stream",
     "text": [
      "                            OLS Regression Results                            \n",
      "==============================================================================\n",
      "Dep. Variable:                      y   R-squared:                       0.000\n",
      "Model:                            OLS   Adj. R-squared:                 -0.010\n",
      "Method:                 Least Squares   F-statistic:                     0.000\n",
      "Date:                Tue, 12 Dec 2023   Prob (F-statistic):               1.00\n",
      "Time:                        10:43:00   Log-Likelihood:                -66.512\n",
      "No. Observations:                 100   AIC:                             137.0\n",
      "Df Residuals:                      98   BIC:                             142.2\n",
      "Df Model:                           1                                         \n",
      "Covariance Type:            nonrobust                                         \n",
      "==============================================================================\n",
      "                 coef    std err          t      P>|t|      [0.025      0.975]\n",
      "------------------------------------------------------------------------------\n",
      "const        1.37e-16      0.048   2.85e-15      1.000      -0.095       0.095\n",
      "covariate   2.073e-16      0.049   4.24e-15      1.000      -0.097       0.097\n",
      "==============================================================================\n",
      "Omnibus:                       16.805   Durbin-Watson:                   1.953\n",
      "Prob(Omnibus):                  0.000   Jarque-Bera (JB):               45.274\n",
      "Skew:                           0.489   Prob(JB):                     1.48e-10\n",
      "Kurtosis:                       6.148   Cond. No.                         1.17\n",
      "==============================================================================\n",
      "\n",
      "Notes:\n",
      "[1] Standard Errors assume that the covariance matrix of the errors is correctly specified.\n"
     ]
    }
   ],
   "source": [
    "model = sm.OLS(results.resid, x)\n",
    "results = model.fit()\n",
    "print(results.summary())"
   ]
  },
  {
   "cell_type": "code",
   "execution_count": 19,
   "id": "9ad3fc52",
   "metadata": {
    "ExecuteTime": {
     "end_time": "2022-11-07T09:55:32.939124Z",
     "start_time": "2022-11-07T09:55:32.915202Z"
    },
    "execution": {
     "iopub.execute_input": "2023-12-12T07:43:00.246058Z",
     "iopub.status.busy": "2023-12-12T07:43:00.245361Z",
     "iopub.status.idle": "2023-12-12T07:43:00.299044Z",
     "shell.execute_reply": "2023-12-12T07:43:00.296577Z",
     "shell.execute_reply.started": "2023-12-12T07:43:00.245990Z"
    }
   },
   "outputs": [
    {
     "name": "stdout",
     "output_type": "stream",
     "text": [
      "                            OLS Regression Results                            \n",
      "==============================================================================\n",
      "Dep. Variable:                      y   R-squared:                       0.123\n",
      "Model:                            OLS   Adj. R-squared:                  0.114\n",
      "Method:                 Least Squares   F-statistic:                     13.79\n",
      "Date:                Tue, 12 Dec 2023   Prob (F-statistic):           0.000340\n",
      "Time:                        10:43:00   Log-Likelihood:                -59.929\n",
      "No. Observations:                 100   AIC:                             123.9\n",
      "Df Residuals:                      98   BIC:                             129.1\n",
      "Df Model:                           1                                         \n",
      "Covariance Type:            nonrobust                                         \n",
      "==============================================================================\n",
      "                 coef    std err          t      P>|t|      [0.025      0.975]\n",
      "------------------------------------------------------------------------------\n",
      "const         -0.1903      0.068     -2.804      0.006      -0.325      -0.056\n",
      "treeatment     0.3338      0.090      3.713      0.000       0.155       0.512\n",
      "==============================================================================\n",
      "Omnibus:                       14.602   Durbin-Watson:                   1.899\n",
      "Prob(Omnibus):                  0.001   Jarque-Bera (JB):               31.812\n",
      "Skew:                           0.487   Prob(JB):                     1.24e-07\n",
      "Kurtosis:                       5.586   Cond. No.                         2.82\n",
      "==============================================================================\n",
      "\n",
      "Notes:\n",
      "[1] Standard Errors assume that the covariance matrix of the errors is correctly specified.\n"
     ]
    }
   ],
   "source": [
    "x = df['treeatment']\n",
    "x = sm.add_constant(x)\n",
    "model = sm.OLS(results.resid, x)\n",
    "results_1 = model.fit()\n",
    "print(results_1.summary())"
   ]
  },
  {
   "cell_type": "code",
   "execution_count": 20,
   "id": "b5d6112b",
   "metadata": {
    "ExecuteTime": {
     "end_time": "2022-11-07T09:55:42.607573Z",
     "start_time": "2022-11-07T09:55:42.602399Z"
    },
    "execution": {
     "iopub.execute_input": "2023-12-12T07:43:00.833811Z",
     "iopub.status.busy": "2023-12-12T07:43:00.833038Z",
     "iopub.status.idle": "2023-12-12T07:43:00.848813Z",
     "shell.execute_reply": "2023-12-12T07:43:00.845305Z",
     "shell.execute_reply.started": "2023-12-12T07:43:00.833743Z"
    }
   },
   "outputs": [
    {
     "name": "stdout",
     "output_type": "stream",
     "text": [
      "Parameters:  const        -0.190284\n",
      "treeatment    0.333832\n",
      "dtype: float64\n",
      "R2:  0.12335616364718738\n"
     ]
    }
   ],
   "source": [
    "print(\"Parameters: \", results_1.params)\n",
    "print(\"R2: \", results_1.rsquared)\n"
   ]
  },
  {
   "cell_type": "code",
   "execution_count": 21,
   "id": "a4a958db",
   "metadata": {
    "ExecuteTime": {
     "end_time": "2022-11-07T09:55:50.590626Z",
     "start_time": "2022-11-07T09:55:50.579188Z"
    },
    "execution": {
     "iopub.execute_input": "2023-12-12T07:43:01.220035Z",
     "iopub.status.busy": "2023-12-12T07:43:01.218069Z",
     "iopub.status.idle": "2023-12-12T07:43:01.270719Z",
     "shell.execute_reply": "2023-12-12T07:43:01.268333Z",
     "shell.execute_reply.started": "2023-12-12T07:43:01.219956Z"
    }
   },
   "outputs": [
    {
     "name": "stdout",
     "output_type": "stream",
     "text": [
      "                            OLS Regression Results                            \n",
      "==============================================================================\n",
      "Dep. Variable:                 metric   R-squared:                       0.818\n",
      "Model:                            OLS   Adj. R-squared:                  0.814\n",
      "Method:                 Least Squares   F-statistic:                     218.0\n",
      "Date:                Tue, 12 Dec 2023   Prob (F-statistic):           1.30e-36\n",
      "Time:                        10:43:01   Log-Likelihood:                -59.906\n",
      "No. Observations:                 100   AIC:                             125.8\n",
      "Df Residuals:                      97   BIC:                             133.6\n",
      "Df Model:                           2                                         \n",
      "Covariance Type:            nonrobust                                         \n",
      "==============================================================================\n",
      "                 coef    std err          t      P>|t|      [0.025      0.975]\n",
      "------------------------------------------------------------------------------\n",
      "const         -0.2075      0.069     -3.012      0.003      -0.344      -0.071\n",
      "covariate      0.9354      0.046     20.307      0.000       0.844       1.027\n",
      "treeatment     0.3349      0.090      3.701      0.000       0.155       0.514\n",
      "==============================================================================\n",
      "Omnibus:                       14.874   Durbin-Watson:                   1.896\n",
      "Prob(Omnibus):                  0.001   Jarque-Bera (JB):               32.985\n",
      "Skew:                           0.492   Prob(JB):                     6.88e-08\n",
      "Kurtosis:                       5.636   Cond. No.                         2.88\n",
      "==============================================================================\n",
      "\n",
      "Notes:\n",
      "[1] Standard Errors assume that the covariance matrix of the errors is correctly specified.\n"
     ]
    }
   ],
   "source": [
    "x = df.loc[:,['covariate', 'treeatment']]\n",
    "x = sm.add_constant(x)\n",
    "model = sm.OLS(df['metric'], x)\n",
    "results = model.fit()\n",
    "print(results.summary())"
   ]
  },
  {
   "cell_type": "code",
   "execution_count": 22,
   "id": "3c2a171a",
   "metadata": {
    "ExecuteTime": {
     "end_time": "2022-11-07T09:55:50.929845Z",
     "start_time": "2022-11-07T09:55:50.920009Z"
    },
    "execution": {
     "iopub.execute_input": "2023-12-12T07:43:01.508580Z",
     "iopub.status.busy": "2023-12-12T07:43:01.507784Z",
     "iopub.status.idle": "2023-12-12T07:43:01.521714Z",
     "shell.execute_reply": "2023-12-12T07:43:01.518966Z",
     "shell.execute_reply.started": "2023-12-12T07:43:01.508511Z"
    }
   },
   "outputs": [
    {
     "name": "stdout",
     "output_type": "stream",
     "text": [
      "Parameters:  const        -0.207535\n",
      "covariate     0.935394\n",
      "treeatment    0.334899\n",
      "dtype: float64\n",
      "R2:  0.8179878861455521\n"
     ]
    }
   ],
   "source": [
    "print(\"Parameters: \", results.params)\n",
    "print(\"R2: \", results.rsquared)\n"
   ]
  },
  {
   "cell_type": "code",
   "execution_count": 23,
   "id": "e7669026",
   "metadata": {
    "ExecuteTime": {
     "end_time": "2022-11-07T09:55:56.697922Z",
     "start_time": "2022-11-07T09:55:56.661325Z"
    },
    "execution": {
     "iopub.execute_input": "2023-12-12T07:43:01.807425Z",
     "iopub.status.busy": "2023-12-12T07:43:01.805186Z",
     "iopub.status.idle": "2023-12-12T07:43:01.878858Z",
     "shell.execute_reply": "2023-12-12T07:43:01.877018Z",
     "shell.execute_reply.started": "2023-12-12T07:43:01.807317Z"
    }
   },
   "outputs": [
    {
     "name": "stdout",
     "output_type": "stream",
     "text": [
      "                            OLS Regression Results                            \n",
      "==============================================================================\n",
      "Dep. Variable:                 metric   R-squared:                       0.049\n",
      "Model:                            OLS   Adj. R-squared:                  0.029\n",
      "Method:                 Least Squares   F-statistic:                     2.489\n",
      "Date:                Tue, 12 Dec 2023   Prob (F-statistic):             0.0883\n",
      "Time:                        10:43:01   Log-Likelihood:                -142.59\n",
      "No. Observations:                 100   AIC:                             291.2\n",
      "Df Residuals:                      97   BIC:                             299.0\n",
      "Df Model:                           2                                         \n",
      "Covariance Type:            nonrobust                                         \n",
      "==============================================================================\n",
      "                 coef    std err          t      P>|t|      [0.025      0.975]\n",
      "------------------------------------------------------------------------------\n",
      "const         -0.2590      0.266     -0.975      0.332      -0.786       0.268\n",
      "group         -0.0338      0.049     -0.683      0.496      -0.132       0.064\n",
      "treeatment     0.4405      0.207      2.133      0.035       0.031       0.850\n",
      "==============================================================================\n",
      "Omnibus:                        3.868   Durbin-Watson:                   1.728\n",
      "Prob(Omnibus):                  0.145   Jarque-Bera (JB):                3.187\n",
      "Skew:                           0.382   Prob(JB):                        0.203\n",
      "Kurtosis:                       3.424   Cond. No.                         14.1\n",
      "==============================================================================\n",
      "\n",
      "Notes:\n",
      "[1] Standard Errors assume that the covariance matrix of the errors is correctly specified.\n"
     ]
    }
   ],
   "source": [
    "x = df.loc[:,['group', 'treeatment']]\n",
    "x = sm.add_constant(x)\n",
    "model = sm.OLS(df['metric'], x)\n",
    "results = model.fit()\n",
    "print(results.summary())"
   ]
  },
  {
   "cell_type": "code",
   "execution_count": 24,
   "id": "cd959e36",
   "metadata": {
    "ExecuteTime": {
     "end_time": "2022-11-07T09:55:59.668086Z",
     "start_time": "2022-11-07T09:55:59.660327Z"
    },
    "execution": {
     "iopub.execute_input": "2023-12-12T07:43:02.177828Z",
     "iopub.status.busy": "2023-12-12T07:43:02.177114Z",
     "iopub.status.idle": "2023-12-12T07:43:02.191324Z",
     "shell.execute_reply": "2023-12-12T07:43:02.188575Z",
     "shell.execute_reply.started": "2023-12-12T07:43:02.177761Z"
    }
   },
   "outputs": [
    {
     "name": "stdout",
     "output_type": "stream",
     "text": [
      "Parameters:  const        -0.259044\n",
      "group        -0.033767\n",
      "treeatment    0.440485\n",
      "dtype: float64\n",
      "R2:  0.04881011209664787\n"
     ]
    }
   ],
   "source": [
    "print(\"Parameters: \", results.params)\n",
    "print(\"R2: \", results.rsquared)\n"
   ]
  },
  {
   "cell_type": "code",
   "execution_count": 25,
   "id": "f2ebea00",
   "metadata": {
    "ExecuteTime": {
     "end_time": "2022-11-07T09:56:05.277881Z",
     "start_time": "2022-11-07T09:56:05.256308Z"
    },
    "execution": {
     "iopub.execute_input": "2023-12-12T07:43:02.466839Z",
     "iopub.status.busy": "2023-12-12T07:43:02.465784Z",
     "iopub.status.idle": "2023-12-12T07:43:02.523312Z",
     "shell.execute_reply": "2023-12-12T07:43:02.521131Z",
     "shell.execute_reply.started": "2023-12-12T07:43:02.466787Z"
    }
   },
   "outputs": [
    {
     "name": "stdout",
     "output_type": "stream",
     "text": [
      "                            OLS Regression Results                            \n",
      "==============================================================================\n",
      "Dep. Variable:                 metric   R-squared:                       0.818\n",
      "Model:                            OLS   Adj. R-squared:                  0.812\n",
      "Method:                 Least Squares   F-statistic:                     143.9\n",
      "Date:                Tue, 12 Dec 2023   Prob (F-statistic):           2.11e-35\n",
      "Time:                        10:43:02   Log-Likelihood:                -59.870\n",
      "No. Observations:                 100   AIC:                             127.7\n",
      "Df Residuals:                      96   BIC:                             138.2\n",
      "Df Model:                           3                                         \n",
      "Covariance Type:            nonrobust                                         \n",
      "==============================================================================\n",
      "                 coef    std err          t      P>|t|      [0.025      0.975]\n",
      "------------------------------------------------------------------------------\n",
      "const         -0.1826      0.117     -1.563      0.121      -0.414       0.049\n",
      "group         -0.0058      0.022     -0.265      0.791      -0.049       0.037\n",
      "covariate      0.9346      0.046     20.151      0.000       0.843       1.027\n",
      "treeatment     0.3353      0.091      3.687      0.000       0.155       0.516\n",
      "==============================================================================\n",
      "Omnibus:                       16.150   Durbin-Watson:                   1.907\n",
      "Prob(Omnibus):                  0.000   Jarque-Bera (JB):               36.526\n",
      "Skew:                           0.541   Prob(JB):                     1.17e-08\n",
      "Kurtosis:                       5.756   Cond. No.                         14.2\n",
      "==============================================================================\n",
      "\n",
      "Notes:\n",
      "[1] Standard Errors assume that the covariance matrix of the errors is correctly specified.\n"
     ]
    }
   ],
   "source": [
    "x = df.loc[:,['group', 'covariate', 'treeatment']]\n",
    "x = sm.add_constant(x)\n",
    "model = sm.OLS(df['metric'], x)\n",
    "results = model.fit()\n",
    "print(results.summary())"
   ]
  },
  {
   "cell_type": "code",
   "execution_count": 26,
   "id": "b76444a7",
   "metadata": {
    "ExecuteTime": {
     "end_time": "2022-11-07T09:56:07.831955Z",
     "start_time": "2022-11-07T09:56:07.828777Z"
    },
    "execution": {
     "iopub.execute_input": "2023-12-12T07:43:02.617195Z",
     "iopub.status.busy": "2023-12-12T07:43:02.616108Z",
     "iopub.status.idle": "2023-12-12T07:43:02.632946Z",
     "shell.execute_reply": "2023-12-12T07:43:02.630018Z",
     "shell.execute_reply.started": "2023-12-12T07:43:02.617098Z"
    }
   },
   "outputs": [
    {
     "name": "stdout",
     "output_type": "stream",
     "text": [
      "Parameters:  const        -0.182571\n",
      "group        -0.005779\n",
      "covariate     0.934609\n",
      "treeatment    0.335302\n",
      "dtype: float64\n",
      "R2:  0.818121250085852\n"
     ]
    }
   ],
   "source": [
    "print(\"Parameters: \", results.params)\n",
    "print(\"R2: \", results.rsquared)\n"
   ]
  },
  {
   "cell_type": "markdown",
   "id": "9ce1bf0b",
   "metadata": {},
   "source": [
    "### Clicks"
   ]
  },
  {
   "cell_type": "markdown",
   "id": "b1d40f66",
   "metadata": {},
   "source": [
    "Pageviews: Number of unique cookies to view the course overview page that day.\n",
    "\n",
    "Clicks: Number of unique cookies to click the course overview page that day.\n",
    "\n",
    "Enrollments: Number of user-ids to enroll in the free trial that day.\n",
    "\n",
    "Payments: Number of user-ids who who enrolled on that day to remain enrolled for 14 days and thus make a payment. (Note that the date for this column is the start date, that is, the date\n",
    "of enrollment, rather than the date of the payment. The payment happened 14 days later. Because of this, the enrollments and payments are tracked for 14 fewer days than the other columns.)"
   ]
  },
  {
   "cell_type": "code",
   "execution_count": 27,
   "id": "44ffaa7e",
   "metadata": {
    "ExecuteTime": {
     "end_time": "2022-11-07T09:56:10.919443Z",
     "start_time": "2022-11-07T09:56:10.916379Z"
    },
    "execution": {
     "iopub.execute_input": "2023-12-12T07:43:03.600735Z",
     "iopub.status.busy": "2023-12-12T07:43:03.600170Z",
     "iopub.status.idle": "2023-12-12T07:43:03.610350Z",
     "shell.execute_reply": "2023-12-12T07:43:03.607893Z",
     "shell.execute_reply.started": "2023-12-12T07:43:03.600682Z"
    }
   },
   "outputs": [],
   "source": [
    "import math as mt\n",
    "from scipy.stats import norm"
   ]
  },
  {
   "cell_type": "code",
   "execution_count": 28,
   "id": "d9dab75f",
   "metadata": {
    "ExecuteTime": {
     "end_time": "2022-11-07T09:56:14.786333Z",
     "start_time": "2022-11-07T09:56:14.770984Z"
    },
    "execution": {
     "iopub.execute_input": "2023-12-12T07:43:03.994648Z",
     "iopub.status.busy": "2023-12-12T07:43:03.993841Z",
     "iopub.status.idle": "2023-12-12T07:43:04.020696Z",
     "shell.execute_reply": "2023-12-12T07:43:04.018121Z",
     "shell.execute_reply.started": "2023-12-12T07:43:03.994577Z"
    }
   },
   "outputs": [],
   "source": [
    "control = pd.read_csv('control_data.csv')\n",
    "treat = pd.read_csv('experiment_data.csv')"
   ]
  },
  {
   "cell_type": "code",
   "execution_count": 29,
   "id": "c8fcb125",
   "metadata": {
    "ExecuteTime": {
     "end_time": "2022-11-07T09:56:15.728160Z",
     "start_time": "2022-11-07T09:56:15.724875Z"
    },
    "execution": {
     "iopub.execute_input": "2023-12-12T07:43:04.425861Z",
     "iopub.status.busy": "2023-12-12T07:43:04.424414Z",
     "iopub.status.idle": "2023-12-12T07:43:04.437681Z",
     "shell.execute_reply": "2023-12-12T07:43:04.435200Z",
     "shell.execute_reply.started": "2023-12-12T07:43:04.425779Z"
    }
   },
   "outputs": [],
   "source": [
    "control['treatment'] = 0"
   ]
  },
  {
   "cell_type": "code",
   "execution_count": 32,
   "id": "c24f6cfa",
   "metadata": {
    "ExecuteTime": {
     "end_time": "2022-11-07T09:56:16.515421Z",
     "start_time": "2022-11-07T09:56:16.506018Z"
    },
    "execution": {
     "iopub.execute_input": "2023-12-12T07:43:12.448499Z",
     "iopub.status.busy": "2023-12-12T07:43:12.447719Z",
     "iopub.status.idle": "2023-12-12T07:43:12.457737Z",
     "shell.execute_reply": "2023-12-12T07:43:12.455262Z",
     "shell.execute_reply.started": "2023-12-12T07:43:12.448427Z"
    }
   },
   "outputs": [],
   "source": [
    "treat['treatment'] = 1"
   ]
  },
  {
   "cell_type": "code",
   "execution_count": 36,
   "id": "38de9fdf",
   "metadata": {
    "ExecuteTime": {
     "end_time": "2022-11-07T09:56:18.189744Z",
     "start_time": "2022-11-07T09:56:18.085494Z"
    },
    "execution": {
     "iopub.execute_input": "2023-12-12T07:44:53.946125Z",
     "iopub.status.busy": "2023-12-12T07:44:53.945402Z",
     "iopub.status.idle": "2023-12-12T07:44:53.954577Z",
     "shell.execute_reply": "2023-12-12T07:44:53.953172Z",
     "shell.execute_reply.started": "2023-12-12T07:44:53.946059Z"
    }
   },
   "outputs": [],
   "source": [
    "df = pd.concat([control,treat], axis=0)"
   ]
  },
  {
   "cell_type": "code",
   "execution_count": 37,
   "id": "d9b80602",
   "metadata": {
    "ExecuteTime": {
     "end_time": "2022-11-07T09:56:18.307911Z",
     "start_time": "2022-11-07T09:56:18.297726Z"
    },
    "execution": {
     "iopub.execute_input": "2023-12-12T07:44:54.298158Z",
     "iopub.status.busy": "2023-12-12T07:44:54.297201Z",
     "iopub.status.idle": "2023-12-12T07:44:54.337119Z",
     "shell.execute_reply": "2023-12-12T07:44:54.334751Z",
     "shell.execute_reply.started": "2023-12-12T07:44:54.298090Z"
    }
   },
   "outputs": [
    {
     "data": {
      "text/html": [
       "<div>\n",
       "<style scoped>\n",
       "    .dataframe tbody tr th:only-of-type {\n",
       "        vertical-align: middle;\n",
       "    }\n",
       "\n",
       "    .dataframe tbody tr th {\n",
       "        vertical-align: top;\n",
       "    }\n",
       "\n",
       "    .dataframe thead th {\n",
       "        text-align: right;\n",
       "    }\n",
       "</style>\n",
       "<table border=\"1\" class=\"dataframe\">\n",
       "  <thead>\n",
       "    <tr style=\"text-align: right;\">\n",
       "      <th></th>\n",
       "      <th>Date</th>\n",
       "      <th>Pageviews</th>\n",
       "      <th>Clicks</th>\n",
       "      <th>Enrollments</th>\n",
       "      <th>Payments</th>\n",
       "      <th>treatment</th>\n",
       "    </tr>\n",
       "  </thead>\n",
       "  <tbody>\n",
       "    <tr>\n",
       "      <th>0</th>\n",
       "      <td>Sat, Oct 11</td>\n",
       "      <td>7723</td>\n",
       "      <td>687</td>\n",
       "      <td>134.0</td>\n",
       "      <td>70.0</td>\n",
       "      <td>0</td>\n",
       "    </tr>\n",
       "    <tr>\n",
       "      <th>1</th>\n",
       "      <td>Sun, Oct 12</td>\n",
       "      <td>9102</td>\n",
       "      <td>779</td>\n",
       "      <td>147.0</td>\n",
       "      <td>70.0</td>\n",
       "      <td>0</td>\n",
       "    </tr>\n",
       "    <tr>\n",
       "      <th>2</th>\n",
       "      <td>Mon, Oct 13</td>\n",
       "      <td>10511</td>\n",
       "      <td>909</td>\n",
       "      <td>167.0</td>\n",
       "      <td>95.0</td>\n",
       "      <td>0</td>\n",
       "    </tr>\n",
       "    <tr>\n",
       "      <th>3</th>\n",
       "      <td>Tue, Oct 14</td>\n",
       "      <td>9871</td>\n",
       "      <td>836</td>\n",
       "      <td>156.0</td>\n",
       "      <td>105.0</td>\n",
       "      <td>0</td>\n",
       "    </tr>\n",
       "    <tr>\n",
       "      <th>4</th>\n",
       "      <td>Wed, Oct 15</td>\n",
       "      <td>10014</td>\n",
       "      <td>837</td>\n",
       "      <td>163.0</td>\n",
       "      <td>64.0</td>\n",
       "      <td>0</td>\n",
       "    </tr>\n",
       "    <tr>\n",
       "      <th>...</th>\n",
       "      <td>...</td>\n",
       "      <td>...</td>\n",
       "      <td>...</td>\n",
       "      <td>...</td>\n",
       "      <td>...</td>\n",
       "      <td>...</td>\n",
       "    </tr>\n",
       "    <tr>\n",
       "      <th>32</th>\n",
       "      <td>Wed, Nov 12</td>\n",
       "      <td>10042</td>\n",
       "      <td>802</td>\n",
       "      <td>NaN</td>\n",
       "      <td>NaN</td>\n",
       "      <td>1</td>\n",
       "    </tr>\n",
       "    <tr>\n",
       "      <th>33</th>\n",
       "      <td>Thu, Nov 13</td>\n",
       "      <td>9721</td>\n",
       "      <td>829</td>\n",
       "      <td>NaN</td>\n",
       "      <td>NaN</td>\n",
       "      <td>1</td>\n",
       "    </tr>\n",
       "    <tr>\n",
       "      <th>34</th>\n",
       "      <td>Fri, Nov 14</td>\n",
       "      <td>9304</td>\n",
       "      <td>770</td>\n",
       "      <td>NaN</td>\n",
       "      <td>NaN</td>\n",
       "      <td>1</td>\n",
       "    </tr>\n",
       "    <tr>\n",
       "      <th>35</th>\n",
       "      <td>Sat, Nov 15</td>\n",
       "      <td>8668</td>\n",
       "      <td>724</td>\n",
       "      <td>NaN</td>\n",
       "      <td>NaN</td>\n",
       "      <td>1</td>\n",
       "    </tr>\n",
       "    <tr>\n",
       "      <th>36</th>\n",
       "      <td>Sun, Nov 16</td>\n",
       "      <td>8988</td>\n",
       "      <td>710</td>\n",
       "      <td>NaN</td>\n",
       "      <td>NaN</td>\n",
       "      <td>1</td>\n",
       "    </tr>\n",
       "  </tbody>\n",
       "</table>\n",
       "<p>74 rows × 6 columns</p>\n",
       "</div>"
      ],
      "text/plain": [
       "           Date  Pageviews  Clicks  Enrollments  Payments  treatment\n",
       "0   Sat, Oct 11       7723     687        134.0      70.0          0\n",
       "1   Sun, Oct 12       9102     779        147.0      70.0          0\n",
       "2   Mon, Oct 13      10511     909        167.0      95.0          0\n",
       "3   Tue, Oct 14       9871     836        156.0     105.0          0\n",
       "4   Wed, Oct 15      10014     837        163.0      64.0          0\n",
       "..          ...        ...     ...          ...       ...        ...\n",
       "32  Wed, Nov 12      10042     802          NaN       NaN          1\n",
       "33  Thu, Nov 13       9721     829          NaN       NaN          1\n",
       "34  Fri, Nov 14       9304     770          NaN       NaN          1\n",
       "35  Sat, Nov 15       8668     724          NaN       NaN          1\n",
       "36  Sun, Nov 16       8988     710          NaN       NaN          1\n",
       "\n",
       "[74 rows x 6 columns]"
      ]
     },
     "execution_count": 37,
     "metadata": {},
     "output_type": "execute_result"
    }
   ],
   "source": [
    "df"
   ]
  },
  {
   "cell_type": "code",
   "execution_count": 38,
   "id": "c1bfcd25",
   "metadata": {
    "ExecuteTime": {
     "end_time": "2022-11-07T09:56:22.032440Z",
     "start_time": "2022-11-07T09:56:22.020924Z"
    },
    "execution": {
     "iopub.execute_input": "2023-12-12T07:44:59.150762Z",
     "iopub.status.busy": "2023-12-12T07:44:59.148990Z",
     "iopub.status.idle": "2023-12-12T07:44:59.165126Z",
     "shell.execute_reply": "2023-12-12T07:44:59.162604Z",
     "shell.execute_reply.started": "2023-12-12T07:44:59.150672Z"
    }
   },
   "outputs": [],
   "source": [
    "Y = df['Clicks']\n",
    "X = df['Pageviews']\n",
    "Y_HAT = Y - (np.cov(X,Y)[0,1]/np.var(X)) * (X - np.mean(X))"
   ]
  },
  {
   "cell_type": "code",
   "execution_count": 39,
   "id": "43f1fe4c",
   "metadata": {
    "ExecuteTime": {
     "end_time": "2022-11-07T09:56:23.993496Z",
     "start_time": "2022-11-07T09:56:23.985973Z"
    },
    "execution": {
     "iopub.execute_input": "2023-12-12T07:44:59.554623Z",
     "iopub.status.busy": "2023-12-12T07:44:59.552280Z",
     "iopub.status.idle": "2023-12-12T07:44:59.569182Z",
     "shell.execute_reply": "2023-12-12T07:44:59.565993Z",
     "shell.execute_reply.started": "2023-12-12T07:44:59.554506Z"
    }
   },
   "outputs": [],
   "source": [
    "VAR_Y_HAT = np.var(Y) * (1 - np.corrcoef(X,Y)[0,1])"
   ]
  },
  {
   "cell_type": "code",
   "execution_count": 40,
   "id": "6391752e",
   "metadata": {
    "ExecuteTime": {
     "end_time": "2022-11-07T09:56:26.360573Z",
     "start_time": "2022-11-07T09:56:26.353615Z"
    },
    "execution": {
     "iopub.execute_input": "2023-12-12T07:45:00.057488Z",
     "iopub.status.busy": "2023-12-12T07:45:00.056698Z",
     "iopub.status.idle": "2023-12-12T07:45:00.074976Z",
     "shell.execute_reply": "2023-12-12T07:45:00.071761Z",
     "shell.execute_reply.started": "2023-12-12T07:45:00.057395Z"
    }
   },
   "outputs": [
    {
     "data": {
      "text/plain": [
       "array([[517616.6392077 ,  42725.43446872],\n",
       "       [ 42725.43446872,   4356.74139208]])"
      ]
     },
     "execution_count": 40,
     "metadata": {},
     "output_type": "execute_result"
    }
   ],
   "source": [
    "# np.corrcoef(X,Y)\n",
    "np.cov(X,Y)"
   ]
  },
  {
   "cell_type": "code",
   "execution_count": 41,
   "id": "b39d46a0",
   "metadata": {
    "ExecuteTime": {
     "end_time": "2022-11-07T09:56:28.258255Z",
     "start_time": "2022-11-07T09:56:28.250310Z"
    },
    "execution": {
     "iopub.execute_input": "2023-12-12T07:45:00.708578Z",
     "iopub.status.busy": "2023-12-12T07:45:00.706706Z",
     "iopub.status.idle": "2023-12-12T07:45:00.718462Z",
     "shell.execute_reply": "2023-12-12T07:45:00.715991Z",
     "shell.execute_reply.started": "2023-12-12T07:45:00.708509Z"
    }
   },
   "outputs": [
    {
     "data": {
      "text/plain": [
       "(819.5076707711819, 431.0425152954054)"
      ]
     },
     "execution_count": 41,
     "metadata": {},
     "output_type": "execute_result"
    }
   ],
   "source": [
    "np.var(Y_HAT), VAR_Y_HAT"
   ]
  },
  {
   "cell_type": "code",
   "execution_count": null,
   "id": "c0ccc11f-0f43-4870-bca3-9d527b7f324f",
   "metadata": {},
   "outputs": [],
   "source": []
  }
 ],
 "metadata": {
  "hide_input": false,
  "kernelspec": {
   "display_name": "venv",
   "language": "python",
   "name": "venv"
  },
  "language_info": {
   "codemirror_mode": {
    "name": "ipython",
    "version": 3
   },
   "file_extension": ".py",
   "mimetype": "text/x-python",
   "name": "python",
   "nbconvert_exporter": "python",
   "pygments_lexer": "ipython3",
   "version": "3.11.4"
  },
  "latex_envs": {
   "LaTeX_envs_menu_present": true,
   "autoclose": true,
   "autocomplete": true,
   "bibliofile": "biblio.bib",
   "cite_by": "apalike",
   "current_citInitial": 1,
   "eqLabelWithNumbers": true,
   "eqNumInitial": 1,
   "hotkeys": {
    "equation": "Ctrl-E",
    "itemize": "Ctrl-I"
   },
   "labels_anchors": false,
   "latex_user_defs": false,
   "report_style_numbering": false,
   "user_envs_cfg": false
  },
  "toc": {
   "base_numbering": 1,
   "nav_menu": {},
   "number_sections": true,
   "sideBar": true,
   "skip_h1_title": false,
   "title_cell": "Table of Contents",
   "title_sidebar": "Contents",
   "toc_cell": false,
   "toc_position": {},
   "toc_section_display": true,
   "toc_window_display": false
  },
  "varInspector": {
   "cols": {
    "lenName": 16,
    "lenType": 16,
    "lenVar": 40
   },
   "kernels_config": {
    "python": {
     "delete_cmd_postfix": "",
     "delete_cmd_prefix": "del ",
     "library": "var_list.py",
     "varRefreshCmd": "print(var_dic_list())"
    },
    "r": {
     "delete_cmd_postfix": ") ",
     "delete_cmd_prefix": "rm(",
     "library": "var_list.r",
     "varRefreshCmd": "cat(var_dic_list()) "
    }
   },
   "types_to_exclude": [
    "module",
    "function",
    "builtin_function_or_method",
    "instance",
    "_Feature"
   ],
   "window_display": false
  }
 },
 "nbformat": 4,
 "nbformat_minor": 5
}
