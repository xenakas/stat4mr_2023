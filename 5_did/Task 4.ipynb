{
 "cells": [
  {
   "cell_type": "code",
   "execution_count": 111,
   "id": "cb2da2a0-5ef3-405d-8dea-07d4f1b71b6d",
   "metadata": {
    "execution": {
     "iopub.execute_input": "2023-12-05T20:12:39.128879Z",
     "iopub.status.busy": "2023-12-05T20:12:39.128432Z",
     "iopub.status.idle": "2023-12-05T20:12:39.133200Z",
     "shell.execute_reply": "2023-12-05T20:12:39.132034Z",
     "shell.execute_reply.started": "2023-12-05T20:12:39.128853Z"
    }
   },
   "outputs": [],
   "source": [
    "import numpy as np"
   ]
  },
  {
   "cell_type": "code",
   "execution_count": 112,
   "id": "f6619b3e-6d71-4261-a0cf-5d31a1f32b3e",
   "metadata": {
    "execution": {
     "iopub.execute_input": "2023-12-05T20:12:39.547337Z",
     "iopub.status.busy": "2023-12-05T20:12:39.546961Z",
     "iopub.status.idle": "2023-12-05T20:12:39.552741Z",
     "shell.execute_reply": "2023-12-05T20:12:39.551879Z",
     "shell.execute_reply.started": "2023-12-05T20:12:39.547305Z"
    }
   },
   "outputs": [],
   "source": [
    "y_T_0 = [10,10,9,11]\n",
    "y_T_1 = [8,8,9,7]\n",
    "y_C_0 = [11,12,13,13,11]\n",
    "y_C_1 = [7,7,7,8,9]"
   ]
  },
  {
   "cell_type": "code",
   "execution_count": 106,
   "id": "9a92873f-5f92-433f-8279-6efd44e0aefe",
   "metadata": {
    "execution": {
     "iopub.execute_input": "2023-12-05T12:57:56.898174Z",
     "iopub.status.busy": "2023-12-05T12:57:56.897517Z",
     "iopub.status.idle": "2023-12-05T12:57:56.908658Z",
     "shell.execute_reply": "2023-12-05T12:57:56.907353Z",
     "shell.execute_reply.started": "2023-12-05T12:57:56.898116Z"
    }
   },
   "outputs": [
    {
     "data": {
      "text/plain": [
       "-2.0"
      ]
     },
     "execution_count": 106,
     "metadata": {},
     "output_type": "execute_result"
    }
   ],
   "source": [
    "np.mean(y_T_1)-np.mean(y_T_0)"
   ]
  },
  {
   "cell_type": "code",
   "execution_count": 107,
   "id": "8bdf1d7a-4593-436a-9651-b45500a8acc1",
   "metadata": {
    "execution": {
     "iopub.execute_input": "2023-12-05T12:58:33.115598Z",
     "iopub.status.busy": "2023-12-05T12:58:33.114945Z",
     "iopub.status.idle": "2023-12-05T12:58:33.121167Z",
     "shell.execute_reply": "2023-12-05T12:58:33.120092Z",
     "shell.execute_reply.started": "2023-12-05T12:58:33.115568Z"
    }
   },
   "outputs": [
    {
     "data": {
      "text/plain": [
       "0.25"
      ]
     },
     "execution_count": 107,
     "metadata": {},
     "output_type": "execute_result"
    }
   ],
   "source": [
    "np.mean(y_T_1)-np.mean(y_C_1)"
   ]
  },
  {
   "cell_type": "code",
   "execution_count": 110,
   "id": "29aa405a-f315-4a73-958d-19480aa5d51d",
   "metadata": {
    "execution": {
     "iopub.execute_input": "2023-12-05T13:01:52.380560Z",
     "iopub.status.busy": "2023-12-05T13:01:52.379834Z",
     "iopub.status.idle": "2023-12-05T13:01:52.395513Z",
     "shell.execute_reply": "2023-12-05T13:01:52.393705Z",
     "shell.execute_reply.started": "2023-12-05T13:01:52.380495Z"
    }
   },
   "outputs": [
    {
     "data": {
      "text/plain": [
       "2.4193548387096775"
      ]
     },
     "execution_count": 110,
     "metadata": {},
     "output_type": "execute_result"
    }
   ],
   "source": [
    "((np.mean(y_T_1)-np.mean(y_T_0))-(np.mean(y_C_1)-np.mean(y_C_0)))/0.93"
   ]
  },
  {
   "cell_type": "code",
   "execution_count": 28,
   "id": "10c92607-2e69-47db-ac23-9e9082764ff2",
   "metadata": {
    "execution": {
     "iopub.execute_input": "2023-12-05T09:45:33.186110Z",
     "iopub.status.busy": "2023-12-05T09:45:33.185398Z",
     "iopub.status.idle": "2023-12-05T09:45:33.197355Z",
     "shell.execute_reply": "2023-12-05T09:45:33.195374Z",
     "shell.execute_reply.started": "2023-12-05T09:45:33.186043Z"
    }
   },
   "outputs": [],
   "source": [
    "y = y_T_0 + y_T_1 + y_C_0 + y_C_1 \n",
    "x =[1]*len(y_T_0+y_T_1)+[0]*len(y_C_0+y_C_1)\n",
    "z= [0]*len(y_T_0)+[1]*len(y_T_1)+[0]*len(y_C_0)+[1]*len(y_C_1) "
   ]
  },
  {
   "cell_type": "code",
   "execution_count": 29,
   "id": "fe1131a8-8442-443a-892b-95a5713176ac",
   "metadata": {
    "execution": {
     "iopub.execute_input": "2023-12-05T09:45:53.788957Z",
     "iopub.status.busy": "2023-12-05T09:45:53.788671Z",
     "iopub.status.idle": "2023-12-05T09:45:54.047614Z",
     "shell.execute_reply": "2023-12-05T09:45:54.046885Z",
     "shell.execute_reply.started": "2023-12-05T09:45:53.788933Z"
    }
   },
   "outputs": [],
   "source": [
    "import pandas as pd"
   ]
  },
  {
   "cell_type": "code",
   "execution_count": 51,
   "id": "c69438d7-b94c-4162-9ba5-a016f04c9966",
   "metadata": {
    "execution": {
     "iopub.execute_input": "2023-12-05T09:51:59.649053Z",
     "iopub.status.busy": "2023-12-05T09:51:59.648333Z",
     "iopub.status.idle": "2023-12-05T09:51:59.660142Z",
     "shell.execute_reply": "2023-12-05T09:51:59.658308Z",
     "shell.execute_reply.started": "2023-12-05T09:51:59.648987Z"
    }
   },
   "outputs": [],
   "source": [
    "df = pd.DataFrame([y,x,z]).T\n",
    "df.columns = ['y','x','z']"
   ]
  },
  {
   "cell_type": "code",
   "execution_count": 39,
   "id": "656c73b5-64dc-45fa-81e5-ac7d6247406d",
   "metadata": {
    "execution": {
     "iopub.execute_input": "2023-12-05T09:49:41.721173Z",
     "iopub.status.busy": "2023-12-05T09:49:41.720825Z",
     "iopub.status.idle": "2023-12-05T09:49:42.449258Z",
     "shell.execute_reply": "2023-12-05T09:49:42.448409Z",
     "shell.execute_reply.started": "2023-12-05T09:49:41.721143Z"
    }
   },
   "outputs": [],
   "source": [
    "from sklearn.linear_model import LinearRegression"
   ]
  },
  {
   "cell_type": "code",
   "execution_count": 50,
   "id": "3d89b3bb-bcdb-40b1-980e-0098d222f23b",
   "metadata": {
    "execution": {
     "iopub.execute_input": "2023-12-05T09:51:34.380249Z",
     "iopub.status.busy": "2023-12-05T09:51:34.379695Z",
     "iopub.status.idle": "2023-12-05T09:51:34.466647Z",
     "shell.execute_reply": "2023-12-05T09:51:34.465833Z",
     "shell.execute_reply.started": "2023-12-05T09:51:34.380194Z"
    }
   },
   "outputs": [],
   "source": [
    "import statsmodels.formula.api as smf"
   ]
  },
  {
   "cell_type": "code",
   "execution_count": 115,
   "id": "0e8e69db-1d5c-47f7-abdc-d5b4d23c7dde",
   "metadata": {
    "execution": {
     "iopub.execute_input": "2023-12-06T17:38:14.741346Z",
     "iopub.status.busy": "2023-12-06T17:38:14.741154Z",
     "iopub.status.idle": "2023-12-06T17:38:14.767050Z",
     "shell.execute_reply": "2023-12-06T17:38:14.766340Z",
     "shell.execute_reply.started": "2023-12-06T17:38:14.741331Z"
    }
   },
   "outputs": [
    {
     "name": "stdout",
     "output_type": "stream",
     "text": [
      "Intercept    12.00\n",
      "x            -2.00\n",
      "z            -4.25\n",
      "x:z           2.25\n",
      "dtype: float64\n"
     ]
    },
    {
     "name": "stderr",
     "output_type": "stream",
     "text": [
      "/home/xenakas/.venv/lib/python3.11/site-packages/scipy/stats/_stats_py.py:1806: UserWarning: kurtosistest only valid for n>=20 ... continuing anyway, n=17\n",
      "  warnings.warn(\"kurtosistest only valid for n>=20 ... continuing \"\n"
     ]
    },
    {
     "data": {
      "text/html": [
       "<table class=\"simpletable\">\n",
       "<caption>OLS Regression Results</caption>\n",
       "<tr>\n",
       "  <th>Dep. Variable:</th>            <td>y</td>        <th>  R-squared:         </th> <td>   0.832</td>\n",
       "</tr>\n",
       "<tr>\n",
       "  <th>Model:</th>                   <td>OLS</td>       <th>  Adj. R-squared:    </th> <td>   0.794</td>\n",
       "</tr>\n",
       "<tr>\n",
       "  <th>Method:</th>             <td>Least Squares</td>  <th>  F-statistic:       </th> <td>   25.55</td>\n",
       "</tr>\n",
       "<tr>\n",
       "  <th>Date:</th>             <td>Wed, 06 Dec 2023</td> <th>  Prob (F-statistic):</th> <td>1.01e-05</td>\n",
       "</tr>\n",
       "<tr>\n",
       "  <th>Time:</th>                 <td>20:38:14</td>     <th>  Log-Likelihood:    </th> <td> -20.226</td>\n",
       "</tr>\n",
       "<tr>\n",
       "  <th>No. Observations:</th>      <td>    17</td>      <th>  AIC:               </th> <td>   48.45</td>\n",
       "</tr>\n",
       "<tr>\n",
       "  <th>Df Residuals:</th>          <td>    13</td>      <th>  BIC:               </th> <td>   51.79</td>\n",
       "</tr>\n",
       "<tr>\n",
       "  <th>Df Model:</th>              <td>     3</td>      <th>                     </th>     <td> </td>   \n",
       "</tr>\n",
       "<tr>\n",
       "  <th>Covariance Type:</th>         <td>HC0</td>       <th>                     </th>     <td> </td>   \n",
       "</tr>\n",
       "</table>\n",
       "<table class=\"simpletable\">\n",
       "<tr>\n",
       "      <td></td>         <th>coef</th>     <th>std err</th>      <th>z</th>      <th>P>|z|</th>  <th>[0.025</th>    <th>0.975]</th>  \n",
       "</tr>\n",
       "<tr>\n",
       "  <th>Intercept</th> <td>   12.0000</td> <td>    0.400</td> <td>   30.000</td> <td> 0.000</td> <td>   11.216</td> <td>   12.784</td>\n",
       "</tr>\n",
       "<tr>\n",
       "  <th>x</th>         <td>   -2.0000</td> <td>    0.534</td> <td>   -3.746</td> <td> 0.000</td> <td>   -3.046</td> <td>   -0.954</td>\n",
       "</tr>\n",
       "<tr>\n",
       "  <th>z</th>         <td>   -4.2500</td> <td>    0.576</td> <td>   -7.377</td> <td> 0.000</td> <td>   -5.379</td> <td>   -3.121</td>\n",
       "</tr>\n",
       "<tr>\n",
       "  <th>x:z</th>       <td>    2.2500</td> <td>    0.763</td> <td>    2.950</td> <td> 0.003</td> <td>    0.755</td> <td>    3.745</td>\n",
       "</tr>\n",
       "</table>\n",
       "<table class=\"simpletable\">\n",
       "<tr>\n",
       "  <th>Omnibus:</th>       <td> 4.135</td> <th>  Durbin-Watson:     </th> <td>   1.773</td>\n",
       "</tr>\n",
       "<tr>\n",
       "  <th>Prob(Omnibus):</th> <td> 0.127</td> <th>  Jarque-Bera (JB):  </th> <td>   1.379</td>\n",
       "</tr>\n",
       "<tr>\n",
       "  <th>Skew:</th>          <td> 0.132</td> <th>  Prob(JB):          </th> <td>   0.502</td>\n",
       "</tr>\n",
       "<tr>\n",
       "  <th>Kurtosis:</th>      <td> 1.630</td> <th>  Cond. No.          </th> <td>    6.55</td>\n",
       "</tr>\n",
       "</table><br/><br/>Notes:<br/>[1] Standard Errors are heteroscedasticity robust (HC0)"
      ],
      "text/latex": [
       "\\begin{center}\n",
       "\\begin{tabular}{lclc}\n",
       "\\toprule\n",
       "\\textbf{Dep. Variable:}    &        y         & \\textbf{  R-squared:         } &     0.832   \\\\\n",
       "\\textbf{Model:}            &       OLS        & \\textbf{  Adj. R-squared:    } &     0.794   \\\\\n",
       "\\textbf{Method:}           &  Least Squares   & \\textbf{  F-statistic:       } &     25.55   \\\\\n",
       "\\textbf{Date:}             & Wed, 06 Dec 2023 & \\textbf{  Prob (F-statistic):} &  1.01e-05   \\\\\n",
       "\\textbf{Time:}             &     20:38:14     & \\textbf{  Log-Likelihood:    } &   -20.226   \\\\\n",
       "\\textbf{No. Observations:} &          17      & \\textbf{  AIC:               } &     48.45   \\\\\n",
       "\\textbf{Df Residuals:}     &          13      & \\textbf{  BIC:               } &     51.79   \\\\\n",
       "\\textbf{Df Model:}         &           3      & \\textbf{                     } &             \\\\\n",
       "\\textbf{Covariance Type:}  &       HC0        & \\textbf{                     } &             \\\\\n",
       "\\bottomrule\n",
       "\\end{tabular}\n",
       "\\begin{tabular}{lcccccc}\n",
       "                   & \\textbf{coef} & \\textbf{std err} & \\textbf{z} & \\textbf{P$> |$z$|$} & \\textbf{[0.025} & \\textbf{0.975]}  \\\\\n",
       "\\midrule\n",
       "\\textbf{Intercept} &      12.0000  &        0.400     &    30.000  &         0.000        &       11.216    &       12.784     \\\\\n",
       "\\textbf{x}         &      -2.0000  &        0.534     &    -3.746  &         0.000        &       -3.046    &       -0.954     \\\\\n",
       "\\textbf{z}         &      -4.2500  &        0.576     &    -7.377  &         0.000        &       -5.379    &       -3.121     \\\\\n",
       "\\textbf{x:z}       &       2.2500  &        0.763     &     2.950  &         0.003        &        0.755    &        3.745     \\\\\n",
       "\\bottomrule\n",
       "\\end{tabular}\n",
       "\\begin{tabular}{lclc}\n",
       "\\textbf{Omnibus:}       &  4.135 & \\textbf{  Durbin-Watson:     } &    1.773  \\\\\n",
       "\\textbf{Prob(Omnibus):} &  0.127 & \\textbf{  Jarque-Bera (JB):  } &    1.379  \\\\\n",
       "\\textbf{Skew:}          &  0.132 & \\textbf{  Prob(JB):          } &    0.502  \\\\\n",
       "\\textbf{Kurtosis:}      &  1.630 & \\textbf{  Cond. No.          } &     6.55  \\\\\n",
       "\\bottomrule\n",
       "\\end{tabular}\n",
       "%\\caption{OLS Regression Results}\n",
       "\\end{center}\n",
       "\n",
       "Notes: \\newline\n",
       " [1] Standard Errors are heteroscedasticity robust (HC0)"
      ],
      "text/plain": [
       "<class 'statsmodels.iolib.summary.Summary'>\n",
       "\"\"\"\n",
       "                            OLS Regression Results                            \n",
       "==============================================================================\n",
       "Dep. Variable:                      y   R-squared:                       0.832\n",
       "Model:                            OLS   Adj. R-squared:                  0.794\n",
       "Method:                 Least Squares   F-statistic:                     25.55\n",
       "Date:                Wed, 06 Dec 2023   Prob (F-statistic):           1.01e-05\n",
       "Time:                        20:38:14   Log-Likelihood:                -20.226\n",
       "No. Observations:                  17   AIC:                             48.45\n",
       "Df Residuals:                      13   BIC:                             51.79\n",
       "Df Model:                           3                                         \n",
       "Covariance Type:                  HC0                                         \n",
       "==============================================================================\n",
       "                 coef    std err          z      P>|z|      [0.025      0.975]\n",
       "------------------------------------------------------------------------------\n",
       "Intercept     12.0000      0.400     30.000      0.000      11.216      12.784\n",
       "x             -2.0000      0.534     -3.746      0.000      -3.046      -0.954\n",
       "z             -4.2500      0.576     -7.377      0.000      -5.379      -3.121\n",
       "x:z            2.2500      0.763      2.950      0.003       0.755       3.745\n",
       "==============================================================================\n",
       "Omnibus:                        4.135   Durbin-Watson:                   1.773\n",
       "Prob(Omnibus):                  0.127   Jarque-Bera (JB):                1.379\n",
       "Skew:                           0.132   Prob(JB):                        0.502\n",
       "Kurtosis:                       1.630   Cond. No.                         6.55\n",
       "==============================================================================\n",
       "\n",
       "Notes:\n",
       "[1] Standard Errors are heteroscedasticity robust (HC0)\n",
       "\"\"\""
      ]
     },
     "execution_count": 115,
     "metadata": {},
     "output_type": "execute_result"
    }
   ],
   "source": [
    "model_a1 = smf.ols(data = df, formula='y ~ x+z+x*z').fit(cov_type='HC0')\n",
    "print(model_a1.params)\n",
    "model_a1.summary()"
   ]
  }
 ],
 "metadata": {
  "kernelspec": {
   "display_name": "venv",
   "language": "python",
   "name": "venv"
  },
  "language_info": {
   "codemirror_mode": {
    "name": "ipython",
    "version": 3
   },
   "file_extension": ".py",
   "mimetype": "text/x-python",
   "name": "python",
   "nbconvert_exporter": "python",
   "pygments_lexer": "ipython3",
   "version": "3.11.4"
  }
 },
 "nbformat": 4,
 "nbformat_minor": 5
}
