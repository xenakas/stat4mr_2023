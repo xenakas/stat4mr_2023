{
 "cells": [
  {
   "cell_type": "code",
   "execution_count": 26,
   "id": "018396c7",
   "metadata": {
    "ExecuteTime": {
     "end_time": "2023-01-23T12:47:09.829811Z",
     "start_time": "2023-01-23T12:47:09.825972Z"
    }
   },
   "outputs": [],
   "source": [
    "import numpy as np\n",
    "import pandas as pd\n",
    "import matplotlib as plt\n",
    "\n",
    "\n",
    "\n",
    "from statsmodels.graphics.mosaicplot import mosaic\n",
    "from itertools import product"
   ]
  },
  {
   "cell_type": "code",
   "execution_count": 17,
   "id": "c8eb5db9",
   "metadata": {
    "ExecuteTime": {
     "end_time": "2023-01-23T11:05:14.773198Z",
     "start_time": "2023-01-23T11:05:14.749382Z"
    }
   },
   "outputs": [
    {
     "data": {
      "text/html": [
       "<div>\n",
       "<style scoped>\n",
       "    .dataframe tbody tr th:only-of-type {\n",
       "        vertical-align: middle;\n",
       "    }\n",
       "\n",
       "    .dataframe tbody tr th {\n",
       "        vertical-align: top;\n",
       "    }\n",
       "\n",
       "    .dataframe thead th {\n",
       "        text-align: right;\n",
       "    }\n",
       "</style>\n",
       "<table border=\"1\" class=\"dataframe\">\n",
       "  <thead>\n",
       "    <tr style=\"text-align: right;\">\n",
       "      <th></th>\n",
       "      <th>grade</th>\n",
       "      <th>sub_grade</th>\n",
       "      <th>loan_status</th>\n",
       "      <th>purpose</th>\n",
       "    </tr>\n",
       "  </thead>\n",
       "  <tbody>\n",
       "    <tr>\n",
       "      <th>0</th>\n",
       "      <td>B</td>\n",
       "      <td>B2</td>\n",
       "      <td>Fully Paid</td>\n",
       "      <td>credit_card</td>\n",
       "    </tr>\n",
       "    <tr>\n",
       "      <th>1</th>\n",
       "      <td>C</td>\n",
       "      <td>C4</td>\n",
       "      <td>Charged Off</td>\n",
       "      <td>car</td>\n",
       "    </tr>\n",
       "    <tr>\n",
       "      <th>2</th>\n",
       "      <td>C</td>\n",
       "      <td>C5</td>\n",
       "      <td>Fully Paid</td>\n",
       "      <td>small_business</td>\n",
       "    </tr>\n",
       "    <tr>\n",
       "      <th>3</th>\n",
       "      <td>C</td>\n",
       "      <td>C1</td>\n",
       "      <td>Fully Paid</td>\n",
       "      <td>other</td>\n",
       "    </tr>\n",
       "    <tr>\n",
       "      <th>4</th>\n",
       "      <td>B</td>\n",
       "      <td>B5</td>\n",
       "      <td>Fully Paid</td>\n",
       "      <td>other</td>\n",
       "    </tr>\n",
       "    <tr>\n",
       "      <th>5</th>\n",
       "      <td>A</td>\n",
       "      <td>A4</td>\n",
       "      <td>Fully Paid</td>\n",
       "      <td>wedding</td>\n",
       "    </tr>\n",
       "    <tr>\n",
       "      <th>6</th>\n",
       "      <td>C</td>\n",
       "      <td>C5</td>\n",
       "      <td>Fully Paid</td>\n",
       "      <td>debt_consolidation</td>\n",
       "    </tr>\n",
       "    <tr>\n",
       "      <th>7</th>\n",
       "      <td>E</td>\n",
       "      <td>E1</td>\n",
       "      <td>Fully Paid</td>\n",
       "      <td>car</td>\n",
       "    </tr>\n",
       "    <tr>\n",
       "      <th>8</th>\n",
       "      <td>F</td>\n",
       "      <td>F2</td>\n",
       "      <td>Charged Off</td>\n",
       "      <td>small_business</td>\n",
       "    </tr>\n",
       "    <tr>\n",
       "      <th>9</th>\n",
       "      <td>B</td>\n",
       "      <td>B5</td>\n",
       "      <td>Charged Off</td>\n",
       "      <td>other</td>\n",
       "    </tr>\n",
       "  </tbody>\n",
       "</table>\n",
       "</div>"
      ],
      "text/plain": [
       "  grade sub_grade  loan_status             purpose\n",
       "0     B        B2   Fully Paid         credit_card\n",
       "1     C        C4  Charged Off                 car\n",
       "2     C        C5   Fully Paid      small_business\n",
       "3     C        C1   Fully Paid               other\n",
       "4     B        B5   Fully Paid               other\n",
       "5     A        A4   Fully Paid             wedding\n",
       "6     C        C5   Fully Paid  debt_consolidation\n",
       "7     E        E1   Fully Paid                 car\n",
       "8     F        F2  Charged Off      small_business\n",
       "9     B        B5  Charged Off               other"
      ]
     },
     "execution_count": 17,
     "metadata": {},
     "output_type": "execute_result"
    }
   ],
   "source": [
    "data = pd.read_csv(\"loan_status.csv\")\n",
    "\n",
    "data.head(10)"
   ]
  },
  {
   "cell_type": "code",
   "execution_count": 27,
   "id": "a0f0bdf4",
   "metadata": {
    "ExecuteTime": {
     "end_time": "2023-01-23T12:47:54.278407Z",
     "start_time": "2023-01-23T12:47:54.246786Z"
    }
   },
   "outputs": [
    {
     "data": {
      "text/html": [
       "<div>\n",
       "<style scoped>\n",
       "    .dataframe tbody tr th:only-of-type {\n",
       "        vertical-align: middle;\n",
       "    }\n",
       "\n",
       "    .dataframe tbody tr th {\n",
       "        vertical-align: top;\n",
       "    }\n",
       "\n",
       "    .dataframe thead th {\n",
       "        text-align: right;\n",
       "    }\n",
       "</style>\n",
       "<table border=\"1\" class=\"dataframe\">\n",
       "  <thead>\n",
       "    <tr style=\"text-align: right;\">\n",
       "      <th></th>\n",
       "      <th>grade</th>\n",
       "      <th>sub_grade</th>\n",
       "      <th>loan_status</th>\n",
       "      <th>purpose</th>\n",
       "    </tr>\n",
       "  </thead>\n",
       "  <tbody>\n",
       "    <tr>\n",
       "      <th>count</th>\n",
       "      <td>50</td>\n",
       "      <td>50</td>\n",
       "      <td>50</td>\n",
       "      <td>50</td>\n",
       "    </tr>\n",
       "    <tr>\n",
       "      <th>unique</th>\n",
       "      <td>6</td>\n",
       "      <td>19</td>\n",
       "      <td>2</td>\n",
       "      <td>10</td>\n",
       "    </tr>\n",
       "    <tr>\n",
       "      <th>top</th>\n",
       "      <td>B</td>\n",
       "      <td>B3</td>\n",
       "      <td>Fully Paid</td>\n",
       "      <td>debt_consolidation</td>\n",
       "    </tr>\n",
       "    <tr>\n",
       "      <th>freq</th>\n",
       "      <td>21</td>\n",
       "      <td>6</td>\n",
       "      <td>39</td>\n",
       "      <td>22</td>\n",
       "    </tr>\n",
       "  </tbody>\n",
       "</table>\n",
       "</div>"
      ],
      "text/plain": [
       "       grade sub_grade loan_status             purpose\n",
       "count     50        50          50                  50\n",
       "unique     6        19           2                  10\n",
       "top        B        B3  Fully Paid  debt_consolidation\n",
       "freq      21         6          39                  22"
      ]
     },
     "execution_count": 27,
     "metadata": {},
     "output_type": "execute_result"
    }
   ],
   "source": [
    "data.describe()\n"
   ]
  },
  {
   "cell_type": "code",
   "execution_count": 28,
   "id": "646475dc",
   "metadata": {
    "ExecuteTime": {
     "end_time": "2023-01-23T12:48:08.618160Z",
     "start_time": "2023-01-23T12:48:08.608161Z"
    }
   },
   "outputs": [
    {
     "name": "stdout",
     "output_type": "stream",
     "text": [
      "loan_status  Charged Off  Fully Paid\n",
      "grade                               \n",
      "A                      1          11\n",
      "B                      5          16\n",
      "C                      3           8\n",
      "D                      1           3\n",
      "E                      0           1\n",
      "F                      1           0\n"
     ]
    }
   ],
   "source": [
    "# Code #1: Contingency Table showing correlation between Grades and loan status.\n",
    "data_crosstab = pd.crosstab(data['grade'],\n",
    "                            data['loan_status'], \n",
    "                               margins = False)\n",
    "print(data_crosstab)"
   ]
  },
  {
   "cell_type": "code",
   "execution_count": 29,
   "id": "216823a8",
   "metadata": {
    "ExecuteTime": {
     "end_time": "2023-01-23T12:48:56.116057Z",
     "start_time": "2023-01-23T12:48:55.986675Z"
    }
   },
   "outputs": [
    {
     "data": {
      "image/png": "[encoded data removed]",
      "text/plain": [
       "<Figure size 432x288 with 3 Axes>"
      ]
     },
     "metadata": {
      "needs_background": "light"
     },
     "output_type": "display_data"
    }
   ],
   "source": [
    "mosaic(data,['grade','loan_status']);"
   ]
  },
  {
   "cell_type": "code",
   "execution_count": 6,
   "id": "96407b1d",
   "metadata": {
    "ExecuteTime": {
     "end_time": "2023-01-23T10:58:27.170776Z",
     "start_time": "2023-01-23T10:58:27.166290Z"
    }
   },
   "outputs": [],
   "source": [
    "# Code #2: Contingency Table showing correlation between Purpose and loan status."
   ]
  },
  {
   "cell_type": "code",
   "execution_count": 30,
   "id": "7041e2fb",
   "metadata": {
    "ExecuteTime": {
     "end_time": "2023-01-23T12:49:26.860428Z",
     "start_time": "2023-01-23T12:49:26.827310Z"
    }
   },
   "outputs": [
    {
     "name": "stdout",
     "output_type": "stream",
     "text": [
      "loan_status         Charged Off  Fully Paid\n",
      "purpose                                    \n",
      "car                           1           1\n",
      "credit_card                   0           8\n",
      "debt_consolidation            4          18\n",
      "home_improvement              0           1\n",
      "major_purchase                1           1\n",
      "medical                       0           1\n",
      "moving                        0           1\n",
      "other                         4           5\n",
      "small_business                1           2\n",
      "wedding                       0           1\n"
     ]
    }
   ],
   "source": [
    "data_crosstab = pd.crosstab(data['purpose'], \n",
    "                            data['loan_status'],\n",
    "                                margins = False)\n",
    "print(data_crosstab)"
   ]
  },
  {
   "cell_type": "code",
   "execution_count": 31,
   "id": "e2569a9f",
   "metadata": {
    "ExecuteTime": {
     "end_time": "2023-01-23T12:49:40.249751Z",
     "start_time": "2023-01-23T12:49:40.074141Z"
    }
   },
   "outputs": [
    {
     "data": {
      "image/png": "[encoded data removed]",
      "text/plain": [
       "<Figure size 432x288 with 3 Axes>"
      ]
     },
     "metadata": {
      "needs_background": "light"
     },
     "output_type": "display_data"
    }
   ],
   "source": [
    "mosaic(data,['purpose','loan_status']);"
   ]
  },
  {
   "cell_type": "code",
   "execution_count": 32,
   "id": "8440d001",
   "metadata": {
    "ExecuteTime": {
     "end_time": "2023-01-23T12:50:12.063915Z",
     "start_time": "2023-01-23T12:50:12.042604Z"
    }
   },
   "outputs": [
    {
     "name": "stdout",
     "output_type": "stream",
     "text": [
      "loan_status               Charged Off  Fully Paid\n",
      "grade purpose                                    \n",
      "A     credit_card                   0           1\n",
      "      debt_consolidation            1           7\n",
      "      major_purchase                0           1\n",
      "      other                         0           1\n",
      "      wedding                       0           1\n",
      "B     credit_card                   0           6\n",
      "      debt_consolidation            1           5\n",
      "      major_purchase                1           0\n",
      "      medical                       0           1\n",
      "      moving                        0           1\n",
      "      other                         3           2\n",
      "      small_business                0           1\n",
      "C     car                           1           0\n",
      "      credit_card                   0           1\n",
      "      debt_consolidation            2           4\n",
      "      home_improvement              0           1\n",
      "      other                         0           1\n",
      "      small_business                0           1\n",
      "D     debt_consolidation            0           2\n",
      "      other                         1           1\n",
      "E     car                           0           1\n",
      "F     small_business                1           0\n"
     ]
    }
   ],
   "source": [
    "# Code #3: Contingency Table showing correlation between Grades+Purpose and loan status.\n",
    "data_crosstab = pd.crosstab([data.grade, data.purpose],\n",
    "data.loan_status, margins = False)\n",
    "print(data_crosstab)\n"
   ]
  },
  {
   "cell_type": "code",
   "execution_count": 35,
   "id": "0f717c35",
   "metadata": {
    "ExecuteTime": {
     "end_time": "2023-01-23T12:51:22.979140Z",
     "start_time": "2023-01-23T12:51:22.584386Z"
    }
   },
   "outputs": [
    {
     "data": {
      "image/png": "[encoded data removed]",
      "text/plain": [
       "<Figure size 432x288 with 3 Axes>"
      ]
     },
     "metadata": {
      "needs_background": "light"
     },
     "output_type": "display_data"
    }
   ],
   "source": [
    "mosaic(data,['grade','purpose']);"
   ]
  },
  {
   "cell_type": "markdown",
   "id": "2e6abbd2",
   "metadata": {},
   "source": [
    "So as in the code, Contingency Tables are giving clear correlation values between two and more variables. Thus making it much more useful to understand the data for further information extraction."
   ]
  },
  {
   "cell_type": "code",
   "execution_count": 36,
   "id": "b0e62be0",
   "metadata": {
    "ExecuteTime": {
     "end_time": "2023-01-23T12:51:27.030533Z",
     "start_time": "2023-01-23T12:51:27.002852Z"
    }
   },
   "outputs": [
    {
     "data": {
      "text/html": [
       "<div>\n",
       "<style scoped>\n",
       "    .dataframe tbody tr th:only-of-type {\n",
       "        vertical-align: middle;\n",
       "    }\n",
       "\n",
       "    .dataframe tbody tr th {\n",
       "        vertical-align: top;\n",
       "    }\n",
       "\n",
       "    .dataframe thead th {\n",
       "        text-align: right;\n",
       "    }\n",
       "</style>\n",
       "<table border=\"1\" class=\"dataframe\">\n",
       "  <thead>\n",
       "    <tr style=\"text-align: right;\">\n",
       "      <th>loan_status</th>\n",
       "      <th>Charged Off</th>\n",
       "      <th>Fully Paid</th>\n",
       "    </tr>\n",
       "    <tr>\n",
       "      <th>grade</th>\n",
       "      <th></th>\n",
       "      <th></th>\n",
       "    </tr>\n",
       "  </thead>\n",
       "  <tbody>\n",
       "    <tr>\n",
       "      <th>A</th>\n",
       "      <td>1</td>\n",
       "      <td>11</td>\n",
       "    </tr>\n",
       "    <tr>\n",
       "      <th>B</th>\n",
       "      <td>5</td>\n",
       "      <td>16</td>\n",
       "    </tr>\n",
       "    <tr>\n",
       "      <th>C</th>\n",
       "      <td>3</td>\n",
       "      <td>8</td>\n",
       "    </tr>\n",
       "    <tr>\n",
       "      <th>D</th>\n",
       "      <td>1</td>\n",
       "      <td>3</td>\n",
       "    </tr>\n",
       "    <tr>\n",
       "      <th>E</th>\n",
       "      <td>0</td>\n",
       "      <td>1</td>\n",
       "    </tr>\n",
       "    <tr>\n",
       "      <th>F</th>\n",
       "      <td>1</td>\n",
       "      <td>0</td>\n",
       "    </tr>\n",
       "  </tbody>\n",
       "</table>\n",
       "</div>"
      ],
      "text/plain": [
       "loan_status  Charged Off  Fully Paid\n",
       "grade                               \n",
       "A                      1          11\n",
       "B                      5          16\n",
       "C                      3           8\n",
       "D                      1           3\n",
       "E                      0           1\n",
       "F                      1           0"
      ]
     },
     "execution_count": 36,
     "metadata": {},
     "output_type": "execute_result"
    }
   ],
   "source": [
    "# Code #1: Contingency Table showing correlation between Grades and loan status.\n",
    "tab = pd.crosstab(data['grade'],\n",
    "                            data['loan_status'], \n",
    "                               margins = False)\n",
    "tab"
   ]
  },
  {
   "cell_type": "code",
   "execution_count": 38,
   "id": "92201b24",
   "metadata": {
    "ExecuteTime": {
     "end_time": "2023-01-23T12:52:02.095488Z",
     "start_time": "2023-01-23T12:52:02.080726Z"
    }
   },
   "outputs": [
    {
     "data": {
      "text/plain": [
       "(0.05, 0.3720830614772999, False)"
      ]
     },
     "execution_count": 38,
     "metadata": {},
     "output_type": "execute_result"
    }
   ],
   "source": [
    "alpha = 0.05  # or choose your own alpha here\n",
    "\n",
    "from scipy import stats\n",
    "# Run a chi-squared and print out alpha, the p value,\n",
    "# and whether the comparison says to reject the null hypothesis.\n",
    "# (The dof and ex variables are values we don't need here.)\n",
    "chi2_statistic, p_value, dof, ex = stats.chi2_contingency( tab )\n",
    "reject_H0 = p_value < alpha\n",
    "alpha, p_value, reject_H0"
   ]
  },
  {
   "cell_type": "code",
   "execution_count": 40,
   "id": "9a47bd68",
   "metadata": {
    "ExecuteTime": {
     "end_time": "2023-01-23T12:52:30.411788Z",
     "start_time": "2023-01-23T12:52:30.407763Z"
    }
   },
   "outputs": [],
   "source": [
    "import statsmodels.api as sm\n"
   ]
  },
  {
   "cell_type": "code",
   "execution_count": 41,
   "id": "a82514a4",
   "metadata": {
    "ExecuteTime": {
     "end_time": "2023-01-23T12:52:30.674348Z",
     "start_time": "2023-01-23T12:52:30.671572Z"
    }
   },
   "outputs": [],
   "source": [
    "table = sm.stats.Table(tab)"
   ]
  },
  {
   "cell_type": "code",
   "execution_count": 42,
   "id": "dc621b10",
   "metadata": {
    "ExecuteTime": {
     "end_time": "2023-01-23T12:52:31.415971Z",
     "start_time": "2023-01-23T12:52:31.398913Z"
    }
   },
   "outputs": [
    {
     "data": {
      "text/html": [
       "<div>\n",
       "<style scoped>\n",
       "    .dataframe tbody tr th:only-of-type {\n",
       "        vertical-align: middle;\n",
       "    }\n",
       "\n",
       "    .dataframe tbody tr th {\n",
       "        vertical-align: top;\n",
       "    }\n",
       "\n",
       "    .dataframe thead th {\n",
       "        text-align: right;\n",
       "    }\n",
       "</style>\n",
       "<table border=\"1\" class=\"dataframe\">\n",
       "  <thead>\n",
       "    <tr style=\"text-align: right;\">\n",
       "      <th>loan_status</th>\n",
       "      <th>Charged Off</th>\n",
       "      <th>Fully Paid</th>\n",
       "    </tr>\n",
       "    <tr>\n",
       "      <th>grade</th>\n",
       "      <th></th>\n",
       "      <th></th>\n",
       "    </tr>\n",
       "  </thead>\n",
       "  <tbody>\n",
       "    <tr>\n",
       "      <th>A</th>\n",
       "      <td>1</td>\n",
       "      <td>11</td>\n",
       "    </tr>\n",
       "    <tr>\n",
       "      <th>B</th>\n",
       "      <td>5</td>\n",
       "      <td>16</td>\n",
       "    </tr>\n",
       "    <tr>\n",
       "      <th>C</th>\n",
       "      <td>3</td>\n",
       "      <td>8</td>\n",
       "    </tr>\n",
       "    <tr>\n",
       "      <th>D</th>\n",
       "      <td>1</td>\n",
       "      <td>3</td>\n",
       "    </tr>\n",
       "    <tr>\n",
       "      <th>E</th>\n",
       "      <td>0</td>\n",
       "      <td>1</td>\n",
       "    </tr>\n",
       "    <tr>\n",
       "      <th>F</th>\n",
       "      <td>1</td>\n",
       "      <td>0</td>\n",
       "    </tr>\n",
       "  </tbody>\n",
       "</table>\n",
       "</div>"
      ],
      "text/plain": [
       "loan_status  Charged Off  Fully Paid\n",
       "grade                               \n",
       "A                      1          11\n",
       "B                      5          16\n",
       "C                      3           8\n",
       "D                      1           3\n",
       "E                      0           1\n",
       "F                      1           0"
      ]
     },
     "execution_count": 42,
     "metadata": {},
     "output_type": "execute_result"
    }
   ],
   "source": [
    "table.table_orig"
   ]
  },
  {
   "cell_type": "code",
   "execution_count": 43,
   "id": "12e013ef",
   "metadata": {
    "ExecuteTime": {
     "end_time": "2023-01-23T12:52:35.623813Z",
     "start_time": "2023-01-23T12:52:35.619155Z"
    }
   },
   "outputs": [
    {
     "data": {
      "text/plain": [
       "0.6487077617798291"
      ]
     },
     "execution_count": 43,
     "metadata": {},
     "output_type": "execute_result"
    }
   ],
   "source": [
    "rslt = table.test_nominal_association()\n",
    "rslt.pvalue"
   ]
  },
  {
   "cell_type": "code",
   "execution_count": 44,
   "id": "26f76d6a",
   "metadata": {
    "ExecuteTime": {
     "end_time": "2023-01-23T12:52:39.680123Z",
     "start_time": "2023-01-23T12:52:39.658476Z"
    }
   },
   "outputs": [
    {
     "data": {
      "text/html": [
       "<div>\n",
       "<style scoped>\n",
       "    .dataframe tbody tr th:only-of-type {\n",
       "        vertical-align: middle;\n",
       "    }\n",
       "\n",
       "    .dataframe tbody tr th {\n",
       "        vertical-align: top;\n",
       "    }\n",
       "\n",
       "    .dataframe thead th {\n",
       "        text-align: right;\n",
       "    }\n",
       "</style>\n",
       "<table border=\"1\" class=\"dataframe\">\n",
       "  <thead>\n",
       "    <tr style=\"text-align: right;\">\n",
       "      <th>loan_status</th>\n",
       "      <th>Charged Off</th>\n",
       "      <th>Fully Paid</th>\n",
       "    </tr>\n",
       "    <tr>\n",
       "      <th>grade</th>\n",
       "      <th></th>\n",
       "      <th></th>\n",
       "    </tr>\n",
       "  </thead>\n",
       "  <tbody>\n",
       "    <tr>\n",
       "      <th>A</th>\n",
       "      <td>1.075448</td>\n",
       "      <td>0.313105</td>\n",
       "    </tr>\n",
       "    <tr>\n",
       "      <th>B</th>\n",
       "      <td>0.014797</td>\n",
       "      <td>0.004308</td>\n",
       "    </tr>\n",
       "    <tr>\n",
       "      <th>C</th>\n",
       "      <td>0.108851</td>\n",
       "      <td>0.031691</td>\n",
       "    </tr>\n",
       "    <tr>\n",
       "      <th>D</th>\n",
       "      <td>0.010656</td>\n",
       "      <td>0.003103</td>\n",
       "    </tr>\n",
       "    <tr>\n",
       "      <th>E</th>\n",
       "      <td>0.077366</td>\n",
       "      <td>0.022524</td>\n",
       "    </tr>\n",
       "    <tr>\n",
       "      <th>F</th>\n",
       "      <td>1.294757</td>\n",
       "      <td>0.376955</td>\n",
       "    </tr>\n",
       "  </tbody>\n",
       "</table>\n",
       "</div>"
      ],
      "text/plain": [
       "loan_status  Charged Off  Fully Paid\n",
       "grade                               \n",
       "A               1.075448    0.313105\n",
       "B               0.014797    0.004308\n",
       "C               0.108851    0.031691\n",
       "D               0.010656    0.003103\n",
       "E               0.077366    0.022524\n",
       "F               1.294757    0.376955"
      ]
     },
     "execution_count": 44,
     "metadata": {},
     "output_type": "execute_result"
    }
   ],
   "source": [
    "table.chi2_contribs"
   ]
  },
  {
   "cell_type": "code",
   "execution_count": null,
   "id": "f793c7cf",
   "metadata": {},
   "outputs": [],
   "source": []
  }
 ],
 "metadata": {
  "hide_input": false,
  "kernelspec": {
   "display_name": "Python 3 (ipykernel)",
   "language": "python",
   "name": "python3"
  },
  "language_info": {
   "codemirror_mode": {
    "name": "ipython",
    "version": 3
   },
   "file_extension": ".py",
   "mimetype": "text/x-python",
   "name": "python",
   "nbconvert_exporter": "python",
   "pygments_lexer": "ipython3",
   "version": "3.10.7"
  },
  "latex_envs": {
   "LaTeX_envs_menu_present": true,
   "autoclose": true,
   "autocomplete": true,
   "bibliofile": "biblio.bib",
   "cite_by": "apalike",
   "current_citInitial": 1,
   "eqLabelWithNumbers": true,
   "eqNumInitial": 1,
   "hotkeys": {
    "equation": "Ctrl-E",
    "itemize": "Ctrl-I"
   },
   "labels_anchors": false,
   "latex_user_defs": false,
   "report_style_numbering": false,
   "user_envs_cfg": false
  },
  "toc": {
   "base_numbering": 1,
   "nav_menu": {},
   "number_sections": true,
   "sideBar": true,
   "skip_h1_title": false,
   "title_cell": "Table of Contents",
   "title_sidebar": "Contents",
   "toc_cell": false,
   "toc_position": {},
   "toc_section_display": true,
   "toc_window_display": false
  },
  "varInspector": {
   "cols": {
    "lenName": 16,
    "lenType": 16,
    "lenVar": 40
   },
   "kernels_config": {
    "python": {
     "delete_cmd_postfix": "",
     "delete_cmd_prefix": "del ",
     "library": "var_list.py",
     "varRefreshCmd": "print(var_dic_list())"
    },
    "r": {
     "delete_cmd_postfix": ") ",
     "delete_cmd_prefix": "rm(",
     "library": "var_list.r",
     "varRefreshCmd": "cat(var_dic_list()) "
    }
   },
   "types_to_exclude": [
    "module",
    "function",
    "builtin_function_or_method",
    "instance",
    "_Feature"
   ],
   "window_display": false
  }
 },
 "nbformat": 4,
 "nbformat_minor": 5
}
