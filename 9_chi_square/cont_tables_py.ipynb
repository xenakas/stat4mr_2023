{
 "cells": [
  {
   "cell_type": "code",
   "execution_count": 1,
   "id": "018396c7",
   "metadata": {
    "ExecuteTime": {
     "end_time": "2023-01-23T12:47:09.829811Z",
     "start_time": "2023-01-23T12:47:09.825972Z"
    }
   },
   "outputs": [
    {
     "name": "stderr",
     "output_type": "stream",
     "text": [
      "/var/folders/sl/q4v92dy13b15fkbcnvclbs2w0000gp/T/ipykernel_7923/637520550.py:2: DeprecationWarning: \n",
      "Pyarrow will become a required dependency of pandas in the next major release of pandas (pandas 3.0),\n",
      "(to allow more performant data types, such as the Arrow string type, and better interoperability with other libraries)\n",
      "but was not found to be installed on your system.\n",
      "If this would cause problems for you,\n",
      "please provide us feedback at https://github.com/pandas-dev/pandas/issues/54466\n",
      "        \n",
      "  import pandas as pd\n"
     ]
    }
   ],
   "source": [
    "import numpy as np\n",
    "import pandas as pd\n",
    "import matplotlib as plt\n",
    "\n",
    "from statsmodels.graphics.mosaicplot import mosaic\n",
    "from itertools import product"
   ]
  },
  {
   "cell_type": "code",
   "execution_count": 2,
   "id": "f91ba031-cefa-4e12-ac61-fc7ced53ac4a",
   "metadata": {
    "ExecuteTime": {
     "end_time": "2023-01-23T11:05:14.773198Z",
     "start_time": "2023-01-23T11:05:14.749382Z"
    }
   },
   "outputs": [],
   "source": [
    "data = pd.read_csv(\"loan_status.csv\", delimiter=',', index_col=False)"
   ]
  },
  {
   "cell_type": "code",
   "execution_count": 3,
   "id": "c83c46bc-2f55-486b-af98-55490b54b192",
   "metadata": {},
   "outputs": [
    {
     "data": {
      "text/html": [
       "<div>\n",
       "<style scoped>\n",
       "    .dataframe tbody tr th:only-of-type {\n",
       "        vertical-align: middle;\n",
       "    }\n",
       "\n",
       "    .dataframe tbody tr th {\n",
       "        vertical-align: top;\n",
       "    }\n",
       "\n",
       "    .dataframe thead th {\n",
       "        text-align: right;\n",
       "    }\n",
       "</style>\n",
       "<table border=\"1\" class=\"dataframe\">\n",
       "  <thead>\n",
       "    <tr style=\"text-align: right;\">\n",
       "      <th></th>\n",
       "      <th>index</th>\n",
       "      <th>grade</th>\n",
       "      <th>sub_grade</th>\n",
       "      <th>loan_status</th>\n",
       "      <th>purpose</th>\n",
       "    </tr>\n",
       "  </thead>\n",
       "  <tbody>\n",
       "    <tr>\n",
       "      <th>0</th>\n",
       "      <td>0</td>\n",
       "      <td>B</td>\n",
       "      <td>B2</td>\n",
       "      <td>Fully Paid</td>\n",
       "      <td>credit_card</td>\n",
       "    </tr>\n",
       "    <tr>\n",
       "      <th>1</th>\n",
       "      <td>1</td>\n",
       "      <td>C</td>\n",
       "      <td>C4</td>\n",
       "      <td>Charged Off</td>\n",
       "      <td>car</td>\n",
       "    </tr>\n",
       "    <tr>\n",
       "      <th>2</th>\n",
       "      <td>2</td>\n",
       "      <td>C</td>\n",
       "      <td>C5</td>\n",
       "      <td>Fully Paid</td>\n",
       "      <td>small_business</td>\n",
       "    </tr>\n",
       "    <tr>\n",
       "      <th>3</th>\n",
       "      <td>3</td>\n",
       "      <td>C</td>\n",
       "      <td>C1</td>\n",
       "      <td>Fully Paid</td>\n",
       "      <td>other</td>\n",
       "    </tr>\n",
       "    <tr>\n",
       "      <th>4</th>\n",
       "      <td>4</td>\n",
       "      <td>B</td>\n",
       "      <td>B5</td>\n",
       "      <td>Fully Paid</td>\n",
       "      <td>other</td>\n",
       "    </tr>\n",
       "    <tr>\n",
       "      <th>5</th>\n",
       "      <td>5</td>\n",
       "      <td>A</td>\n",
       "      <td>A4</td>\n",
       "      <td>Fully Paid</td>\n",
       "      <td>wedding</td>\n",
       "    </tr>\n",
       "    <tr>\n",
       "      <th>6</th>\n",
       "      <td>6</td>\n",
       "      <td>C</td>\n",
       "      <td>C5</td>\n",
       "      <td>Fully Paid</td>\n",
       "      <td>debt_consolidation</td>\n",
       "    </tr>\n",
       "    <tr>\n",
       "      <th>7</th>\n",
       "      <td>7</td>\n",
       "      <td>E</td>\n",
       "      <td>E1</td>\n",
       "      <td>Fully Paid</td>\n",
       "      <td>car</td>\n",
       "    </tr>\n",
       "    <tr>\n",
       "      <th>8</th>\n",
       "      <td>8</td>\n",
       "      <td>F</td>\n",
       "      <td>F2</td>\n",
       "      <td>Charged Off</td>\n",
       "      <td>small_business</td>\n",
       "    </tr>\n",
       "    <tr>\n",
       "      <th>9</th>\n",
       "      <td>9</td>\n",
       "      <td>B</td>\n",
       "      <td>B5</td>\n",
       "      <td>Charged Off</td>\n",
       "      <td>other</td>\n",
       "    </tr>\n",
       "    <tr>\n",
       "      <th>10</th>\n",
       "      <td>10</td>\n",
       "      <td>C</td>\n",
       "      <td>C3</td>\n",
       "      <td>Fully Paid</td>\n",
       "      <td>debt_consolidation</td>\n",
       "    </tr>\n",
       "    <tr>\n",
       "      <th>11</th>\n",
       "      <td>11</td>\n",
       "      <td>B</td>\n",
       "      <td>B5</td>\n",
       "      <td>Fully Paid</td>\n",
       "      <td>debt_consolidation</td>\n",
       "    </tr>\n",
       "    <tr>\n",
       "      <th>12</th>\n",
       "      <td>12</td>\n",
       "      <td>C</td>\n",
       "      <td>C1</td>\n",
       "      <td>Charged Off</td>\n",
       "      <td>debt_consolidation</td>\n",
       "    </tr>\n",
       "    <tr>\n",
       "      <th>13</th>\n",
       "      <td>13</td>\n",
       "      <td>B</td>\n",
       "      <td>B1</td>\n",
       "      <td>Fully Paid</td>\n",
       "      <td>credit_card</td>\n",
       "    </tr>\n",
       "    <tr>\n",
       "      <th>14</th>\n",
       "      <td>14</td>\n",
       "      <td>B</td>\n",
       "      <td>B2</td>\n",
       "      <td>Charged Off</td>\n",
       "      <td>other</td>\n",
       "    </tr>\n",
       "    <tr>\n",
       "      <th>15</th>\n",
       "      <td>15</td>\n",
       "      <td>D</td>\n",
       "      <td>D1</td>\n",
       "      <td>Fully Paid</td>\n",
       "      <td>debt_consolidation</td>\n",
       "    </tr>\n",
       "    <tr>\n",
       "      <th>16</th>\n",
       "      <td>16</td>\n",
       "      <td>C</td>\n",
       "      <td>C4</td>\n",
       "      <td>Fully Paid</td>\n",
       "      <td>home_improvement</td>\n",
       "    </tr>\n",
       "    <tr>\n",
       "      <th>17</th>\n",
       "      <td>17</td>\n",
       "      <td>A</td>\n",
       "      <td>A1</td>\n",
       "      <td>Fully Paid</td>\n",
       "      <td>major_purchase</td>\n",
       "    </tr>\n",
       "    <tr>\n",
       "      <th>18</th>\n",
       "      <td>18</td>\n",
       "      <td>B</td>\n",
       "      <td>B3</td>\n",
       "      <td>Fully Paid</td>\n",
       "      <td>medical</td>\n",
       "    </tr>\n",
       "    <tr>\n",
       "      <th>19</th>\n",
       "      <td>19</td>\n",
       "      <td>A</td>\n",
       "      <td>A1</td>\n",
       "      <td>Fully Paid</td>\n",
       "      <td>debt_consolidation</td>\n",
       "    </tr>\n",
       "    <tr>\n",
       "      <th>20</th>\n",
       "      <td>20</td>\n",
       "      <td>C</td>\n",
       "      <td>C4</td>\n",
       "      <td>Fully Paid</td>\n",
       "      <td>debt_consolidation</td>\n",
       "    </tr>\n",
       "    <tr>\n",
       "      <th>21</th>\n",
       "      <td>21</td>\n",
       "      <td>B</td>\n",
       "      <td>B4</td>\n",
       "      <td>Charged Off</td>\n",
       "      <td>debt_consolidation</td>\n",
       "    </tr>\n",
       "    <tr>\n",
       "      <th>22</th>\n",
       "      <td>22</td>\n",
       "      <td>B</td>\n",
       "      <td>B3</td>\n",
       "      <td>Fully Paid</td>\n",
       "      <td>credit_card</td>\n",
       "    </tr>\n",
       "    <tr>\n",
       "      <th>23</th>\n",
       "      <td>23</td>\n",
       "      <td>B</td>\n",
       "      <td>B3</td>\n",
       "      <td>Fully Paid</td>\n",
       "      <td>debt_consolidation</td>\n",
       "    </tr>\n",
       "    <tr>\n",
       "      <th>24</th>\n",
       "      <td>24</td>\n",
       "      <td>B</td>\n",
       "      <td>B3</td>\n",
       "      <td>Charged Off</td>\n",
       "      <td>major_purchase</td>\n",
       "    </tr>\n",
       "    <tr>\n",
       "      <th>25</th>\n",
       "      <td>25</td>\n",
       "      <td>B</td>\n",
       "      <td>B1</td>\n",
       "      <td>Fully Paid</td>\n",
       "      <td>credit_card</td>\n",
       "    </tr>\n",
       "    <tr>\n",
       "      <th>26</th>\n",
       "      <td>26</td>\n",
       "      <td>C</td>\n",
       "      <td>C2</td>\n",
       "      <td>Charged Off</td>\n",
       "      <td>debt_consolidation</td>\n",
       "    </tr>\n",
       "    <tr>\n",
       "      <th>27</th>\n",
       "      <td>27</td>\n",
       "      <td>D</td>\n",
       "      <td>D2</td>\n",
       "      <td>Charged Off</td>\n",
       "      <td>other</td>\n",
       "    </tr>\n",
       "    <tr>\n",
       "      <th>28</th>\n",
       "      <td>28</td>\n",
       "      <td>B</td>\n",
       "      <td>B3</td>\n",
       "      <td>Fully Paid</td>\n",
       "      <td>debt_consolidation</td>\n",
       "    </tr>\n",
       "    <tr>\n",
       "      <th>29</th>\n",
       "      <td>29</td>\n",
       "      <td>B</td>\n",
       "      <td>B3</td>\n",
       "      <td>Fully Paid</td>\n",
       "      <td>credit_card</td>\n",
       "    </tr>\n",
       "    <tr>\n",
       "      <th>30</th>\n",
       "      <td>30</td>\n",
       "      <td>A</td>\n",
       "      <td>A3</td>\n",
       "      <td>Fully Paid</td>\n",
       "      <td>debt_consolidation</td>\n",
       "    </tr>\n",
       "    <tr>\n",
       "      <th>31</th>\n",
       "      <td>31</td>\n",
       "      <td>A</td>\n",
       "      <td>A4</td>\n",
       "      <td>Fully Paid</td>\n",
       "      <td>debt_consolidation</td>\n",
       "    </tr>\n",
       "    <tr>\n",
       "      <th>32</th>\n",
       "      <td>32</td>\n",
       "      <td>C</td>\n",
       "      <td>C5</td>\n",
       "      <td>Fully Paid</td>\n",
       "      <td>debt_consolidation</td>\n",
       "    </tr>\n",
       "    <tr>\n",
       "      <th>33</th>\n",
       "      <td>33</td>\n",
       "      <td>A</td>\n",
       "      <td>A5</td>\n",
       "      <td>Fully Paid</td>\n",
       "      <td>debt_consolidation</td>\n",
       "    </tr>\n",
       "    <tr>\n",
       "      <th>34</th>\n",
       "      <td>34</td>\n",
       "      <td>C</td>\n",
       "      <td>C5</td>\n",
       "      <td>Fully Paid</td>\n",
       "      <td>credit_card</td>\n",
       "    </tr>\n",
       "    <tr>\n",
       "      <th>35</th>\n",
       "      <td>35</td>\n",
       "      <td>B</td>\n",
       "      <td>B2</td>\n",
       "      <td>Fully Paid</td>\n",
       "      <td>credit_card</td>\n",
       "    </tr>\n",
       "    <tr>\n",
       "      <th>36</th>\n",
       "      <td>36</td>\n",
       "      <td>B</td>\n",
       "      <td>B1</td>\n",
       "      <td>Fully Paid</td>\n",
       "      <td>moving</td>\n",
       "    </tr>\n",
       "    <tr>\n",
       "      <th>37</th>\n",
       "      <td>37</td>\n",
       "      <td>A</td>\n",
       "      <td>A4</td>\n",
       "      <td>Fully Paid</td>\n",
       "      <td>debt_consolidation</td>\n",
       "    </tr>\n",
       "    <tr>\n",
       "      <th>38</th>\n",
       "      <td>38</td>\n",
       "      <td>B</td>\n",
       "      <td>B4</td>\n",
       "      <td>Fully Paid</td>\n",
       "      <td>debt_consolidation</td>\n",
       "    </tr>\n",
       "    <tr>\n",
       "      <th>39</th>\n",
       "      <td>39</td>\n",
       "      <td>B</td>\n",
       "      <td>B5</td>\n",
       "      <td>Fully Paid</td>\n",
       "      <td>debt_consolidation</td>\n",
       "    </tr>\n",
       "    <tr>\n",
       "      <th>40</th>\n",
       "      <td>40</td>\n",
       "      <td>A</td>\n",
       "      <td>A3</td>\n",
       "      <td>Fully Paid</td>\n",
       "      <td>other</td>\n",
       "    </tr>\n",
       "    <tr>\n",
       "      <th>41</th>\n",
       "      <td>41</td>\n",
       "      <td>A</td>\n",
       "      <td>A4</td>\n",
       "      <td>Fully Paid</td>\n",
       "      <td>debt_consolidation</td>\n",
       "    </tr>\n",
       "    <tr>\n",
       "      <th>42</th>\n",
       "      <td>42</td>\n",
       "      <td>D</td>\n",
       "      <td>D5</td>\n",
       "      <td>Fully Paid</td>\n",
       "      <td>other</td>\n",
       "    </tr>\n",
       "    <tr>\n",
       "      <th>43</th>\n",
       "      <td>43</td>\n",
       "      <td>D</td>\n",
       "      <td>D2</td>\n",
       "      <td>Fully Paid</td>\n",
       "      <td>debt_consolidation</td>\n",
       "    </tr>\n",
       "    <tr>\n",
       "      <th>44</th>\n",
       "      <td>44</td>\n",
       "      <td>A</td>\n",
       "      <td>A1</td>\n",
       "      <td>Fully Paid</td>\n",
       "      <td>debt_consolidation</td>\n",
       "    </tr>\n",
       "    <tr>\n",
       "      <th>45</th>\n",
       "      <td>45</td>\n",
       "      <td>B</td>\n",
       "      <td>B1</td>\n",
       "      <td>Fully Paid</td>\n",
       "      <td>small_business</td>\n",
       "    </tr>\n",
       "    <tr>\n",
       "      <th>46</th>\n",
       "      <td>46</td>\n",
       "      <td>A</td>\n",
       "      <td>A5</td>\n",
       "      <td>Charged Off</td>\n",
       "      <td>debt_consolidation</td>\n",
       "    </tr>\n",
       "    <tr>\n",
       "      <th>47</th>\n",
       "      <td>47</td>\n",
       "      <td>B</td>\n",
       "      <td>B2</td>\n",
       "      <td>Fully Paid</td>\n",
       "      <td>other</td>\n",
       "    </tr>\n",
       "    <tr>\n",
       "      <th>48</th>\n",
       "      <td>48</td>\n",
       "      <td>A</td>\n",
       "      <td>A1</td>\n",
       "      <td>Fully Paid</td>\n",
       "      <td>credit_card</td>\n",
       "    </tr>\n",
       "    <tr>\n",
       "      <th>49</th>\n",
       "      <td>49</td>\n",
       "      <td>B</td>\n",
       "      <td>B1</td>\n",
       "      <td>Charged Off</td>\n",
       "      <td>other</td>\n",
       "    </tr>\n",
       "  </tbody>\n",
       "</table>\n",
       "</div>"
      ],
      "text/plain": [
       "    index grade sub_grade  loan_status             purpose\n",
       "0       0     B        B2   Fully Paid         credit_card\n",
       "1       1     C        C4  Charged Off                 car\n",
       "2       2     C        C5   Fully Paid      small_business\n",
       "3       3     C        C1   Fully Paid               other\n",
       "4       4     B        B5   Fully Paid               other\n",
       "5       5     A        A4   Fully Paid             wedding\n",
       "6       6     C        C5   Fully Paid  debt_consolidation\n",
       "7       7     E        E1   Fully Paid                 car\n",
       "8       8     F        F2  Charged Off      small_business\n",
       "9       9     B        B5  Charged Off               other\n",
       "10     10     C        C3   Fully Paid  debt_consolidation\n",
       "11     11     B        B5   Fully Paid  debt_consolidation\n",
       "12     12     C        C1  Charged Off  debt_consolidation\n",
       "13     13     B        B1   Fully Paid         credit_card\n",
       "14     14     B        B2  Charged Off               other\n",
       "15     15     D        D1   Fully Paid  debt_consolidation\n",
       "16     16     C        C4   Fully Paid    home_improvement\n",
       "17     17     A        A1   Fully Paid      major_purchase\n",
       "18     18     B        B3   Fully Paid             medical\n",
       "19     19     A        A1   Fully Paid  debt_consolidation\n",
       "20     20     C        C4   Fully Paid  debt_consolidation\n",
       "21     21     B        B4  Charged Off  debt_consolidation\n",
       "22     22     B        B3   Fully Paid         credit_card\n",
       "23     23     B        B3   Fully Paid  debt_consolidation\n",
       "24     24     B        B3  Charged Off      major_purchase\n",
       "25     25     B        B1   Fully Paid         credit_card\n",
       "26     26     C        C2  Charged Off  debt_consolidation\n",
       "27     27     D        D2  Charged Off               other\n",
       "28     28     B        B3   Fully Paid  debt_consolidation\n",
       "29     29     B        B3   Fully Paid         credit_card\n",
       "30     30     A        A3   Fully Paid  debt_consolidation\n",
       "31     31     A        A4   Fully Paid  debt_consolidation\n",
       "32     32     C        C5   Fully Paid  debt_consolidation\n",
       "33     33     A        A5   Fully Paid  debt_consolidation\n",
       "34     34     C        C5   Fully Paid         credit_card\n",
       "35     35     B        B2   Fully Paid         credit_card\n",
       "36     36     B        B1   Fully Paid              moving\n",
       "37     37     A        A4   Fully Paid  debt_consolidation\n",
       "38     38     B        B4   Fully Paid  debt_consolidation\n",
       "39     39     B        B5   Fully Paid  debt_consolidation\n",
       "40     40     A        A3   Fully Paid               other\n",
       "41     41     A        A4   Fully Paid  debt_consolidation\n",
       "42     42     D        D5   Fully Paid               other\n",
       "43     43     D        D2   Fully Paid  debt_consolidation\n",
       "44     44     A        A1   Fully Paid  debt_consolidation\n",
       "45     45     B        B1   Fully Paid      small_business\n",
       "46     46     A        A5  Charged Off  debt_consolidation\n",
       "47     47     B        B2   Fully Paid               other\n",
       "48     48     A        A1   Fully Paid         credit_card\n",
       "49     49     B        B1  Charged Off               other"
      ]
     },
     "execution_count": 3,
     "metadata": {},
     "output_type": "execute_result"
    }
   ],
   "source": [
    "data"
   ]
  },
  {
   "cell_type": "code",
   "execution_count": 4,
   "id": "646475dc",
   "metadata": {
    "ExecuteTime": {
     "end_time": "2023-01-23T12:48:08.618160Z",
     "start_time": "2023-01-23T12:48:08.608161Z"
    }
   },
   "outputs": [
    {
     "name": "stdout",
     "output_type": "stream",
     "text": [
      "loan_status  Charged Off  Fully Paid\n",
      "grade                               \n",
      "A                      1          11\n",
      "B                      5          16\n",
      "C                      3           8\n",
      "D                      1           3\n",
      "E                      0           1\n",
      "F                      1           0\n"
     ]
    }
   ],
   "source": [
    "# Code #1: Contingency Table showing correlation between Grades and loan status.\n",
    "data_crosstab = pd.crosstab(data['grade'],\n",
    "                            data['loan_status'], \n",
    "                               margins = False)\n",
    "print(data_crosstab)"
   ]
  },
  {
   "cell_type": "code",
   "execution_count": 5,
   "id": "216823a8",
   "metadata": {
    "ExecuteTime": {
     "end_time": "2023-01-23T12:48:56.116057Z",
     "start_time": "2023-01-23T12:48:55.986675Z"
    }
   },
   "outputs": [
    {
     "data": {
      "image/png": "[encoded data removed]",
      "text/plain": [
       "<Figure size 640x480 with 3 Axes>"
      ]
     },
     "metadata": {},
     "output_type": "display_data"
    }
   ],
   "source": [
    "mosaic(data,['grade','loan_status']);"
   ]
  },
  {
   "cell_type": "code",
   "execution_count": null,
   "id": "96407b1d",
   "metadata": {
    "ExecuteTime": {
     "end_time": "2023-01-23T10:58:27.170776Z",
     "start_time": "2023-01-23T10:58:27.166290Z"
    }
   },
   "outputs": [],
   "source": [
    "# Code #2: Contingency Table showing correlation between Purpose and loan status."
   ]
  },
  {
   "cell_type": "code",
   "execution_count": 6,
   "id": "7041e2fb",
   "metadata": {
    "ExecuteTime": {
     "end_time": "2023-01-23T12:49:26.860428Z",
     "start_time": "2023-01-23T12:49:26.827310Z"
    }
   },
   "outputs": [
    {
     "name": "stdout",
     "output_type": "stream",
     "text": [
      "loan_status         Charged Off  Fully Paid\n",
      "purpose                                    \n",
      "car                           1           1\n",
      "credit_card                   0           8\n",
      "debt_consolidation            4          18\n",
      "home_improvement              0           1\n",
      "major_purchase                1           1\n",
      "medical                       0           1\n",
      "moving                        0           1\n",
      "other                         4           5\n",
      "small_business                1           2\n",
      "wedding                       0           1\n"
     ]
    }
   ],
   "source": [
    "data_crosstab = pd.crosstab(data['purpose'], \n",
    "                            data['loan_status'],\n",
    "                                margins = False)\n",
    "print(data_crosstab)"
   ]
  },
  {
   "cell_type": "code",
   "execution_count": 7,
   "id": "e2569a9f",
   "metadata": {
    "ExecuteTime": {
     "end_time": "2023-01-23T12:49:40.249751Z",
     "start_time": "2023-01-23T12:49:40.074141Z"
    }
   },
   "outputs": [
    {
     "data": {
      "image/png": "[encoded data removed]",
      "text/plain": [
       "<Figure size 640x480 with 3 Axes>"
      ]
     },
     "metadata": {},
     "output_type": "display_data"
    }
   ],
   "source": [
    "mosaic(data,['purpose','loan_status']);"
   ]
  },
  {
   "cell_type": "code",
   "execution_count": 8,
   "id": "8440d001",
   "metadata": {
    "ExecuteTime": {
     "end_time": "2023-01-23T12:50:12.063915Z",
     "start_time": "2023-01-23T12:50:12.042604Z"
    }
   },
   "outputs": [
    {
     "name": "stdout",
     "output_type": "stream",
     "text": [
      "loan_status               Charged Off  Fully Paid\n",
      "grade purpose                                    \n",
      "A     credit_card                   0           1\n",
      "      debt_consolidation            1           7\n",
      "      major_purchase                0           1\n",
      "      other                         0           1\n",
      "      wedding                       0           1\n",
      "B     credit_card                   0           6\n",
      "      debt_consolidation            1           5\n",
      "      major_purchase                1           0\n",
      "      medical                       0           1\n",
      "      moving                        0           1\n",
      "      other                         3           2\n",
      "      small_business                0           1\n",
      "C     car                           1           0\n",
      "      credit_card                   0           1\n",
      "      debt_consolidation            2           4\n",
      "      home_improvement              0           1\n",
      "      other                         0           1\n",
      "      small_business                0           1\n",
      "D     debt_consolidation            0           2\n",
      "      other                         1           1\n",
      "E     car                           0           1\n",
      "F     small_business                1           0\n"
     ]
    }
   ],
   "source": [
    "# Code #3: Contingency Table showing correlation between Grades+Purpose and loan status.\n",
    "data_crosstab = pd.crosstab([data.grade, data.purpose],\n",
    "data.loan_status, margins = False)\n",
    "print(data_crosstab)\n"
   ]
  },
  {
   "cell_type": "code",
   "execution_count": 9,
   "id": "0f717c35",
   "metadata": {
    "ExecuteTime": {
     "end_time": "2023-01-23T12:51:22.979140Z",
     "start_time": "2023-01-23T12:51:22.584386Z"
    }
   },
   "outputs": [
    {
     "data": {
      "image/png": "[encoded data removed]",
      "text/plain": [
       "<Figure size 640x480 with 3 Axes>"
      ]
     },
     "metadata": {},
     "output_type": "display_data"
    }
   ],
   "source": [
    "mosaic(data,['grade','purpose']);"
   ]
  },
  {
   "cell_type": "markdown",
   "id": "2e6abbd2",
   "metadata": {},
   "source": [
    "So as in the code, Contingency Tables are giving clear correlation values between two and more variables. Thus making it much more useful to understand the data for further information extraction."
   ]
  },
  {
   "cell_type": "code",
   "execution_count": 10,
   "id": "b0e62be0",
   "metadata": {
    "ExecuteTime": {
     "end_time": "2023-01-23T12:51:27.030533Z",
     "start_time": "2023-01-23T12:51:27.002852Z"
    }
   },
   "outputs": [
    {
     "data": {
      "text/html": [
       "<div>\n",
       "<style scoped>\n",
       "    .dataframe tbody tr th:only-of-type {\n",
       "        vertical-align: middle;\n",
       "    }\n",
       "\n",
       "    .dataframe tbody tr th {\n",
       "        vertical-align: top;\n",
       "    }\n",
       "\n",
       "    .dataframe thead th {\n",
       "        text-align: right;\n",
       "    }\n",
       "</style>\n",
       "<table border=\"1\" class=\"dataframe\">\n",
       "  <thead>\n",
       "    <tr style=\"text-align: right;\">\n",
       "      <th>loan_status</th>\n",
       "      <th>Charged Off</th>\n",
       "      <th>Fully Paid</th>\n",
       "    </tr>\n",
       "    <tr>\n",
       "      <th>grade</th>\n",
       "      <th></th>\n",
       "      <th></th>\n",
       "    </tr>\n",
       "  </thead>\n",
       "  <tbody>\n",
       "    <tr>\n",
       "      <th>A</th>\n",
       "      <td>1</td>\n",
       "      <td>11</td>\n",
       "    </tr>\n",
       "    <tr>\n",
       "      <th>B</th>\n",
       "      <td>5</td>\n",
       "      <td>16</td>\n",
       "    </tr>\n",
       "    <tr>\n",
       "      <th>C</th>\n",
       "      <td>3</td>\n",
       "      <td>8</td>\n",
       "    </tr>\n",
       "    <tr>\n",
       "      <th>D</th>\n",
       "      <td>1</td>\n",
       "      <td>3</td>\n",
       "    </tr>\n",
       "    <tr>\n",
       "      <th>E</th>\n",
       "      <td>0</td>\n",
       "      <td>1</td>\n",
       "    </tr>\n",
       "    <tr>\n",
       "      <th>F</th>\n",
       "      <td>1</td>\n",
       "      <td>0</td>\n",
       "    </tr>\n",
       "  </tbody>\n",
       "</table>\n",
       "</div>"
      ],
      "text/plain": [
       "loan_status  Charged Off  Fully Paid\n",
       "grade                               \n",
       "A                      1          11\n",
       "B                      5          16\n",
       "C                      3           8\n",
       "D                      1           3\n",
       "E                      0           1\n",
       "F                      1           0"
      ]
     },
     "execution_count": 10,
     "metadata": {},
     "output_type": "execute_result"
    }
   ],
   "source": [
    "# Code #1: Contingency Table showing correlation between Grades and loan status.\n",
    "tab = pd.crosstab(data['grade'],\n",
    "                            data['loan_status'], \n",
    "                               margins = False)\n",
    "tab"
   ]
  },
  {
   "cell_type": "code",
   "execution_count": 27,
   "id": "39814e32-406c-4755-b425-921b703bcf86",
   "metadata": {},
   "outputs": [],
   "source": [
    "tab2 = tab.iloc[:4,:]"
   ]
  },
  {
   "cell_type": "code",
   "execution_count": 28,
   "id": "7367a176-98e2-476c-8925-3f18144f6a7a",
   "metadata": {},
   "outputs": [
    {
     "name": "stderr",
     "output_type": "stream",
     "text": [
      "/var/folders/sl/q4v92dy13b15fkbcnvclbs2w0000gp/T/ipykernel_7923/656919508.py:1: SettingWithCopyWarning: \n",
      "A value is trying to be set on a copy of a slice from a DataFrame\n",
      "\n",
      "See the caveats in the documentation: https://pandas.pydata.org/pandas-docs/stable/user_guide/indexing.html#returning-a-view-versus-a-copy\n",
      "  tab2.iloc[3,0] = 2\n",
      "/var/folders/sl/q4v92dy13b15fkbcnvclbs2w0000gp/T/ipykernel_7923/656919508.py:2: SettingWithCopyWarning: \n",
      "A value is trying to be set on a copy of a slice from a DataFrame\n",
      "\n",
      "See the caveats in the documentation: https://pandas.pydata.org/pandas-docs/stable/user_guide/indexing.html#returning-a-view-versus-a-copy\n",
      "  tab2.iloc[3,1] = 4\n"
     ]
    }
   ],
   "source": [
    "tab2.iloc[3,0] = 2\n",
    "tab2.iloc[3,1] = 4"
   ]
  },
  {
   "cell_type": "code",
   "execution_count": 29,
   "id": "8583a6ba-e05a-4623-b77b-d5ebbdbc93c9",
   "metadata": {},
   "outputs": [
    {
     "data": {
      "text/html": [
       "<div>\n",
       "<style scoped>\n",
       "    .dataframe tbody tr th:only-of-type {\n",
       "        vertical-align: middle;\n",
       "    }\n",
       "\n",
       "    .dataframe tbody tr th {\n",
       "        vertical-align: top;\n",
       "    }\n",
       "\n",
       "    .dataframe thead th {\n",
       "        text-align: right;\n",
       "    }\n",
       "</style>\n",
       "<table border=\"1\" class=\"dataframe\">\n",
       "  <thead>\n",
       "    <tr style=\"text-align: right;\">\n",
       "      <th>loan_status</th>\n",
       "      <th>Charged Off</th>\n",
       "      <th>Fully Paid</th>\n",
       "    </tr>\n",
       "    <tr>\n",
       "      <th>grade</th>\n",
       "      <th></th>\n",
       "      <th></th>\n",
       "    </tr>\n",
       "  </thead>\n",
       "  <tbody>\n",
       "    <tr>\n",
       "      <th>A</th>\n",
       "      <td>1</td>\n",
       "      <td>11</td>\n",
       "    </tr>\n",
       "    <tr>\n",
       "      <th>B</th>\n",
       "      <td>5</td>\n",
       "      <td>16</td>\n",
       "    </tr>\n",
       "    <tr>\n",
       "      <th>C</th>\n",
       "      <td>3</td>\n",
       "      <td>8</td>\n",
       "    </tr>\n",
       "    <tr>\n",
       "      <th>D</th>\n",
       "      <td>2</td>\n",
       "      <td>4</td>\n",
       "    </tr>\n",
       "  </tbody>\n",
       "</table>\n",
       "</div>"
      ],
      "text/plain": [
       "loan_status  Charged Off  Fully Paid\n",
       "grade                               \n",
       "A                      1          11\n",
       "B                      5          16\n",
       "C                      3           8\n",
       "D                      2           4"
      ]
     },
     "execution_count": 29,
     "metadata": {},
     "output_type": "execute_result"
    }
   ],
   "source": [
    "tab2"
   ]
  },
  {
   "cell_type": "code",
   "execution_count": 20,
   "id": "56a3ffee-8465-43fe-a48a-a854c51bad5a",
   "metadata": {},
   "outputs": [
    {
     "data": {
      "text/plain": [
       "loan_status\n",
       "Charged Off    2\n",
       "Fully Paid     4\n",
       "dtype: int64"
      ]
     },
     "execution_count": 20,
     "metadata": {},
     "output_type": "execute_result"
    }
   ],
   "source": [
    "tab.iloc[3:,:].sum(axis=0)"
   ]
  },
  {
   "cell_type": "code",
   "execution_count": 12,
   "id": "9a0547b6-8bda-4015-932a-0af08e860da3",
   "metadata": {},
   "outputs": [
    {
     "data": {
      "text/plain": [
       "5.372909918364464"
      ]
     },
     "execution_count": 12,
     "metadata": {},
     "output_type": "execute_result"
    }
   ],
   "source": [
    "chi2_statistic"
   ]
  },
  {
   "cell_type": "code",
   "execution_count": 31,
   "id": "cedd44b0-c44c-4908-b25d-57d68a96ac18",
   "metadata": {},
   "outputs": [
    {
     "data": {
      "text/plain": [
       "(0.05, 0.3499241510458776, False)"
      ]
     },
     "execution_count": 31,
     "metadata": {},
     "output_type": "execute_result"
    }
   ],
   "source": [
    "alpha = 0.05  # or choose your own alpha here\n",
    "\n",
    "from scipy import stats\n",
    "# Run a chi-squared and print out alpha, the p value,\n",
    "# and whether the comparison says to reject the null hypothesis.\n",
    "# (The dof and ex variables are values we don't need here.)\n",
    "chi2_statistic, p_value, dof, ex = stats.chi2_contingency( tab )\n",
    "reject_H0 = p_value < alpha\n",
    "alpha, p_value, reject_H0"
   ]
  },
  {
   "cell_type": "code",
   "execution_count": 32,
   "id": "bcbe5a21-2c00-4aa5-9640-9e5c91e529ff",
   "metadata": {},
   "outputs": [
    {
     "data": {
      "text/plain": [
       "(0.05, 0.5779184719811683, False)"
      ]
     },
     "execution_count": 32,
     "metadata": {},
     "output_type": "execute_result"
    }
   ],
   "source": [
    "alpha = 0.05  # or choose your own alpha here\n",
    "\n",
    "from scipy import stats\n",
    "# Run a chi-squared and print out alpha, the p value,\n",
    "# and whether the comparison says to reject the null hypothesis.\n",
    "# (The dof and ex variables are values we don't need here.)\n",
    "chi2_statistic, p_value, dof, ex = stats.chi2_contingency( tab2 )\n",
    "reject_H0 = p_value < alpha\n",
    "alpha, p_value, reject_H0"
   ]
  },
  {
   "cell_type": "code",
   "execution_count": 33,
   "id": "9a47bd68",
   "metadata": {
    "ExecuteTime": {
     "end_time": "2023-01-23T12:52:30.411788Z",
     "start_time": "2023-01-23T12:52:30.407763Z"
    }
   },
   "outputs": [],
   "source": [
    "import statsmodels.api as sm\n"
   ]
  },
  {
   "cell_type": "code",
   "execution_count": 34,
   "id": "a82514a4",
   "metadata": {
    "ExecuteTime": {
     "end_time": "2023-01-23T12:52:30.674348Z",
     "start_time": "2023-01-23T12:52:30.671572Z"
    }
   },
   "outputs": [],
   "source": [
    "table = sm.stats.Table(tab)"
   ]
  },
  {
   "cell_type": "code",
   "execution_count": 35,
   "id": "dc621b10",
   "metadata": {
    "ExecuteTime": {
     "end_time": "2023-01-23T12:52:31.415971Z",
     "start_time": "2023-01-23T12:52:31.398913Z"
    }
   },
   "outputs": [
    {
     "data": {
      "text/html": [
       "<div>\n",
       "<style scoped>\n",
       "    .dataframe tbody tr th:only-of-type {\n",
       "        vertical-align: middle;\n",
       "    }\n",
       "\n",
       "    .dataframe tbody tr th {\n",
       "        vertical-align: top;\n",
       "    }\n",
       "\n",
       "    .dataframe thead th {\n",
       "        text-align: right;\n",
       "    }\n",
       "</style>\n",
       "<table border=\"1\" class=\"dataframe\">\n",
       "  <thead>\n",
       "    <tr style=\"text-align: right;\">\n",
       "      <th>loan_status</th>\n",
       "      <th>Charged Off</th>\n",
       "      <th>Fully Paid</th>\n",
       "    </tr>\n",
       "    <tr>\n",
       "      <th>grade</th>\n",
       "      <th></th>\n",
       "      <th></th>\n",
       "    </tr>\n",
       "  </thead>\n",
       "  <tbody>\n",
       "    <tr>\n",
       "      <th>A</th>\n",
       "      <td>1</td>\n",
       "      <td>11</td>\n",
       "    </tr>\n",
       "    <tr>\n",
       "      <th>B</th>\n",
       "      <td>5</td>\n",
       "      <td>16</td>\n",
       "    </tr>\n",
       "    <tr>\n",
       "      <th>C</th>\n",
       "      <td>3</td>\n",
       "      <td>8</td>\n",
       "    </tr>\n",
       "    <tr>\n",
       "      <th>D</th>\n",
       "      <td>2</td>\n",
       "      <td>4</td>\n",
       "    </tr>\n",
       "    <tr>\n",
       "      <th>E</th>\n",
       "      <td>0</td>\n",
       "      <td>1</td>\n",
       "    </tr>\n",
       "    <tr>\n",
       "      <th>F</th>\n",
       "      <td>1</td>\n",
       "      <td>0</td>\n",
       "    </tr>\n",
       "  </tbody>\n",
       "</table>\n",
       "</div>"
      ],
      "text/plain": [
       "loan_status  Charged Off  Fully Paid\n",
       "grade                               \n",
       "A                      1          11\n",
       "B                      5          16\n",
       "C                      3           8\n",
       "D                      2           4\n",
       "E                      0           1\n",
       "F                      1           0"
      ]
     },
     "execution_count": 35,
     "metadata": {},
     "output_type": "execute_result"
    }
   ],
   "source": [
    "table.table_orig"
   ]
  },
  {
   "cell_type": "code",
   "execution_count": 36,
   "id": "12e013ef",
   "metadata": {
    "ExecuteTime": {
     "end_time": "2023-01-23T12:52:35.623813Z",
     "start_time": "2023-01-23T12:52:35.619155Z"
    }
   },
   "outputs": [
    {
     "data": {
      "text/plain": [
       "0.6124245106080685"
      ]
     },
     "execution_count": 36,
     "metadata": {},
     "output_type": "execute_result"
    }
   ],
   "source": [
    "rslt = table.test_nominal_association()\n",
    "rslt.pvalue"
   ]
  },
  {
   "cell_type": "code",
   "execution_count": 37,
   "id": "26f76d6a",
   "metadata": {
    "ExecuteTime": {
     "end_time": "2023-01-23T12:52:39.680123Z",
     "start_time": "2023-01-23T12:52:39.658476Z"
    }
   },
   "outputs": [
    {
     "data": {
      "text/html": [
       "<div>\n",
       "<style scoped>\n",
       "    .dataframe tbody tr th:only-of-type {\n",
       "        vertical-align: middle;\n",
       "    }\n",
       "\n",
       "    .dataframe tbody tr th {\n",
       "        vertical-align: top;\n",
       "    }\n",
       "\n",
       "    .dataframe thead th {\n",
       "        text-align: right;\n",
       "    }\n",
       "</style>\n",
       "<table border=\"1\" class=\"dataframe\">\n",
       "  <thead>\n",
       "    <tr style=\"text-align: right;\">\n",
       "      <th>loan_status</th>\n",
       "      <th>Charged Off</th>\n",
       "      <th>Fully Paid</th>\n",
       "    </tr>\n",
       "    <tr>\n",
       "      <th>grade</th>\n",
       "      <th></th>\n",
       "      <th></th>\n",
       "    </tr>\n",
       "  </thead>\n",
       "  <tbody>\n",
       "    <tr>\n",
       "      <th>A</th>\n",
       "      <td>1.183522</td>\n",
       "      <td>0.365285</td>\n",
       "    </tr>\n",
       "    <tr>\n",
       "      <th>B</th>\n",
       "      <td>0.000449</td>\n",
       "      <td>0.000139</td>\n",
       "    </tr>\n",
       "    <tr>\n",
       "      <th>C</th>\n",
       "      <td>0.063431</td>\n",
       "      <td>0.019577</td>\n",
       "    </tr>\n",
       "    <tr>\n",
       "      <th>D</th>\n",
       "      <td>0.241761</td>\n",
       "      <td>0.074618</td>\n",
       "    </tr>\n",
       "    <tr>\n",
       "      <th>E</th>\n",
       "      <td>0.060440</td>\n",
       "      <td>0.018654</td>\n",
       "    </tr>\n",
       "    <tr>\n",
       "      <th>F</th>\n",
       "      <td>1.180440</td>\n",
       "      <td>0.364333</td>\n",
       "    </tr>\n",
       "  </tbody>\n",
       "</table>\n",
       "</div>"
      ],
      "text/plain": [
       "loan_status  Charged Off  Fully Paid\n",
       "grade                               \n",
       "A               1.183522    0.365285\n",
       "B               0.000449    0.000139\n",
       "C               0.063431    0.019577\n",
       "D               0.241761    0.074618\n",
       "E               0.060440    0.018654\n",
       "F               1.180440    0.364333"
      ]
     },
     "execution_count": 37,
     "metadata": {},
     "output_type": "execute_result"
    }
   ],
   "source": [
    "table.chi2_contribs"
   ]
  },
  {
   "cell_type": "code",
   "execution_count": null,
   "id": "f793c7cf",
   "metadata": {},
   "outputs": [],
   "source": []
  }
 ],
 "metadata": {
  "hide_input": false,
  "kernelspec": {
   "display_name": "Python 3 (ipykernel)",
   "language": "python",
   "name": "python3"
  },
  "language_info": {
   "codemirror_mode": {
    "name": "ipython",
    "version": 3
   },
   "file_extension": ".py",
   "mimetype": "text/x-python",
   "name": "python",
   "nbconvert_exporter": "python",
   "pygments_lexer": "ipython3",
   "version": "3.9.6"
  },
  "latex_envs": {
   "LaTeX_envs_menu_present": true,
   "autoclose": true,
   "autocomplete": true,
   "bibliofile": "biblio.bib",
   "cite_by": "apalike",
   "current_citInitial": 1,
   "eqLabelWithNumbers": true,
   "eqNumInitial": 1,
   "hotkeys": {
    "equation": "Ctrl-E",
    "itemize": "Ctrl-I"
   },
   "labels_anchors": false,
   "latex_user_defs": false,
   "report_style_numbering": false,
   "user_envs_cfg": false
  },
  "toc": {
   "base_numbering": 1,
   "nav_menu": {},
   "number_sections": true,
   "sideBar": true,
   "skip_h1_title": false,
   "title_cell": "Table of Contents",
   "title_sidebar": "Contents",
   "toc_cell": false,
   "toc_position": {},
   "toc_section_display": true,
   "toc_window_display": false
  },
  "varInspector": {
   "cols": {
    "lenName": 16,
    "lenType": 16,
    "lenVar": 40
   },
   "kernels_config": {
    "python": {
     "delete_cmd_postfix": "",
     "delete_cmd_prefix": "del ",
     "library": "var_list.py",
     "varRefreshCmd": "print(var_dic_list())"
    },
    "r": {
     "delete_cmd_postfix": ") ",
     "delete_cmd_prefix": "rm(",
     "library": "var_list.r",
     "varRefreshCmd": "cat(var_dic_list()) "
    }
   },
   "types_to_exclude": [
    "module",
    "function",
    "builtin_function_or_method",
    "instance",
    "_Feature"
   ],
   "window_display": false
  }
 },
 "nbformat": 4,
 "nbformat_minor": 5
}
