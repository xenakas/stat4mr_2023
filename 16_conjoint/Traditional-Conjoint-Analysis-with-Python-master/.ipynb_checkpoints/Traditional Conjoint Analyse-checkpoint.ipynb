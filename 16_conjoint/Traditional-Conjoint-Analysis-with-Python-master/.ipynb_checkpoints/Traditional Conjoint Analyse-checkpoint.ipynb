{
 "cells": [
  {
   "cell_type": "code",
   "execution_count": 1,
   "metadata": {
    "collapsed": true
   },
   "outputs": [],
   "source": [
    "import numpy as np\n",
    "import pandas as pd"
   ]
  },
  {
   "cell_type": "code",
   "execution_count": 2,
   "metadata": {
    "collapsed": true
   },
   "outputs": [],
   "source": [
    "caInputeDF = pd.read_csv(\"ConjointInput.csv\", sep = \";\")"
   ]
  },
  {
   "cell_type": "markdown",
   "metadata": {},
   "source": [
    "Input = a ranking of 3 different features (TV Size, TV Type, TV Color) with 3(32\",37\",42\")<br>\n",
    ", 2 (LCD, Plasma), 3(Black, Silver, Anthrazit) different stimuli types."
   ]
  },
  {
   "cell_type": "code",
   "execution_count": 3,
   "metadata": {},
   "outputs": [
    {
     "data": {
      "text/html": [
       "<div>\n",
       "<table border=\"1\" class=\"dataframe\">\n",
       "  <thead>\n",
       "    <tr style=\"text-align: right;\">\n",
       "      <th></th>\n",
       "      <th>Stimulus</th>\n",
       "      <th>Rank</th>\n",
       "    </tr>\n",
       "  </thead>\n",
       "  <tbody>\n",
       "    <tr>\n",
       "      <th>0</th>\n",
       "      <td>A1B1C1</td>\n",
       "      <td>2</td>\n",
       "    </tr>\n",
       "    <tr>\n",
       "      <th>1</th>\n",
       "      <td>A1B1C2</td>\n",
       "      <td>3</td>\n",
       "    </tr>\n",
       "    <tr>\n",
       "      <th>2</th>\n",
       "      <td>A1B1C3</td>\n",
       "      <td>1</td>\n",
       "    </tr>\n",
       "    <tr>\n",
       "      <th>3</th>\n",
       "      <td>A1B2C1</td>\n",
       "      <td>5</td>\n",
       "    </tr>\n",
       "    <tr>\n",
       "      <th>4</th>\n",
       "      <td>A1B2C2</td>\n",
       "      <td>6</td>\n",
       "    </tr>\n",
       "    <tr>\n",
       "      <th>5</th>\n",
       "      <td>A1B2C3</td>\n",
       "      <td>4</td>\n",
       "    </tr>\n",
       "    <tr>\n",
       "      <th>6</th>\n",
       "      <td>A2B1C1</td>\n",
       "      <td>8</td>\n",
       "    </tr>\n",
       "    <tr>\n",
       "      <th>7</th>\n",
       "      <td>A2B1C2</td>\n",
       "      <td>9</td>\n",
       "    </tr>\n",
       "    <tr>\n",
       "      <th>8</th>\n",
       "      <td>A2B1C3</td>\n",
       "      <td>7</td>\n",
       "    </tr>\n",
       "    <tr>\n",
       "      <th>9</th>\n",
       "      <td>A2B2C1</td>\n",
       "      <td>11</td>\n",
       "    </tr>\n",
       "    <tr>\n",
       "      <th>10</th>\n",
       "      <td>A2B2C2</td>\n",
       "      <td>12</td>\n",
       "    </tr>\n",
       "    <tr>\n",
       "      <th>11</th>\n",
       "      <td>A2B2C3</td>\n",
       "      <td>10</td>\n",
       "    </tr>\n",
       "    <tr>\n",
       "      <th>12</th>\n",
       "      <td>A3B1C1</td>\n",
       "      <td>14</td>\n",
       "    </tr>\n",
       "    <tr>\n",
       "      <th>13</th>\n",
       "      <td>A3B1C2</td>\n",
       "      <td>15</td>\n",
       "    </tr>\n",
       "    <tr>\n",
       "      <th>14</th>\n",
       "      <td>A3B1C3</td>\n",
       "      <td>13</td>\n",
       "    </tr>\n",
       "    <tr>\n",
       "      <th>15</th>\n",
       "      <td>A3B2C1</td>\n",
       "      <td>17</td>\n",
       "    </tr>\n",
       "    <tr>\n",
       "      <th>16</th>\n",
       "      <td>A3B2C2</td>\n",
       "      <td>18</td>\n",
       "    </tr>\n",
       "    <tr>\n",
       "      <th>17</th>\n",
       "      <td>A3B2C3</td>\n",
       "      <td>16</td>\n",
       "    </tr>\n",
       "  </tbody>\n",
       "</table>\n",
       "</div>"
      ],
      "text/plain": [
       "   Stimulus  Rank\n",
       "0    A1B1C1     2\n",
       "1    A1B1C2     3\n",
       "2    A1B1C3     1\n",
       "3    A1B2C1     5\n",
       "4    A1B2C2     6\n",
       "5    A1B2C3     4\n",
       "6    A2B1C1     8\n",
       "7    A2B1C2     9\n",
       "8    A2B1C3     7\n",
       "9    A2B2C1    11\n",
       "10   A2B2C2    12\n",
       "11   A2B2C3    10\n",
       "12   A3B1C1    14\n",
       "13   A3B1C2    15\n",
       "14   A3B1C3    13\n",
       "15   A3B2C1    17\n",
       "16   A3B2C2    18\n",
       "17   A3B2C3    16"
      ]
     },
     "execution_count": 3,
     "metadata": {},
     "output_type": "execute_result"
    }
   ],
   "source": [
    "\n",
    "caInputeDF"
   ]
  },
  {
   "cell_type": "markdown",
   "metadata": {},
   "source": [
    "## First step is to introduce dummy variables for every stimulus<p>\n",
    "There are in total 9 differen stimuli, and 18 different combinations\n"
   ]
  },
  {
   "cell_type": "code",
   "execution_count": 4,
   "metadata": {
    "collapsed": true
   },
   "outputs": [],
   "source": [
    "ConjointDummyDF = pd.DataFrame(np.zeros((18,9)), columns=[\"Rank\",\"A1\", \"A2\", \"A3\",\n",
    "                                                    \"B1\",\"B2\", \n",
    "                                                    \"C1\", \"C2\",\n",
    "                                                    \"C3\"])"
   ]
  },
  {
   "cell_type": "code",
   "execution_count": 5,
   "metadata": {},
   "outputs": [],
   "source": [
    "ConjointDummyDF.Rank = caInputeDF.Rank\n",
    "\n",
    "for index, row in caInputeDF.iterrows(): \n",
    "    stimuli1, stimuli2, stimuli3 = caInputeDF[\"Stimulus\"].ix[index][:2], \\\n",
    "    caInputeDF[\"Stimulus\"].ix[index][2:4], caInputeDF[\"Stimulus\"].ix[index][4:6]\n",
    "    \n",
    "    \n",
    "    ConjointDummyDF.ix[index, [stimuli1,stimuli2,stimuli3]] = 1"
   ]
  },
  {
   "cell_type": "code",
   "execution_count": 6,
   "metadata": {
    "scrolled": true
   },
   "outputs": [
    {
     "data": {
      "text/html": [
       "<div>\n",
       "<table border=\"1\" class=\"dataframe\">\n",
       "  <thead>\n",
       "    <tr style=\"text-align: right;\">\n",
       "      <th></th>\n",
       "      <th>Rank</th>\n",
       "      <th>A1</th>\n",
       "      <th>A2</th>\n",
       "      <th>A3</th>\n",
       "      <th>B1</th>\n",
       "      <th>B2</th>\n",
       "      <th>C1</th>\n",
       "      <th>C2</th>\n",
       "      <th>C3</th>\n",
       "    </tr>\n",
       "  </thead>\n",
       "  <tbody>\n",
       "    <tr>\n",
       "      <th>0</th>\n",
       "      <td>2</td>\n",
       "      <td>1</td>\n",
       "      <td>0</td>\n",
       "      <td>0</td>\n",
       "      <td>1</td>\n",
       "      <td>0</td>\n",
       "      <td>1</td>\n",
       "      <td>0</td>\n",
       "      <td>0</td>\n",
       "    </tr>\n",
       "    <tr>\n",
       "      <th>1</th>\n",
       "      <td>3</td>\n",
       "      <td>1</td>\n",
       "      <td>0</td>\n",
       "      <td>0</td>\n",
       "      <td>1</td>\n",
       "      <td>0</td>\n",
       "      <td>0</td>\n",
       "      <td>1</td>\n",
       "      <td>0</td>\n",
       "    </tr>\n",
       "    <tr>\n",
       "      <th>2</th>\n",
       "      <td>1</td>\n",
       "      <td>1</td>\n",
       "      <td>0</td>\n",
       "      <td>0</td>\n",
       "      <td>1</td>\n",
       "      <td>0</td>\n",
       "      <td>0</td>\n",
       "      <td>0</td>\n",
       "      <td>1</td>\n",
       "    </tr>\n",
       "    <tr>\n",
       "      <th>3</th>\n",
       "      <td>5</td>\n",
       "      <td>1</td>\n",
       "      <td>0</td>\n",
       "      <td>0</td>\n",
       "      <td>0</td>\n",
       "      <td>1</td>\n",
       "      <td>1</td>\n",
       "      <td>0</td>\n",
       "      <td>0</td>\n",
       "    </tr>\n",
       "    <tr>\n",
       "      <th>4</th>\n",
       "      <td>6</td>\n",
       "      <td>1</td>\n",
       "      <td>0</td>\n",
       "      <td>0</td>\n",
       "      <td>0</td>\n",
       "      <td>1</td>\n",
       "      <td>0</td>\n",
       "      <td>1</td>\n",
       "      <td>0</td>\n",
       "    </tr>\n",
       "  </tbody>\n",
       "</table>\n",
       "</div>"
      ],
      "text/plain": [
       "   Rank  A1  A2  A3  B1  B2  C1  C2  C3\n",
       "0     2   1   0   0   1   0   1   0   0\n",
       "1     3   1   0   0   1   0   0   1   0\n",
       "2     1   1   0   0   1   0   0   0   1\n",
       "3     5   1   0   0   0   1   1   0   0\n",
       "4     6   1   0   0   0   1   0   1   0"
      ]
     },
     "execution_count": 6,
     "metadata": {},
     "output_type": "execute_result"
    }
   ],
   "source": [
    "ConjointDummyDF.head()"
   ]
  },
  {
   "cell_type": "markdown",
   "metadata": {},
   "source": [
    "## Insert the proper Stimulus names"
   ]
  },
  {
   "cell_type": "code",
   "execution_count": 7,
   "metadata": {},
   "outputs": [],
   "source": [
    "fullNames = {\"Rank\":\"Rank\", \\\n",
    "           \"A1\": \"32\\\" (81cm)\",\"A2\": \"37\\\" (94cm)\",\"A3\": \"42\\\" (107cm)\", \\\n",
    "          \"B1\": \"Plasma\", \"B2\":\"LCD\", \\\n",
    "           \"C1\":\"Silver\", \"C2\":\"Black\", \"C3\": \"Anthrazit\",\\\n",
    "          }\n",
    "\n",
    "ConjointDummyDF.rename(columns=fullNames, inplace=True)"
   ]
  },
  {
   "cell_type": "code",
   "execution_count": 8,
   "metadata": {},
   "outputs": [
    {
     "data": {
      "text/html": [
       "<div>\n",
       "<table border=\"1\" class=\"dataframe\">\n",
       "  <thead>\n",
       "    <tr style=\"text-align: right;\">\n",
       "      <th></th>\n",
       "      <th>Rank</th>\n",
       "      <th>32\" (81cm)</th>\n",
       "      <th>37\" (94cm)</th>\n",
       "      <th>42\" (107cm)</th>\n",
       "      <th>Plasma</th>\n",
       "      <th>LCD</th>\n",
       "      <th>Silver</th>\n",
       "      <th>Black</th>\n",
       "      <th>Anthrazit</th>\n",
       "    </tr>\n",
       "  </thead>\n",
       "  <tbody>\n",
       "    <tr>\n",
       "      <th>0</th>\n",
       "      <td>2</td>\n",
       "      <td>1</td>\n",
       "      <td>0</td>\n",
       "      <td>0</td>\n",
       "      <td>1</td>\n",
       "      <td>0</td>\n",
       "      <td>1</td>\n",
       "      <td>0</td>\n",
       "      <td>0</td>\n",
       "    </tr>\n",
       "    <tr>\n",
       "      <th>1</th>\n",
       "      <td>3</td>\n",
       "      <td>1</td>\n",
       "      <td>0</td>\n",
       "      <td>0</td>\n",
       "      <td>1</td>\n",
       "      <td>0</td>\n",
       "      <td>0</td>\n",
       "      <td>1</td>\n",
       "      <td>0</td>\n",
       "    </tr>\n",
       "    <tr>\n",
       "      <th>2</th>\n",
       "      <td>1</td>\n",
       "      <td>1</td>\n",
       "      <td>0</td>\n",
       "      <td>0</td>\n",
       "      <td>1</td>\n",
       "      <td>0</td>\n",
       "      <td>0</td>\n",
       "      <td>0</td>\n",
       "      <td>1</td>\n",
       "    </tr>\n",
       "    <tr>\n",
       "      <th>3</th>\n",
       "      <td>5</td>\n",
       "      <td>1</td>\n",
       "      <td>0</td>\n",
       "      <td>0</td>\n",
       "      <td>0</td>\n",
       "      <td>1</td>\n",
       "      <td>1</td>\n",
       "      <td>0</td>\n",
       "      <td>0</td>\n",
       "    </tr>\n",
       "    <tr>\n",
       "      <th>4</th>\n",
       "      <td>6</td>\n",
       "      <td>1</td>\n",
       "      <td>0</td>\n",
       "      <td>0</td>\n",
       "      <td>0</td>\n",
       "      <td>1</td>\n",
       "      <td>0</td>\n",
       "      <td>1</td>\n",
       "      <td>0</td>\n",
       "    </tr>\n",
       "  </tbody>\n",
       "</table>\n",
       "</div>"
      ],
      "text/plain": [
       "   Rank  32\" (81cm)  37\" (94cm)  42\" (107cm)  Plasma  LCD  Silver  Black  \\\n",
       "0     2           1           0            0       1    0       1      0   \n",
       "1     3           1           0            0       1    0       0      1   \n",
       "2     1           1           0            0       1    0       0      0   \n",
       "3     5           1           0            0       0    1       1      0   \n",
       "4     6           1           0            0       0    1       0      1   \n",
       "\n",
       "   Anthrazit  \n",
       "0          0  \n",
       "1          0  \n",
       "2          1  \n",
       "3          0  \n",
       "4          0  "
      ]
     },
     "execution_count": 8,
     "metadata": {},
     "output_type": "execute_result"
    }
   ],
   "source": [
    "ConjointDummyDF.head()"
   ]
  },
  {
   "cell_type": "markdown",
   "metadata": {},
   "source": [
    "## Estimate Main Effects with a linear regression\n",
    "<p>\n",
    "\n",
    "There are different ways for parameter estimation beside linear regression depending on what kind of rating you have.<br>\n",
    "For example using Probit or Logit is the output is not a rank but a decision (1=chose stimulus, 0 = no choice)."
   ]
  },
  {
   "cell_type": "code",
   "execution_count": 9,
   "metadata": {},
   "outputs": [],
   "source": [
    "import statsmodels.api as sm"
   ]
  },
  {
   "cell_type": "code",
   "execution_count": 10,
   "metadata": {},
   "outputs": [
    {
     "data": {
      "text/plain": [
       "Index([u'Rank', u'32\" (81cm)', u'37\" (94cm)', u'42\" (107cm)', u'Plasma',\n",
       "       u'LCD', u'Silver', u'Black', u'Anthrazit'],\n",
       "      dtype='object')"
      ]
     },
     "execution_count": 10,
     "metadata": {},
     "output_type": "execute_result"
    }
   ],
   "source": [
    "ConjointDummyDF.columns"
   ]
  },
  {
   "cell_type": "code",
   "execution_count": 11,
   "metadata": {},
   "outputs": [
    {
     "name": "stderr",
     "output_type": "stream",
     "text": [
      "C:\\Users\\Janis\\Anaconda2\\lib\\site-packages\\scipy\\stats\\stats.py:1277: UserWarning: kurtosistest only valid for n>=20 ... continuing anyway, n=18\n",
      "  \"anyway, n=%i\" % int(n))\n"
     ]
    },
    {
     "data": {
      "text/html": [
       "<table class=\"simpletable\">\n",
       "<caption>OLS Regression Results</caption>\n",
       "<tr>\n",
       "  <th>Dep. Variable:</th>          <td>Rank</td>       <th>  R-squared:         </th> <td>   1.000</td> \n",
       "</tr>\n",
       "<tr>\n",
       "  <th>Model:</th>                   <td>OLS</td>       <th>  Adj. R-squared:    </th> <td>   1.000</td> \n",
       "</tr>\n",
       "<tr>\n",
       "  <th>Method:</th>             <td>Least Squares</td>  <th>  F-statistic:       </th> <td>4.763e+30</td>\n",
       "</tr>\n",
       "<tr>\n",
       "  <th>Date:</th>             <td>Mon, 21 Dec 2015</td> <th>  Prob (F-statistic):</th> <td>2.40e-181</td>\n",
       "</tr>\n",
       "<tr>\n",
       "  <th>Time:</th>                 <td>13:31:22</td>     <th>  Log-Likelihood:    </th> <td>  572.69</td> \n",
       "</tr>\n",
       "<tr>\n",
       "  <th>No. Observations:</th>      <td>    18</td>      <th>  AIC:               </th> <td>  -1133.</td> \n",
       "</tr>\n",
       "<tr>\n",
       "  <th>Df Residuals:</th>          <td>    12</td>      <th>  BIC:               </th> <td>  -1128.</td> \n",
       "</tr>\n",
       "<tr>\n",
       "  <th>Df Model:</th>              <td>     5</td>      <th>                     </th>     <td> </td>    \n",
       "</tr>\n",
       "<tr>\n",
       "  <th>Covariance Type:</th>      <td>nonrobust</td>    <th>                     </th>     <td> </td>    \n",
       "</tr>\n",
       "</table>\n",
       "<table class=\"simpletable\">\n",
       "<tr>\n",
       "       <td></td>          <th>coef</th>     <th>std err</th>      <th>t</th>      <th>P>|t|</th> <th>[95.0% Conf. Int.]</th> \n",
       "</tr>\n",
       "<tr>\n",
       "  <th>const</th>       <td>    4.3846</td> <td> 4.91e-16</td> <td> 8.94e+15</td> <td> 0.000</td> <td>    4.385     4.385</td>\n",
       "</tr>\n",
       "<tr>\n",
       "  <th>32\" (81cm)</th>  <td>   -4.5385</td> <td> 1.51e-15</td> <td>   -3e+15</td> <td> 0.000</td> <td>   -4.538    -4.538</td>\n",
       "</tr>\n",
       "<tr>\n",
       "  <th>37\" (94cm)</th>  <td>    1.4615</td> <td> 1.51e-15</td> <td> 9.66e+14</td> <td> 0.000</td> <td>    1.462     1.462</td>\n",
       "</tr>\n",
       "<tr>\n",
       "  <th>42\" (107cm)</th> <td>    7.4615</td> <td> 1.51e-15</td> <td> 4.93e+15</td> <td> 0.000</td> <td>    7.462     7.462</td>\n",
       "</tr>\n",
       "<tr>\n",
       "  <th>Plasma</th>      <td>    0.6923</td> <td> 1.09e-15</td> <td> 6.34e+14</td> <td> 0.000</td> <td>    0.692     0.692</td>\n",
       "</tr>\n",
       "<tr>\n",
       "  <th>LCD</th>         <td>    3.6923</td> <td> 1.09e-15</td> <td> 3.38e+15</td> <td> 0.000</td> <td>    3.692     3.692</td>\n",
       "</tr>\n",
       "<tr>\n",
       "  <th>Silver</th>      <td>    1.4615</td> <td> 1.51e-15</td> <td> 9.66e+14</td> <td> 0.000</td> <td>    1.462     1.462</td>\n",
       "</tr>\n",
       "<tr>\n",
       "  <th>Black</th>       <td>    2.4615</td> <td> 1.51e-15</td> <td> 1.63e+15</td> <td> 0.000</td> <td>    2.462     2.462</td>\n",
       "</tr>\n",
       "<tr>\n",
       "  <th>Anthrazit</th>   <td>    0.4615</td> <td> 1.51e-15</td> <td> 3.05e+14</td> <td> 0.000</td> <td>    0.462     0.462</td>\n",
       "</tr>\n",
       "</table>\n",
       "<table class=\"simpletable\">\n",
       "<tr>\n",
       "  <th>Omnibus:</th>       <td> 2.660</td> <th>  Durbin-Watson:     </th> <td>   0.228</td>\n",
       "</tr>\n",
       "<tr>\n",
       "  <th>Prob(Omnibus):</th> <td> 0.264</td> <th>  Jarque-Bera (JB):  </th> <td>   1.985</td>\n",
       "</tr>\n",
       "<tr>\n",
       "  <th>Skew:</th>          <td> 0.669</td> <th>  Prob(JB):          </th> <td>   0.371</td>\n",
       "</tr>\n",
       "<tr>\n",
       "  <th>Kurtosis:</th>      <td> 2.075</td> <th>  Cond. No.          </th> <td>2.12e+16</td>\n",
       "</tr>\n",
       "</table>"
      ],
      "text/plain": [
       "<class 'statsmodels.iolib.summary.Summary'>\n",
       "\"\"\"\n",
       "                            OLS Regression Results                            \n",
       "==============================================================================\n",
       "Dep. Variable:                   Rank   R-squared:                       1.000\n",
       "Model:                            OLS   Adj. R-squared:                  1.000\n",
       "Method:                 Least Squares   F-statistic:                 4.763e+30\n",
       "Date:                Mon, 21 Dec 2015   Prob (F-statistic):          2.40e-181\n",
       "Time:                        13:31:22   Log-Likelihood:                 572.69\n",
       "No. Observations:                  18   AIC:                            -1133.\n",
       "Df Residuals:                      12   BIC:                            -1128.\n",
       "Df Model:                           5                                         \n",
       "Covariance Type:            nonrobust                                         \n",
       "===============================================================================\n",
       "                  coef    std err          t      P>|t|      [95.0% Conf. Int.]\n",
       "-------------------------------------------------------------------------------\n",
       "const           4.3846   4.91e-16   8.94e+15      0.000         4.385     4.385\n",
       "32\" (81cm)     -4.5385   1.51e-15     -3e+15      0.000        -4.538    -4.538\n",
       "37\" (94cm)      1.4615   1.51e-15   9.66e+14      0.000         1.462     1.462\n",
       "42\" (107cm)     7.4615   1.51e-15   4.93e+15      0.000         7.462     7.462\n",
       "Plasma          0.6923   1.09e-15   6.34e+14      0.000         0.692     0.692\n",
       "LCD             3.6923   1.09e-15   3.38e+15      0.000         3.692     3.692\n",
       "Silver          1.4615   1.51e-15   9.66e+14      0.000         1.462     1.462\n",
       "Black           2.4615   1.51e-15   1.63e+15      0.000         2.462     2.462\n",
       "Anthrazit       0.4615   1.51e-15   3.05e+14      0.000         0.462     0.462\n",
       "==============================================================================\n",
       "Omnibus:                        2.660   Durbin-Watson:                   0.228\n",
       "Prob(Omnibus):                  0.264   Jarque-Bera (JB):                1.985\n",
       "Skew:                           0.669   Prob(JB):                        0.371\n",
       "Kurtosis:                       2.075   Cond. No.                     2.12e+16\n",
       "==============================================================================\n",
       "\n",
       "Warnings:\n",
       "[1] Standard Errors assume that the covariance matrix of the errors is correctly specified.\n",
       "[2] The smallest eigenvalue is 8.68e-32. This might indicate that there are\n",
       "strong multicollinearity problems or that the design matrix is singular.\n",
       "\"\"\""
      ]
     },
     "execution_count": 11,
     "metadata": {},
     "output_type": "execute_result"
    }
   ],
   "source": [
    "X = ConjointDummyDF[[u'32\" (81cm)', u'37\" (94cm)', u'42\" (107cm)', u'Plasma',\\\n",
    "       u'LCD', u'Silver', u'Black', u'Anthrazit']]\n",
    "X = sm.add_constant(X)\n",
    "Y = ConjointDummyDF.Rank\n",
    "linearRegression = sm.OLS(Y, X). fit()\n",
    "linearRegression.summary()"
   ]
  },
  {
   "cell_type": "markdown",
   "metadata": {},
   "source": [
    "## Part worth values & relative importance of the stimuli\n",
    "<p>\n",
    "Importance of Stimuli= Max(beta) - Min(beta)\n",
    "<br>\n",
    "Relative Importance of Stimuli = Importance of Stim / Sum(Importance of all Stimuli)"
   ]
  },
  {
   "cell_type": "code",
   "execution_count": 12,
   "metadata": {},
   "outputs": [],
   "source": [
    "importance = []\n",
    "relative_importance = []\n",
    "\n",
    "rangePerFeature = []\n",
    "\n",
    "begin = \"A\"\n",
    "tempRange = []\n",
    "for stimuli in fullNames.keys():\n",
    "    if stimuli[0] == begin:\n",
    "        tempRange.append(linearRegression.params[fullNames[stimuli]])\n",
    "    elif stimuli == \"Rank\":\n",
    "        rangePerFeature.append(tempRange)\n",
    "    else:\n",
    "        rangePerFeature.append(tempRange)\n",
    "        begin = stimuli[0]\n",
    "        tempRange = [linearRegression.params[fullNames[stimuli]]]\n",
    "        "
   ]
  },
  {
   "cell_type": "code",
   "execution_count": 13,
   "metadata": {},
   "outputs": [],
   "source": [
    "for item in rangePerFeature:\n",
    "    importance.append( max(item) - min(item))\n",
    "\n",
    "for item in importance:\n",
    "    relative_importance.append(100* round(item/sum(importance),3))"
   ]
  },
  {
   "cell_type": "code",
   "execution_count": 27,
   "metadata": {},
   "outputs": [
    {
     "name": "stdout",
     "output_type": "stream",
     "text": [
      "32\" (81cm)   -4.538462\n",
      "37\" (94cm)    1.461538\n",
      "dtype: float64\n",
      "42\" (107cm)    7.461538\n",
      "Plasma         0.692308\n",
      "dtype: float64\n",
      "LCD       3.692308\n",
      "Silver    1.461538\n",
      "Black     2.461538\n",
      "dtype: float64\n"
     ]
    }
   ],
   "source": [
    "\n",
    "partworths = []\n",
    "\n",
    "item_levels = [1,3,5,8]\n",
    "\n",
    "for i in range(1,4):\n",
    "    part_worth_range = linearRegression.params[item_levels[i-1]:item_levels[i]]\n",
    "    print part_worth_range"
   ]
  },
  {
   "cell_type": "code",
   "execution_count": 86,
   "metadata": {},
   "outputs": [],
   "source": [
    "meanRank = []\n",
    "for i in ConjointDummyDF.columns[1:]:\n",
    "    newmeanRank = ConjointDummyDF[\"Rank\"].loc[ConjointDummyDF[i] == 1].mean()\n",
    "    meanRank.append(newmeanRank)\n",
    "\n",
    "    \n",
    "#total Mean or, \"basic utility\" is used as the \"zero alternative\"\n",
    "totalMeanRank = sum(meanRank) / len(meanRank)\n",
    "\n",
    "\n",
    "\n",
    "partWorths = {}\n",
    "for i in range(len(meanRank)):\n",
    "    name = fullNames[sorted(fullNames.keys())[i]]\n",
    "    partWorths[name] = meanRank[i] - totalMeanRank"
   ]
  },
  {
   "cell_type": "code",
   "execution_count": 89,
   "metadata": {},
   "outputs": [
    {
     "data": {
      "text/plain": [
       "{'32\" (81cm)': -6.0,\n",
       " '37\" (94cm)': 0.0,\n",
       " '42\" (107cm)': 6.0,\n",
       " 'Anthrazit': -1.0,\n",
       " 'Black': 1.0,\n",
       " 'LCD': 1.5,\n",
       " 'Plasma': -1.5,\n",
       " 'Silver': 0.0}"
      ]
     },
     "execution_count": 89,
     "metadata": {},
     "output_type": "execute_result"
    }
   ],
   "source": [
    "partWorths"
   ]
  },
  {
   "cell_type": "markdown",
   "metadata": {
    "collapsed": true
   },
   "source": [
    "### Summary & Results"
   ]
  },
  {
   "cell_type": "code",
   "execution_count": 18,
   "metadata": {},
   "outputs": [
    {
     "name": "stdout",
     "output_type": "stream",
     "text": [
      "Relative Importance of Feature:\n",
      "\n",
      "Monitor Size: 70.6 % \n",
      "Type of Monitor: 17.6 % \n",
      "Color of TV: 11.8 %\n",
      "\n",
      "\n",
      "------------------------------------------------------------\n",
      "Importance of Feature:\n",
      "\n",
      "Monitor Size: 12.0 \n",
      "Type of Monitor: 3.0 \n",
      "Color of TV: 2.0\n"
     ]
    }
   ],
   "source": [
    "print \"Relative Importance of Feature:\\n\\nMonitor Size:\",relative_importance[0], \"%\",\\\n",
    "\"\\nType of Monitor:\", relative_importance[1], \"%\", \"\\nColor of TV:\", relative_importance[2], \"%\\n\\n\"\n",
    "\n",
    "print \"--\"*30\n",
    "\n",
    "print \"Importance of Feature:\\n\\nMonitor Size:\",importance[0],\\\n",
    "\"\\nType of Monitor:\", importance[1],  \"\\nColor of TV:\", importance[2]"
   ]
  },
  {
   "cell_type": "markdown",
   "metadata": {},
   "source": [
    "What would be the optimal product bundle? <p>\n",
    "42\", LCD, Black"
   ]
  },
  {
   "cell_type": "code",
   "execution_count": 15,
   "metadata": {},
   "outputs": [
    {
     "name": "stdout",
     "output_type": "stream",
     "text": [
      "The best possible Combination of Stimuli would have the highest rank: 18.0\n"
     ]
    }
   ],
   "source": [
    "#As array that looks like X\n",
    "#Must include Constant!\n",
    "\n",
    "optBundle = [1,0,0,1,0,1,0,1,0]\n",
    "print \"The best possible Combination of Stimuli would have the highest rank:\",\\\n",
    "linearRegression.predict(optBundle)[0]"
   ]
  },
  {
   "cell_type": "markdown",
   "metadata": {
    "collapsed": true
   },
   "source": [
    "Or using the Partworths:"
   ]
  },
  {
   "cell_type": "code",
   "execution_count": 98,
   "metadata": {},
   "outputs": [
    {
     "name": "stdout",
     "output_type": "stream",
     "text": [
      "Choosing the optimal Combination brings the user an additional  8.5 'units' of utility\n"
     ]
    }
   ],
   "source": [
    "#Optimal Bundle:\n",
    "#42\", LCD, Black\n",
    "\n",
    "optimalWorth = partWorths[\"42\\\" (107cm)\"] + partWorths[\"LCD\"] + partWorths[\"Black\"]\n",
    "\n",
    "print \"Choosing the optimal Combination brings the user an additional \", optimalWorth, \"'units' of utility\""
   ]
  },
  {
   "cell_type": "code",
   "execution_count": null,
   "metadata": {
    "collapsed": true
   },
   "outputs": [],
   "source": []
  }
 ],
 "metadata": {
  "hide_input": false,
  "kernelspec": {
   "display_name": "Python 3 (ipykernel)",
   "language": "python",
   "name": "python3"
  },
  "language_info": {
   "codemirror_mode": {
    "name": "ipython",
    "version": 3
   },
   "file_extension": ".py",
   "mimetype": "text/x-python",
   "name": "python",
   "nbconvert_exporter": "python",
   "pygments_lexer": "ipython3",
   "version": "3.10.7"
  },
  "latex_envs": {
   "LaTeX_envs_menu_present": true,
   "autoclose": true,
   "autocomplete": true,
   "bibliofile": "biblio.bib",
   "cite_by": "apalike",
   "current_citInitial": 1,
   "eqLabelWithNumbers": true,
   "eqNumInitial": 1,
   "hotkeys": {
    "equation": "Ctrl-E",
    "itemize": "Ctrl-I"
   },
   "labels_anchors": false,
   "latex_user_defs": false,
   "report_style_numbering": false,
   "user_envs_cfg": false
  },
  "toc": {
   "base_numbering": 1,
   "nav_menu": {},
   "number_sections": true,
   "sideBar": true,
   "skip_h1_title": false,
   "title_cell": "Table of Contents",
   "title_sidebar": "Contents",
   "toc_cell": false,
   "toc_position": {},
   "toc_section_display": true,
   "toc_window_display": false
  },
  "varInspector": {
   "cols": {
    "lenName": 16,
    "lenType": 16,
    "lenVar": 40
   },
   "kernels_config": {
    "python": {
     "delete_cmd_postfix": "",
     "delete_cmd_prefix": "del ",
     "library": "var_list.py",
     "varRefreshCmd": "print(var_dic_list())"
    },
    "r": {
     "delete_cmd_postfix": ") ",
     "delete_cmd_prefix": "rm(",
     "library": "var_list.r",
     "varRefreshCmd": "cat(var_dic_list()) "
    }
   },
   "types_to_exclude": [
    "module",
    "function",
    "builtin_function_or_method",
    "instance",
    "_Feature"
   ],
   "window_display": false
  }
 },
 "nbformat": 4,
 "nbformat_minor": 1
}
